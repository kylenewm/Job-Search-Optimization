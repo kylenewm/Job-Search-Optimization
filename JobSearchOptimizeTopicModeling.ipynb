{
  "cells": [
    {
      "cell_type": "markdown",
      "metadata": {
        "id": "ymn6l-XpyI0R"
      },
      "source": [
        "# Introduction"
      ]
    },
    {
      "cell_type": "markdown",
      "metadata": {
        "id": "9NoiOp7AHaDY"
      },
      "source": [
        "The goal of this project was to find job postings similar to ones I was interested in and perform toic modeling. There is still plenty of work to be done and this project will be updated over the next few months. "
      ]
    },
    {
      "cell_type": "markdown",
      "metadata": {
        "id": "GDy1_UPp15EB"
      },
      "source": [
        "## About the Data: \n",
        "\n",
        "Listed below are the vague definitions I formulated when determining how to label the data. \n",
        "\n",
        "1: ML Engineer/Researcher\n",
        "-  Researches, designs, implements, and monitors advanced machine learning models and systems\n",
        "\n",
        "2: Data Scientist\n",
        "- Gathers, analyzes, and interpets data through a variety of methods such as machine learning \n",
        "\n",
        "3: Business Intelligence Analyst\n",
        "- Works with BI tools and other such as Tableau and some coding such as SQL to drive business decisions \n",
        "\n",
        "4: Data Analyst\n",
        "- Similar role as data scientist with narrower scope (not creating predictive models)\n",
        "\n",
        "5: Data Engineer\n",
        "- Develops, tests, and maintains data pipelines as well as data architectures\n",
        "\n",
        "6: Statistician/Statisitcal Programmer\n",
        "- Leverages advanced statistics and mathematics for diagnostic, descriptive, and prescriptive analysis\n",
        "\n",
        "7: Analyst- Other\n",
        "- Analysts that do not fall into the other categories\n",
        "\n",
        "8: Research/Academia (not in data science)\n",
        "- Roles within academia or roles not related to data\n",
        "\n",
        "9: Upper Management\n",
        "- Management roles with at least 4-6 years of experience\n",
        "\n",
        "0: None of the above\n",
        "- Roles that do not fall into any of the buckets above\n"
      ]
    },
    {
      "cell_type": "markdown",
      "source": [],
      "metadata": {
        "id": "EJ7UHYjjkYJv"
      }
    },
    {
      "cell_type": "markdown",
      "metadata": {
        "id": "ddfCpUj915EB"
      },
      "source": [
        "**Warning: DO not run the models unless you are certain the CPU/GPU/TPU can run the models without crashing**. Altering batch sizes and implementing customized multiprocessing may be neccessary depending on hardware/cloud computing constraints. "
      ]
    },
    {
      "cell_type": "markdown",
      "metadata": {
        "id": "r0AacS9pyJl-"
      },
      "source": [
        "## Dependency Installation"
      ]
    },
    {
      "cell_type": "code",
      "source": [
        "from google.colab import drive\n",
        "drive.mount('/content/drive')"
      ],
      "metadata": {
        "colab": {
          "base_uri": "https://localhost:8080/"
        },
        "id": "5ocLOdV9VAHq",
        "outputId": "6b42d883-0b28-4d4d-abae-e0de7a7b18b5"
      },
      "execution_count": null,
      "outputs": [
        {
          "output_type": "stream",
          "name": "stdout",
          "text": [
            "Mounted at /content/drive\n"
          ]
        }
      ]
    },
    {
      "cell_type": "code",
      "execution_count": null,
      "metadata": {
        "id": "468nYI6KcdzZ"
      },
      "outputs": [],
      "source": [
        "!pip install bertopic[spacy] #for topic modeling with BERT\n",
        "!pip install -U spacy #required for data preporcessing \n",
        "!pip install -U spacy[cuda113] #required if running on GPU  \n",
        "!pip install -U sentence-transformers #for transforming documents\n",
        "!pip install NLTK #for nlp preprocessing\n"
      ]
    },
    {
      "cell_type": "code",
      "execution_count": null,
      "metadata": {
        "id": "X8O5Va44w3mS"
      },
      "outputs": [],
      "source": [
        "import spacy\n",
        "import pandas as pd\n",
        "import matplotlib.pyplot as plt \n",
        "import seaborn as sns\n",
        "import re\n",
        "import string\n",
        "import math\n",
        "import sklearn.metrics as metrics\n",
        "import numpy as np\n",
        "import random\n",
        "from sklearn.model_selection import GridSearchCV\n",
        "# spacy.require_gpu()\n",
        "nlp = spacy.load(\"en_core_web_sm\")\n",
        "from spacy.lang.en import English\n",
        "import nltk\n",
        "from nltk import tokenize, sent_tokenize, word_tokenize, pos_tag\n",
        "import numpy as np\n",
        "from sklearn.feature_extraction.text import TfidfVectorizer\n",
        "from sklearn.metrics.pairwise import cosine_similarity\n",
        "from sklearn.metrics import pairwise_distances\n",
        "from sklearn.metrics.pairwise import euclidean_distances\n",
        "from sentence_transformers import SentenceTransformer\n",
        "from sklearn.model_selection import train_test_split\n",
        "from nltk import FreqDist\n",
        "# from bertopic import BERTopic"
      ]
    },
    {
      "cell_type": "code",
      "execution_count": null,
      "metadata": {
        "id": "Xr717_z9DZFs"
      },
      "outputs": [],
      "source": [
        "import json"
      ]
    },
    {
      "cell_type": "code",
      "execution_count": null,
      "metadata": {
        "colab": {
          "base_uri": "https://localhost:8080/"
        },
        "id": "fKL2mvxF9WVF",
        "outputId": "9919c904-d3fc-4052-dfbd-cb6db6fd03eb"
      },
      "outputs": [
        {
          "output_type": "stream",
          "name": "stderr",
          "text": [
            "[nltk_data] Downloading package wordnet to /root/nltk_data...\n",
            "[nltk_data] Downloading package punkt to /root/nltk_data...\n",
            "[nltk_data]   Unzipping tokenizers/punkt.zip.\n",
            "[nltk_data] Downloading package stopwords to /root/nltk_data...\n",
            "[nltk_data]   Unzipping corpora/stopwords.zip.\n",
            "[nltk_data] Downloading package omw-1.4 to /root/nltk_data...\n"
          ]
        }
      ],
      "source": [
        "def down_nltk():\n",
        "    nltk.download('wordnet')\n",
        "    nltk.download('punkt')\n",
        "    nltk.download('stopwords')\n",
        "    nltk.download('omw-1.4')\n",
        "down_nltk()"
      ]
    },
    {
      "cell_type": "markdown",
      "source": [
        "### Data Cleaning"
      ],
      "metadata": {
        "id": "_CYtCgVt4Z7X"
      }
    },
    {
      "cell_type": "code",
      "source": [
        "RANDOM_SEED = 42"
      ],
      "metadata": {
        "id": "VvtM9p2LUsub"
      },
      "execution_count": null,
      "outputs": []
    },
    {
      "cell_type": "code",
      "execution_count": null,
      "metadata": {
        "id": "UZ5WIpHlxK4Z"
      },
      "outputs": [],
      "source": [
        "df= pd.read_csv(\"/content/drive/My Drive/job_postings.csv\") #reading in file with scraped data\n",
        "df_labeled = df[0:499]"
      ]
    },
    {
      "cell_type": "code",
      "source": [
        "df = df.astype({'id':'string', 'company':'string', 'description': 'string', 'location' :'string', 'positionName': 'string'})"
      ],
      "metadata": {
        "id": "0RYBOKJoi5A1"
      },
      "execution_count": null,
      "outputs": []
    },
    {
      "cell_type": "code",
      "source": [
        "from sklearn.model_selection import train_test_split\n",
        "df_train, df_test = train_test_split(df_labeled, random_state = 42)"
      ],
      "metadata": {
        "id": "fQKodWqkU9ln"
      },
      "execution_count": null,
      "outputs": []
    },
    {
      "cell_type": "code",
      "execution_count": null,
      "metadata": {
        "id": "irv18orrxc0Q"
      },
      "outputs": [],
      "source": [
        "roles = []\n",
        "ids = ['0b3cb69b7f2722b3','00cd478b46b72485', 'b0bdb6497d255a80','227657f7f2463141']\n",
        "indexes = []\n",
        "cntr = 0\n",
        "for id in ids:\n",
        "  roles.append(df[df['id'] == ids[cntr]])\n",
        "  indexes.append(df[df['id'] == ids[cntr]].index[0])\n",
        "  cntr+=1"
      ]
    },
    {
      "cell_type": "code",
      "source": [
        "df.info()"
      ],
      "metadata": {
        "colab": {
          "base_uri": "https://localhost:8080/"
        },
        "id": "5DY7WLO7ikw1",
        "outputId": "75a522fb-b3a4-4017-a720-c5e3d2218748"
      },
      "execution_count": null,
      "outputs": [
        {
          "output_type": "stream",
          "name": "stdout",
          "text": [
            "<class 'pandas.core.frame.DataFrame'>\n",
            "RangeIndex: 2883 entries, 0 to 2882\n",
            "Data columns (total 5 columns):\n",
            " #   Column        Non-Null Count  Dtype \n",
            "---  ------        --------------  ----- \n",
            " 0   id            2883 non-null   string\n",
            " 1   company       2883 non-null   string\n",
            " 2   description   2883 non-null   string\n",
            " 3   location      2882 non-null   string\n",
            " 4   positionName  2882 non-null   string\n",
            "dtypes: string(5)\n",
            "memory usage: 112.7 KB\n"
          ]
        }
      ]
    },
    {
      "cell_type": "code",
      "source": [
        "df = df[df['location'].notna()].reset_index()"
      ],
      "metadata": {
        "id": "210Ar3punJuN"
      },
      "execution_count": null,
      "outputs": []
    },
    {
      "cell_type": "code",
      "source": [
        "df.head()"
      ],
      "metadata": {
        "colab": {
          "base_uri": "https://localhost:8080/",
          "height": 206
        },
        "id": "vS3fo-Innuy8",
        "outputId": "75610325-f9ff-45d3-f805-c2b950c9d40f"
      },
      "execution_count": null,
      "outputs": [
        {
          "output_type": "execute_result",
          "data": {
            "text/plain": [
              "   level_0  index                id                 company  \\\n",
              "0        0      0  00c7348bff0dd5db                  TikTok   \n",
              "1        1      1  00cd478b46b72485                Spectrum   \n",
              "2        2      2  026d27b1b19d3f9f  JDEdwardsRecruiter.com   \n",
              "3        3      3  0284f0c17dabacf7       Merrimack College   \n",
              "4        4      4  028859e6ad595a61     Clearwave Fiber LLC   \n",
              "\n",
              "                                         description  \\\n",
              "0  Responsibilities \n",
              "TikTok is the leading destin...   \n",
              "1  \n",
              " Company Overview\n",
              "  Spectrum’s Product and Te...   \n",
              "2  This is an absolutely fantastic opportunity wi...   \n",
              "3  \n",
              " \n",
              "  \n",
              "   \n",
              "    \n",
              "     \n",
              "      \n",
              "       \n",
              "        Po...   \n",
              "4  \n",
              " Description:\n",
              " \n",
              "  THIS IS A REMOTE POSITION, ...   \n",
              "\n",
              "                     location  \\\n",
              "0                 Seattle, WA   \n",
              "1  Maryland Heights, MO 63043   \n",
              "2                      Remote   \n",
              "3     North Andover, MA 01845   \n",
              "4                      Remote   \n",
              "\n",
              "                                        positionName  \n",
              "0  NLP Algorithm Engineer, TikTok E-commerce Inte...  \n",
              "1                           Associate Data Scientist  \n",
              "2  Functional JD Edwards E1 Business Analyst * Ma...  \n",
              "3      Open Rank Ten./Tenure Track, Comp. & Data Sci  \n",
              "4         Analyst, Operational Reporting & Analytics  "
            ],
            "text/html": [
              "\n",
              "  <div id=\"df-3b52e783-389b-49ab-91a2-60498ea31300\">\n",
              "    <div class=\"colab-df-container\">\n",
              "      <div>\n",
              "<style scoped>\n",
              "    .dataframe tbody tr th:only-of-type {\n",
              "        vertical-align: middle;\n",
              "    }\n",
              "\n",
              "    .dataframe tbody tr th {\n",
              "        vertical-align: top;\n",
              "    }\n",
              "\n",
              "    .dataframe thead th {\n",
              "        text-align: right;\n",
              "    }\n",
              "</style>\n",
              "<table border=\"1\" class=\"dataframe\">\n",
              "  <thead>\n",
              "    <tr style=\"text-align: right;\">\n",
              "      <th></th>\n",
              "      <th>level_0</th>\n",
              "      <th>index</th>\n",
              "      <th>id</th>\n",
              "      <th>company</th>\n",
              "      <th>description</th>\n",
              "      <th>location</th>\n",
              "      <th>positionName</th>\n",
              "    </tr>\n",
              "  </thead>\n",
              "  <tbody>\n",
              "    <tr>\n",
              "      <th>0</th>\n",
              "      <td>0</td>\n",
              "      <td>0</td>\n",
              "      <td>00c7348bff0dd5db</td>\n",
              "      <td>TikTok</td>\n",
              "      <td>Responsibilities \n",
              "TikTok is the leading destin...</td>\n",
              "      <td>Seattle, WA</td>\n",
              "      <td>NLP Algorithm Engineer, TikTok E-commerce Inte...</td>\n",
              "    </tr>\n",
              "    <tr>\n",
              "      <th>1</th>\n",
              "      <td>1</td>\n",
              "      <td>1</td>\n",
              "      <td>00cd478b46b72485</td>\n",
              "      <td>Spectrum</td>\n",
              "      <td>Company Overview\n",
              "  Spectrum’s Product and Te...</td>\n",
              "      <td>Maryland Heights, MO 63043</td>\n",
              "      <td>Associate Data Scientist</td>\n",
              "    </tr>\n",
              "    <tr>\n",
              "      <th>2</th>\n",
              "      <td>2</td>\n",
              "      <td>2</td>\n",
              "      <td>026d27b1b19d3f9f</td>\n",
              "      <td>JDEdwardsRecruiter.com</td>\n",
              "      <td>This is an absolutely fantastic opportunity wi...</td>\n",
              "      <td>Remote</td>\n",
              "      <td>Functional JD Edwards E1 Business Analyst * Ma...</td>\n",
              "    </tr>\n",
              "    <tr>\n",
              "      <th>3</th>\n",
              "      <td>3</td>\n",
              "      <td>3</td>\n",
              "      <td>0284f0c17dabacf7</td>\n",
              "      <td>Merrimack College</td>\n",
              "      <td>Po...</td>\n",
              "      <td>North Andover, MA 01845</td>\n",
              "      <td>Open Rank Ten./Tenure Track, Comp. &amp; Data Sci</td>\n",
              "    </tr>\n",
              "    <tr>\n",
              "      <th>4</th>\n",
              "      <td>4</td>\n",
              "      <td>4</td>\n",
              "      <td>028859e6ad595a61</td>\n",
              "      <td>Clearwave Fiber LLC</td>\n",
              "      <td>Description:\n",
              " \n",
              "  THIS IS A REMOTE POSITION, ...</td>\n",
              "      <td>Remote</td>\n",
              "      <td>Analyst, Operational Reporting &amp; Analytics</td>\n",
              "    </tr>\n",
              "  </tbody>\n",
              "</table>\n",
              "</div>\n",
              "      <button class=\"colab-df-convert\" onclick=\"convertToInteractive('df-3b52e783-389b-49ab-91a2-60498ea31300')\"\n",
              "              title=\"Convert this dataframe to an interactive table.\"\n",
              "              style=\"display:none;\">\n",
              "        \n",
              "  <svg xmlns=\"http://www.w3.org/2000/svg\" height=\"24px\"viewBox=\"0 0 24 24\"\n",
              "       width=\"24px\">\n",
              "    <path d=\"M0 0h24v24H0V0z\" fill=\"none\"/>\n",
              "    <path d=\"M18.56 5.44l.94 2.06.94-2.06 2.06-.94-2.06-.94-.94-2.06-.94 2.06-2.06.94zm-11 1L8.5 8.5l.94-2.06 2.06-.94-2.06-.94L8.5 2.5l-.94 2.06-2.06.94zm10 10l.94 2.06.94-2.06 2.06-.94-2.06-.94-.94-2.06-.94 2.06-2.06.94z\"/><path d=\"M17.41 7.96l-1.37-1.37c-.4-.4-.92-.59-1.43-.59-.52 0-1.04.2-1.43.59L10.3 9.45l-7.72 7.72c-.78.78-.78 2.05 0 2.83L4 21.41c.39.39.9.59 1.41.59.51 0 1.02-.2 1.41-.59l7.78-7.78 2.81-2.81c.8-.78.8-2.07 0-2.86zM5.41 20L4 18.59l7.72-7.72 1.47 1.35L5.41 20z\"/>\n",
              "  </svg>\n",
              "      </button>\n",
              "      \n",
              "  <style>\n",
              "    .colab-df-container {\n",
              "      display:flex;\n",
              "      flex-wrap:wrap;\n",
              "      gap: 12px;\n",
              "    }\n",
              "\n",
              "    .colab-df-convert {\n",
              "      background-color: #E8F0FE;\n",
              "      border: none;\n",
              "      border-radius: 50%;\n",
              "      cursor: pointer;\n",
              "      display: none;\n",
              "      fill: #1967D2;\n",
              "      height: 32px;\n",
              "      padding: 0 0 0 0;\n",
              "      width: 32px;\n",
              "    }\n",
              "\n",
              "    .colab-df-convert:hover {\n",
              "      background-color: #E2EBFA;\n",
              "      box-shadow: 0px 1px 2px rgba(60, 64, 67, 0.3), 0px 1px 3px 1px rgba(60, 64, 67, 0.15);\n",
              "      fill: #174EA6;\n",
              "    }\n",
              "\n",
              "    [theme=dark] .colab-df-convert {\n",
              "      background-color: #3B4455;\n",
              "      fill: #D2E3FC;\n",
              "    }\n",
              "\n",
              "    [theme=dark] .colab-df-convert:hover {\n",
              "      background-color: #434B5C;\n",
              "      box-shadow: 0px 1px 3px 1px rgba(0, 0, 0, 0.15);\n",
              "      filter: drop-shadow(0px 1px 2px rgba(0, 0, 0, 0.3));\n",
              "      fill: #FFFFFF;\n",
              "    }\n",
              "  </style>\n",
              "\n",
              "      <script>\n",
              "        const buttonEl =\n",
              "          document.querySelector('#df-3b52e783-389b-49ab-91a2-60498ea31300 button.colab-df-convert');\n",
              "        buttonEl.style.display =\n",
              "          google.colab.kernel.accessAllowed ? 'block' : 'none';\n",
              "\n",
              "        async function convertToInteractive(key) {\n",
              "          const element = document.querySelector('#df-3b52e783-389b-49ab-91a2-60498ea31300');\n",
              "          const dataTable =\n",
              "            await google.colab.kernel.invokeFunction('convertToInteractive',\n",
              "                                                     [key], {});\n",
              "          if (!dataTable) return;\n",
              "\n",
              "          const docLinkHtml = 'Like what you see? Visit the ' +\n",
              "            '<a target=\"_blank\" href=https://colab.research.google.com/notebooks/data_table.ipynb>data table notebook</a>'\n",
              "            + ' to learn more about interactive tables.';\n",
              "          element.innerHTML = '';\n",
              "          dataTable['output_type'] = 'display_data';\n",
              "          await google.colab.output.renderOutput(dataTable, element);\n",
              "          const docLink = document.createElement('div');\n",
              "          docLink.innerHTML = docLinkHtml;\n",
              "          element.appendChild(docLink);\n",
              "        }\n",
              "      </script>\n",
              "    </div>\n",
              "  </div>\n",
              "  "
            ]
          },
          "metadata": {},
          "execution_count": 225
        }
      ]
    },
    {
      "cell_type": "code",
      "execution_count": null,
      "metadata": {
        "colab": {
          "base_uri": "https://localhost:8080/",
          "height": 81
        },
        "id": "317sm81WNPwh",
        "outputId": "a5e733b9-774e-49f9-cea8-1133531d62e6"
      },
      "outputs": [
        {
          "output_type": "execute_result",
          "data": {
            "text/plain": [
              "                  id           company  \\\n",
              "24  0b3cb69b7f2722b3  WELLS FARGO BANK   \n",
              "\n",
              "                                          description    location  \\\n",
              "24  \n",
              " At Wells Fargo, we are looking for talented ...  Dallas, TX   \n",
              "\n",
              "                                         positionName  \n",
              "24  2023 Wells Fargo Analytics & Data Analyst Program  "
            ],
            "text/html": [
              "\n",
              "  <div id=\"df-c3508937-3723-425c-80a9-ae9b0d0a8d88\">\n",
              "    <div class=\"colab-df-container\">\n",
              "      <div>\n",
              "<style scoped>\n",
              "    .dataframe tbody tr th:only-of-type {\n",
              "        vertical-align: middle;\n",
              "    }\n",
              "\n",
              "    .dataframe tbody tr th {\n",
              "        vertical-align: top;\n",
              "    }\n",
              "\n",
              "    .dataframe thead th {\n",
              "        text-align: right;\n",
              "    }\n",
              "</style>\n",
              "<table border=\"1\" class=\"dataframe\">\n",
              "  <thead>\n",
              "    <tr style=\"text-align: right;\">\n",
              "      <th></th>\n",
              "      <th>id</th>\n",
              "      <th>company</th>\n",
              "      <th>description</th>\n",
              "      <th>location</th>\n",
              "      <th>positionName</th>\n",
              "    </tr>\n",
              "  </thead>\n",
              "  <tbody>\n",
              "    <tr>\n",
              "      <th>24</th>\n",
              "      <td>0b3cb69b7f2722b3</td>\n",
              "      <td>WELLS FARGO BANK</td>\n",
              "      <td>At Wells Fargo, we are looking for talented ...</td>\n",
              "      <td>Dallas, TX</td>\n",
              "      <td>2023 Wells Fargo Analytics &amp; Data Analyst Program</td>\n",
              "    </tr>\n",
              "  </tbody>\n",
              "</table>\n",
              "</div>\n",
              "      <button class=\"colab-df-convert\" onclick=\"convertToInteractive('df-c3508937-3723-425c-80a9-ae9b0d0a8d88')\"\n",
              "              title=\"Convert this dataframe to an interactive table.\"\n",
              "              style=\"display:none;\">\n",
              "        \n",
              "  <svg xmlns=\"http://www.w3.org/2000/svg\" height=\"24px\"viewBox=\"0 0 24 24\"\n",
              "       width=\"24px\">\n",
              "    <path d=\"M0 0h24v24H0V0z\" fill=\"none\"/>\n",
              "    <path d=\"M18.56 5.44l.94 2.06.94-2.06 2.06-.94-2.06-.94-.94-2.06-.94 2.06-2.06.94zm-11 1L8.5 8.5l.94-2.06 2.06-.94-2.06-.94L8.5 2.5l-.94 2.06-2.06.94zm10 10l.94 2.06.94-2.06 2.06-.94-2.06-.94-.94-2.06-.94 2.06-2.06.94z\"/><path d=\"M17.41 7.96l-1.37-1.37c-.4-.4-.92-.59-1.43-.59-.52 0-1.04.2-1.43.59L10.3 9.45l-7.72 7.72c-.78.78-.78 2.05 0 2.83L4 21.41c.39.39.9.59 1.41.59.51 0 1.02-.2 1.41-.59l7.78-7.78 2.81-2.81c.8-.78.8-2.07 0-2.86zM5.41 20L4 18.59l7.72-7.72 1.47 1.35L5.41 20z\"/>\n",
              "  </svg>\n",
              "      </button>\n",
              "      \n",
              "  <style>\n",
              "    .colab-df-container {\n",
              "      display:flex;\n",
              "      flex-wrap:wrap;\n",
              "      gap: 12px;\n",
              "    }\n",
              "\n",
              "    .colab-df-convert {\n",
              "      background-color: #E8F0FE;\n",
              "      border: none;\n",
              "      border-radius: 50%;\n",
              "      cursor: pointer;\n",
              "      display: none;\n",
              "      fill: #1967D2;\n",
              "      height: 32px;\n",
              "      padding: 0 0 0 0;\n",
              "      width: 32px;\n",
              "    }\n",
              "\n",
              "    .colab-df-convert:hover {\n",
              "      background-color: #E2EBFA;\n",
              "      box-shadow: 0px 1px 2px rgba(60, 64, 67, 0.3), 0px 1px 3px 1px rgba(60, 64, 67, 0.15);\n",
              "      fill: #174EA6;\n",
              "    }\n",
              "\n",
              "    [theme=dark] .colab-df-convert {\n",
              "      background-color: #3B4455;\n",
              "      fill: #D2E3FC;\n",
              "    }\n",
              "\n",
              "    [theme=dark] .colab-df-convert:hover {\n",
              "      background-color: #434B5C;\n",
              "      box-shadow: 0px 1px 3px 1px rgba(0, 0, 0, 0.15);\n",
              "      filter: drop-shadow(0px 1px 2px rgba(0, 0, 0, 0.3));\n",
              "      fill: #FFFFFF;\n",
              "    }\n",
              "  </style>\n",
              "\n",
              "      <script>\n",
              "        const buttonEl =\n",
              "          document.querySelector('#df-c3508937-3723-425c-80a9-ae9b0d0a8d88 button.colab-df-convert');\n",
              "        buttonEl.style.display =\n",
              "          google.colab.kernel.accessAllowed ? 'block' : 'none';\n",
              "\n",
              "        async function convertToInteractive(key) {\n",
              "          const element = document.querySelector('#df-c3508937-3723-425c-80a9-ae9b0d0a8d88');\n",
              "          const dataTable =\n",
              "            await google.colab.kernel.invokeFunction('convertToInteractive',\n",
              "                                                     [key], {});\n",
              "          if (!dataTable) return;\n",
              "\n",
              "          const docLinkHtml = 'Like what you see? Visit the ' +\n",
              "            '<a target=\"_blank\" href=https://colab.research.google.com/notebooks/data_table.ipynb>data table notebook</a>'\n",
              "            + ' to learn more about interactive tables.';\n",
              "          element.innerHTML = '';\n",
              "          dataTable['output_type'] = 'display_data';\n",
              "          await google.colab.output.renderOutput(dataTable, element);\n",
              "          const docLink = document.createElement('div');\n",
              "          docLink.innerHTML = docLinkHtml;\n",
              "          element.appendChild(docLink);\n",
              "        }\n",
              "      </script>\n",
              "    </div>\n",
              "  </div>\n",
              "  "
            ]
          },
          "metadata": {},
          "execution_count": 226
        }
      ],
      "source": [
        "roles[0]"
      ]
    },
    {
      "cell_type": "code",
      "execution_count": null,
      "metadata": {
        "colab": {
          "base_uri": "https://localhost:8080/",
          "height": 81
        },
        "id": "DibKUVUFNTQk",
        "outputId": "09ea3c51-b64b-4dfb-f4ad-4a74f1b7373a"
      },
      "outputs": [
        {
          "output_type": "execute_result",
          "data": {
            "text/plain": [
              "                 id   company  \\\n",
              "1  00cd478b46b72485  Spectrum   \n",
              "\n",
              "                                         description  \\\n",
              "1  \n",
              " Company Overview\n",
              "  Spectrum’s Product and Te...   \n",
              "\n",
              "                     location              positionName  \n",
              "1  Maryland Heights, MO 63043  Associate Data Scientist  "
            ],
            "text/html": [
              "\n",
              "  <div id=\"df-fbc6fc40-63c5-47e1-9638-5b33d1708404\">\n",
              "    <div class=\"colab-df-container\">\n",
              "      <div>\n",
              "<style scoped>\n",
              "    .dataframe tbody tr th:only-of-type {\n",
              "        vertical-align: middle;\n",
              "    }\n",
              "\n",
              "    .dataframe tbody tr th {\n",
              "        vertical-align: top;\n",
              "    }\n",
              "\n",
              "    .dataframe thead th {\n",
              "        text-align: right;\n",
              "    }\n",
              "</style>\n",
              "<table border=\"1\" class=\"dataframe\">\n",
              "  <thead>\n",
              "    <tr style=\"text-align: right;\">\n",
              "      <th></th>\n",
              "      <th>id</th>\n",
              "      <th>company</th>\n",
              "      <th>description</th>\n",
              "      <th>location</th>\n",
              "      <th>positionName</th>\n",
              "    </tr>\n",
              "  </thead>\n",
              "  <tbody>\n",
              "    <tr>\n",
              "      <th>1</th>\n",
              "      <td>00cd478b46b72485</td>\n",
              "      <td>Spectrum</td>\n",
              "      <td>Company Overview\n",
              "  Spectrum’s Product and Te...</td>\n",
              "      <td>Maryland Heights, MO 63043</td>\n",
              "      <td>Associate Data Scientist</td>\n",
              "    </tr>\n",
              "  </tbody>\n",
              "</table>\n",
              "</div>\n",
              "      <button class=\"colab-df-convert\" onclick=\"convertToInteractive('df-fbc6fc40-63c5-47e1-9638-5b33d1708404')\"\n",
              "              title=\"Convert this dataframe to an interactive table.\"\n",
              "              style=\"display:none;\">\n",
              "        \n",
              "  <svg xmlns=\"http://www.w3.org/2000/svg\" height=\"24px\"viewBox=\"0 0 24 24\"\n",
              "       width=\"24px\">\n",
              "    <path d=\"M0 0h24v24H0V0z\" fill=\"none\"/>\n",
              "    <path d=\"M18.56 5.44l.94 2.06.94-2.06 2.06-.94-2.06-.94-.94-2.06-.94 2.06-2.06.94zm-11 1L8.5 8.5l.94-2.06 2.06-.94-2.06-.94L8.5 2.5l-.94 2.06-2.06.94zm10 10l.94 2.06.94-2.06 2.06-.94-2.06-.94-.94-2.06-.94 2.06-2.06.94z\"/><path d=\"M17.41 7.96l-1.37-1.37c-.4-.4-.92-.59-1.43-.59-.52 0-1.04.2-1.43.59L10.3 9.45l-7.72 7.72c-.78.78-.78 2.05 0 2.83L4 21.41c.39.39.9.59 1.41.59.51 0 1.02-.2 1.41-.59l7.78-7.78 2.81-2.81c.8-.78.8-2.07 0-2.86zM5.41 20L4 18.59l7.72-7.72 1.47 1.35L5.41 20z\"/>\n",
              "  </svg>\n",
              "      </button>\n",
              "      \n",
              "  <style>\n",
              "    .colab-df-container {\n",
              "      display:flex;\n",
              "      flex-wrap:wrap;\n",
              "      gap: 12px;\n",
              "    }\n",
              "\n",
              "    .colab-df-convert {\n",
              "      background-color: #E8F0FE;\n",
              "      border: none;\n",
              "      border-radius: 50%;\n",
              "      cursor: pointer;\n",
              "      display: none;\n",
              "      fill: #1967D2;\n",
              "      height: 32px;\n",
              "      padding: 0 0 0 0;\n",
              "      width: 32px;\n",
              "    }\n",
              "\n",
              "    .colab-df-convert:hover {\n",
              "      background-color: #E2EBFA;\n",
              "      box-shadow: 0px 1px 2px rgba(60, 64, 67, 0.3), 0px 1px 3px 1px rgba(60, 64, 67, 0.15);\n",
              "      fill: #174EA6;\n",
              "    }\n",
              "\n",
              "    [theme=dark] .colab-df-convert {\n",
              "      background-color: #3B4455;\n",
              "      fill: #D2E3FC;\n",
              "    }\n",
              "\n",
              "    [theme=dark] .colab-df-convert:hover {\n",
              "      background-color: #434B5C;\n",
              "      box-shadow: 0px 1px 3px 1px rgba(0, 0, 0, 0.15);\n",
              "      filter: drop-shadow(0px 1px 2px rgba(0, 0, 0, 0.3));\n",
              "      fill: #FFFFFF;\n",
              "    }\n",
              "  </style>\n",
              "\n",
              "      <script>\n",
              "        const buttonEl =\n",
              "          document.querySelector('#df-fbc6fc40-63c5-47e1-9638-5b33d1708404 button.colab-df-convert');\n",
              "        buttonEl.style.display =\n",
              "          google.colab.kernel.accessAllowed ? 'block' : 'none';\n",
              "\n",
              "        async function convertToInteractive(key) {\n",
              "          const element = document.querySelector('#df-fbc6fc40-63c5-47e1-9638-5b33d1708404');\n",
              "          const dataTable =\n",
              "            await google.colab.kernel.invokeFunction('convertToInteractive',\n",
              "                                                     [key], {});\n",
              "          if (!dataTable) return;\n",
              "\n",
              "          const docLinkHtml = 'Like what you see? Visit the ' +\n",
              "            '<a target=\"_blank\" href=https://colab.research.google.com/notebooks/data_table.ipynb>data table notebook</a>'\n",
              "            + ' to learn more about interactive tables.';\n",
              "          element.innerHTML = '';\n",
              "          dataTable['output_type'] = 'display_data';\n",
              "          await google.colab.output.renderOutput(dataTable, element);\n",
              "          const docLink = document.createElement('div');\n",
              "          docLink.innerHTML = docLinkHtml;\n",
              "          element.appendChild(docLink);\n",
              "        }\n",
              "      </script>\n",
              "    </div>\n",
              "  </div>\n",
              "  "
            ]
          },
          "metadata": {},
          "execution_count": 19
        }
      ],
      "source": [
        "roles[1]"
      ]
    },
    {
      "cell_type": "code",
      "execution_count": null,
      "metadata": {
        "colab": {
          "base_uri": "https://localhost:8080/",
          "height": 81
        },
        "id": "dlpRZKsbNUkz",
        "outputId": "1a73e672-2d5a-4020-dbd2-2a80c8503cb4"
      },
      "outputs": [
        {
          "output_type": "execute_result",
          "data": {
            "text/plain": [
              "                   id  company  \\\n",
              "474  b0bdb6497d255a80  Spotify   \n",
              "\n",
              "                                           description      location  \\\n",
              "474  \n",
              " \n",
              "  \n",
              "   \n",
              "    \n",
              "     \n",
              "      \n",
              "       Data, Resea...  New York, NY   \n",
              "\n",
              "                  positionName  \n",
              "474  Data Scientist, Messaging  "
            ],
            "text/html": [
              "\n",
              "  <div id=\"df-ef8d3067-9f3e-4b72-88ed-b07948a8aa72\">\n",
              "    <div class=\"colab-df-container\">\n",
              "      <div>\n",
              "<style scoped>\n",
              "    .dataframe tbody tr th:only-of-type {\n",
              "        vertical-align: middle;\n",
              "    }\n",
              "\n",
              "    .dataframe tbody tr th {\n",
              "        vertical-align: top;\n",
              "    }\n",
              "\n",
              "    .dataframe thead th {\n",
              "        text-align: right;\n",
              "    }\n",
              "</style>\n",
              "<table border=\"1\" class=\"dataframe\">\n",
              "  <thead>\n",
              "    <tr style=\"text-align: right;\">\n",
              "      <th></th>\n",
              "      <th>id</th>\n",
              "      <th>company</th>\n",
              "      <th>description</th>\n",
              "      <th>location</th>\n",
              "      <th>positionName</th>\n",
              "    </tr>\n",
              "  </thead>\n",
              "  <tbody>\n",
              "    <tr>\n",
              "      <th>474</th>\n",
              "      <td>b0bdb6497d255a80</td>\n",
              "      <td>Spotify</td>\n",
              "      <td>Data, Resea...</td>\n",
              "      <td>New York, NY</td>\n",
              "      <td>Data Scientist, Messaging</td>\n",
              "    </tr>\n",
              "  </tbody>\n",
              "</table>\n",
              "</div>\n",
              "      <button class=\"colab-df-convert\" onclick=\"convertToInteractive('df-ef8d3067-9f3e-4b72-88ed-b07948a8aa72')\"\n",
              "              title=\"Convert this dataframe to an interactive table.\"\n",
              "              style=\"display:none;\">\n",
              "        \n",
              "  <svg xmlns=\"http://www.w3.org/2000/svg\" height=\"24px\"viewBox=\"0 0 24 24\"\n",
              "       width=\"24px\">\n",
              "    <path d=\"M0 0h24v24H0V0z\" fill=\"none\"/>\n",
              "    <path d=\"M18.56 5.44l.94 2.06.94-2.06 2.06-.94-2.06-.94-.94-2.06-.94 2.06-2.06.94zm-11 1L8.5 8.5l.94-2.06 2.06-.94-2.06-.94L8.5 2.5l-.94 2.06-2.06.94zm10 10l.94 2.06.94-2.06 2.06-.94-2.06-.94-.94-2.06-.94 2.06-2.06.94z\"/><path d=\"M17.41 7.96l-1.37-1.37c-.4-.4-.92-.59-1.43-.59-.52 0-1.04.2-1.43.59L10.3 9.45l-7.72 7.72c-.78.78-.78 2.05 0 2.83L4 21.41c.39.39.9.59 1.41.59.51 0 1.02-.2 1.41-.59l7.78-7.78 2.81-2.81c.8-.78.8-2.07 0-2.86zM5.41 20L4 18.59l7.72-7.72 1.47 1.35L5.41 20z\"/>\n",
              "  </svg>\n",
              "      </button>\n",
              "      \n",
              "  <style>\n",
              "    .colab-df-container {\n",
              "      display:flex;\n",
              "      flex-wrap:wrap;\n",
              "      gap: 12px;\n",
              "    }\n",
              "\n",
              "    .colab-df-convert {\n",
              "      background-color: #E8F0FE;\n",
              "      border: none;\n",
              "      border-radius: 50%;\n",
              "      cursor: pointer;\n",
              "      display: none;\n",
              "      fill: #1967D2;\n",
              "      height: 32px;\n",
              "      padding: 0 0 0 0;\n",
              "      width: 32px;\n",
              "    }\n",
              "\n",
              "    .colab-df-convert:hover {\n",
              "      background-color: #E2EBFA;\n",
              "      box-shadow: 0px 1px 2px rgba(60, 64, 67, 0.3), 0px 1px 3px 1px rgba(60, 64, 67, 0.15);\n",
              "      fill: #174EA6;\n",
              "    }\n",
              "\n",
              "    [theme=dark] .colab-df-convert {\n",
              "      background-color: #3B4455;\n",
              "      fill: #D2E3FC;\n",
              "    }\n",
              "\n",
              "    [theme=dark] .colab-df-convert:hover {\n",
              "      background-color: #434B5C;\n",
              "      box-shadow: 0px 1px 3px 1px rgba(0, 0, 0, 0.15);\n",
              "      filter: drop-shadow(0px 1px 2px rgba(0, 0, 0, 0.3));\n",
              "      fill: #FFFFFF;\n",
              "    }\n",
              "  </style>\n",
              "\n",
              "      <script>\n",
              "        const buttonEl =\n",
              "          document.querySelector('#df-ef8d3067-9f3e-4b72-88ed-b07948a8aa72 button.colab-df-convert');\n",
              "        buttonEl.style.display =\n",
              "          google.colab.kernel.accessAllowed ? 'block' : 'none';\n",
              "\n",
              "        async function convertToInteractive(key) {\n",
              "          const element = document.querySelector('#df-ef8d3067-9f3e-4b72-88ed-b07948a8aa72');\n",
              "          const dataTable =\n",
              "            await google.colab.kernel.invokeFunction('convertToInteractive',\n",
              "                                                     [key], {});\n",
              "          if (!dataTable) return;\n",
              "\n",
              "          const docLinkHtml = 'Like what you see? Visit the ' +\n",
              "            '<a target=\"_blank\" href=https://colab.research.google.com/notebooks/data_table.ipynb>data table notebook</a>'\n",
              "            + ' to learn more about interactive tables.';\n",
              "          element.innerHTML = '';\n",
              "          dataTable['output_type'] = 'display_data';\n",
              "          await google.colab.output.renderOutput(dataTable, element);\n",
              "          const docLink = document.createElement('div');\n",
              "          docLink.innerHTML = docLinkHtml;\n",
              "          element.appendChild(docLink);\n",
              "        }\n",
              "      </script>\n",
              "    </div>\n",
              "  </div>\n",
              "  "
            ]
          },
          "metadata": {},
          "execution_count": 227
        }
      ],
      "source": [
        "roles[2]"
      ]
    },
    {
      "cell_type": "code",
      "source": [
        "roles[3]"
      ],
      "metadata": {
        "colab": {
          "base_uri": "https://localhost:8080/",
          "height": 81
        },
        "id": "W5W_EYusXkD-",
        "outputId": "f5d93441-d91b-4834-b2a2-f979bb00f304"
      },
      "execution_count": null,
      "outputs": [
        {
          "output_type": "execute_result",
          "data": {
            "text/plain": [
              "                  id    company  \\\n",
              "78  227657f7f2463141  Atlassian   \n",
              "\n",
              "                                          description           location  \\\n",
              "78  \n",
              "\n",
              " \n",
              "  \n",
              "   Working at Atlassian\n",
              "  \n",
              "  \n",
              "  \n",
              "    At...  Mountain View, CA   \n",
              "\n",
              "                               positionName  \n",
              "78  Associate Data Scientist, 2023 Graduate  "
            ],
            "text/html": [
              "\n",
              "  <div id=\"df-fc407480-a7a8-4f04-94fa-d5aefa4a2151\">\n",
              "    <div class=\"colab-df-container\">\n",
              "      <div>\n",
              "<style scoped>\n",
              "    .dataframe tbody tr th:only-of-type {\n",
              "        vertical-align: middle;\n",
              "    }\n",
              "\n",
              "    .dataframe tbody tr th {\n",
              "        vertical-align: top;\n",
              "    }\n",
              "\n",
              "    .dataframe thead th {\n",
              "        text-align: right;\n",
              "    }\n",
              "</style>\n",
              "<table border=\"1\" class=\"dataframe\">\n",
              "  <thead>\n",
              "    <tr style=\"text-align: right;\">\n",
              "      <th></th>\n",
              "      <th>id</th>\n",
              "      <th>company</th>\n",
              "      <th>description</th>\n",
              "      <th>location</th>\n",
              "      <th>positionName</th>\n",
              "    </tr>\n",
              "  </thead>\n",
              "  <tbody>\n",
              "    <tr>\n",
              "      <th>78</th>\n",
              "      <td>227657f7f2463141</td>\n",
              "      <td>Atlassian</td>\n",
              "      <td>Working at Atlassian\n",
              "  \n",
              "  \n",
              "  \n",
              "    At...</td>\n",
              "      <td>Mountain View, CA</td>\n",
              "      <td>Associate Data Scientist, 2023 Graduate</td>\n",
              "    </tr>\n",
              "  </tbody>\n",
              "</table>\n",
              "</div>\n",
              "      <button class=\"colab-df-convert\" onclick=\"convertToInteractive('df-fc407480-a7a8-4f04-94fa-d5aefa4a2151')\"\n",
              "              title=\"Convert this dataframe to an interactive table.\"\n",
              "              style=\"display:none;\">\n",
              "        \n",
              "  <svg xmlns=\"http://www.w3.org/2000/svg\" height=\"24px\"viewBox=\"0 0 24 24\"\n",
              "       width=\"24px\">\n",
              "    <path d=\"M0 0h24v24H0V0z\" fill=\"none\"/>\n",
              "    <path d=\"M18.56 5.44l.94 2.06.94-2.06 2.06-.94-2.06-.94-.94-2.06-.94 2.06-2.06.94zm-11 1L8.5 8.5l.94-2.06 2.06-.94-2.06-.94L8.5 2.5l-.94 2.06-2.06.94zm10 10l.94 2.06.94-2.06 2.06-.94-2.06-.94-.94-2.06-.94 2.06-2.06.94z\"/><path d=\"M17.41 7.96l-1.37-1.37c-.4-.4-.92-.59-1.43-.59-.52 0-1.04.2-1.43.59L10.3 9.45l-7.72 7.72c-.78.78-.78 2.05 0 2.83L4 21.41c.39.39.9.59 1.41.59.51 0 1.02-.2 1.41-.59l7.78-7.78 2.81-2.81c.8-.78.8-2.07 0-2.86zM5.41 20L4 18.59l7.72-7.72 1.47 1.35L5.41 20z\"/>\n",
              "  </svg>\n",
              "      </button>\n",
              "      \n",
              "  <style>\n",
              "    .colab-df-container {\n",
              "      display:flex;\n",
              "      flex-wrap:wrap;\n",
              "      gap: 12px;\n",
              "    }\n",
              "\n",
              "    .colab-df-convert {\n",
              "      background-color: #E8F0FE;\n",
              "      border: none;\n",
              "      border-radius: 50%;\n",
              "      cursor: pointer;\n",
              "      display: none;\n",
              "      fill: #1967D2;\n",
              "      height: 32px;\n",
              "      padding: 0 0 0 0;\n",
              "      width: 32px;\n",
              "    }\n",
              "\n",
              "    .colab-df-convert:hover {\n",
              "      background-color: #E2EBFA;\n",
              "      box-shadow: 0px 1px 2px rgba(60, 64, 67, 0.3), 0px 1px 3px 1px rgba(60, 64, 67, 0.15);\n",
              "      fill: #174EA6;\n",
              "    }\n",
              "\n",
              "    [theme=dark] .colab-df-convert {\n",
              "      background-color: #3B4455;\n",
              "      fill: #D2E3FC;\n",
              "    }\n",
              "\n",
              "    [theme=dark] .colab-df-convert:hover {\n",
              "      background-color: #434B5C;\n",
              "      box-shadow: 0px 1px 3px 1px rgba(0, 0, 0, 0.15);\n",
              "      filter: drop-shadow(0px 1px 2px rgba(0, 0, 0, 0.3));\n",
              "      fill: #FFFFFF;\n",
              "    }\n",
              "  </style>\n",
              "\n",
              "      <script>\n",
              "        const buttonEl =\n",
              "          document.querySelector('#df-fc407480-a7a8-4f04-94fa-d5aefa4a2151 button.colab-df-convert');\n",
              "        buttonEl.style.display =\n",
              "          google.colab.kernel.accessAllowed ? 'block' : 'none';\n",
              "\n",
              "        async function convertToInteractive(key) {\n",
              "          const element = document.querySelector('#df-fc407480-a7a8-4f04-94fa-d5aefa4a2151');\n",
              "          const dataTable =\n",
              "            await google.colab.kernel.invokeFunction('convertToInteractive',\n",
              "                                                     [key], {});\n",
              "          if (!dataTable) return;\n",
              "\n",
              "          const docLinkHtml = 'Like what you see? Visit the ' +\n",
              "            '<a target=\"_blank\" href=https://colab.research.google.com/notebooks/data_table.ipynb>data table notebook</a>'\n",
              "            + ' to learn more about interactive tables.';\n",
              "          element.innerHTML = '';\n",
              "          dataTable['output_type'] = 'display_data';\n",
              "          await google.colab.output.renderOutput(dataTable, element);\n",
              "          const docLink = document.createElement('div');\n",
              "          docLink.innerHTML = docLinkHtml;\n",
              "          element.appendChild(docLink);\n",
              "        }\n",
              "      </script>\n",
              "    </div>\n",
              "  </div>\n",
              "  "
            ]
          },
          "metadata": {},
          "execution_count": 228
        }
      ]
    },
    {
      "cell_type": "code",
      "execution_count": null,
      "metadata": {
        "id": "shOQcwBIxiTG"
      },
      "outputs": [],
      "source": [
        "X = df['description'] #descriptions for project\n",
        "X_supervised_train = df_train['description']\n",
        "X_supervised_test = df_test['description']"
      ]
    },
    {
      "cell_type": "code",
      "source": [
        "import geonamescache\n",
        "\n",
        "gc = geonamescache.GeonamesCache()\n",
        "\n",
        "# gets nested dictionary for countries\n",
        "countries = gc.get_countries()\n",
        "\n",
        "# gets nested dictionary for cities\n",
        "cities = gc.get_cities()\n",
        "def gen_dict_extract(var, key):\n",
        "    if isinstance(var, dict):\n",
        "        for k, v in var.items():\n",
        "            if k == key:\n",
        "                yield v\n",
        "            if isinstance(v, (dict, list)):\n",
        "                yield from gen_dict_extract(v, key)\n",
        "    elif isinstance(var, list):\n",
        "        for d in var:\n",
        "            yield from gen_dict_extract(d, key)\n",
        "cities = [*gen_dict_extract(cities, 'name')]\n",
        "countries = [*gen_dict_extract(countries, 'name')]\n",
        "cities = [city.lower() for city in cities]\n",
        "countries = [country.lower() for country in countries]"
      ],
      "metadata": {
        "id": "j3fcKm1FB72D"
      },
      "execution_count": null,
      "outputs": []
    },
    {
      "cell_type": "code",
      "execution_count": null,
      "metadata": {
        "id": "Nx1HhRg1zEao"
      },
      "outputs": [],
      "source": [
        "def cleaner(posting,index): #function for preprocessing all text\n",
        "    posting = re.sub(df['company'][index], '', posting)\n",
        "    posting = re.sub(r\"[^A-Za-z0-9(),!?\\'\\`]\", \" \", str(posting))\n",
        "    posting = re.sub(\"^\\d+\\s|\\s\\d+\\s|\\s\\d+$\", \" \", str(posting))\n",
        "    posting = re.sub(r\",\", \" , \", str(posting))\n",
        "    posting = re.sub(r\"!\", \"\", str(posting))\n",
        "    posting = re.sub(r\"\\(\", \" \", str(posting))\n",
        "    posting = re.sub(r\"\\)\", \" \", str(posting))\n",
        "    posting = re.sub(r\"\\?\", \"\", str(posting))\n",
        "    posting = re.sub(r\"\\{\", \" \", str(posting))\n",
        "    posting = re.sub(r\"\\}\", \" \", str(posting))\n",
        "    posting = re.sub(r\"\\[\", \" \", str(posting))\n",
        "    posting = re.sub(r\"\\]\", \" \", str(posting))\n",
        "    posting = re.sub(r\"\\-\", \"\", str(posting))\n",
        "    posting = re.sub(r\"\\_\", \" \", str(posting))\n",
        "    posting = re.sub(r\"\\s{2,}\", \" \", str(posting))\n",
        "    posting = re.sub(r\"[\\/,\\@,\\#,\\?,\\\\,\\{,\\},\\(,\\),\\[,\\],\\$,\\%,\\^,\\&,\\*,\\<,\\>]\", \"\", str(posting))\n",
        "    posting = re.sub(r'\\([^)]*\\)', '', str(posting))\n",
        "    posting = re.sub('\"','', str(posting))\n",
        "    posting = re.sub(r\"'s\\b\",\"\",str(posting))\n",
        "    posting = re.sub(r\"\\s+\",\" \",str(posting))\n",
        "    posting = re.sub(\"[^a-zA-Z0-9]\", \" \", str(posting))\n",
        "    posting = re.sub(r\"\\b\\d+\\b\", \"\", str(posting)) \n",
        "    # posting = re.sub(r\"\\b[^ai\\b\", \"\", posting)\n",
        "    return posting\n"
      ]
    },
    {
      "cell_type": "code",
      "source": [
        "def get_capital_words(posting):\n",
        "  words = re.findall(r'\\b[A-Z].*?\\b', posting) \n",
        "  words = [word.lower() for word in words] #since we are focusing on skills, we will extract capital words only (will make model easier to extract insights from )def\n",
        "  return words"
      ],
      "metadata": {
        "id": "mCDhdhu6mOGR"
      },
      "execution_count": null,
      "outputs": []
    },
    {
      "cell_type": "code",
      "source": [
        "unigrams_df = pd.read_csv(\"/content/drive/MyDrive/Job_Search_Opitmizer_Docs/count_unigrams.txt\", sep = \"\\t\", names = [\"Word\", \"Count\"])"
      ],
      "metadata": {
        "id": "EaB-Ab_zWzhC"
      },
      "execution_count": null,
      "outputs": []
    },
    {
      "cell_type": "code",
      "source": [
        "stop_words = unigrams_df[unigrams_df['Count'] >= 30000000]['Word'].to_list() #common words to remove form possible skills"
      ],
      "metadata": {
        "id": "T1EypPsLW0za"
      },
      "execution_count": null,
      "outputs": []
    },
    {
      "cell_type": "code",
      "source": [
        "words_to_remove = ['Position',\n",
        " 'Overview','Company', 'JOB','SUMMARY','RESPONSIBILITIES','REQUIRED',\n",
        " 'QUALIFICATIONS', 'Skills','Responsible', 'Ability'\n",
        " 'Abilities','Experience','Minimum','Background', 'Backgrounds', 'Opportunity','Position',\n",
        " 'Description', 'qualification', 'Experiences', 'Opportunities']"
      ],
      "metadata": {
        "id": "ZSy_cdKsho_w"
      },
      "execution_count": null,
      "outputs": []
    },
    {
      "cell_type": "code",
      "source": [
        "removed_words = [word.lower() for word in words_to_remove]"
      ],
      "metadata": {
        "id": "wPmwnwgYioGH"
      },
      "execution_count": null,
      "outputs": []
    },
    {
      "cell_type": "code",
      "source": [
        "stop_words += removed_words + cities + countries"
      ],
      "metadata": {
        "id": "WhIa02xgmkiT"
      },
      "execution_count": null,
      "outputs": []
    },
    {
      "cell_type": "code",
      "execution_count": null,
      "metadata": {
        "id": "3d6zY1Nk8j8y"
      },
      "outputs": [],
      "source": [
        "def cleaning(doc):\n",
        "    # Lemmatizes and removes stopwords, doc needs to be a spacy 'doc'\n",
        "    txt = [token.lemma_ for token in doc if token.lemma_ not in stop_words]\n",
        "    return ' '.join(txt)"
      ]
    },
    {
      "cell_type": "code",
      "source": [
        "for word, i in zip(removed_words,range(len(removed_words))):\n",
        "  print(word, i)"
      ],
      "metadata": {
        "colab": {
          "base_uri": "https://localhost:8080/"
        },
        "id": "J4ei81LIuMVR",
        "outputId": "0b4af768-745b-408e-fd7d-d9bb657567c4"
      },
      "execution_count": null,
      "outputs": [
        {
          "output_type": "stream",
          "name": "stdout",
          "text": [
            "position 0\n",
            "overview 1\n",
            "company 2\n",
            "job 3\n",
            "summary 4\n",
            "responsibilities 5\n",
            "required 6\n",
            "qualifications 7\n",
            "skills 8\n",
            "responsible 9\n",
            "abilityabilities 10\n",
            "experience 11\n",
            "minimum 12\n",
            "background 13\n",
            "backgrounds 14\n",
            "opportunity 15\n",
            "position 16\n",
            "description 17\n",
            "qualification 18\n",
            "experiences 19\n",
            "opportunities 20\n"
          ]
        }
      ]
    },
    {
      "cell_type": "code",
      "execution_count": null,
      "metadata": {
        "id": "s6pgTLAa1cpf"
      },
      "outputs": [],
      "source": [
        "cleaner_postings =  [cleaner(posting,i) for posting,i in zip(X, range(len(X)))]\n",
        "words_capital = [get_capital_words(posting) for posting in cleaner_postings]\n",
        "cleaner_postings = [posting.strip().lower() for posting in cleaner_postings]\n",
        "# cleaner_train =  [cleaner(posting) for posting in X_supervised_train]\n",
        "# cleaner_test = [cleaner(posting) for posting in X_supervised_test]"
      ]
    },
    {
      "cell_type": "code",
      "source": [
        "words_capital[0][0:10]"
      ],
      "metadata": {
        "colab": {
          "base_uri": "https://localhost:8080/"
        },
        "id": "IfGYt_ZLn79e",
        "outputId": "bc8cf121-bdd4-412e-b7ee-5bd241fd211f"
      },
      "execution_count": null,
      "outputs": [
        {
          "output_type": "execute_result",
          "data": {
            "text/plain": [
              "['responsibilities',\n",
              " 'our',\n",
              " 'los',\n",
              " 'angeles',\n",
              " 'new',\n",
              " 'york',\n",
              " 'london',\n",
              " 'paris',\n",
              " 'berlin',\n",
              " 'dubai']"
            ]
          },
          "metadata": {},
          "execution_count": 354
        }
      ]
    },
    {
      "cell_type": "code",
      "source": [
        "word_capital =[\" \".join(post_capital_words) for post_capital_words in words_capital]"
      ],
      "metadata": {
        "id": "42XQ0hTOoa-1"
      },
      "execution_count": null,
      "outputs": []
    },
    {
      "cell_type": "code",
      "source": [
        "word_capital[0]"
      ],
      "metadata": {
        "colab": {
          "base_uri": "https://localhost:8080/",
          "height": 71
        },
        "id": "YTPm59Nsoz1c",
        "outputId": "91b11973-fb09-4090-d21d-7ff63a04408a"
      },
      "execution_count": null,
      "outputs": [
        {
          "output_type": "execute_result",
          "data": {
            "text/plain": [
              "'responsibilities our los angeles new york london paris berlin dubai mumbai singapore jakarta seoul tokyo why join us at we we here join our nlp ml e platform more intelligent customer service product knowledge graphs what participate ai participate collaborate responsibilities build language faq develop knowledge spu construct qualifications minimum qualifications minimum qualifications bachelor computer science nlp experience c python go java good preferred qualifications proficient tensorflow pytorch experience aware familiar dnn lstm cnn lda word2vec elmo gpt bert experience such hadoop spark hive flink our at to we if'"
            ],
            "application/vnd.google.colaboratory.intrinsic+json": {
              "type": "string"
            }
          },
          "metadata": {},
          "execution_count": 249
        }
      ]
    },
    {
      "cell_type": "code",
      "execution_count": null,
      "metadata": {
        "id": "pCZZN0Zy3G2Y"
      },
      "outputs": [],
      "source": [
        "lem_words = [cleaning(doc) for doc in nlp.pipe(word_capital, batch_size=100)] \n",
        "# lem_train = [cleaning(doc) for doc in nlp.pipe(cleaner_train, batch_size=100)]\n",
        "# lem_test = [cleaning(doc) for doc in nlp.pipe(cleaner_test, batch_size=100)]"
      ]
    },
    {
      "cell_type": "code",
      "source": [
        "lem_words[0]"
      ],
      "metadata": {
        "colab": {
          "base_uri": "https://localhost:8080/",
          "height": 53
        },
        "id": "OQDiMzORlnL9",
        "outputId": "c4e962b5-80ad-42ba-f484-a6caacabe41b"
      },
      "execution_count": null,
      "outputs": [
        {
          "output_type": "execute_result",
          "data": {
            "text/plain": [
              "'responsibilitie berlin dubai mumbai singapore jakarta seoul tokyo nlp ml intelligent graph participate ai participate collaborate spu construct bachelor nlp python preferred proficient tensorflow pytorch aware familiar dnn lstm cnn lda word2vec elmo gpt bert hadoop spark hive flink'"
            ],
            "application/vnd.google.colaboratory.intrinsic+json": {
              "type": "string"
            }
          },
          "metadata": {},
          "execution_count": 274
        }
      ]
    },
    {
      "cell_type": "code",
      "source": [
        "lem_words[1]"
      ],
      "metadata": {
        "colab": {
          "base_uri": "https://localhost:8080/",
          "height": 36
        },
        "id": "zKeMjzolrDVz",
        "outputId": "f628486f-2b73-481b-d555-44352d6347c8"
      },
      "execution_count": null,
      "outputs": [
        {
          "output_type": "execute_result",
          "data": {
            "text/plain": [
              "'wifi charter scientist actively participate leverage assist observe establish assist achieve tableau tableau qualification skill minimal minimal python sql willingness bachelor analytic prefer relate internship bda302'"
            ],
            "application/vnd.google.colaboratory.intrinsic+json": {
              "type": "string"
            }
          },
          "metadata": {},
          "execution_count": 190
        }
      ]
    },
    {
      "cell_type": "code",
      "source": [
        "lem_words = [re.sub('datum','', post) for post in lem_words] #fixing weird conversion when switching to spacy doc\n",
        "\n",
        "# lem_train = [re.sub('datum','', post) for post in lem_train]\n",
        "# lem_test = [re.sub('datum','', post) for post in lem_test]"
      ],
      "metadata": {
        "id": "21jTI2ytBDF6"
      },
      "execution_count": null,
      "outputs": []
    },
    {
      "cell_type": "code",
      "execution_count": null,
      "metadata": {
        "id": "9wOzW0fzBJ3c"
      },
      "outputs": [],
      "source": [
        "\n",
        "cleaned_words = pd.Series(lem_words).dropna().tolist()\n",
        "# cleaned_train = pd.Series(lem_train).dropna().tolist()\n",
        "# cleaned_test = pd.Series(lem_test).dropna().tolist() "
      ]
    },
    {
      "cell_type": "code",
      "source": [
        "cleaned_words[3]"
      ],
      "metadata": {
        "colab": {
          "base_uri": "https://localhost:8080/",
          "height": 71
        },
        "id": "GpPlUDJMrp5E",
        "outputId": "82d960db-d47b-40ee-c833-40d1c0378329"
      },
      "execution_count": null,
      "outputs": [
        {
          "output_type": "execute_result",
          "data": {
            "text/plain": [
              "'artificial cybersecurity  cads artificial cybersecurity supervise establish contribute merrimack cultivate merrimack cad cad bs bs cads additionally candidate ph  demonstrate commitment possess additionally merrimack engineer stem innovation subsequent catholic augustinian resume curriculum vitae vaccination merrimack covid vaccination covid catholic augustinian catholic augustinian merrimack catholic augustinian catholic augustinian catholic augustinian merrimack winston girard andover andover merrimack m1 carnegie classification institution merrimack merrimack merrimack ncaa I employer'"
            ],
            "application/vnd.google.colaboratory.intrinsic+json": {
              "type": "string"
            }
          },
          "metadata": {},
          "execution_count": 284
        }
      ]
    },
    {
      "cell_type": "code",
      "execution_count": null,
      "metadata": {
        "id": "OS8jZgUtB11h"
      },
      "outputs": [],
      "source": [
        "from sklearn.metrics.pairwise import cosine_similarity\n",
        "def top_n_similarities(n, num_postings, all_postings, interested_post_index, main_df): #parameters are number of similar postings, number of postings to choose from,\n",
        "  # pandas dataframe of job_postings, index of job posting of interest, and original dataframe\n",
        "  tfidf = TfidfVectorizer() \n",
        "  transformed = tfidf.fit_transform(cleaned_postings) #vectorizing data\n",
        "  max_sims = [0 for i in range(n)] #number of similarities\n",
        "  ind = [None for i in range(n)]\n",
        "  curr_comps = [None for i in range(n)] #indices of similar porings\n",
        "  counter = 0\n",
        "  for i in range(num_postings):\n",
        "    sim = cosine_similarity(transformed[interested_post_index], transformed[i]) #getting similarities\n",
        "    comp1 = main_df['company'][interested_post_index].lower()\n",
        "    try:\n",
        "      comp2 = main_df['company'][i].lower()\n",
        "    except:\n",
        "      print('oops', ' ', i )\n",
        "    if comp1 not in comp2  and comp2 not in comp1: #making sure the same companies aren't selected\n",
        "      if counter < n: #if one of the first n postings\n",
        "          max_sims[counter] = sim\n",
        "          ind[counter] = i \n",
        "          counter += 1\n",
        "      #if similarity is higher than any of the current top 5 similar postings and company is not in top n similar\n",
        "      elif sim > min(max_sims) and comp2 not in curr_comps: \n",
        "        index_replaced = max_sims.index(min(max_sims)) #finding index to replace\n",
        "        max_sims[index_replaced] = sim #replace score\n",
        "        ind[index_replaced] = i #replacing index from job_post dataa=frame\n",
        "        curr_comps[index_replaced] = comp2\n",
        "  return max_sims, ind #returns top n similar job postings and the original index\n",
        "arr1, ind1 = top_n_similarities(3, len(cleaned_postings), cleaned_postings, indexes[0], df)\n",
        "  "
      ]
    },
    {
      "cell_type": "code",
      "execution_count": null,
      "metadata": {
        "id": "PmeelxT8OGAm"
      },
      "outputs": [],
      "source": [
        "arr2, ind2 = top_n_similarities(3, len(cleaned_postings), cleaned_postings, indexes[1],df)"
      ]
    },
    {
      "cell_type": "code",
      "execution_count": null,
      "metadata": {
        "id": "I4DOsERE7-t5"
      },
      "outputs": [],
      "source": [
        "arr3, ind3 = top_n_similarities(3, len(cleaned_postings), cleaned_postings, indexes[2],df)"
      ]
    },
    {
      "cell_type": "code",
      "source": [
        "arr4, ind4 = top_n_similarities(3, len(cleaned_postings), cleaned_postings, indexes[3],df)"
      ],
      "metadata": {
        "id": "Nd8vCjv0Y6Eh"
      },
      "execution_count": null,
      "outputs": []
    },
    {
      "cell_type": "markdown",
      "metadata": {
        "id": "CBMrVCG39cZy"
      },
      "source": [
        "Below I took the 5 most similar roles for each of the 3 job postings from above. As can be seen some of the job postings are nearly idenitcal (besides location). "
      ]
    },
    {
      "cell_type": "code",
      "execution_count": null,
      "metadata": {
        "colab": {
          "base_uri": "https://localhost:8080/",
          "height": 426
        },
        "id": "QxiipvjM8bFn",
        "outputId": "fdf600c3-560b-48c8-b71f-64058f485775"
      },
      "outputs": [
        {
          "output_type": "execute_result",
          "data": {
            "text/plain": [
              "                    id                    company  \\\n",
              "80    236ea975b65a9288                 TEKsystems   \n",
              "1770  6feff3c791fe08bd                  U.S. Bank   \n",
              "2438  6677ddf3737fd3d5                     Retool   \n",
              "1932  ae925abd90289edf           Home Depot / THD   \n",
              "1720  5ec59cbdbacb4931      Gainwell Technologies   \n",
              "2708  c1d100eaadd1adf2                       Vaco   \n",
              "584   d3cf733e01efcf96         Winter Park Resort   \n",
              "2446  694c719397383ca3  Mfour Mobile Research Inc   \n",
              "497   b8b5d5f0b2ebb247    Recruiting From Scratch   \n",
              "1985  c6da9104607b15c3        Ipsos North America   \n",
              "986   5880da128202ea27                       Visa   \n",
              "1294  c83b0f94504d5142  JPMorgan Chase Bank, N.A.   \n",
              "\n",
              "                                            description  \\\n",
              "80    Equivalent Experience \n",
              " \n",
              "\n",
              " Description:\n",
              "  The ...   \n",
              "1770  \n",
              " At U.S. Bank, we're passionate about helping...   \n",
              "2438  \n",
              " \n",
              "  Team \n",
              "  Data Science & Analytics\n",
              " \n",
              " \n",
              "   L...   \n",
              "1932  \n",
              " \n",
              "  Position Purpose:\n",
              "   The Associate Data S...   \n",
              "1720  \n",
              " Job Description:\n",
              "  Essential Job Functions\n",
              " ...   \n",
              "2708  \n",
              " Position Purpose:\n",
              "  The Data Scientist is re...   \n",
              "584   \n",
              " Please note, this position is located at Win...   \n",
              "2446  \n",
              " Data Analyst\n",
              "  MFour Mobile Research, Inc. I...   \n",
              "497   \n",
              " Who is Recruiting from Scratch: \n",
              " \n",
              "  Recruit...   \n",
              "1985  \n",
              " Data Scientist \n",
              "  Division: Global Science O...   \n",
              "986   \n",
              " Company Description\n",
              "  Visa is a world leader...   \n",
              "1294  \n",
              " As an experienced professional in Business A...   \n",
              "\n",
              "                    location  \\\n",
              "80         Chicago, IL 60601   \n",
              "1770         Minneapolis, MN   \n",
              "2438       San Francisco, CA   \n",
              "1932       Atlanta, GA 30301   \n",
              "1720     Roseville, CA 95661   \n",
              "2708             Atlanta, GA   \n",
              "584   Fort Collins, CO 80523   \n",
              "2446           United States   \n",
              "497    Los Angeles, CA 90210   \n",
              "1985         Culver City, CA   \n",
              "986            Palo Alto, CA   \n",
              "1294             Houston, TX   \n",
              "\n",
              "                                           positionName  \n",
              "80                                         Data Analyst  \n",
              "1770                                    HR Data Analyst  \n",
              "2438                                     Data Scientist  \n",
              "1932       Associate Data Scientist, Decision Analytics  \n",
              "1720            Associate Professional Business Analyst  \n",
              "2708               Data Scientist (Remote)- $120k-$130k  \n",
              "584   Marketing Analytics & Insights Senior Analyst ...  \n",
              "2446                                       Data Analyst  \n",
              "497                             Otter AI | NLP Engineer  \n",
              "1985                                     Data Scientist  \n",
              "986                  Data Analyst- Data and AI Platform  \n",
              "1294  Senior Business Analyst - Strategy and Busines...  "
            ],
            "text/html": [
              "\n",
              "  <div id=\"df-234f6b42-a966-4ecb-b287-3db676ec4110\">\n",
              "    <div class=\"colab-df-container\">\n",
              "      <div>\n",
              "<style scoped>\n",
              "    .dataframe tbody tr th:only-of-type {\n",
              "        vertical-align: middle;\n",
              "    }\n",
              "\n",
              "    .dataframe tbody tr th {\n",
              "        vertical-align: top;\n",
              "    }\n",
              "\n",
              "    .dataframe thead th {\n",
              "        text-align: right;\n",
              "    }\n",
              "</style>\n",
              "<table border=\"1\" class=\"dataframe\">\n",
              "  <thead>\n",
              "    <tr style=\"text-align: right;\">\n",
              "      <th></th>\n",
              "      <th>id</th>\n",
              "      <th>company</th>\n",
              "      <th>description</th>\n",
              "      <th>location</th>\n",
              "      <th>positionName</th>\n",
              "    </tr>\n",
              "  </thead>\n",
              "  <tbody>\n",
              "    <tr>\n",
              "      <th>80</th>\n",
              "      <td>236ea975b65a9288</td>\n",
              "      <td>TEKsystems</td>\n",
              "      <td>Equivalent Experience \n",
              " \n",
              "\n",
              " Description:\n",
              "  The ...</td>\n",
              "      <td>Chicago, IL 60601</td>\n",
              "      <td>Data Analyst</td>\n",
              "    </tr>\n",
              "    <tr>\n",
              "      <th>1770</th>\n",
              "      <td>6feff3c791fe08bd</td>\n",
              "      <td>U.S. Bank</td>\n",
              "      <td>At U.S. Bank, we're passionate about helping...</td>\n",
              "      <td>Minneapolis, MN</td>\n",
              "      <td>HR Data Analyst</td>\n",
              "    </tr>\n",
              "    <tr>\n",
              "      <th>2438</th>\n",
              "      <td>6677ddf3737fd3d5</td>\n",
              "      <td>Retool</td>\n",
              "      <td>Team \n",
              "  Data Science &amp; Analytics\n",
              " \n",
              " \n",
              "   L...</td>\n",
              "      <td>San Francisco, CA</td>\n",
              "      <td>Data Scientist</td>\n",
              "    </tr>\n",
              "    <tr>\n",
              "      <th>1932</th>\n",
              "      <td>ae925abd90289edf</td>\n",
              "      <td>Home Depot / THD</td>\n",
              "      <td>Position Purpose:\n",
              "   The Associate Data S...</td>\n",
              "      <td>Atlanta, GA 30301</td>\n",
              "      <td>Associate Data Scientist, Decision Analytics</td>\n",
              "    </tr>\n",
              "    <tr>\n",
              "      <th>1720</th>\n",
              "      <td>5ec59cbdbacb4931</td>\n",
              "      <td>Gainwell Technologies</td>\n",
              "      <td>Job Description:\n",
              "  Essential Job Functions\n",
              " ...</td>\n",
              "      <td>Roseville, CA 95661</td>\n",
              "      <td>Associate Professional Business Analyst</td>\n",
              "    </tr>\n",
              "    <tr>\n",
              "      <th>2708</th>\n",
              "      <td>c1d100eaadd1adf2</td>\n",
              "      <td>Vaco</td>\n",
              "      <td>Position Purpose:\n",
              "  The Data Scientist is re...</td>\n",
              "      <td>Atlanta, GA</td>\n",
              "      <td>Data Scientist (Remote)- $120k-$130k</td>\n",
              "    </tr>\n",
              "    <tr>\n",
              "      <th>584</th>\n",
              "      <td>d3cf733e01efcf96</td>\n",
              "      <td>Winter Park Resort</td>\n",
              "      <td>Please note, this position is located at Win...</td>\n",
              "      <td>Fort Collins, CO 80523</td>\n",
              "      <td>Marketing Analytics &amp; Insights Senior Analyst ...</td>\n",
              "    </tr>\n",
              "    <tr>\n",
              "      <th>2446</th>\n",
              "      <td>694c719397383ca3</td>\n",
              "      <td>Mfour Mobile Research Inc</td>\n",
              "      <td>Data Analyst\n",
              "  MFour Mobile Research, Inc. I...</td>\n",
              "      <td>United States</td>\n",
              "      <td>Data Analyst</td>\n",
              "    </tr>\n",
              "    <tr>\n",
              "      <th>497</th>\n",
              "      <td>b8b5d5f0b2ebb247</td>\n",
              "      <td>Recruiting From Scratch</td>\n",
              "      <td>Who is Recruiting from Scratch: \n",
              " \n",
              "  Recruit...</td>\n",
              "      <td>Los Angeles, CA 90210</td>\n",
              "      <td>Otter AI | NLP Engineer</td>\n",
              "    </tr>\n",
              "    <tr>\n",
              "      <th>1985</th>\n",
              "      <td>c6da9104607b15c3</td>\n",
              "      <td>Ipsos North America</td>\n",
              "      <td>Data Scientist \n",
              "  Division: Global Science O...</td>\n",
              "      <td>Culver City, CA</td>\n",
              "      <td>Data Scientist</td>\n",
              "    </tr>\n",
              "    <tr>\n",
              "      <th>986</th>\n",
              "      <td>5880da128202ea27</td>\n",
              "      <td>Visa</td>\n",
              "      <td>Company Description\n",
              "  Visa is a world leader...</td>\n",
              "      <td>Palo Alto, CA</td>\n",
              "      <td>Data Analyst- Data and AI Platform</td>\n",
              "    </tr>\n",
              "    <tr>\n",
              "      <th>1294</th>\n",
              "      <td>c83b0f94504d5142</td>\n",
              "      <td>JPMorgan Chase Bank, N.A.</td>\n",
              "      <td>As an experienced professional in Business A...</td>\n",
              "      <td>Houston, TX</td>\n",
              "      <td>Senior Business Analyst - Strategy and Busines...</td>\n",
              "    </tr>\n",
              "  </tbody>\n",
              "</table>\n",
              "</div>\n",
              "      <button class=\"colab-df-convert\" onclick=\"convertToInteractive('df-234f6b42-a966-4ecb-b287-3db676ec4110')\"\n",
              "              title=\"Convert this dataframe to an interactive table.\"\n",
              "              style=\"display:none;\">\n",
              "        \n",
              "  <svg xmlns=\"http://www.w3.org/2000/svg\" height=\"24px\"viewBox=\"0 0 24 24\"\n",
              "       width=\"24px\">\n",
              "    <path d=\"M0 0h24v24H0V0z\" fill=\"none\"/>\n",
              "    <path d=\"M18.56 5.44l.94 2.06.94-2.06 2.06-.94-2.06-.94-.94-2.06-.94 2.06-2.06.94zm-11 1L8.5 8.5l.94-2.06 2.06-.94-2.06-.94L8.5 2.5l-.94 2.06-2.06.94zm10 10l.94 2.06.94-2.06 2.06-.94-2.06-.94-.94-2.06-.94 2.06-2.06.94z\"/><path d=\"M17.41 7.96l-1.37-1.37c-.4-.4-.92-.59-1.43-.59-.52 0-1.04.2-1.43.59L10.3 9.45l-7.72 7.72c-.78.78-.78 2.05 0 2.83L4 21.41c.39.39.9.59 1.41.59.51 0 1.02-.2 1.41-.59l7.78-7.78 2.81-2.81c.8-.78.8-2.07 0-2.86zM5.41 20L4 18.59l7.72-7.72 1.47 1.35L5.41 20z\"/>\n",
              "  </svg>\n",
              "      </button>\n",
              "      \n",
              "  <style>\n",
              "    .colab-df-container {\n",
              "      display:flex;\n",
              "      flex-wrap:wrap;\n",
              "      gap: 12px;\n",
              "    }\n",
              "\n",
              "    .colab-df-convert {\n",
              "      background-color: #E8F0FE;\n",
              "      border: none;\n",
              "      border-radius: 50%;\n",
              "      cursor: pointer;\n",
              "      display: none;\n",
              "      fill: #1967D2;\n",
              "      height: 32px;\n",
              "      padding: 0 0 0 0;\n",
              "      width: 32px;\n",
              "    }\n",
              "\n",
              "    .colab-df-convert:hover {\n",
              "      background-color: #E2EBFA;\n",
              "      box-shadow: 0px 1px 2px rgba(60, 64, 67, 0.3), 0px 1px 3px 1px rgba(60, 64, 67, 0.15);\n",
              "      fill: #174EA6;\n",
              "    }\n",
              "\n",
              "    [theme=dark] .colab-df-convert {\n",
              "      background-color: #3B4455;\n",
              "      fill: #D2E3FC;\n",
              "    }\n",
              "\n",
              "    [theme=dark] .colab-df-convert:hover {\n",
              "      background-color: #434B5C;\n",
              "      box-shadow: 0px 1px 3px 1px rgba(0, 0, 0, 0.15);\n",
              "      filter: drop-shadow(0px 1px 2px rgba(0, 0, 0, 0.3));\n",
              "      fill: #FFFFFF;\n",
              "    }\n",
              "  </style>\n",
              "\n",
              "      <script>\n",
              "        const buttonEl =\n",
              "          document.querySelector('#df-234f6b42-a966-4ecb-b287-3db676ec4110 button.colab-df-convert');\n",
              "        buttonEl.style.display =\n",
              "          google.colab.kernel.accessAllowed ? 'block' : 'none';\n",
              "\n",
              "        async function convertToInteractive(key) {\n",
              "          const element = document.querySelector('#df-234f6b42-a966-4ecb-b287-3db676ec4110');\n",
              "          const dataTable =\n",
              "            await google.colab.kernel.invokeFunction('convertToInteractive',\n",
              "                                                     [key], {});\n",
              "          if (!dataTable) return;\n",
              "\n",
              "          const docLinkHtml = 'Like what you see? Visit the ' +\n",
              "            '<a target=\"_blank\" href=https://colab.research.google.com/notebooks/data_table.ipynb>data table notebook</a>'\n",
              "            + ' to learn more about interactive tables.';\n",
              "          element.innerHTML = '';\n",
              "          dataTable['output_type'] = 'display_data';\n",
              "          await google.colab.output.renderOutput(dataTable, element);\n",
              "          const docLink = document.createElement('div');\n",
              "          docLink.innerHTML = docLinkHtml;\n",
              "          element.appendChild(docLink);\n",
              "        }\n",
              "      </script>\n",
              "    </div>\n",
              "  </div>\n",
              "  "
            ]
          },
          "metadata": {},
          "execution_count": 206
        }
      ],
      "source": [
        "arr_f = np.array([ind1,ind2,ind3,ind4]).flatten()\n",
        "arr_f\n",
        "df.iloc[arr_f].head(15)"
      ]
    },
    {
      "cell_type": "markdown",
      "metadata": {
        "id": "RyPfK9ynT3_H"
      },
      "source": [
        "## With Transformers"
      ]
    },
    {
      "cell_type": "markdown",
      "metadata": {
        "id": "vR_b2a9dcKab"
      },
      "source": [
        "### Document Similairty"
      ]
    },
    {
      "cell_type": "code",
      "execution_count": null,
      "metadata": {
        "id": "VYWySVs5T3YB"
      },
      "outputs": [],
      "source": [
        "from sentence_transformers.cross_encoder import CrossEncoder\n",
        "import numpy as np"
      ]
    },
    {
      "cell_type": "code",
      "execution_count": null,
      "metadata": {
        "id": "yuoxKj65Rlq_",
        "colab": {
          "base_uri": "https://localhost:8080/",
          "height": 311
        },
        "outputId": "a8601c81-5f0c-4933-8661-290ab5b9c2ac"
      },
      "outputs": [
        {
          "output_type": "error",
          "ename": "KeyboardInterrupt",
          "evalue": "ignored",
          "traceback": [
            "\u001b[0;31m---------------------------------------------------------------------------\u001b[0m",
            "\u001b[0;31mKeyboardInterrupt\u001b[0m                         Traceback (most recent call last)",
            "\u001b[0;32m<ipython-input-254-f06e36bc0782>\u001b[0m in \u001b[0;36m<module>\u001b[0;34m\u001b[0m\n\u001b[0;32m----> 1\u001b[0;31m \u001b[0mmodel\u001b[0m \u001b[0;34m=\u001b[0m \u001b[0mCrossEncoder\u001b[0m\u001b[0;34m(\u001b[0m\u001b[0;34m'cross-encoder/stsb-distilroberta-base'\u001b[0m\u001b[0;34m)\u001b[0m\u001b[0;34m\u001b[0m\u001b[0;34m\u001b[0m\u001b[0m\n\u001b[0m",
            "\u001b[0;32m/usr/local/lib/python3.8/dist-packages/sentence_transformers/cross_encoder/CrossEncoder.py\u001b[0m in \u001b[0;36m__init__\u001b[0;34m(self, model_name, num_labels, max_length, device, tokenizer_args, automodel_args, default_activation_function)\u001b[0m\n\u001b[1;32m     49\u001b[0m \u001b[0;34m\u001b[0m\u001b[0m\n\u001b[1;32m     50\u001b[0m         \u001b[0mself\u001b[0m\u001b[0;34m.\u001b[0m\u001b[0mmodel\u001b[0m \u001b[0;34m=\u001b[0m \u001b[0mAutoModelForSequenceClassification\u001b[0m\u001b[0;34m.\u001b[0m\u001b[0mfrom_pretrained\u001b[0m\u001b[0;34m(\u001b[0m\u001b[0mmodel_name\u001b[0m\u001b[0;34m,\u001b[0m \u001b[0mconfig\u001b[0m\u001b[0;34m=\u001b[0m\u001b[0mself\u001b[0m\u001b[0;34m.\u001b[0m\u001b[0mconfig\u001b[0m\u001b[0;34m,\u001b[0m \u001b[0;34m**\u001b[0m\u001b[0mautomodel_args\u001b[0m\u001b[0;34m)\u001b[0m\u001b[0;34m\u001b[0m\u001b[0;34m\u001b[0m\u001b[0m\n\u001b[0;32m---> 51\u001b[0;31m         \u001b[0mself\u001b[0m\u001b[0;34m.\u001b[0m\u001b[0mtokenizer\u001b[0m \u001b[0;34m=\u001b[0m \u001b[0mAutoTokenizer\u001b[0m\u001b[0;34m.\u001b[0m\u001b[0mfrom_pretrained\u001b[0m\u001b[0;34m(\u001b[0m\u001b[0mmodel_name\u001b[0m\u001b[0;34m,\u001b[0m \u001b[0;34m**\u001b[0m\u001b[0mtokenizer_args\u001b[0m\u001b[0;34m)\u001b[0m\u001b[0;34m\u001b[0m\u001b[0;34m\u001b[0m\u001b[0m\n\u001b[0m\u001b[1;32m     52\u001b[0m         \u001b[0mself\u001b[0m\u001b[0;34m.\u001b[0m\u001b[0mmax_length\u001b[0m \u001b[0;34m=\u001b[0m \u001b[0mmax_length\u001b[0m\u001b[0;34m\u001b[0m\u001b[0;34m\u001b[0m\u001b[0m\n\u001b[1;32m     53\u001b[0m \u001b[0;34m\u001b[0m\u001b[0m\n",
            "\u001b[0;32m/usr/local/lib/python3.8/dist-packages/transformers/models/auto/tokenization_auto.py\u001b[0m in \u001b[0;36mfrom_pretrained\u001b[0;34m(cls, pretrained_model_name_or_path, *inputs, **kwargs)\u001b[0m\n\u001b[1;32m    580\u001b[0m \u001b[0;34m\u001b[0m\u001b[0m\n\u001b[1;32m    581\u001b[0m         \u001b[0;31m# Next, let's try to use the tokenizer_config file to get the tokenizer class.\u001b[0m\u001b[0;34m\u001b[0m\u001b[0;34m\u001b[0m\u001b[0;34m\u001b[0m\u001b[0m\n\u001b[0;32m--> 582\u001b[0;31m         \u001b[0mtokenizer_config\u001b[0m \u001b[0;34m=\u001b[0m \u001b[0mget_tokenizer_config\u001b[0m\u001b[0;34m(\u001b[0m\u001b[0mpretrained_model_name_or_path\u001b[0m\u001b[0;34m,\u001b[0m \u001b[0;34m**\u001b[0m\u001b[0mkwargs\u001b[0m\u001b[0;34m)\u001b[0m\u001b[0;34m\u001b[0m\u001b[0;34m\u001b[0m\u001b[0m\n\u001b[0m\u001b[1;32m    583\u001b[0m         \u001b[0;32mif\u001b[0m \u001b[0;34m\"_commit_hash\"\u001b[0m \u001b[0;32min\u001b[0m \u001b[0mtokenizer_config\u001b[0m\u001b[0;34m:\u001b[0m\u001b[0;34m\u001b[0m\u001b[0;34m\u001b[0m\u001b[0m\n\u001b[1;32m    584\u001b[0m             \u001b[0mkwargs\u001b[0m\u001b[0;34m[\u001b[0m\u001b[0;34m\"_commit_hash\"\u001b[0m\u001b[0;34m]\u001b[0m \u001b[0;34m=\u001b[0m \u001b[0mtokenizer_config\u001b[0m\u001b[0;34m[\u001b[0m\u001b[0;34m\"_commit_hash\"\u001b[0m\u001b[0;34m]\u001b[0m\u001b[0;34m\u001b[0m\u001b[0;34m\u001b[0m\u001b[0m\n",
            "\u001b[0;32m/usr/local/lib/python3.8/dist-packages/transformers/models/auto/tokenization_auto.py\u001b[0m in \u001b[0;36mget_tokenizer_config\u001b[0;34m(pretrained_model_name_or_path, cache_dir, force_download, resume_download, proxies, use_auth_token, revision, local_files_only, subfolder, **kwargs)\u001b[0m\n\u001b[1;32m    431\u001b[0m     ```\"\"\"\n\u001b[1;32m    432\u001b[0m     \u001b[0mcommit_hash\u001b[0m \u001b[0;34m=\u001b[0m \u001b[0mkwargs\u001b[0m\u001b[0;34m.\u001b[0m\u001b[0mget\u001b[0m\u001b[0;34m(\u001b[0m\u001b[0;34m\"_commit_hash\"\u001b[0m\u001b[0;34m,\u001b[0m \u001b[0;32mNone\u001b[0m\u001b[0;34m)\u001b[0m\u001b[0;34m\u001b[0m\u001b[0;34m\u001b[0m\u001b[0m\n\u001b[0;32m--> 433\u001b[0;31m     resolved_config_file = cached_file(\n\u001b[0m\u001b[1;32m    434\u001b[0m         \u001b[0mpretrained_model_name_or_path\u001b[0m\u001b[0;34m,\u001b[0m\u001b[0;34m\u001b[0m\u001b[0;34m\u001b[0m\u001b[0m\n\u001b[1;32m    435\u001b[0m         \u001b[0mTOKENIZER_CONFIG_FILE\u001b[0m\u001b[0;34m,\u001b[0m\u001b[0;34m\u001b[0m\u001b[0;34m\u001b[0m\u001b[0m\n",
            "\u001b[0;32m/usr/local/lib/python3.8/dist-packages/transformers/utils/hub.py\u001b[0m in \u001b[0;36mcached_file\u001b[0;34m(path_or_repo_id, filename, cache_dir, force_download, resume_download, proxies, use_auth_token, revision, local_files_only, subfolder, user_agent, _raise_exceptions_for_missing_entries, _raise_exceptions_for_connection_errors, _commit_hash)\u001b[0m\n\u001b[1;32m    407\u001b[0m     \u001b[0;32mtry\u001b[0m\u001b[0;34m:\u001b[0m\u001b[0;34m\u001b[0m\u001b[0;34m\u001b[0m\u001b[0m\n\u001b[1;32m    408\u001b[0m         \u001b[0;31m# Load from URL or cache if already cached\u001b[0m\u001b[0;34m\u001b[0m\u001b[0;34m\u001b[0m\u001b[0;34m\u001b[0m\u001b[0m\n\u001b[0;32m--> 409\u001b[0;31m         resolved_file = hf_hub_download(\n\u001b[0m\u001b[1;32m    410\u001b[0m             \u001b[0mpath_or_repo_id\u001b[0m\u001b[0;34m,\u001b[0m\u001b[0;34m\u001b[0m\u001b[0;34m\u001b[0m\u001b[0m\n\u001b[1;32m    411\u001b[0m             \u001b[0mfilename\u001b[0m\u001b[0;34m,\u001b[0m\u001b[0;34m\u001b[0m\u001b[0;34m\u001b[0m\u001b[0m\n",
            "\u001b[0;32m/usr/local/lib/python3.8/dist-packages/huggingface_hub/utils/_validators.py\u001b[0m in \u001b[0;36m_inner_fn\u001b[0;34m(*args, **kwargs)\u001b[0m\n\u001b[1;32m    122\u001b[0m             )\n\u001b[1;32m    123\u001b[0m \u001b[0;34m\u001b[0m\u001b[0m\n\u001b[0;32m--> 124\u001b[0;31m         \u001b[0;32mreturn\u001b[0m \u001b[0mfn\u001b[0m\u001b[0;34m(\u001b[0m\u001b[0;34m*\u001b[0m\u001b[0margs\u001b[0m\u001b[0;34m,\u001b[0m \u001b[0;34m**\u001b[0m\u001b[0mkwargs\u001b[0m\u001b[0;34m)\u001b[0m\u001b[0;34m\u001b[0m\u001b[0;34m\u001b[0m\u001b[0m\n\u001b[0m\u001b[1;32m    125\u001b[0m \u001b[0;34m\u001b[0m\u001b[0m\n\u001b[1;32m    126\u001b[0m     \u001b[0;32mreturn\u001b[0m \u001b[0m_inner_fn\u001b[0m  \u001b[0;31m# type: ignore\u001b[0m\u001b[0;34m\u001b[0m\u001b[0;34m\u001b[0m\u001b[0m\n",
            "\u001b[0;32m/usr/local/lib/python3.8/dist-packages/huggingface_hub/file_download.py\u001b[0m in \u001b[0;36mhf_hub_download\u001b[0;34m(repo_id, filename, subfolder, repo_type, revision, library_name, library_version, cache_dir, user_agent, force_download, force_filename, proxies, etag_timeout, resume_download, token, local_files_only, legacy_cache_layout)\u001b[0m\n\u001b[1;32m   1065\u001b[0m         \u001b[0;32mtry\u001b[0m\u001b[0;34m:\u001b[0m\u001b[0;34m\u001b[0m\u001b[0;34m\u001b[0m\u001b[0m\n\u001b[1;32m   1066\u001b[0m             \u001b[0;32mtry\u001b[0m\u001b[0;34m:\u001b[0m\u001b[0;34m\u001b[0m\u001b[0;34m\u001b[0m\u001b[0m\n\u001b[0;32m-> 1067\u001b[0;31m                 metadata = get_hf_file_metadata(\n\u001b[0m\u001b[1;32m   1068\u001b[0m                     \u001b[0murl\u001b[0m\u001b[0;34m=\u001b[0m\u001b[0murl\u001b[0m\u001b[0;34m,\u001b[0m\u001b[0;34m\u001b[0m\u001b[0;34m\u001b[0m\u001b[0m\n\u001b[1;32m   1069\u001b[0m                     \u001b[0mtoken\u001b[0m\u001b[0;34m=\u001b[0m\u001b[0mtoken\u001b[0m\u001b[0;34m,\u001b[0m\u001b[0;34m\u001b[0m\u001b[0;34m\u001b[0m\u001b[0m\n",
            "\u001b[0;32m/usr/local/lib/python3.8/dist-packages/huggingface_hub/utils/_validators.py\u001b[0m in \u001b[0;36m_inner_fn\u001b[0;34m(*args, **kwargs)\u001b[0m\n\u001b[1;32m    122\u001b[0m             )\n\u001b[1;32m    123\u001b[0m \u001b[0;34m\u001b[0m\u001b[0m\n\u001b[0;32m--> 124\u001b[0;31m         \u001b[0;32mreturn\u001b[0m \u001b[0mfn\u001b[0m\u001b[0;34m(\u001b[0m\u001b[0;34m*\u001b[0m\u001b[0margs\u001b[0m\u001b[0;34m,\u001b[0m \u001b[0;34m**\u001b[0m\u001b[0mkwargs\u001b[0m\u001b[0;34m)\u001b[0m\u001b[0;34m\u001b[0m\u001b[0;34m\u001b[0m\u001b[0m\n\u001b[0m\u001b[1;32m    125\u001b[0m \u001b[0;34m\u001b[0m\u001b[0m\n\u001b[1;32m    126\u001b[0m     \u001b[0;32mreturn\u001b[0m \u001b[0m_inner_fn\u001b[0m  \u001b[0;31m# type: ignore\u001b[0m\u001b[0;34m\u001b[0m\u001b[0;34m\u001b[0m\u001b[0m\n",
            "\u001b[0;32m/usr/local/lib/python3.8/dist-packages/huggingface_hub/file_download.py\u001b[0m in \u001b[0;36mget_hf_file_metadata\u001b[0;34m(url, token, proxies, timeout)\u001b[0m\n\u001b[1;32m   1365\u001b[0m \u001b[0;34m\u001b[0m\u001b[0m\n\u001b[1;32m   1366\u001b[0m     \u001b[0;31m# Retrieve metadata\u001b[0m\u001b[0;34m\u001b[0m\u001b[0;34m\u001b[0m\u001b[0;34m\u001b[0m\u001b[0m\n\u001b[0;32m-> 1367\u001b[0;31m     r = _request_wrapper(\n\u001b[0m\u001b[1;32m   1368\u001b[0m         \u001b[0mmethod\u001b[0m\u001b[0;34m=\u001b[0m\u001b[0;34m\"HEAD\"\u001b[0m\u001b[0;34m,\u001b[0m\u001b[0;34m\u001b[0m\u001b[0;34m\u001b[0m\u001b[0m\n\u001b[1;32m   1369\u001b[0m         \u001b[0murl\u001b[0m\u001b[0;34m=\u001b[0m\u001b[0murl\u001b[0m\u001b[0;34m,\u001b[0m\u001b[0;34m\u001b[0m\u001b[0;34m\u001b[0m\u001b[0m\n",
            "\u001b[0;32m/usr/local/lib/python3.8/dist-packages/huggingface_hub/file_download.py\u001b[0m in \u001b[0;36m_request_wrapper\u001b[0;34m(method, url, max_retries, base_wait_time, max_wait_time, timeout, follow_relative_redirects, **params)\u001b[0m\n\u001b[1;32m    401\u001b[0m     \u001b[0;31m# 2. Force relative redirection\u001b[0m\u001b[0;34m\u001b[0m\u001b[0;34m\u001b[0m\u001b[0;34m\u001b[0m\u001b[0m\n\u001b[1;32m    402\u001b[0m     \u001b[0;32mif\u001b[0m \u001b[0mfollow_relative_redirects\u001b[0m\u001b[0;34m:\u001b[0m\u001b[0;34m\u001b[0m\u001b[0;34m\u001b[0m\u001b[0m\n\u001b[0;32m--> 403\u001b[0;31m         response = _request_wrapper(\n\u001b[0m\u001b[1;32m    404\u001b[0m             \u001b[0mmethod\u001b[0m\u001b[0;34m=\u001b[0m\u001b[0mmethod\u001b[0m\u001b[0;34m,\u001b[0m\u001b[0;34m\u001b[0m\u001b[0;34m\u001b[0m\u001b[0m\n\u001b[1;32m    405\u001b[0m             \u001b[0murl\u001b[0m\u001b[0;34m=\u001b[0m\u001b[0murl\u001b[0m\u001b[0;34m,\u001b[0m\u001b[0;34m\u001b[0m\u001b[0;34m\u001b[0m\u001b[0m\n",
            "\u001b[0;32m/usr/local/lib/python3.8/dist-packages/huggingface_hub/file_download.py\u001b[0m in \u001b[0;36m_request_wrapper\u001b[0;34m(method, url, max_retries, base_wait_time, max_wait_time, timeout, follow_relative_redirects, **params)\u001b[0m\n\u001b[1;32m    436\u001b[0m \u001b[0;34m\u001b[0m\u001b[0m\n\u001b[1;32m    437\u001b[0m     \u001b[0;31m# 3. Exponential backoff\u001b[0m\u001b[0;34m\u001b[0m\u001b[0;34m\u001b[0m\u001b[0;34m\u001b[0m\u001b[0m\n\u001b[0;32m--> 438\u001b[0;31m     return http_backoff(\n\u001b[0m\u001b[1;32m    439\u001b[0m         \u001b[0mmethod\u001b[0m\u001b[0;34m=\u001b[0m\u001b[0mmethod\u001b[0m\u001b[0;34m,\u001b[0m\u001b[0;34m\u001b[0m\u001b[0;34m\u001b[0m\u001b[0m\n\u001b[1;32m    440\u001b[0m         \u001b[0murl\u001b[0m\u001b[0;34m=\u001b[0m\u001b[0murl\u001b[0m\u001b[0;34m,\u001b[0m\u001b[0;34m\u001b[0m\u001b[0;34m\u001b[0m\u001b[0m\n",
            "\u001b[0;32m/usr/local/lib/python3.8/dist-packages/huggingface_hub/utils/_http.py\u001b[0m in \u001b[0;36mhttp_backoff\u001b[0;34m(method, url, max_retries, base_wait_time, max_wait_time, retry_on_exceptions, retry_on_status_codes, **kwargs)\u001b[0m\n\u001b[1;32m    127\u001b[0m \u001b[0;34m\u001b[0m\u001b[0m\n\u001b[1;32m    128\u001b[0m             \u001b[0;31m# Perform request and return if status_code is not in the retry list.\u001b[0m\u001b[0;34m\u001b[0m\u001b[0;34m\u001b[0m\u001b[0;34m\u001b[0m\u001b[0m\n\u001b[0;32m--> 129\u001b[0;31m             \u001b[0mresponse\u001b[0m \u001b[0;34m=\u001b[0m \u001b[0mrequests\u001b[0m\u001b[0;34m.\u001b[0m\u001b[0mrequest\u001b[0m\u001b[0;34m(\u001b[0m\u001b[0mmethod\u001b[0m\u001b[0;34m=\u001b[0m\u001b[0mmethod\u001b[0m\u001b[0;34m,\u001b[0m \u001b[0murl\u001b[0m\u001b[0;34m=\u001b[0m\u001b[0murl\u001b[0m\u001b[0;34m,\u001b[0m \u001b[0;34m**\u001b[0m\u001b[0mkwargs\u001b[0m\u001b[0;34m)\u001b[0m\u001b[0;34m\u001b[0m\u001b[0;34m\u001b[0m\u001b[0m\n\u001b[0m\u001b[1;32m    130\u001b[0m             \u001b[0;32mif\u001b[0m \u001b[0mresponse\u001b[0m\u001b[0;34m.\u001b[0m\u001b[0mstatus_code\u001b[0m \u001b[0;32mnot\u001b[0m \u001b[0;32min\u001b[0m \u001b[0mretry_on_status_codes\u001b[0m\u001b[0;34m:\u001b[0m\u001b[0;34m\u001b[0m\u001b[0;34m\u001b[0m\u001b[0m\n\u001b[1;32m    131\u001b[0m                 \u001b[0;32mreturn\u001b[0m \u001b[0mresponse\u001b[0m\u001b[0;34m\u001b[0m\u001b[0;34m\u001b[0m\u001b[0m\n",
            "\u001b[0;32m/usr/local/lib/python3.8/dist-packages/requests/api.py\u001b[0m in \u001b[0;36mrequest\u001b[0;34m(method, url, **kwargs)\u001b[0m\n\u001b[1;32m     59\u001b[0m     \u001b[0;31m# cases, and look like a memory leak in others.\u001b[0m\u001b[0;34m\u001b[0m\u001b[0;34m\u001b[0m\u001b[0;34m\u001b[0m\u001b[0m\n\u001b[1;32m     60\u001b[0m     \u001b[0;32mwith\u001b[0m \u001b[0msessions\u001b[0m\u001b[0;34m.\u001b[0m\u001b[0mSession\u001b[0m\u001b[0;34m(\u001b[0m\u001b[0;34m)\u001b[0m \u001b[0;32mas\u001b[0m \u001b[0msession\u001b[0m\u001b[0;34m:\u001b[0m\u001b[0;34m\u001b[0m\u001b[0;34m\u001b[0m\u001b[0m\n\u001b[0;32m---> 61\u001b[0;31m         \u001b[0;32mreturn\u001b[0m \u001b[0msession\u001b[0m\u001b[0;34m.\u001b[0m\u001b[0mrequest\u001b[0m\u001b[0;34m(\u001b[0m\u001b[0mmethod\u001b[0m\u001b[0;34m=\u001b[0m\u001b[0mmethod\u001b[0m\u001b[0;34m,\u001b[0m \u001b[0murl\u001b[0m\u001b[0;34m=\u001b[0m\u001b[0murl\u001b[0m\u001b[0;34m,\u001b[0m \u001b[0;34m**\u001b[0m\u001b[0mkwargs\u001b[0m\u001b[0;34m)\u001b[0m\u001b[0;34m\u001b[0m\u001b[0;34m\u001b[0m\u001b[0m\n\u001b[0m\u001b[1;32m     62\u001b[0m \u001b[0;34m\u001b[0m\u001b[0m\n\u001b[1;32m     63\u001b[0m \u001b[0;34m\u001b[0m\u001b[0m\n",
            "\u001b[0;32m/usr/local/lib/python3.8/dist-packages/requests/sessions.py\u001b[0m in \u001b[0;36mrequest\u001b[0;34m(self, method, url, params, data, headers, cookies, files, auth, timeout, allow_redirects, proxies, hooks, stream, verify, cert, json)\u001b[0m\n\u001b[1;32m    528\u001b[0m         }\n\u001b[1;32m    529\u001b[0m         \u001b[0msend_kwargs\u001b[0m\u001b[0;34m.\u001b[0m\u001b[0mupdate\u001b[0m\u001b[0;34m(\u001b[0m\u001b[0msettings\u001b[0m\u001b[0;34m)\u001b[0m\u001b[0;34m\u001b[0m\u001b[0;34m\u001b[0m\u001b[0m\n\u001b[0;32m--> 530\u001b[0;31m         \u001b[0mresp\u001b[0m \u001b[0;34m=\u001b[0m \u001b[0mself\u001b[0m\u001b[0;34m.\u001b[0m\u001b[0msend\u001b[0m\u001b[0;34m(\u001b[0m\u001b[0mprep\u001b[0m\u001b[0;34m,\u001b[0m \u001b[0;34m**\u001b[0m\u001b[0msend_kwargs\u001b[0m\u001b[0;34m)\u001b[0m\u001b[0;34m\u001b[0m\u001b[0;34m\u001b[0m\u001b[0m\n\u001b[0m\u001b[1;32m    531\u001b[0m \u001b[0;34m\u001b[0m\u001b[0m\n\u001b[1;32m    532\u001b[0m         \u001b[0;32mreturn\u001b[0m \u001b[0mresp\u001b[0m\u001b[0;34m\u001b[0m\u001b[0;34m\u001b[0m\u001b[0m\n",
            "\u001b[0;32m/usr/local/lib/python3.8/dist-packages/requests/sessions.py\u001b[0m in \u001b[0;36msend\u001b[0;34m(self, request, **kwargs)\u001b[0m\n\u001b[1;32m    641\u001b[0m \u001b[0;34m\u001b[0m\u001b[0m\n\u001b[1;32m    642\u001b[0m         \u001b[0;31m# Send the request\u001b[0m\u001b[0;34m\u001b[0m\u001b[0;34m\u001b[0m\u001b[0;34m\u001b[0m\u001b[0m\n\u001b[0;32m--> 643\u001b[0;31m         \u001b[0mr\u001b[0m \u001b[0;34m=\u001b[0m \u001b[0madapter\u001b[0m\u001b[0;34m.\u001b[0m\u001b[0msend\u001b[0m\u001b[0;34m(\u001b[0m\u001b[0mrequest\u001b[0m\u001b[0;34m,\u001b[0m \u001b[0;34m**\u001b[0m\u001b[0mkwargs\u001b[0m\u001b[0;34m)\u001b[0m\u001b[0;34m\u001b[0m\u001b[0;34m\u001b[0m\u001b[0m\n\u001b[0m\u001b[1;32m    644\u001b[0m \u001b[0;34m\u001b[0m\u001b[0m\n\u001b[1;32m    645\u001b[0m         \u001b[0;31m# Total elapsed time of the request (approximately)\u001b[0m\u001b[0;34m\u001b[0m\u001b[0;34m\u001b[0m\u001b[0;34m\u001b[0m\u001b[0m\n",
            "\u001b[0;32m/usr/local/lib/python3.8/dist-packages/requests/adapters.py\u001b[0m in \u001b[0;36msend\u001b[0;34m(self, request, stream, timeout, verify, cert, proxies)\u001b[0m\n\u001b[1;32m    437\u001b[0m         \u001b[0;32mtry\u001b[0m\u001b[0;34m:\u001b[0m\u001b[0;34m\u001b[0m\u001b[0;34m\u001b[0m\u001b[0m\n\u001b[1;32m    438\u001b[0m             \u001b[0;32mif\u001b[0m \u001b[0;32mnot\u001b[0m \u001b[0mchunked\u001b[0m\u001b[0;34m:\u001b[0m\u001b[0;34m\u001b[0m\u001b[0;34m\u001b[0m\u001b[0m\n\u001b[0;32m--> 439\u001b[0;31m                 resp = conn.urlopen(\n\u001b[0m\u001b[1;32m    440\u001b[0m                     \u001b[0mmethod\u001b[0m\u001b[0;34m=\u001b[0m\u001b[0mrequest\u001b[0m\u001b[0;34m.\u001b[0m\u001b[0mmethod\u001b[0m\u001b[0;34m,\u001b[0m\u001b[0;34m\u001b[0m\u001b[0;34m\u001b[0m\u001b[0m\n\u001b[1;32m    441\u001b[0m                     \u001b[0murl\u001b[0m\u001b[0;34m=\u001b[0m\u001b[0murl\u001b[0m\u001b[0;34m,\u001b[0m\u001b[0;34m\u001b[0m\u001b[0;34m\u001b[0m\u001b[0m\n",
            "\u001b[0;32m/usr/local/lib/python3.8/dist-packages/urllib3/connectionpool.py\u001b[0m in \u001b[0;36murlopen\u001b[0;34m(self, method, url, body, headers, retries, redirect, assert_same_host, timeout, pool_timeout, release_conn, chunked, body_pos, **response_kw)\u001b[0m\n\u001b[1;32m    595\u001b[0m \u001b[0;34m\u001b[0m\u001b[0m\n\u001b[1;32m    596\u001b[0m             \u001b[0;31m# Make the request on the httplib connection object.\u001b[0m\u001b[0;34m\u001b[0m\u001b[0;34m\u001b[0m\u001b[0;34m\u001b[0m\u001b[0m\n\u001b[0;32m--> 597\u001b[0;31m             httplib_response = self._make_request(conn, method, url,\n\u001b[0m\u001b[1;32m    598\u001b[0m                                                   \u001b[0mtimeout\u001b[0m\u001b[0;34m=\u001b[0m\u001b[0mtimeout_obj\u001b[0m\u001b[0;34m,\u001b[0m\u001b[0;34m\u001b[0m\u001b[0;34m\u001b[0m\u001b[0m\n\u001b[1;32m    599\u001b[0m                                                   \u001b[0mbody\u001b[0m\u001b[0;34m=\u001b[0m\u001b[0mbody\u001b[0m\u001b[0;34m,\u001b[0m \u001b[0mheaders\u001b[0m\u001b[0;34m=\u001b[0m\u001b[0mheaders\u001b[0m\u001b[0;34m,\u001b[0m\u001b[0;34m\u001b[0m\u001b[0;34m\u001b[0m\u001b[0m\n",
            "\u001b[0;32m/usr/local/lib/python3.8/dist-packages/urllib3/connectionpool.py\u001b[0m in \u001b[0;36m_make_request\u001b[0;34m(self, conn, method, url, timeout, chunked, **httplib_request_kw)\u001b[0m\n\u001b[1;32m    341\u001b[0m         \u001b[0;31m# Trigger any extra validation we need to do.\u001b[0m\u001b[0;34m\u001b[0m\u001b[0;34m\u001b[0m\u001b[0;34m\u001b[0m\u001b[0m\n\u001b[1;32m    342\u001b[0m         \u001b[0;32mtry\u001b[0m\u001b[0;34m:\u001b[0m\u001b[0;34m\u001b[0m\u001b[0;34m\u001b[0m\u001b[0m\n\u001b[0;32m--> 343\u001b[0;31m             \u001b[0mself\u001b[0m\u001b[0;34m.\u001b[0m\u001b[0m_validate_conn\u001b[0m\u001b[0;34m(\u001b[0m\u001b[0mconn\u001b[0m\u001b[0;34m)\u001b[0m\u001b[0;34m\u001b[0m\u001b[0;34m\u001b[0m\u001b[0m\n\u001b[0m\u001b[1;32m    344\u001b[0m         \u001b[0;32mexcept\u001b[0m \u001b[0;34m(\u001b[0m\u001b[0mSocketTimeout\u001b[0m\u001b[0;34m,\u001b[0m \u001b[0mBaseSSLError\u001b[0m\u001b[0;34m)\u001b[0m \u001b[0;32mas\u001b[0m \u001b[0me\u001b[0m\u001b[0;34m:\u001b[0m\u001b[0;34m\u001b[0m\u001b[0;34m\u001b[0m\u001b[0m\n\u001b[1;32m    345\u001b[0m             \u001b[0;31m# Py2 raises this as a BaseSSLError, Py3 raises it as socket timeout.\u001b[0m\u001b[0;34m\u001b[0m\u001b[0;34m\u001b[0m\u001b[0;34m\u001b[0m\u001b[0m\n",
            "\u001b[0;32m/usr/local/lib/python3.8/dist-packages/urllib3/connectionpool.py\u001b[0m in \u001b[0;36m_validate_conn\u001b[0;34m(self, conn)\u001b[0m\n\u001b[1;32m    837\u001b[0m         \u001b[0;31m# Force connect early to allow us to validate the connection.\u001b[0m\u001b[0;34m\u001b[0m\u001b[0;34m\u001b[0m\u001b[0;34m\u001b[0m\u001b[0m\n\u001b[1;32m    838\u001b[0m         \u001b[0;32mif\u001b[0m \u001b[0;32mnot\u001b[0m \u001b[0mgetattr\u001b[0m\u001b[0;34m(\u001b[0m\u001b[0mconn\u001b[0m\u001b[0;34m,\u001b[0m \u001b[0;34m'sock'\u001b[0m\u001b[0;34m,\u001b[0m \u001b[0;32mNone\u001b[0m\u001b[0;34m)\u001b[0m\u001b[0;34m:\u001b[0m  \u001b[0;31m# AppEngine might not have  `.sock`\u001b[0m\u001b[0;34m\u001b[0m\u001b[0;34m\u001b[0m\u001b[0m\n\u001b[0;32m--> 839\u001b[0;31m             \u001b[0mconn\u001b[0m\u001b[0;34m.\u001b[0m\u001b[0mconnect\u001b[0m\u001b[0;34m(\u001b[0m\u001b[0;34m)\u001b[0m\u001b[0;34m\u001b[0m\u001b[0;34m\u001b[0m\u001b[0m\n\u001b[0m\u001b[1;32m    840\u001b[0m \u001b[0;34m\u001b[0m\u001b[0m\n\u001b[1;32m    841\u001b[0m         \u001b[0;32mif\u001b[0m \u001b[0;32mnot\u001b[0m \u001b[0mconn\u001b[0m\u001b[0;34m.\u001b[0m\u001b[0mis_verified\u001b[0m\u001b[0;34m:\u001b[0m\u001b[0;34m\u001b[0m\u001b[0;34m\u001b[0m\u001b[0m\n",
            "\u001b[0;32m/usr/local/lib/python3.8/dist-packages/urllib3/connection.py\u001b[0m in \u001b[0;36mconnect\u001b[0;34m(self)\u001b[0m\n\u001b[1;32m    335\u001b[0m         \u001b[0mcontext\u001b[0m \u001b[0;34m=\u001b[0m \u001b[0mself\u001b[0m\u001b[0;34m.\u001b[0m\u001b[0mssl_context\u001b[0m\u001b[0;34m\u001b[0m\u001b[0;34m\u001b[0m\u001b[0m\n\u001b[1;32m    336\u001b[0m         \u001b[0mcontext\u001b[0m\u001b[0;34m.\u001b[0m\u001b[0mverify_mode\u001b[0m \u001b[0;34m=\u001b[0m \u001b[0mresolve_cert_reqs\u001b[0m\u001b[0;34m(\u001b[0m\u001b[0mself\u001b[0m\u001b[0;34m.\u001b[0m\u001b[0mcert_reqs\u001b[0m\u001b[0;34m)\u001b[0m\u001b[0;34m\u001b[0m\u001b[0;34m\u001b[0m\u001b[0m\n\u001b[0;32m--> 337\u001b[0;31m         self.sock = ssl_wrap_socket(\n\u001b[0m\u001b[1;32m    338\u001b[0m             \u001b[0msock\u001b[0m\u001b[0;34m=\u001b[0m\u001b[0mconn\u001b[0m\u001b[0;34m,\u001b[0m\u001b[0;34m\u001b[0m\u001b[0;34m\u001b[0m\u001b[0m\n\u001b[1;32m    339\u001b[0m             \u001b[0mkeyfile\u001b[0m\u001b[0;34m=\u001b[0m\u001b[0mself\u001b[0m\u001b[0;34m.\u001b[0m\u001b[0mkey_file\u001b[0m\u001b[0;34m,\u001b[0m\u001b[0;34m\u001b[0m\u001b[0;34m\u001b[0m\u001b[0m\n",
            "\u001b[0;32m/usr/local/lib/python3.8/dist-packages/urllib3/util/ssl_.py\u001b[0m in \u001b[0;36mssl_wrap_socket\u001b[0;34m(sock, keyfile, certfile, cert_reqs, ca_certs, server_hostname, ssl_version, ciphers, ssl_context, ca_cert_dir)\u001b[0m\n\u001b[1;32m    343\u001b[0m             or IS_SECURETRANSPORT):\n\u001b[1;32m    344\u001b[0m         \u001b[0;32mif\u001b[0m \u001b[0mHAS_SNI\u001b[0m \u001b[0;32mand\u001b[0m \u001b[0mserver_hostname\u001b[0m \u001b[0;32mis\u001b[0m \u001b[0;32mnot\u001b[0m \u001b[0;32mNone\u001b[0m\u001b[0;34m:\u001b[0m\u001b[0;34m\u001b[0m\u001b[0;34m\u001b[0m\u001b[0m\n\u001b[0;32m--> 345\u001b[0;31m             \u001b[0;32mreturn\u001b[0m \u001b[0mcontext\u001b[0m\u001b[0;34m.\u001b[0m\u001b[0mwrap_socket\u001b[0m\u001b[0;34m(\u001b[0m\u001b[0msock\u001b[0m\u001b[0;34m,\u001b[0m \u001b[0mserver_hostname\u001b[0m\u001b[0;34m=\u001b[0m\u001b[0mserver_hostname\u001b[0m\u001b[0;34m)\u001b[0m\u001b[0;34m\u001b[0m\u001b[0;34m\u001b[0m\u001b[0m\n\u001b[0m\u001b[1;32m    346\u001b[0m \u001b[0;34m\u001b[0m\u001b[0m\n\u001b[1;32m    347\u001b[0m         warnings.warn(\n",
            "\u001b[0;32m/usr/lib/python3.8/ssl.py\u001b[0m in \u001b[0;36mwrap_socket\u001b[0;34m(self, sock, server_side, do_handshake_on_connect, suppress_ragged_eofs, server_hostname, session)\u001b[0m\n\u001b[1;32m    498\u001b[0m         \u001b[0;31m# SSLSocket class handles server_hostname encoding before it calls\u001b[0m\u001b[0;34m\u001b[0m\u001b[0;34m\u001b[0m\u001b[0;34m\u001b[0m\u001b[0m\n\u001b[1;32m    499\u001b[0m         \u001b[0;31m# ctx._wrap_socket()\u001b[0m\u001b[0;34m\u001b[0m\u001b[0;34m\u001b[0m\u001b[0;34m\u001b[0m\u001b[0m\n\u001b[0;32m--> 500\u001b[0;31m         return self.sslsocket_class._create(\n\u001b[0m\u001b[1;32m    501\u001b[0m             \u001b[0msock\u001b[0m\u001b[0;34m=\u001b[0m\u001b[0msock\u001b[0m\u001b[0;34m,\u001b[0m\u001b[0;34m\u001b[0m\u001b[0;34m\u001b[0m\u001b[0m\n\u001b[1;32m    502\u001b[0m             \u001b[0mserver_side\u001b[0m\u001b[0;34m=\u001b[0m\u001b[0mserver_side\u001b[0m\u001b[0;34m,\u001b[0m\u001b[0;34m\u001b[0m\u001b[0;34m\u001b[0m\u001b[0m\n",
            "\u001b[0;32m/usr/lib/python3.8/ssl.py\u001b[0m in \u001b[0;36m_create\u001b[0;34m(cls, sock, server_side, do_handshake_on_connect, suppress_ragged_eofs, server_hostname, context, session)\u001b[0m\n\u001b[1;32m   1038\u001b[0m                         \u001b[0;31m# non-blocking\u001b[0m\u001b[0;34m\u001b[0m\u001b[0;34m\u001b[0m\u001b[0;34m\u001b[0m\u001b[0m\n\u001b[1;32m   1039\u001b[0m                         \u001b[0;32mraise\u001b[0m \u001b[0mValueError\u001b[0m\u001b[0;34m(\u001b[0m\u001b[0;34m\"do_handshake_on_connect should not be specified for non-blocking sockets\"\u001b[0m\u001b[0;34m)\u001b[0m\u001b[0;34m\u001b[0m\u001b[0;34m\u001b[0m\u001b[0m\n\u001b[0;32m-> 1040\u001b[0;31m                     \u001b[0mself\u001b[0m\u001b[0;34m.\u001b[0m\u001b[0mdo_handshake\u001b[0m\u001b[0;34m(\u001b[0m\u001b[0;34m)\u001b[0m\u001b[0;34m\u001b[0m\u001b[0;34m\u001b[0m\u001b[0m\n\u001b[0m\u001b[1;32m   1041\u001b[0m             \u001b[0;32mexcept\u001b[0m \u001b[0;34m(\u001b[0m\u001b[0mOSError\u001b[0m\u001b[0;34m,\u001b[0m \u001b[0mValueError\u001b[0m\u001b[0;34m)\u001b[0m\u001b[0;34m:\u001b[0m\u001b[0;34m\u001b[0m\u001b[0;34m\u001b[0m\u001b[0m\n\u001b[1;32m   1042\u001b[0m                 \u001b[0mself\u001b[0m\u001b[0;34m.\u001b[0m\u001b[0mclose\u001b[0m\u001b[0;34m(\u001b[0m\u001b[0;34m)\u001b[0m\u001b[0;34m\u001b[0m\u001b[0;34m\u001b[0m\u001b[0m\n",
            "\u001b[0;32m/usr/lib/python3.8/ssl.py\u001b[0m in \u001b[0;36mdo_handshake\u001b[0;34m(self, block)\u001b[0m\n\u001b[1;32m   1307\u001b[0m             \u001b[0;32mif\u001b[0m \u001b[0mtimeout\u001b[0m \u001b[0;34m==\u001b[0m \u001b[0;36m0.0\u001b[0m \u001b[0;32mand\u001b[0m \u001b[0mblock\u001b[0m\u001b[0;34m:\u001b[0m\u001b[0;34m\u001b[0m\u001b[0;34m\u001b[0m\u001b[0m\n\u001b[1;32m   1308\u001b[0m                 \u001b[0mself\u001b[0m\u001b[0;34m.\u001b[0m\u001b[0msettimeout\u001b[0m\u001b[0;34m(\u001b[0m\u001b[0;32mNone\u001b[0m\u001b[0;34m)\u001b[0m\u001b[0;34m\u001b[0m\u001b[0;34m\u001b[0m\u001b[0m\n\u001b[0;32m-> 1309\u001b[0;31m             \u001b[0mself\u001b[0m\u001b[0;34m.\u001b[0m\u001b[0m_sslobj\u001b[0m\u001b[0;34m.\u001b[0m\u001b[0mdo_handshake\u001b[0m\u001b[0;34m(\u001b[0m\u001b[0;34m)\u001b[0m\u001b[0;34m\u001b[0m\u001b[0;34m\u001b[0m\u001b[0m\n\u001b[0m\u001b[1;32m   1310\u001b[0m         \u001b[0;32mfinally\u001b[0m\u001b[0;34m:\u001b[0m\u001b[0;34m\u001b[0m\u001b[0;34m\u001b[0m\u001b[0m\n\u001b[1;32m   1311\u001b[0m             \u001b[0mself\u001b[0m\u001b[0;34m.\u001b[0m\u001b[0msettimeout\u001b[0m\u001b[0;34m(\u001b[0m\u001b[0mtimeout\u001b[0m\u001b[0;34m)\u001b[0m\u001b[0;34m\u001b[0m\u001b[0;34m\u001b[0m\u001b[0m\n",
            "\u001b[0;31mKeyboardInterrupt\u001b[0m: "
          ]
        }
      ],
      "source": [
        "model = CrossEncoder('cross-encoder/stsb-distilroberta-base')"
      ]
    },
    {
      "cell_type": "code",
      "execution_count": null,
      "metadata": {
        "id": "GDtEV9uPZe4r"
      },
      "outputs": [],
      "source": [
        "target_post = cleaned_words[2450]\n",
        "sentence_combinations = [[target_post, posting] for posting in cleaned_words]\n",
        "similarity_scores = model.predict(sentence_combinations)\n",
        "\n"
      ]
    },
    {
      "cell_type": "code",
      "execution_count": null,
      "metadata": {
        "colab": {
          "base_uri": "https://localhost:8080/"
        },
        "id": "tTgZhVX2lO96",
        "outputId": "08a586b0-952c-4b1f-e1c5-888e4d434158"
      },
      "outputs": [
        {
          "output_type": "stream",
          "name": "stdout",
          "text": [
            "Top 5 Scores\n",
            "Similarity: 0.9394735097885132, 2450\n",
            "Similarity: 0.8768051862716675, 1662\n",
            "Similarity: 0.8210473656654358, 1806\n",
            "Similarity: 0.8189841508865356, 1255\n",
            "Similarity: 0.8186459541320801, 426\n",
            "Similarity: 0.778357207775116, 2780\n",
            "Similarity: 0.7771926522254944, 2072\n",
            "Similarity: 0.7614189982414246, 2848\n",
            "Similarity: 0.7605374455451965, 2086\n",
            "Similarity: 0.7592994570732117, 425\n"
          ]
        }
      ],
      "source": [
        "sim_scores_argsort = (np.argsort(similarity_scores)[::-1][0:10])\n",
        "\n",
        "print(\"Top 5 Scores\")\n",
        "for idx in sim_scores_argsort:\n",
        "    print(f\"Similarity: {similarity_scores[idx]}, {idx}\")"
      ]
    },
    {
      "cell_type": "code",
      "execution_count": null,
      "metadata": {
        "colab": {
          "base_uri": "https://localhost:8080/",
          "height": 363
        },
        "id": "kV9v9CjMcP9I",
        "outputId": "4c4a5eb0-a472-44f2-c764-f9e79a728bf9"
      },
      "outputs": [
        {
          "output_type": "execute_result",
          "data": {
            "text/plain": [
              "      level_0  index                id  \\\n",
              "2450     2450   2451  6ac50f4702b24459   \n",
              "1662     1662   1662  4aaab6417616eb91   \n",
              "1806     1806   1806  7ded37f0b4c167e7   \n",
              "1255     1255   1255  bc25aba6e6e86d68   \n",
              "426       426    426  a235105419af586e   \n",
              "2780     2780   2781  dd9bff9a92c0f004   \n",
              "2072     2072   2072  e444e686222db7b7   \n",
              "2848     2848   2849  f353711062e84208   \n",
              "2086     2086   2086  e7e719f1f568ea17   \n",
              "425       425    425  a221a4559ab9d3ae   \n",
              "\n",
              "                                     company  \\\n",
              "2450            PNC Financial Services Group   \n",
              "1662        Savings Bank of Mendocino County   \n",
              "1806   US Department of Energy - Agency Wide   \n",
              "1255            Medical College of Wisconsin   \n",
              "426    US Department of Energy - Agency Wide   \n",
              "2780                                 Philips   \n",
              "2072                           Fanatics Inc.   \n",
              "2848       US Office of Personnel Management   \n",
              "2086              Terumo Medical Corporation   \n",
              "425   California Public Utilities Commission   \n",
              "\n",
              "                                            description  \\\n",
              "2450  \n",
              "\n",
              " Position Overview \n",
              " At PNC, our people are ...   \n",
              "1662  \n",
              " JOB DESCRIPTION \n",
              " Job Title: Business System...   \n",
              "1806  \n",
              " \n",
              "  Duties \n",
              "  \n",
              "  \n",
              "   This series covers posit...   \n",
              "1255  \n",
              " Business Intelligence Statistical Analyst’ \n",
              "...   \n",
              "426   \n",
              " \n",
              "  Duties \n",
              "  \n",
              "  \n",
              "   This series covers posit...   \n",
              "2780  \n",
              " Job Title Data Analyst, Complaint Management...   \n",
              "2072  \n",
              " \n",
              "  \n",
              "   Company Overview\n",
              "  \n",
              "   \n",
              "  \n",
              "  \n",
              "    Fan...   \n",
              "2848  \n",
              " \n",
              "  Duties \n",
              "  THIS IS A PUBLIC NOTICE: This N...   \n",
              "2086  \n",
              " \n",
              "  \n",
              "   Terumo Medical Corporation (TMC) deve...   \n",
              "425   \n",
              " \n",
              "  \n",
              "   \n",
              "    \n",
              "     \n",
              "      \n",
              "       \n",
              "        \n",
              " ...   \n",
              "\n",
              "                   location                                       positionName  \n",
              "2450         Pittsburgh, PA  Data Analytics Development Program Analyst/Ass...  \n",
              "1662        Ukiah, CA 95482                           Business Systems Analyst  \n",
              "1806        Idaho Falls, ID                                     Data Scientist  \n",
              "1255    Milwaukee, WI 53226         Business Intelligence Statistical Analyst’  \n",
              "426      Wallops Island, VA                                     Data Scientist  \n",
              "2780    Cambridge, MA 02141                 Data Analyst, Complaint Management  \n",
              "2072          San Mateo, CA                               Data Privacy Analyst  \n",
              "2848        Albuquerque, NM                                     Data Scientist  \n",
              "2086           Somerset, NJ                   Senior Data Analytics Specialist  \n",
              "425   Sacramento County, CA                                     FISCAL ANALYST  "
            ],
            "text/html": [
              "\n",
              "  <div id=\"df-3f9d9341-b9da-4797-abe9-d91f3ef5d824\">\n",
              "    <div class=\"colab-df-container\">\n",
              "      <div>\n",
              "<style scoped>\n",
              "    .dataframe tbody tr th:only-of-type {\n",
              "        vertical-align: middle;\n",
              "    }\n",
              "\n",
              "    .dataframe tbody tr th {\n",
              "        vertical-align: top;\n",
              "    }\n",
              "\n",
              "    .dataframe thead th {\n",
              "        text-align: right;\n",
              "    }\n",
              "</style>\n",
              "<table border=\"1\" class=\"dataframe\">\n",
              "  <thead>\n",
              "    <tr style=\"text-align: right;\">\n",
              "      <th></th>\n",
              "      <th>level_0</th>\n",
              "      <th>index</th>\n",
              "      <th>id</th>\n",
              "      <th>company</th>\n",
              "      <th>description</th>\n",
              "      <th>location</th>\n",
              "      <th>positionName</th>\n",
              "    </tr>\n",
              "  </thead>\n",
              "  <tbody>\n",
              "    <tr>\n",
              "      <th>2450</th>\n",
              "      <td>2450</td>\n",
              "      <td>2451</td>\n",
              "      <td>6ac50f4702b24459</td>\n",
              "      <td>PNC Financial Services Group</td>\n",
              "      <td>Position Overview \n",
              " At PNC, our people are ...</td>\n",
              "      <td>Pittsburgh, PA</td>\n",
              "      <td>Data Analytics Development Program Analyst/Ass...</td>\n",
              "    </tr>\n",
              "    <tr>\n",
              "      <th>1662</th>\n",
              "      <td>1662</td>\n",
              "      <td>1662</td>\n",
              "      <td>4aaab6417616eb91</td>\n",
              "      <td>Savings Bank of Mendocino County</td>\n",
              "      <td>JOB DESCRIPTION \n",
              " Job Title: Business System...</td>\n",
              "      <td>Ukiah, CA 95482</td>\n",
              "      <td>Business Systems Analyst</td>\n",
              "    </tr>\n",
              "    <tr>\n",
              "      <th>1806</th>\n",
              "      <td>1806</td>\n",
              "      <td>1806</td>\n",
              "      <td>7ded37f0b4c167e7</td>\n",
              "      <td>US Department of Energy - Agency Wide</td>\n",
              "      <td>Duties \n",
              "  \n",
              "  \n",
              "   This series covers posit...</td>\n",
              "      <td>Idaho Falls, ID</td>\n",
              "      <td>Data Scientist</td>\n",
              "    </tr>\n",
              "    <tr>\n",
              "      <th>1255</th>\n",
              "      <td>1255</td>\n",
              "      <td>1255</td>\n",
              "      <td>bc25aba6e6e86d68</td>\n",
              "      <td>Medical College of Wisconsin</td>\n",
              "      <td>Business Intelligence Statistical Analyst’ \n",
              "...</td>\n",
              "      <td>Milwaukee, WI 53226</td>\n",
              "      <td>Business Intelligence Statistical Analyst’</td>\n",
              "    </tr>\n",
              "    <tr>\n",
              "      <th>426</th>\n",
              "      <td>426</td>\n",
              "      <td>426</td>\n",
              "      <td>a235105419af586e</td>\n",
              "      <td>US Department of Energy - Agency Wide</td>\n",
              "      <td>Duties \n",
              "  \n",
              "  \n",
              "   This series covers posit...</td>\n",
              "      <td>Wallops Island, VA</td>\n",
              "      <td>Data Scientist</td>\n",
              "    </tr>\n",
              "    <tr>\n",
              "      <th>2780</th>\n",
              "      <td>2780</td>\n",
              "      <td>2781</td>\n",
              "      <td>dd9bff9a92c0f004</td>\n",
              "      <td>Philips</td>\n",
              "      <td>Job Title Data Analyst, Complaint Management...</td>\n",
              "      <td>Cambridge, MA 02141</td>\n",
              "      <td>Data Analyst, Complaint Management</td>\n",
              "    </tr>\n",
              "    <tr>\n",
              "      <th>2072</th>\n",
              "      <td>2072</td>\n",
              "      <td>2072</td>\n",
              "      <td>e444e686222db7b7</td>\n",
              "      <td>Fanatics Inc.</td>\n",
              "      <td>Company Overview\n",
              "  \n",
              "   \n",
              "  \n",
              "  \n",
              "    Fan...</td>\n",
              "      <td>San Mateo, CA</td>\n",
              "      <td>Data Privacy Analyst</td>\n",
              "    </tr>\n",
              "    <tr>\n",
              "      <th>2848</th>\n",
              "      <td>2848</td>\n",
              "      <td>2849</td>\n",
              "      <td>f353711062e84208</td>\n",
              "      <td>US Office of Personnel Management</td>\n",
              "      <td>Duties \n",
              "  THIS IS A PUBLIC NOTICE: This N...</td>\n",
              "      <td>Albuquerque, NM</td>\n",
              "      <td>Data Scientist</td>\n",
              "    </tr>\n",
              "    <tr>\n",
              "      <th>2086</th>\n",
              "      <td>2086</td>\n",
              "      <td>2086</td>\n",
              "      <td>e7e719f1f568ea17</td>\n",
              "      <td>Terumo Medical Corporation</td>\n",
              "      <td>Terumo Medical Corporation (TMC) deve...</td>\n",
              "      <td>Somerset, NJ</td>\n",
              "      <td>Senior Data Analytics Specialist</td>\n",
              "    </tr>\n",
              "    <tr>\n",
              "      <th>425</th>\n",
              "      <td>425</td>\n",
              "      <td>425</td>\n",
              "      <td>a221a4559ab9d3ae</td>\n",
              "      <td>California Public Utilities Commission</td>\n",
              "      <td>...</td>\n",
              "      <td>Sacramento County, CA</td>\n",
              "      <td>FISCAL ANALYST</td>\n",
              "    </tr>\n",
              "  </tbody>\n",
              "</table>\n",
              "</div>\n",
              "      <button class=\"colab-df-convert\" onclick=\"convertToInteractive('df-3f9d9341-b9da-4797-abe9-d91f3ef5d824')\"\n",
              "              title=\"Convert this dataframe to an interactive table.\"\n",
              "              style=\"display:none;\">\n",
              "        \n",
              "  <svg xmlns=\"http://www.w3.org/2000/svg\" height=\"24px\"viewBox=\"0 0 24 24\"\n",
              "       width=\"24px\">\n",
              "    <path d=\"M0 0h24v24H0V0z\" fill=\"none\"/>\n",
              "    <path d=\"M18.56 5.44l.94 2.06.94-2.06 2.06-.94-2.06-.94-.94-2.06-.94 2.06-2.06.94zm-11 1L8.5 8.5l.94-2.06 2.06-.94-2.06-.94L8.5 2.5l-.94 2.06-2.06.94zm10 10l.94 2.06.94-2.06 2.06-.94-2.06-.94-.94-2.06-.94 2.06-2.06.94z\"/><path d=\"M17.41 7.96l-1.37-1.37c-.4-.4-.92-.59-1.43-.59-.52 0-1.04.2-1.43.59L10.3 9.45l-7.72 7.72c-.78.78-.78 2.05 0 2.83L4 21.41c.39.39.9.59 1.41.59.51 0 1.02-.2 1.41-.59l7.78-7.78 2.81-2.81c.8-.78.8-2.07 0-2.86zM5.41 20L4 18.59l7.72-7.72 1.47 1.35L5.41 20z\"/>\n",
              "  </svg>\n",
              "      </button>\n",
              "      \n",
              "  <style>\n",
              "    .colab-df-container {\n",
              "      display:flex;\n",
              "      flex-wrap:wrap;\n",
              "      gap: 12px;\n",
              "    }\n",
              "\n",
              "    .colab-df-convert {\n",
              "      background-color: #E8F0FE;\n",
              "      border: none;\n",
              "      border-radius: 50%;\n",
              "      cursor: pointer;\n",
              "      display: none;\n",
              "      fill: #1967D2;\n",
              "      height: 32px;\n",
              "      padding: 0 0 0 0;\n",
              "      width: 32px;\n",
              "    }\n",
              "\n",
              "    .colab-df-convert:hover {\n",
              "      background-color: #E2EBFA;\n",
              "      box-shadow: 0px 1px 2px rgba(60, 64, 67, 0.3), 0px 1px 3px 1px rgba(60, 64, 67, 0.15);\n",
              "      fill: #174EA6;\n",
              "    }\n",
              "\n",
              "    [theme=dark] .colab-df-convert {\n",
              "      background-color: #3B4455;\n",
              "      fill: #D2E3FC;\n",
              "    }\n",
              "\n",
              "    [theme=dark] .colab-df-convert:hover {\n",
              "      background-color: #434B5C;\n",
              "      box-shadow: 0px 1px 3px 1px rgba(0, 0, 0, 0.15);\n",
              "      filter: drop-shadow(0px 1px 2px rgba(0, 0, 0, 0.3));\n",
              "      fill: #FFFFFF;\n",
              "    }\n",
              "  </style>\n",
              "\n",
              "      <script>\n",
              "        const buttonEl =\n",
              "          document.querySelector('#df-3f9d9341-b9da-4797-abe9-d91f3ef5d824 button.colab-df-convert');\n",
              "        buttonEl.style.display =\n",
              "          google.colab.kernel.accessAllowed ? 'block' : 'none';\n",
              "\n",
              "        async function convertToInteractive(key) {\n",
              "          const element = document.querySelector('#df-3f9d9341-b9da-4797-abe9-d91f3ef5d824');\n",
              "          const dataTable =\n",
              "            await google.colab.kernel.invokeFunction('convertToInteractive',\n",
              "                                                     [key], {});\n",
              "          if (!dataTable) return;\n",
              "\n",
              "          const docLinkHtml = 'Like what you see? Visit the ' +\n",
              "            '<a target=\"_blank\" href=https://colab.research.google.com/notebooks/data_table.ipynb>data table notebook</a>'\n",
              "            + ' to learn more about interactive tables.';\n",
              "          element.innerHTML = '';\n",
              "          dataTable['output_type'] = 'display_data';\n",
              "          await google.colab.output.renderOutput(dataTable, element);\n",
              "          const docLink = document.createElement('div');\n",
              "          docLink.innerHTML = docLinkHtml;\n",
              "          element.appendChild(docLink);\n",
              "        }\n",
              "      </script>\n",
              "    </div>\n",
              "  </div>\n",
              "  "
            ]
          },
          "metadata": {},
          "execution_count": 257
        }
      ],
      "source": [
        "df.iloc[sim_scores_argsort].head(10)"
      ]
    },
    {
      "cell_type": "code",
      "execution_count": null,
      "metadata": {
        "colab": {
          "base_uri": "https://localhost:8080/"
        },
        "id": "03M5A5WS-BIY",
        "outputId": "04054caf-0281-42ba-8df2-b3c5bd1c190e"
      },
      "outputs": [
        {
          "output_type": "stream",
          "name": "stdout",
          "text": [
            "[584, 2445, 497]\n"
          ]
        }
      ],
      "source": [
        "print(ind3) #5 most similar from cosine similarity with data preporcessing"
      ]
    },
    {
      "cell_type": "markdown",
      "metadata": {
        "id": "Zr1IXQBq-aP7"
      },
      "source": [
        "There is a large variation between the document similarity outputs when using the cross encoder versus data preprocessing with cossine similarity and TFIDF. There is no way of measuring which solution is better without the target variable to it is left to user disccretion which one is preferred (if goal is stil job optimization). "
      ]
    },
    {
      "cell_type": "markdown",
      "metadata": {
        "id": "E6nb8twIcQk_"
      },
      "source": [
        "### Topic Modeling"
      ]
    },
    {
      "cell_type": "markdown",
      "metadata": {
        "id": "Xm4DyUrvrbky"
      },
      "source": [
        "Greate article for helping with topic modeling BERT:\n",
        "https://towardsdatascience.com/topic-modeling-with-bert-779f7db187e6"
      ]
    },
    {
      "cell_type": "code",
      "execution_count": null,
      "metadata": {
        "id": "MugPENgmcV9g"
      },
      "outputs": [],
      "source": [
        "!pip install bertopic\n",
        "!pip install --upgrade joblib==1.1.0 #must use older version to fix dependency issue with HDBSCAN\n",
        "from bertopic import BERTopic"
      ]
    },
    {
      "cell_type": "markdown",
      "source": [
        "I chose to remove the words below because they are either words for the header, vague, or don't relate to the job at all. For example, Qualification is probably a header, demonstrte is very vague, and dental likely refers to the benefits package. "
      ],
      "metadata": {
        "id": "arNcTXnx2_EO"
      }
    },
    {
      "cell_type": "code",
      "source": [
        "!pip install geonamescache"
      ],
      "metadata": {
        "colab": {
          "base_uri": "https://localhost:8080/"
        },
        "id": "AuWWTnPQA6wI",
        "outputId": "6d78b8f0-a1fc-4381-e54b-e6099fa28504"
      },
      "execution_count": null,
      "outputs": [
        {
          "output_type": "stream",
          "name": "stdout",
          "text": [
            "Looking in indexes: https://pypi.org/simple, https://us-python.pkg.dev/colab-wheels/public/simple/\n",
            "Collecting geonamescache\n",
            "  Downloading geonamescache-1.5.0-py3-none-any.whl (26.4 MB)\n",
            "\u001b[K     |████████████████████████████████| 26.4 MB 2.7 kB/s \n",
            "\u001b[?25hInstalling collected packages: geonamescache\n",
            "Successfully installed geonamescache-1.5.0\n"
          ]
        }
      ]
    },
    {
      "cell_type": "code",
      "source": [
        "word_removal = ['data','skill','requirement','candidate','disability','relate','insight','gender','qualification','stakeholder',\n",
        " 'diverse','diversity','demonstrate','familiarity', 'preferred', 'conduct','bachelor', 'employer','dental', 'familiarity', 'salary', \n",
        " 'reliably','prefer','proficiency', 'memorial','verification','talent','flexible', 'analyze', 'assist','collaborate','analytic','analytical','analyst', 'aota', \n",
        " 'hawai', 'covid', 'xometry', 'usajob', 'usa', 'ef', 'sf','proficient', 'foxtrot','cmb', 'nielseniq','walgreen','phd'] \n"
      ],
      "metadata": {
        "id": "-s5sw_vdbGT8"
      },
      "execution_count": null,
      "outputs": []
    },
    {
      "cell_type": "code",
      "source": [
        "for i in range(len(cleaned_words)):\n",
        "  temp = []\n",
        "  for word in word_tokenize(cleaned_words[i]):\n",
        "    if word not in word_removal:\n",
        "      temp.append(word)\n",
        "  cleaned_words[i] = \" \".join(temp)"
      ],
      "metadata": {
        "id": "ocYg-i30xBl-"
      },
      "execution_count": null,
      "outputs": []
    },
    {
      "cell_type": "code",
      "source": [
        "cleaned_words[0]"
      ],
      "metadata": {
        "colab": {
          "base_uri": "https://localhost:8080/",
          "height": 36
        },
        "id": "H9LqgCv5yGcg",
        "outputId": "509d73a6-c7e4-469f-c3ee-718211414b5e"
      },
      "execution_count": null,
      "outputs": [
        {
          "output_type": "execute_result",
          "data": {
            "text/plain": [
              "'responsibilitie berlin dubai mumbai singapore jakarta seoul tokyo nlp ml intelligent graph participate ai participate spu construct nlp python tensorflow pytorch aware familiar dnn lstm cnn lda word2vec elmo gpt bert hadoop spark hive flink'"
            ],
            "application/vnd.google.colaboratory.intrinsic+json": {
              "type": "string"
            }
          },
          "metadata": {},
          "execution_count": 335
        }
      ]
    },
    {
      "cell_type": "markdown",
      "metadata": {
        "id": "MBRemNZNtvFI"
      },
      "source": [
        "### First Model and Visualization Walk through"
      ]
    },
    {
      "cell_type": "code",
      "execution_count": null,
      "metadata": {
        "colab": {
          "base_uri": "https://localhost:8080/"
        },
        "id": "PccSU4_egoce",
        "outputId": "1e26f7c1-7b05-49d7-ba7d-d1e3577b5436"
      },
      "outputs": [
        {
          "output_type": "stream",
          "name": "stderr",
          "text": [
            "Some weights of the model checkpoint at distilbert-base-cased were not used when initializing DistilBertModel: ['vocab_projector.weight', 'vocab_transform.weight', 'vocab_projector.bias', 'vocab_layer_norm.weight', 'vocab_transform.bias', 'vocab_layer_norm.bias']\n",
            "- This IS expected if you are initializing DistilBertModel from the checkpoint of a model trained on another task or with another architecture (e.g. initializing a BertForSequenceClassification model from a BertForPreTraining model).\n",
            "- This IS NOT expected if you are initializing DistilBertModel from the checkpoint of a model that you expect to be exactly identical (initializing a BertForSequenceClassification model from a BertForSequenceClassification model).\n"
          ]
        }
      ],
      "source": [
        "from bertopic import BERTopic\n",
        "from transformers.pipelines import pipeline\n",
        "embedding_model = pipeline(\"feature-extraction\", model=\"distilbert-base-cased\")\n",
        "topic_model = BERTopic(embedding_model=embedding_model, top_n_words=10, diversity = 0.1) #diversity score calculated t for non-diverse words\n",
        "topics, probs = topic_model.fit_transform(cleaned_words[0:1000])\n"
      ]
    },
    {
      "cell_type": "code",
      "execution_count": null,
      "metadata": {
        "colab": {
          "base_uri": "https://localhost:8080/"
        },
        "id": "TfJd6nUxtmTE",
        "outputId": "143f8bab-22bc-4652-b462-898475195348"
      },
      "outputs": [
        {
          "output_type": "execute_result",
          "data": {
            "text/plain": [
              "[('sql', 0.029019618000261756),\n",
              " ('dis', 0.028849722157235864),\n",
              " ('durham', 0.027973070028414832),\n",
              " ('python', 0.021795813566449506),\n",
              " ('agile', 0.019989837762459852),\n",
              " ('roi', 0.018861514944723524),\n",
              " ('pangle', 0.018784713865636904),\n",
              " ('kpis', 0.01835182517182756),\n",
              " ('dutie', 0.0177615045745281),\n",
              " ('singapore', 0.01730983329434152)]"
            ]
          },
          "metadata": {},
          "execution_count": 334
        }
      ],
      "source": [
        "topic_model.get_topic(0)"
      ]
    },
    {
      "cell_type": "markdown",
      "source": [
        "This is very challenging to read so we will try two more topic modeling/ clustering techniques. "
      ],
      "metadata": {
        "id": "0f3wHJUj58A8"
      }
    },
    {
      "cell_type": "code",
      "execution_count": null,
      "metadata": {
        "colab": {
          "base_uri": "https://localhost:8080/",
          "height": 767
        },
        "id": "hiWFxGoSfMk_",
        "outputId": "83e54433-7f0b-4143-ec7d-1f71ede84fa6"
      },
      "outputs": [
        {
          "output_type": "display_data",
          "data": {
            "text/html": [
              "<html>\n",
              "<head><meta charset=\"utf-8\" /></head>\n",
              "<body>\n",
              "    <div>            <script src=\"https://cdnjs.cloudflare.com/ajax/libs/mathjax/2.7.5/MathJax.js?config=TeX-AMS-MML_SVG\"></script><script type=\"text/javascript\">if (window.MathJax) {MathJax.Hub.Config({SVG: {font: \"STIX-Web\"}});}</script>                <script type=\"text/javascript\">window.PlotlyConfig = {MathJaxConfig: 'local'};</script>\n",
              "        <script src=\"https://cdn.plot.ly/plotly-2.8.3.min.js\"></script>                <div id=\"feedd06e-8664-4765-8ce4-416791420f3a\" class=\"plotly-graph-div\" style=\"height:750px; width:1200px;\"></div>            <script type=\"text/javascript\">                                    window.PLOTLYENV=window.PLOTLYENV || {};                                    if (document.getElementById(\"feedd06e-8664-4765-8ce4-416791420f3a\")) {                    Plotly.newPlot(                        \"feedd06e-8664-4765-8ce4-416791420f3a\",                        [{\"hoverinfo\":\"text\",\"hovertext\":[\"I servicenow analyst servicenow servicenow analyst consultant itsm servicenow itsm app assisting scrum servicenow itsm servicenow advise servicenow itsm itsm servicenow itsm discovery servicenow agile juggle itsm ultimate itil servicenow itsm oob itsm\",\"hermann hermann amazing billing analyst hermann cycle desire cycle cycle certification icd cpt proficient hermann principal accountabilitie communicate discharge prepare prepare hermann\",\"carefully python sql d3 etl python nlp docker git passion bs mathematics mathematics ph\",\"deposit portfolio analyst deposit specialist prepare comply secrecy ofac patriot identification vp deposit ge analyst bi tableau proficient excel\",\"saas dna certify analyst analyst cis cis analyst implement cis anticipate participate attend exceptional proficient excel visio passion saving hsa spending fsas pto coach bizlibrary eap saas cis workforce mwm interchange edi engagement\",\"netflix walmart csgso csg csg additionally csg tableau sql sr csg coordinate tableau salesforce contribute bs compute tableau salesforce sql sql keen li li do2 covid consistent li\",\"gs telework occasional relocation appointment permanent competitive promotion supervisory moderate credentiale suitability announcement hrsc eap bureau multilateral affair eap mla eap citizen oversee eap mla southeast asean asean asean mekong asean coordinate eap rsp eap acquisition aqm grants aqm contracting citizenship incumbent successfully verify verify verify applicant applicant gs qualifying gs accessibility oaa bureaus telework evaluate applicant qualified qualified qualified qualified veteran qualify qualified opm fed vet interagency transition ctap ictap ctap ictap ctap ictap opm transition qualify resume veteran preference dd discharge sf veteran preference dd veterans affair sf sf sole survivorship dd dd veteran vow usajob ictap ctap rif rif sf ictap ctap prepare usajob usajobs instruction alternate\",\"analyst portfolio analytics asset portfolio aggregate asset seek mastery excel sql bi bi python li li hybrid\",\"analyst mining dmg analyst grange ky compensation effectively sql utilize continuously excel sql proactive occasional rawling mining rawling caring integrity excellence innovation inclusion honor veteran\",\"analyst mercy christ pto facilitate kpis audits analyst healthcare analyst mercy\",\"hinesville savannah statesboro southeast carnegie doctoral r2 forbes midsize statesboro mathematical mathematical statesboro semester distribute shift propose attach resume consistently adhere institutional applicant bylaw regents bor usg legally tobacco smoke americans inclusive excellence inclusive excellence\",\"biointellisense biointellisense rpm covid infection daas fda biosticker biobutton biointellisense biointellisense rocky redwood scientist python depend implement python propose contribute phd mathematics statistic informatic python competency databrick cloud excel powerpoint exempt expectation redwood biointellisense biointellisense biointellisense std biointellisense\",\"fphnyc yorker hygiene dohmh fphnyc dohmh bureau equitable behs wellness checw nyc hygiene checw nyc behs healthcare innovation hsis behs nyc nyc nyc healthcare analyst bureau equitable healthcare analyst medicaid healthcare analyst healthcare analyst hub mdland repository rhio medicaid sql liaise liaise bureau equitable participate coordinate sas sql spss python medicaid willingness willing competency excel powerpoint fphnyc dohmh dohmh nyc resume applicant\",\"portfolio analyst pentagon arlington saf iar directorate loa execution fms tscmis conop tscmis coordinate usaf majcom saf ia majcom geographic combatant usaf majcom saf ia cooperation loa saf ia majcom dod fms tscmis conop usaf fms cooperation usaf saf ia usg aap eeo qualify cjpost\",\"nnl nnl navy intermediate\",\"ll drs bcg bcg drs citizenship bcg covid bcg bcg hiring ll drs drs\",\"analyst rush admission rmc prog rmc shift specialty analyst admission counselor rush rush rush midw rush rush analyst admission counselor ideal admission rush rush highlight pto utilize amcas rush secondary counsel daca accurately rush admission msar dean admission recruitment integrate analyst cym liaise rush aamc aamc amcas establish rush secondary integrate prove proficient highlight rush midw chicagoland rush rush rush rush\",\"reinvent geospatial rgi devop geospatial rgi ai ml engineer ml coordinate gis transform ml python javascript arcpy etl ui extensive ml tensorflow pytorch superb desire esri ecosystem esri atlas dlpk agile devop geospatial clearance clearance reinvent geospatial rgi immediate escalate referral tuition catered reinvent geospatial citizenship\",\"eurofin eurofin eurofins cro cdmo eurofins nante eurofin eurofins gmp glp sops glp gmp glp gmp verify diagnose troubleshoot sop omc ideal authorization portage eurofin disabled veteran affirmative eurofin disabled veteran affirmative\",\"scientist elk grove duration tableau sql elk grove python sql\",\"spatial agile translate translate qa sdlc fundamental sdlc qa proficient visio sharepoint holder citizen opt certification sfi sfi eoe vet spatial verify\",\"headquartered dataiku capitalg tiger iconiq ai dataiku dataiku dss dss commute excel tableau bi ai superior intellectual desirable mathematic si deloitte booz allen saic leidos peraton python sql etl artificial exposure dataiku competitive dataiku dataiku everyday ai ai dataiku don fly instagram dataiku\",null,\"analyst controller analyst controller controller prepare office365 excel mri yardi prove\",\"analyst advocacy classification exempt ecic analyst analyst analyst ecic ecic ecic lanse ecic analyst analyst ecic ecic moonshot ecic collect azure skilled capability exceptional energetic ecic ecic eeo\",\"reinventing tomorrow ai engineer dutie ts sci poly sql python desire phd copier shredder attendance attendance groom affirmative eeo\",\"ncire veterans ncire veteran veteran veteran analyst ucsf sfvahcs pulmonary principal investigator pi pi pi cox communicate statistic cox python sas sql nor1032ncire jobboard opportunitydetailopportunityid dataa001291 analyst ncire ordinance ncire principal recruiter excel\",\"biomedical scientist requisition re33689 opioid invstmnt lexington ky certification shift utilize sql covid cms covid statistical ye phd statistical deadline inclusion tobacco\",\"visualization specialist tableau assisting etl champion sql sql oracle bigquery spread integrate tableau bi tableau tableau utilize tableau prep contribute bi\",\"analyst analyst generate respond workplace huntington tobacco hiring huntington huntington recruiter\",\"spartannash I spartannash spartannash operational excellence kingwood norfolk evaluate consult sox participate sox sox proficient excel powerpoint sql reasonable spartannash veteran spartannash reward spartannash\",\"adt weareadt adt adt sr analyst okr bi bi tableau utilize sql python oversee mathematics statistic behavioral sql tableau bi bi python python numpy bigquery snowflake azure sql aws agile scrum kanban jira confluence salesforce cloud\",\"python ml engineer ai nlp python ml engineer python sql aw competitive generous pto\",\"datastream datastream datastream msp cyber scientist scientist responsibilitie cleaning continually spacy tensorflow keras demonstrable exposure capability cyber bayesian keras pytorch tensor cloud gcp databrick delta spending unlimited pto vaccine datastream covid datastream datastream applicant\",\"advisory nc3 nc3 nc3 chairman cjcs deputy depsecdef nc3 cdrusstratcom deterrence nc3\",\"scientist undertake combine propose prove scientist analyst sql python scala tableau hadoop bsc ba python sql\",\"threat scientist hybrid nm tn afc afc laundering sanction embargo fraud bribery corruption investigation competitive nm tn db muse laundering scientist quantitative analyst statistic etl sql python graph veteran disabled eeo polygraph transparency nondiscrimination provision\",\"zuck erie hbks wealth advisor hbks hbks wealth advisor hbk cpas consultant hbk hbk hbks hbks wealth advisor specialist qualified responsibilitie specialist independently prepare competitive compensation incentive bonus anniversary bonus affordable affordable accidental illness tuition reimbursement hbks I denver I recruit coordinator I\",\"algorithmic trader desire passion python bs phd\",\"analyst consultant charlotte winston salem minneapolis mn chandler analyst receivables\",\"clearance ts sci poly mclean requisition analyst analyst citizenship ts sci scope polygraph certification python willingness metro desire sql oracle sql excel\",\"trackingcrm reportingoperational suit skillsextensive bi dashboard prompt dax sharepoint powerapp automate json automate sql desiredexperience rosemead json bi\",\"qts continuity analyst continuity disaster continuity disaster additionally qts qts lob collect evaluate liaise qts notification liaise qts continuity exist continuity cbci cbcp iso soc2 hitrust iso23001 genetic\",\"stat analyst duration monthslocation sas python sas sas logical python pharma sas sas gcp ich fda iso pharmaceutical strict statistic mathematic sas python irvine sas python\",\"conversational ai groovy stanford classifier groovy groovy conversational ai stanford classifier\",\"gws segment menlo prepare workplace liaise prepare engage architectural vendor attend facilitate evaluate identifie transition sustain sme supervisory coordinate reasonable ba bs autocad cafm interior certification leed reasoning proficient cad cafm powerpoint excel visio familiar scope covid covid\",\"junior analystnationally sorrelli applicant applicant mathematic statistic excel gather excel mathematic statistic kutztown\",\"analyst analyst attend transform coordinate sharepoint identifie sop excel excel analyst excel tableau jira referral tuition excel\",\"analyst analyst analyst telecommunication salesforce salesforce analyst salesforce recognize evaluate architect salesforce salesforce administrator salesforce supervise uat regression salesforce certification iiba certify cbap agile proficient vietnam woodlands relocation k6bnycbxr5\",\"glbhc analyst analyst analyst pcmh audits actively saginaw evaluate extract specification licensure lgbtq\",\"asd certify analyst responsibilitie modify generate bcba competitive pto gratifying commensurate supervisory certification bcba\",\"analyst barne establish barne albert laura barne celebrate barne impressionist suzanne valadon sir isaac julien responsibilitie competency collect barne scan integrity confirm coordinate acme acoustic salesforce raiser raiser raiser nxt salesforce omatic tessitura altru sql skilled excel competitive qualify polygraph verify barne covid\",\"tender analyst rfqs tender rfq interact rfq continuously rfq rfq tender timeliness prepare americas submission tender compile outlook excel revise dutie eeoc americans reasonable\",\"analyst locatioin expectation analyst dutie qualifiation\",\"telecom invoice analyst ponte vedra telecom carrier manually nocatee exceptional exceptional excel prove telecommunication auditing wade ponte vedra pickup marketside ponte vedra excel\",\"certify analyst bcba psychology certify bcba ceo dtt excel outlook lift bcba bcba technician bts technician rbts intervention bts rbts rbt trainer facilitate aba bcba ongoing bts rbt aba rethink adjust bip rethink bts rbt utilize rethink bcba\",\"quantitative biomedical qbrc utsw scientist computational postdoctoral fellow bioinformatic biostatistic utsw ut southwestern python perl qbrc deadline ut southwestern affirmative referral retirement tuition supplemental bonus doctorate\",\"analyst cgi analyst cgi interact collect collect computational modeling mathematic statistic excel sql involvement exposure cgi cgi competitive eligibility spp participation generous cgi cgi cgi cgi qualified cgi cgi cgi cgi cgi cgi\",\"dealer novi hexagon manufacture analyst novi hexagon analyst crm erp collect crm salesforce crm consult salesforce salesforce interact sfdc servicemax visualization bi app tableau excel powerpoint crm salesforce exceptional spending fsa generous pto tuition reimbursement hexagon metrology vet verify participant hexagon hexagon hexagon hexagon nasdaq stockholm hexa hexagonab applicant hexagon metrology rehabilitation vietnam veterans readjustment I americans\",\"analyst collect hris translate consult prepare psychology proficient proficient hris comfortable tsco fortune tsc saving\",\"financlial robotic rpa gather specification visio oracle sql\",\"covid extract translate excel powerpoint tableau communicate succeed intermediate excel tableau sql exceptional perk generous attendance tuition expose indhigh\",\"curious practical collaborative organize scientist python scala julia matlab spark hadoop charlottesville meaningful inclusive collaboration commitment enthusiasm efficiency meritocracy affirmative verify\",\"mdhhs mdhhs inclusion departmental analyst trainee vital statistic dvrh statistic nch vital vital departmental analyst p11 analyst vital statistic dvrh statistic nch vital vital departmentalanalyst neogov instruction possession departmental analyst departmental analyst departmental analyst p11 dvrhs edrs vera cpr br br vr excel alternate departmental analyst departmental trainee ecp e9 e10 e11 ecp ecp ecp ecp paraprofessional substitution occasional lanse mbps mbps suitable mdhhsvacancie linkedin mdhhsjob mdhhsjob veteranfriendly careerswithpurpose communityheroes mdhhs veteran mvaa veteran eve eve veterans ppo hmos deductible hsa spending fsa qualify fringe qtfb parental deferred compensation retirement retirement db contribution healthcare retirement\",\"certify analyst bcbas triad bcbas asd rbts supervision bacb fba rbt coordinate uphold bacb balloon attend balloon hipaa certify analyst bcba completion bcba competitive referral bonus quarterly bonus balloon aba autism spectrum disorder asd balloon aba balloon\",\"regulatory scientist regulation regulation regulatory scientist regulation regulation sql tableau python performing facilitate regulation tableau establish sql python exposure hadoop hive spark excel exposure agile crisp dm tableau transform\",\"aeronautics nasa npp nov22 gsfc earthsci deadline goddard greenbelt advisor weijia kuang weijia kuang designate permanent resident designate eligibility citizen lawful permanent resident lpr visitor applicant lpr ead I I eligibility doctoral\",\"thoroughly approve leverage initiates accurately adapt verifie identifie irs guideline modify endowment coordinate prepare irs criterion prove cite certification cpa extend\",\"absc uvm uvm analyst excel analyst absc absc analyst absc exceptional desirable peoplesoft\",\"collateral analyst collateral analyst sfg sfg excel monarch modeler sfg exhibit possess participate secrecy borrowing stuckynet sfg borrowing modeler stucky borrower borrowing stucky fiserv nsf fiserv stucky fiserv stucky fiserv initiate establish sfg portfolio portfolio stucky fiserv stucky sfg attend prepare portfolio participation participate\",\"predictive modeler transform predictive modeler pto tuition reimbursement mathematic actuarial statistic exploratory conducting sas sql python utilize excel powerpoint prezi manipulating formulate manipulating utilize excel powerpoint predictive sas sql python teach represent communicate mathematics actuarial statistic casualty predictive aaa midwest southeast aaa operational aaa federation acg compensation acg acg acg reasonable\",\"analyst supervisor exempt approve partnering ownership integrity stewardship oasis oasis furthermore behavioral ownership unsatisfie celebrate constructively contribute integrity consistently stewardship strive strengthen hschd analyst gathering emr satisfaction communicate accurately reasonable analyst extensive conflict recruiting mathematical reasoning bls proficient reasonable reasonable\",\"statistical analyst victim statistic cvst analyst analyst cvst analyst victim accountability constitution screening delinquent sle grievance affirmative eeop utilization forgiveness retirement defer compensation\",\"actuarial analyst bloomington actuarial analyst casualty actuarial bloomington ill bloomington actuarial analyst pursue casualty actuarial casualty actuarial acas actuarial casualty actuarial intermediate\",\"ml technique ml linear logistic rf xgboost ensemble nlp dl tensor pytorch keras algorithms dl rnn rnn lstm cnns autoencoders python sql visualization tableau matplotlib plotly cloud ml aws azure gcp ml deploy implement recalibrate regard sindhu yadav\",\"usajobs indeed scientist dutie\",\"ai hat curiosity scientist implement incorporate python tensorflow agile communicating evaluating cambridge expertise python python sas scala exposure sas spss matlab expertise exposure cloud aws azure cloud exposure agile initiative consult covid ai restlessly fortune cloud covid ai\",\"mear quanta mear analyst pca controller gaap analyst stellar controller billing competitive retirement excel quickbase frequency semi compensation pto dot cfr cfr\",\"omaha excel bi excel optimize facilitate communicate respond calculate calculate tuition\",\"analyst utilize coordinate math actuarial excel sql vba passion authorization sponsorship f1 opt f1 cpt tn nonimmigrant worker immigrant ethic principal investor ethic principal principal linkedin hashtag li\",\"kin kin kin builtin sized forbe startup kin scientist engineer kin engineer ml op sql looker I statistic mathematics python sql passion pto parental insurtech kin kin kin forbes eeoc kin affirmative kin li\",\"scientist scientist engineer ba bs math physics statistic python sql agility construct bonus sql experiencewe citibike vaccine covid booster perk competitive unlimited citibike frequent winfocus thingsshow don tellbe inclusivemake impactstrive discrimination\",\"analyst dutie evaluate sop excel preference sas excel powerpoint visio outlook sharepoint gpa centennial centennial transit centennial\",\"analyst responsibilitie participate interact independently hyperion tableau fluent fleet supplemental sick payroll deposit tuition reimbursement referral platinum opportunitie talentacquisition\",\"amp amp pmo culver curious listening naturally jira zenhub wrike keynote excel anticipate slack contribute pmo excellence pmo empow scrum agile\",\"covid lockheed covid lockheed covid lockheed lockheed lockheed citizen desire proficient lockheed affirmative lockheed lockheed lockheed internationally\",\"locate spending saving ch wellness generous retirement gym tuition reimbursement adoption shift differential perk healthcare analyst I coordinate healthcare analyst adhere possess evaluate gather summarize ch covid proficient desire sql powerbi certification epic cogito fundamental epic sensory occasional frequent continuous sensory sit shoulder specify specify specify climbing specify specify pull push specify pull push specify pull push specify lifting specify lifting specify lift specify specify specify specify crawl kneeling specify bend stoop crouch specify twisting turning specify repetitive specify classification flsa exempt hourly exposure unprotecte mechanical hazard hazardous substance borne pathogen exposure noise ionizing ionize radiation infectious\",\"coca cola beverages coca cola coca cola coca cola monster beverage bodyarmor deloitte reward wellness supplemental tuition eap competitive analyst tampa analyst pgm bpm proactively mathematic excel pivot vlookup tableau bi proficient powerpoint visio effortlessly dedication excel sql statistical margin minder salient miner sharepoint operational coca cola beverage\",\"math actuarial kcl oaic coordinate kcl oaic kcl oaic tuition\",\"entegris inspire innovate entegris pace accountability creativity excellence entegris op excellence ml ai trait sql python cloud kpis entegris entegris entegris entegris covid entegris covid\",\"statistical programmer analyst biostatistic requisition milwaukee implement extract generate abilities sas mcw commitment discrimination mcw mcw\",\"caremark woonsocket ri sr advisor scientist statistic mathematics sas spss python sql tableau covid covid vaccination covid covid bringing anchor\",\"combine housecall healthcare tableau sql intermediate excel powerpoint pivot vlookup macros unitedhealth covid covid unitedhealth covid covid unitedhealth connecticut nevada resident connecticut nevada unitedhealth unitedhealth telecommuter unitedhealth telecommuter unitedhealth affirmative unitedhealth\",\"descriptionbeginne fishery nmfs noaa fishery atlantic migratory hms migratory bluefin tuna reviewing recording hms skills2 educationba bs\",\"exempt institutional effectiveness oire excel powerpoint mathematic competency proofread extract extract averett translate oversee oire participate oire sme secondary anticipate environmentthis occasional danville curriculum vitae cv attn specialist americorps corps inquiries ix averett ix coordinator amanda estabrook ix harassment inquiry\",\"assume nasa tesla visa unfortunately opt tn envision foster sql tableau micro powerbi eeo hub\",\"bi marketplace salesforce pardot analytics metabase pendo postgresql kpis implement dashboard salesforce excel sql postgresql mysql salesforce apex bi metabase looker tableau qlikview salesforce humility async salesforce bi saas\",\"nlp silicon posting notification uc vaccination covid ird uc cruz ird ird ird ird uc cruz uc cruz dna nlp artificial nlp ucsc nlp nlp nlp appointment eligibility percentage shift classification silicon representation cx classification blank ast rarely coordinator ucsc silicon baskin nlp prepare uc cruz ucsc silicon oversee nlp coordinate coordinate coordinate coordinator coordination logistic nlp nlp coordinator organize deliver prepare prepare nlp prepares nlp organize nlp arrange interpersonal workspace ai nlp covid vaccination neglect canra mandate reporter canra acknowledge canra penal ucsc attach eeo affirmative uc cruz applicant ucsc hrm hrs hram hrs app schjob gblpage hrs app jbpst applicant siteid jobopeningid postingseq ird uc cruz scotts scotts e100 scotts relay uc cruz affirmative uc cruz\",\"analyst pmp capm primavera p6 participate communicate proficient tablet copier procurement mgmt authorize prescription spending supplemental retirement saving eeo eeo supplement applicant\",\"analyst pharmaceutical referral\",\"realtor realtor realtor dsa dsa facebook vip facebook thoughtfully translate sql python communicate phd scientist engineer analyst technically sql python aw azure gcp li ih1 realtor realtor vietnam era\",\"exelon atlantic ace baltimore bge commonwealth edison delmarva dpl peco peco potomac pepco exelon kpis contribute accountability kpis prepare participate scope excel powerpoint passport brio cis eps sap\",\"assesse identifie initiate observe\",\"contribute ai ml siri visualization engineer siri react ui javascript d3 visx vega api graphql mocha hive spark sql druid solr python siri siri siri siri siri homepod carplay\",\"analyst analyst analyst kpi kronos excel tableau responsibilitie assess generating mbr qbr troubleshooting evaluate excel tableau establish kpis referral columbus excel\",\"analyst analyst nationwide undergraduate sql python bi tableau sql\",\"richland participate execute actively ba medicaid eligibility attend participate participate attend fte tge spouse retirement defer compensation medicaid occasional sit lifting physically supplemental\",\"miller llp billing analyst billing analyst liaise proactively resolve wip diploma lede continuous integral covid\",\"acima acima acima retailer acima wrangle sql redshift bi sisense periscope docker aws compensation hybrid unlimited dto healthcare ihc acima hsa cigna healthcare onsite stem h1b draper utah python\",\"analyst requisition re36215 analyst ba certification shift crso analyst ctms edc crso crso administrator sql oracle ctms edc advarra oncore ctms ctms additionally possess customize ctms edc api administrator covid cms covid sql oracle jaspersoft tableau excel powerpoint sql oracle hl7 deadline inclusion tobacco\",\"req shift shift fte a1 hris analyst interpret hris resolve locate hris lawson sap successfactors licensure certification shrm certify shrm cp certify shrm scp eoe vet qualify\",\"brokerage collateral excel vba sql python describe qs collateral quantitative reconciliation qs brokerage pb pb margin establish electrum margin brokerage pb pb dcm dq electrum horus brokerage quantitative qs brokerage pb pb margin qs collateral quantitative reconciliation pb margin collateral participate pb pb margin lob establish brokerage margin pb desirable quantitative broad greek brokerage collateral excel vba sql python strive excel commitment participate proactively implement participate operational gmrm excel\",\"juvenile cjjp cjjp statistical sac analyst sac advisory analyst respond advisory advisory compile prepare collect eeo selective statistical statistical clerical graduation phd paycheck\",\"analyst crm sanofi crm transparency analyst crm proactively engage leverage interaction architect omnichannel informatic sfdc veeva certify fluent salesforce veeva crm demonstrable veeva crm pharma crm salesforce veeva iqvia itil incident sla agile scrum comfortable jira confluence competency lean agile intermediate intermediate intermediate computerize intermediate transversal competency behavioral acuman intermediate transversal interpersonal negotiation intermediate intermediate sanofi covid cdc moderna pfizer sanofi sanofi affirmative gd li sanofi\",\"don vet wayup internship forbes grad forbes newsweek workplace fortune workplace fortune fortune workplace millennial computerworld intermediate intermediate lending intermediate participate deliver intermediate leverage python scala spark evaluate examine transform recognize prepare assess prepare lending evaluate prepare unsecured scientist statistic mathematics prove bi tableau proficient exceptional excel powerpoint moderate smote moderate interpretation qualitative quantitative python scala moderate sql apache spark azure factory azure devop azure ml hadoop azure databricks aws cloud bi familiar familiar etl familiar familiar governance warehousing moderate validation cleansing validation proficient python spark lending proficient python sql sas fha ecoa ml ai familiar arcgis allowance lease cecl desire scientist doctoral statistic mathematic familiar agile excellence follin lane vienna heritage oak pensacola winchester navy navy navy armed eoe veteran covid covid navy secrecy navy secrecy referral talentquest\",\"macclesfield sweden gaithersberg sme therapeutic continuity bcp therapeutic coordinate interpret ta contribute bcp sme engineer extensive excel pbi powerpoint qlikview rational adapt desirable llamasoft scg dg bi pharma awareness competitive\",\"hca healthcare ba airme fertility progyny retirement colleague eligibility ba hca healthcare dutie analyst hca bi sql bi etl mapping sql cloudera teradata bi microstrategy powerbi sql cloudera teradata bi hca analyst osha itg itg hca healthcare ethical ethisphere hca healthcare frist sr hca healthcare founder ba unlock\",\"analytics liveeoat liveeo ai infrastructure presale engineer observation liveeo gtm scope poc proactively synchronize gtm closely constantly continuously crm certify gis meddic liveeo liveeo berlin pine\",\"fortune brunswick analyst brunswick decompose analyst analyst sdlc expertise excel powerpoint visio brunswick authorize sponsorship jira css javascript bootstrap parental referral tuition supplemental bonus covid brunswick\",\"tvgo x1 hubs denver silicon hub infer extract okrs proficient proficient proficient tableau excel visio dynamic consistent principle promoter eoe veteran disabled lgbt reward bonus additionally\",\"analyst ivlocation caduration responsibilitiesleverage lease culinary transportationdrive ba bs sql etl tableau tableau lod python eng1 sql\",\"freemium estamericas permanent scientist messaging studying app push sm researcher engineer python sql tableau anywhere extensive greenhouse\",\"analyst underwriting analyst transition spread rfp excel powerpoint bs ba mathematics\",\"analyst competency assess collect excel stata sas spss hybrid\",\"tender analyst rfqs tender rfq interact rfq continuously rfq rfq tender timeliness prepare americas submission tender compile outlook excel revise dutie eeoc americans reasonable\",\"governance steward bureau treasury warehouse treasury warehouse treasury governance steward treasury warehouse treasury warehouse treasury warehouse treasury dtmb treasury treasury warehouse treasury inclusion treasury possession departmental analyst departmental analyst departmental analyst p11 registrar treasury mbps mbps relocation treasury verify I ftinprint fti irs departmentalanalyst eve eve veterans ppo hmos deductible hsa spending fsa qualify fringe qtfb parental deferred compensation retirement retirement db contribution healthcare retirement\",\"puerto rico panam costa rica colombia objetivos responsabilidade implementar implementar mining apoyar velar presentar requerimientos experiencia python panda jupyter notebook sql entendimiento mining habilidad habilidad tipo tiempo\",\"researcher facebook ai ego exo ego exo phd phd applicant phd researcher artificial ego4d devise influence implement ego4d dataset phd mathematics facebook affirmative facebook\",\"analyst ba ba trend prepare healthfirst assess sql excel sme ba sql macros excel sql regulatory certification healthfirst covid cdc fda covid covid applicant province americans healthfirst healthfirst healthfirst eeo supplement healthfirst healthfirst healthfirst healthfirst\",\"analyst duration yr visa analyst exposure visio validation remotely supplemental bonus\",\"vendor setup evaluate eeo brcareer\",\"descriptionresponsibilitie asd fba iep consult iep bip prepare consult organizational pupil sevice\",\"fanatic optimize fanatic fanatic fanatic candy mlb mlbpa nft fanatic collectible topp fanatic bet fanatic nfl mlb nba nhl nascar mls pga fanatic fanatic fanatic fanatic establish collaboration capture autonomy prove bet fanatic fanatic fanatic fanatic fanatic tryouts fanatic fanatic rpp fanatic resident applicant\",\"consultant treasury fp scientist leverage sql treasury asset securitization warehouse edw sql utilize effectively qlik thoughtspot interpret investigate excel sql teradata sql statistic gitlab docs jira qlik thoughtspot tableau sas python exposure treasury ab fp veteran covid vaccination nyc covid nyc\",\"scientist canvas scientist navy objective muo uhf satcom visualize sci sql nosql api extract transform etl desire acat dod milsatcom pmw milsatcom citizen covid canvas huntsville acquisition canvas contracting huntsville madison chamber canvas affirmative veteran canvas canvas accordingly\",\"ww analyst reseller controller reseller ww prove exhibit confirm proven sophisticated excel macros stellar keynote powerpoint demantra tableau essbase forecasting propose quantify tableau mba\",\"spec spec epic emr sql clarity programmer analyst specialist governance spec boe crystal workbench radar excel qlik spec administrator diploma ge equivalent epic\",\"ttuhsc respond payer surprise idr hybrid worker excel powerpoint enhance ttuhsc attachment resume cv compensation eeo eeo jeanne clery jeanne clery disclosure statistic statistic asr hourly clerk shift\",\"urgent requisition requisition requisition requisition jr analyst tn dot tennessee estimate duration usd expense deaderick nashville tennessee formulate prepare cba construct facilitate superior possess modeling tennessee ba bs cst shift shift competency novice novice proficient\",\"analyst contribute departmental hapi ndnqi healthcare oppe fppe utilize continuous excel tableau powerpoint\",\"bs cloud iot intelligent iot ai ml cloud saas lob iot operational artificial kubernete micro gen cloud infrastructure oci incorporate experiment iot contribute actively desire extensive db atp elasticsearch apache spark kafka artificial recommendation scrum agile methodology bs\",\"eohhs eohhs commonwealth eohhs eohhs ehs analyst ehs dd dd analyst eohhs hcsis enhancement certification qe5 hcsis dds medicaid cms acquire abi mfp masshealth cms qe5 dd cms analyst agile scrum occasional dd danver worcester wrentham springfield dutie agile dd scope prepare participate regression prepare helpdesk participate healthcare agile sdlc prove sql azure devop azure thorough visio excel powerpoint resourceful methodical exceptional certification scrum scrum certification disabled dppc registry cori guideline commonwealth ada reasonable ext entrance applicant substitution I vi graduation commonwealth reward covid applicant affirmative commonwealth indigenous bipoc edp analyst exec shift yearly affirmative reasonable ada coordinator johny laine johny laine bargaining nage confidential\",\"analyst hca healthcare airme fertility progyny retirement colleague eligibility analyst rn thoracic surgeon cardiology acc stroke ventricular cardiology chest surgeons er gardens boynton atlantis boynton hca healthcare ethical ethisphere hca healthcare hca healthcare jane englebright phd rn cenp faan analyst\",\"oversee aftermarket oe excel flexibility bs highschool diploma aftermarket excel auburn\",\"westborough fortune positionthe personthe additionally nda ba bs proficient excel powerpoint westborough hybrid westborough\",\"mclane analyst vantix cpu mclane vantix logistic analyst vantix negotiate mclane logistic excel\",\"qualified hybrid qualified hub dunwoody richardson tempe bloomington fortune neighbor additionally scientist broad sql python sas agile devop gitlab pursuant initiative pursuant ordinance compensation competitive merit tuition reimbursement initiative sponsorship applicant sfarm li lp1 li\",\"analyst braintree statues hsainsurance analyst attend appropriately execute qa communicate sql exceptional passion proficient excel nfp braintree sql\",\"strength healing analyst organizational mshp mshp thrive seek mshp mshp analyst bi analyst leverage mshp contracting commercialization adhere prepare bi mentor analyst bi ba bs cms medicare adjustment hedis emr epic clarity phd sql python tableau etl strength inspiring icahn beth brooklyn queens roosevelt luke ear infirmary mshs eoe veteran disable\",\"hris analyst asu fs payroll vp evp scope transaction ptr asu asu administer transaction ptr payroll par peoplesoft payroll payroll specialist desire peoplesoft hris sit communicate asu asu phoenix asu asu vevraa contractor affirmative asu asu asu asu clery asu relocation asu asu fingerprint instruction resume desire asu asu payroll analyst\",\"junior analyst lastly irt liaising irt accurately irt uat uat interpersonal applicants li ac1\",\"scientist python engagement ll benchmark raven nutshell aw latvian engineer scientist engineer python bs phd cs crowdstrike tenable splunk startup dna competitive satisfaction fortune resume seeker\",\"specialist sabic trucircle inspire engage deliver chemistry chemistry excellence transform americas excellence represent dashboard sabic keen sap hcm successfactor sap cloud analytics excel powerpoint visio eligibility applicant sabic applicant\",\"statistical analyst statistical analyst statistical analyst principal investigator statistical analyst statistical analyst irb rheumatology informatic quil ucsf drs gabriela schmajuk jinoo yazdany rise sas stata thorough thorough sql proc sql ucsf ucsf uc nobel pride ucsf pride pride ucsf ucsf\",\"analyst mercy mercy christ pto facilitate ensuring indicator mco audits crystal sql athena ehr analyst healthcare analyst mercy\",\"specialist compensation doeresponsibilitie aide extract kpis assess respond participate participate inspire qualificationscompetency accuracy accountability orient ethical honesty integrity organize possess reliability professionalism math abilitiesrequire innovative excel accurate meticulous prove capability sql python minitab sas lean agile sql bi proficient dax\",\"analyst shift ge excel bi tableau jira smartsheet aws erp tbg chanhassen mn tbg tbg\",\"constitution forbes forbes gwinnett gwinnett analyst metro duluth gather flsa saving saving tuition\",\"analyst hybrid synthesizes identifie interpret qa ssrs ssis excel bi sql hsas fsa tuition reimbursement reward recognition covid vaccination covid reasonable applicant covid\",\"prepare expedite independently superior excel powerpoint excel vlookup familiar concatenate duplicate verse powerpoint retirement\",\"unclassified certification examination communicate liaison prepare respond coordinate remedy classification observe respond participate aptitude utilization interaction machinery utilization verbal aptitude mathematical aptitude reasoning involve situational reasoning fulton hmo ppo defer compensation fmla marta\",\"netherland analyst prepare kpis tableau python python sql tableau panda spyder jupyter notebook qlikview knime etl camden erp keen willingness camden headquarters camden\",\"ref duarte shift accesshope magnet recognition nurse credentiale inclusion inclusion analyst regulatory warehouse sql sql participate utilize indicator assemble coh warehouse sql vizient integrate healthcare utilizes lean healthcare regulatory utilize evaluate regulatory physician qrrm ace infection registry biostatistic facilitate participate ba bs intermediate excel sql statit lean sigma tableau cphq lean sigma li jp\",\"inspire combine youtube ventures ventures atlantic costanoa ventures owl ventures altos venture kpi engineer participate inspire continuously grow instill skilled exceptional enthusiasm kpis proactive dei bonus curiosity excitement perk covid competitive ppo hmo vsp fsa hsa commuter wellness lgbtq recruiter placement\",\"analyst posting closing resume voluntary fsa hsa retirement defer compensation exempt exempt analyst audit responsibilitie reconciliation ach ach ach mtm prepare payable cip gaap verify\",\"findhelp corp analyst curation analyst verify respond curation zendesk contribute participate flexibility perk hq competitive pto hq purchasing udemy tuition curation volunteering\",\"empower americans americans analyst analyst possesse prioritize possesse recognition medicare medicaid medicaid sdlc jad sql innovation dna kindly biden adequate covid contractor\",\"oq oq avangrid oq coordinate oq prometric exam coordinate oq oq interpret oq represent avangrid nga oq evaluate oq proctor oq operator northeast nga competency empow mobility avangrid connecticut maine avangrd avangrid renewable\",\"ai mit phd eth harvard brigham seoul switzerland zurich zurich phd familiar python julia motivation switzerland\",\"inspire turnstyle nba heifer fame analyst analytics ga4 interpret communicate ga4 javascript sql tableau hotjar hubspot empathy bonus snowflake sql mavs medieval notably lgbtq\",\"correction correction missourian retirement defer cafeteria uniform saving correction coordinate adobe livecycle adobe aem coordinate communicate respond adobe livecycle aem literacy confidentiality verbal flexibility judgment solve teamwork adobe livecycle aem earn correction doc\",\"knight knight knight prepare vps transform proactively proactively doe\",\"wku wku scholarship tuition reimbursement kpis dfm establishe kpis identifie prepare prepare wku dfm attend wku dfm coordinate recycling kpi approve src src src src respond seek comply haccp osha willingness maturity attend ge aptitude osha occasionally vary wear protective eeo minority veteran eligibility\",\"workplace pto denver miami minneapolis portland raleigh engineer derive kpis statistic sql arr gross retention retention churn passionate proficient python ruby snowflake statistic sql arr gross retention retention churn passionate proficient python ruby snowflake\",\"mist juniper ble iot ai mist marvis ai ml gartner mq mist ml ai ml ml juniper marvis ml saas additionally marvis phd statistic math saas python familiar numpy scikitlearn mllib tensorflow pytorch wifi python cloud kafka spark golang cloud storm flink airflow marvis ml collect evaluate attribute exceptionally keen superior\",\"analyst requisition coa086926 qa app portfolio equivalent graduation certification applicant analyst sr bi microstrategy bi microstrategy additionally covid ctm leverage instruction describe supplemental ge dd mgmt temporary burleson warehousing architect administrator dashboard bi microstrategy qlik tableau microstrategy administrator sql pl sql americans administer investigate identifie respond prepare participate establish responsibilitie supervision investigation investigation eeo ada disabilities tty\",\"responsibilitie creation deliver kpis continually prepare competency mathematic gpa sql python hypothesis statistical aesthetic excited amenable thrive continuous honest bi pivot sql intermediate python alteryx azure prioritize americans li bo1\",\"pwc pwc pwc pwc pwc invite communicate I seek pwc uphold preference actuarial aerospace agricultural biological bioengineering mathematics physics architectural artificial robotic astrophysic biochemistry biomedical biomedical biotechnology physics circulation mechanic physics entrepreneurship mathematics forensic cybersecurity managerial mathematical mathematical mathematics mechanical petroleum app statistic preference cumulative gpa gpa communicate deliver contribute proactively excel powerpoint utilizing pwc pwc pwc lottery pwc pwc ordinance li\",\"grid covid grid grid gdp grid graduates grid orientation gdp orientation capstone grid analyst procurement grid sustainability vendor procurement facilitate procurement procurement sustainability cdp carbon disclosure supplier continuity vendor grid applicant tn stem opt excel powerpoint grid grid grid\",\"scientist hybrid onsite relocation hybrid onsite cerner cerner li hybrid cerner hybrid onsite relocation relocation analytics biomedical biostatistic mathematics operational physics statistic expectation willing applicant visa cerner tb cerner cern cern cerner\",\"extreme verisk analyst consultant verisk extreme verisk verisk respond communicate employ represent verisk verisk proactive fluency extreme verisk verisk verisk verisk verisk verisk nasdaq vrsk ai verisk compact innovation verisk verisk certification forbe verisk racial verisk verisk unsolicite verisk verisk verisk verisk verisk covid covid\",\"exciting meaningful analyst integrate python vba excel sharepoint c2ie verify communicate ts sci math combatant combine headquarters python vba excel analyst eeo eeo supplement\",\"navient xtend healthcare ey ernst navient xtend healthcare healthcare analyst ey medicare medicaid ey indianapolis regardless ey indianapolis applicants indianapolis ey indianapolis ey indianapolis navient xtend healthcare ey ey ey employ dana communicate informatic actuarial intermediate excel sql acute receptiveness willingness\",\"sr analyst sr sr analyst sr analyst sr analyst sr analyst responsibilitie accountability establish scope locate typically extensive certify pmp competency extensive prove\",\"bioengineer analyst analyst typical conducting bioengineere biomedical biological desire sincere herelifelong compassionate bold bold\",\"scientist sigint meade discipline automation normalization visualization cloud prototyping mathematic mathematic statistic statistical graph modeling algorithm scripting cloud orient expertise sigint metadata mining visualization cigna guardian accident mutual omaha fidelity pto affirmative vet disabilitie vevraa contractor vet eeo eeo supplement transparency innovate\",\"analystjob contractlocation descriptionthe analyst analyst agile methodology responsibilitieswork crs cms xlc cr powerpoint excel visio accessplus analyst cms integrity cms residency sql\",\"combine phoenix sql um dm undergraduate intermediate excel excel visio powerpoint outlook sql covid covid unitedhealth prove analyst analyst unitedhealth covid covid unitedhealth covid covid unitedhealth telecommuter unitedhealth telecommuter unitedhealth affirmative unitedhealth\",\"electrician hse nec ul ideal communicate apprentice journeyman electrician ge overtime pyote\",\"responsibilitie berlin dubai mumbai singapore jakarta seoul tokyo integrate bric bric solve uplevel phd hadoop hive spark storm\",\"subcategory shift clearance clearance analyst pension guaranty pbgc assurance prepare facilitate audit prepare desire sharepoint servicenow excel powerpoint covid covid fortune headquarter reston\",\"analyst proactively participate participate pat workplace eeo minority veteran orientation identity tobacco hiring huntington huntington recruiter\",\"pnnl pnnl pnnl pnnl compute directorate bs ba phd skillset pytorch python scala hazardous citizenship investigation applicant cfr appendix clearance designate questionnaire qnsp applicant designate tdp designate tdp substance pnnl workplace substance pnnl pnnl integrity creativity collaboration courage pnnl pnnl pnnl portland psc commitment excellence inclusion affirmative workplace pnnl workplace substance wsap\",\"learningwe infrapod grow affordable librariesdata platformcloud referral python sql\",\"cambridge scientist steering lifetime scientist apis steer curiosity python mathematic statistic expand ef ef ef ef lgbtq ef ef api ef indigenous ef latinx ef jewish ef ef ef ef ef whoever ef sweden ef paulo shanghai stockholm\",\"greatmat gather interpret excel analytics console seo milltown sql\",\"ood stanford alumni saa analyst adapt alumnus transition analyst assurance analyst adapt marketo bridging translate uat qa adapt influencing marketo crm prove agile waterfall prove prove agile prove prove advancement stanford imagine ted climb discovery stroll enviable consistent stanford\",\"compensation analyst flsa flsa acquisition compensation adjustment aic spot compensation payroll excel phr\",\"adobe workfront oversee adobe workfront workfront proactively mcs adobe workfront translate intake adobe workfront adobe workfront facilitate agile kanban scrum exhibit adobe workfront adobe workfront agile kanban\",\"nasdaq pypl analyst workforce planner additionally validate requisite collaboration excel powerpoint outlook eeo covid depend covid\",\"participate hmis hmis hmis oversee hmis hmis hmis hmis lsa spm pit hic oversight hmis hud inventory inventory coordinate hmis participate integrate esg rrh hmis retirement excel\",\"bachelors ra ai nsip richland temporary pnnl pnnl pnnl internship nsip ai richland pnnl participant math stat discipline mathematics statistic ai discipline artificial geospatial foundational discipline artificial geospatial agile ci discipline cloud engineer scalable artificial devsecop automate discipline interaction graph visualization internship nsip mz2upycl upload resume cv resume combine aida nsip gpa gpa hazardous designate designate pnnl pnnl integrity creativity collaboration courage pnnl pnnl pnnl portland psc commitment excellence inclusion affirmative workplace pnnl workplace substance wsap mandatory battelle covid applicants cdc covid covid doe doe doe doe battelle pnnl doe battelle\",\"principal engineer cloud ai covid payer healthcare ai ai ohai ai ohai healthcare interoperability fhir api kubernete helm cloud terraform ai ohai participate devop ci optimize participate adept kubernete terraform terraform chef ansible puppet packer proficient jvm proficient git scm ci familiar hl7 fhir hippa docker kubernete cloud infrastructure oci extensive\",\"journey combine bi onboard expense onboard bi obr constantly coordinate analytics cruise hospitality vba bi dashboard sas sql covid vaccination covid vaccination covid vaccination attestation\",\"bi liaise consistently simplify analyst bi proficient sql excel warehouse mastery orangetheory supervisory orangetheory healthcare parental wellness headquarters contribution engagement\",\"tiktok helo resso toutiao douyin xigua pangle bytedance pangle pangle hackerrank solve participate phd nlp python curiosity curiosity ams\",\"analyst initiative experienced curious sme embrace sql tableau lover professionalism perseverance perm encourage affirmative lewisville req\",\"analyst analyst analyst tableau qlik domo birst emr ctms ssrs cms metadata emm sql bs bi bi compensation analyst compensation tableau qlik domo birst sql ssrs sql sql bi sme emr ctms emm kpi kpis kpi cms ba ba ba ba\",\"analyst sap csps mainframe retention kpis prepare cdi crm salesforce proficient excel proficient kpis retention crm salesforce genesys servant keen salesforce genesy\",\"infinitu artificial infinitus ai nevada infinitus ai infinitus ai periodic comfort hipaa pharmacy reimbursement specialist specialist competency solve teamwork collaboration achieve overtime overtime\",\"ai analyst analyst responsibilitie keen bonus parental\",\"scientist reviewer gmp bulk coordinate interpret mentor chemistry biochemistry biotechnology biology qc gmp certification empower healthcare fsa hsa stability retirement contribution abbvie vitality wellness eap advocate generous parental caregiver outreach perk abbvie loyalty tuition adoption surrogacy milk stork\",\"utah alcoholic beverage seek exceptional analyst tl permanent recruitment analyst dab automate estimate qualified applicant sql excel alcoholic beverage dab moreover dab alcoholic beverage typical supplemental tl permanent recruitment analyst typically\",\"statistical sdm validation sdm analyst validation furnish prioritize li sm1 excel casualty python json sql cpcu idma cas agile excel notepad capable passion verisk verisk verisk nasdaq vrsk ai verisk compact innovation verisk verisk certification forbe verisk racial verisk verisk unsolicite verisk verisk verisk verisk verisk verisk covid covid\",\"scientist tower downtown pittsburgh flexibility scientist scientist scientist scientist execution generate conceive cio bio mathematics intermediate sql matlab mathematica sas statistica licensure certification clearance veteran\",\"identifie kpi identifie identifie integrate operate americans\",\"circle utilize interact familiar sql python unlimited pto hybrid lifestyle eap generous parental healthcare ppo hmo retirement commuter wfh circle incredible circle circle covid reasonable li awfc biz01\",\"junior engineer scientist leido simulation engineer analyst sensor engineer ssa unite eo ir aircraft gimbal mechanical missile gpu huntsville alabama huntsville alabama physics fundamental python matlab radiometry optical physics mathematics solidworks dod preference citizen clearance clearance\",\"westat westat rockville westat westat statistician prepare statistic qualified sas westat ownership retirement parental sick advocate accident illness supplemental spending saving westat westat westat covid westat statistic\",\"composer twitter instagram facebook spotify pandora youtube depend proficient sql demonstrable proficient comfortable sigma conceptually comfortable python curious honest audible craft besides immediate generous supplemental covid covid\",\"jpmorgan chase jpmorgan chase morgan chase recruit jpmorgan chase recruit recruit jpmorgan chase jpmorgan chase recruit execution jpmorgan chase formulate represent jpmorgan chase engage seek recruiting seek intern seek extremely passion jpmorgan chase morgan chase covid jpmorgan chase covid covid covid jpmorgan chase veteran\",\"equivalent hyrbid excel expectation analyst coordination conceptualize scammer gmail telegram whatsapp span astoncarter allegis recruiter recruiter\",\"sme steward erp sop resolve communicate operational steward measurement logistic procurement erp qad li db1benefitsbecause retirement tuition reimbursement maternity parental bonus referral tuition reimbursement bereavement\",\"enprovera homeland enforcement analyst bureau investigation fbi accurately establish coordinate exist enprovera afass alliance ge undergraduate meticulous competence excel powerpoint prove citizenship dna fddu dna ndi fddu dna dna enprovera accidental dismemberment enprovera affirmative hiv enprovera satisfactory dea fbi uscis uspi covid enprovera covid workforce\",\"providence statistician statistician oncology vaccine contribute physician regulatory influence cv cv li practical phd statistical exist pharmaceutical bayesian expertise capable capability I cro ahead li toll affirmative covid covid healthcare healthcare transparency transparency\",\"veretx analyst ideal adobe kpi interact interpret sql jql extract respond analyst specifically pivot sql jql adobe analytics adobe adobe agile sql mongo excel spss sas jira octane eeo\",\"engie electricity salesforce analyst sql salesforce oak woodmere salesforce willing establish diploma prove edi salesforce boomi engie covid engie reasonable engie engie carbon transition unite engie engie engie engie engie engiena engiehr engie detroit woodmere ena gem operational permanent\",\"scientist additionally effectively discover exceptional orient bs analyst scientist qlik tableau mastery python sql mastery mastery ltv warehouse sql python bi qliksense recruiter hiring squad hiring compassion perk spending fsa dependent supplemental bonus analyst\",\"analyst cycle cycle cycle informatic analyst cycle cycle admired responsibilitie analyst cycle phoenix phoenix generous pto analyst cycle cycle cycle identifie cycle reimbursement cycle adhoc generous pto wellness sql nextgen healthcare ehr bi tableau ehr cerner epic nextgen excel fingerprint clearance tb covid reasonable covid precaution covid\",\"lmi lmi lmi topworkplace workplace lmi junior scientist coronado coronado analyst communicate contractor bachelors statistic math stem analyst ts sci python proficient agile git outstanding keen technique python sql capability li sh1\",\"thrive hiring durham durham devoted analyst analyst prepare covid covid\",\"cms qualified entity medicare statistical analyst sql sas icd hpcps cpt sas evaluate evaluate utilize investigate observe hipaa\",\"worker bsw analyst homelessness prevention worker bsw analyst analyst worker bsw analyst collect compile homeless hmis worker graduation aha cpr observe organize communicate guideline sw rehababilitie rehababilitie healthcare staffing applicant pto referral retirement hmis\",\"occupational aota occupational aota aota aota aota leverage aota uncover propose aota aota actively proactively aota embrace\",\"posting classify appointment classify temporary exempt appointment sto bilingual temporary exempt duration assignment admission banner mis ellucian banner banner ftp sftp banner payroll receivables sql sql pl sql argos automic banner banner consult coordinate prepare substitution aide classification desirable ellucian banner sql exceptional exceptional oracle evision argos classified sto sto retiree rhctf portion completion desirable ccsf waiver ada applicant eeo ada ada applicant covid ccsf cdc sfdph eeo hiv vietnam era eeo ada posting cs00232p sheila pontanare\",\"collect influence gather seeks voluntarily anticipate seek erp ga2839 erp\",\"shift inland empire rch inland empire inland rch trauma inland empire rch riverside stemi chest excellence excellence surgical transplant neonatal intensive riverside seal certify hip knee leapfrog commit maternal fte shift maternal analyst assure licensure certification rn meditech cpn outlook excel orient pto healthcare hca nurse er hca watson\",\"analyst ken garff ken garff principal architect domo foster domo powerbi ssrs reasonable applicant I attribute attitude ethic professionalism hybrid critically visualization domo bi ssr fluency sql snowflake sql engineer domo\",\"requisition cro biostatistic biostatistic biostatistician principal biostatistician biostatistician biostatistician dmcs liaise I sas experienced msc statistic\",\"navient xtend healthcare ey ernst navient xtend healthcare healthcare analyst ey medicare medicaid ey indianapolis regardless ey indianapolis applicants indianapolis ey indianapolis ey indianapolis navient xtend healthcare ey ey ey employ dana communicate informatic actuarial intermediate excel sql acute receptiveness willingness\",\"datastream datastream datastream msp cyber scientist scientist responsibilitie cleaning continually spacy tensorflow keras demonstrable exposure capability cyber bayesian keras pytorch tensor cloud gcp databrick delta spending unlimited pto vaccine datastream covid datastream datastream applicant\",\"consolidate excel tableau sql advise entrepreneurial ba bs fremont\",\"analyst ownership analyst oversee workplace participate export cisco verint salesforce forbes midsize energage workplace workplace veteran vet medallion militaryfriendly vet excel ivr crm acd sql quantitative eoe veteran\",\"ogc cx specialty telecommunication hospitality junior scientist telecommunication fortune telecommunication fortune transform ba bs statistic math msc excel vba bi python sql tableau qlik stata spss cx medallia qualtric exceptional powerpoint capable\",\"experienceabout acquisition responsibilitiesthe elicit anticipate delegate exhibit sdlc proficient vaccination prevention covid adp nyc eeo confidential applicants\",\"req shift shift fte a1 administrators om qi vp outcomes infection qi aggregate utilize recognize bps bs statistical certification healthcare statistical licensure certification eoe vet qualify\",\"equivalent analyst manufacture fortune analyst manufacture investigate independently uat roadmap pmo assess communicate comply fda manufacture healthcare erp sap execution camstar rockwell automation fortune stack allegis\",\"keyrus keyrus tableau consultant keyru keyrus tableau qlik snowflake tableau bi alteryx talend tableau sql oracle etl alteryx etl ssis informatica talend datastage qlik snowflake tableau bi bi\",\"analyst rocky eagle eagle southeast eagle rocky analyst erp sql ssrs sap outlook responsibilitie analyst itil responsibilitie sql proactively sql sql sap universe cycle certification certify cbap comptia ce comptia certify sap businessobject bi sql sharepoint powershell powercli proficient sql\",\"kp moc kpbc bets kpmc cpq articulate uat accomplish influence diploma ge certification interpretive kp primarylocation burbank hoursperweek shift workday workinghoursstart workinghoursend affiliation nue nue contributor ho corp bets applicant\",\"indeed calhrpublic jobposte worker compensation specialist dwc jobsgen\",\"consultant irving basking ridge hybrid duration regulatory teradata sql unix sas hadoop alteryx python adobe tableau gcp react etl desire sql certification\",\"biostatistic bioinformatic supervision brooke fridley biostatistics bioinformatics cleveland ann chen biostatistic bioinformatic highlight fellow moffitt outstanding t32 ideal perl python unix moffitt credential ph moffitt postdocs moffitt retirement parental gulf tampa cv brooke fridley biostat bioinform shift\",\"mather stata sql python practical stata sql python practical tableau hadoop hive spark excel curious sql python stata pull communicate communicate kpi adjust analyst sandy mather opt stem applicants\",\"scientist fraud extend communicate statistic math practical python sas spark etl weka numpy matlab einstein analytics tableau ggplot sql hive pig sql etl informatica redshift holding nab\",\"m14 analyst gpac analyst analyst completeness specification organize edi performa diploma mckenzie mcgranor mckenzie gpac grow\",\"bcba intellistar aba intellistar asd bcbas rbts autism aba expectation intervention communicative committed bcba psychology vineland vb mapp afls referral relocation supplemental signing certification bcba willingness\",\"analyst ba visio\",\"compensation peoplesoft formal ais clearwater peoplesoft erp incumbent peoplesoft instal peoplesoft interaction hub peopletools weblogic tuxedo app scheduler broker peoplecode pum lifecycle peopletool peoplesoft oracle ldap adfs authentication oracle sql export import oem oracle sql sql backup peoplesoft disaster powershell oracle cloud infrastructure incumbent peoplesoft oracle sql oracle cloud infrastructure operate instal utilize establish communicating designing interpreting utilizing establish communicating interpreting sedentary exert sedentary responsibilitie frequency confer coordinate\",\"gen centuryposition descriptionthe statistician measurement evaluate establish establish prepare evaluate certification statistical regulatory nrc nureg cr statistical tid statistical atomic iaea sg sct statistical technique iaea safeguard covid proof oak ridge tnstatus exempthour friwe verify verify verify participation verify participation\",\"navy southeast naval mayport navy excel powerpoint supdesk mrqt operate clerical timekeepe clerical prepare prepare prepare timekeepe applicant navy excel\",\"linguistic cognitive cefr c1 comfortable aws linguist ai inclusive aw conversation ethnicity amazecon principle mentorship annotate dive nlp nlu ml linguist engineer ai aws aws ml ai flexibility macos unix json willingness transparency regulation municipal applicant pursuant ordinance pursuant ordinance worker covid\",\"amwin amwin casualty broker amwin analyst branford haven plainville hartford farmington charlotte analyst hipaa mssql azure sql bi azure app ownership operationalization etl bi hipaa pii phi mssql azure sql azure sql azure devop automate sql python dax etl api competitive prescription float charitable supportive casual\",\"henkel prism rotational adhesives adhesive bs ba statistic connecticut unsolicite\",\"programmer evaluate statistical sdtm adam sas sdtm adam proc sas python sigma statistical sdtm adam sdtm adam sql\",\"unlimited affirmative analyst tableau workforce affirmative interpret tableau tableau powerpoint collect excel affirmative contractor ofccp bs mathematics statistic tableau affirmative excel excel powerpoint certification shrm cp shrm scp phr sphr tuition supplemental bonus\",\"analystwho missionwe dmv baltimore psychological adhd visiontoo ptsd abc courage summaryhow advocate bloominmind emr liaising investigate bim aws quicksight qualificationseducation sql agile extensive comfortable\",\"eurofin eurofin eurofins cro cdmo eurofins nante eurofin eurofins gmp glp sops glp gmp glp gmp verify diagnose troubleshoot sop omc ideal authorization portage eurofin disabled veteran affirmative eurofin disabled veteran affirmative\",\"acima retailer wrangle sql redshift bi sisense periscope docker aws compensation hybrid unlimited dto healthcare ihc saving hsa cigna healthcare onsite stem h1b draper utah python\",\"parkland parkland specificaton equivalent certification licensure placement excel seagate crystal sql pharmacy epic proficient applie interpret identifie isolate interact accountability identifie parkland integrate seek\",\"scientist undertake combine propose prove scientist analyst sql python scala tableau hadoop bsc ba python sql\",\"consultant securian securian operate principle analyst scientist adobe analytics adobe launch observepoint aem react apis implement adobe analytics securian interpret advise qa adobe launch adobe analytics adobe observepoint vista api aem react api li reasonable securian generous tuition securian continuous employeerelation\",\"modification certify analyst bcba salaries bcba modification aba certify analyst bcbas bcabas bms tampa abll afls vb mapp graph oversight certify analyst certify analyst autism compensation competitive aba bcba bcaba certification covid cde lutz bcba certification bcba medicaid hybrid lutz\",\"analyst branchburg duration rwe sigma voc uat sdlc spotfire appian qlik excel vlookup powerpoint exceptional rwe qlik appian pmp agile certification pmi acp jira confluence agile scrum sigma\",\"covid lockheed covid lockheed covid lockheed lockheed lockheed ours lockheed ai ml engineer lockheed s2co comm placement cdp ai ml engineer asc bs matlab python unix applicant ts sci clearance acceptable engineer physics mathematic applicant citizenship desire python agile lockheed lockheed affirmative lockheed lockheed lockheed internationally\",\"analyst fedcap fedcap fedcap analyst fedcap fedcap fedcap wwi fedcap excel prepare prepare compile ba bs demonstrable excel powerpoint macros pivot demonstrable fedcap supervisory occasional fedcap eeo fedcapgroup workforce occupational\",\"c2c w2 troy herndon duration ml engineer ml engineer ml python neural tensorflow optimize docker aws cloudera implement kubernete cpu gpu analyzing sql competency python predictive statistic math referral troy python mining\",\"b2b fleet scientist ceo evaluate fintech vc sql critically bonus b2b fintech proficient python daniel simon bread vcs accel tomorrow ventures bessemer venture boxgroup greycroft colle levchin affirm josh abramowitz bread jason gardner marqeta hockey plaid ryan petersen flexport\",\"agileone torrance workforce merck allsourcepps agileone allsourcepps merck resident expectation sql postgre redshift etl alteryx excel excel sql etl bi tableau bi tableau sql powerpoint hybrid ext fte onsite integrate merck analyst beside gather companion equine roi anova propose variance estimate etl excel forecasting forecast metric powerpoint postgre roi scrum sql tableau certification licensure certification licensure\",\"analyst qa backlog identifying agile waterfall analyst excel outlook sql undergraduate agile methodology kanban scrum\",\"req202209 accolade accolade nasdaq accd accolade accolade personalize healthcare accolade analyst fortune nieman marcus dna analyst objective attend excel li km1 covid accolade affirmative accolade eeo\",\"acm cta ria aum phd python\",\"aws analyst relation aws kpis inclusive aw conversation ethnicity amazecon principle mentorship kpis evaluate aw effectively analyst relation aw aws bi kpis prove practical applicant transparency regulation municipal applicant pursuant ordinance pursuant ordinance worker covid\",\"navy utilize typical employ incumbent scc jotda18 a1412tw\",\"beyou jr scientist responsibilitie mine excellence interact assess deliver ai python sas tableau excel intermediate powerpoint sql postgresql alteryx teradata snowflake mba legally unite covid cdc pfizer moderna dot regulate dot regulate sensitive commitment discrimination applicantaccommodation\",\"consult behavioral excellence bhcoe bcba bcba consult generous incentive manageable culturally behavioral ceu supervision bcba kaiser permanente retirement cal saver bcba assess principal generate collect sr therapist intervention dynamic behavioral psychology bcba certification pas fingerprint screening tb covid\",\"clover principal scientist principal scientist establish okrs represent\",\"establish analyst bi bi analyst vp bi bi bi gateway combine convert excel bi bi empower bi continuously bi bi bi workspace bi gateway dax sql etl bi vanessa holubet fa02257\",\"imagine combine nlp nlp clara pittsburgh beijing cambridge acl expertise ml nlp ml ml phd bs\",\"analyst I ipa sql bi ssrs bi excel confluence kpi automate verify summarize construct sql python shell sql ftp sftp bi ssr airflow kafka reasonable reasonable\",\"analyst liberty mutual integrity analyst edm utilize markit edm lmi trader portfolio analyst communicate markit edm markit edm bloomberg refinitiv markit excel bloomberg intex trepp blackrock aladdin markit edm simcorp dimension fortune liberty mutual lmi lmig aum lmi ibus asset allocation innovation lmi liberty mutual liberty mutual\",\"reno nevada reno nevada sherwin whoever veteran robot robot awcs kpis sop sop operator mechanic optimize champion leverage gsc rx communicate communicate gsc robotic oem attend regularly sku achieve cip ge manufacture apex affirmative vevraa contractor veteran\",\"analyst convention sand expo venetian interpret utilize kpi innate roi consolidate consistent venetian proof mba nevada lm showcase acsc lift physically crt retirement nv hybrid nv\",\"specialty specialty starstone specialty starstone specialty specialty actuarial actuarial analyst deliverable bi underwriting bi actuarial math statistic vba sql alteryx onedrive sharepoint casualty excel bi tableau specialty saving spending reimbursement specialty specialty starstone lancer lancer starstone specialty specialty\",\"invite analyst analyst ge aero genpact flm ba tableau prep smartsheet tableau smartsheet deliverable sow excel genpact oracle thorough excel rely genpact genpact twitter facebook linkedin youtube\",\"eco comm chancellor statistician communicate consult stata sas spss anova manova gee phd statistic biostatistic quantitative econometrics sas spss stata sas stata bayesian outstanding scholar sql jodi woodruff phd jodi woodruff designate psychology ptsd inclusive eligibility\",\"migration etl gather translate identifie verify gather translate identifie verify etl recognize engineer architect capability participate agile scrum analyst capability tester effectively attend departmental bi warehouse dw bi dw participate saas participate facilitate prepare sql sql sql prepare prepare alteryx bi analyst salesforce clm sme ta prove etl alteryx alteryx alteryx alteryx predictive parsing transform etl informatica talend pentaho sql rdbms salesforce clm etl alteryx etl\",\"promise creativity southwest airline southwest scientist yield yield formulate scientist iq southwest airline skille skilled diploma mathematics statistic intermediate mathematic python sql visualization solve licensing certification immigration reform southwest airline\",\"scientist ml engineer founder forbe supportive founder collective hyperplane e14 startup whoop simplisafe adobe generous covid\",\"analyst hca hca gme brentwood tn physician airme fertility progyny retirement colleague eligibility analyst construct sas ppt consult contribute hca medicare sas rdbms sql physician groupis ethical ethisphere bricks frist sr founder analyst unlock\",\"analyst sql python cst ref20056w cpg fmpg omnichannel analyst omnichannel omnichannel math statistic sql sql python javascript eeo parental fmcg linkedin instagram twitter facebook inclusion affirmative\",\"implementers si afb responsibilitie reasonable gather participate prepare gather citizen proof covid reasonable si competitive si bonus\",\"dealership l0105 lithia analyst dart lithia driveway dart lithia driveway dart dart dart dart dart sox advisory fp treasury compensation hris innovation interpret participate proficient excel outlook powerpoint comprehension collaboration desirable exposure bi tableau exposure sql python hiring statistic competitive pto retirement lithia wellness acceptable veteran\",\"analyst scientist erp deliver contribute oracle sap erp mechanically oracle tableau ssrs grafana python sql iot artificial robotic automation predictive managerial reliable capable lift push wear protective ppe occasionally climb bend protective ppe respirator discretionary spending supplemental referral tuition reimbursement vet disable\",\"spartronic sourcing provincial excel powerpoint pto arm regulation itar itar itar citizen permanent resident holder asylee refugee affirmative eoe mf\",\"analyst reward reward collect hris oversee prepare identifie proficient proficient hris mathematic statistic shrm cp shrm scp mckinney highway mckinney veteran\",\"scientist scientist typical undertake combine propose bsc ba prove scientist analyst sql python scala tableau hadoop proficient gmail slide outlook excel visio powerpoint sharepoint planner comprehension conflict flexibility accident tuition reimbursement qualified\",\"combine interpret sop sql excel sql sql oracle sql workforce cloud snowflake agile python javascript vbscript alteryx powerbi ssis unitedhealth covid covid unitedhealth covid covid unitedhealth telecommuter unitedhealth telecommuter resident unitedhealth unitedhealth unitedhealth affirmative unitedhealth\",\"supplemental informationplease leverage louisiana medicaid prepare medicaid medicaid translate desire healthcare medicaid medicare attachment resume louisiana datethis applicant applicant orleans\",\"equivalent appdynamic appdynamic devop engineer engineer reliability reliability sre techop bare aws optimization cloud spend aw ec2 aw tableau sql aws aws comfortable intermediate allegis\",\"analyst sambasafety sambasafety sambasafety don workplace denver albuquerque sacramento bee sambasafety glassdoor samba gather analyst sambasafety sharp samba excel spreadsheet bi tableau looker perk alternate unlimited volunteer generous healthcare wellness tuition reimbursement arrangement sambasafety sambasafety sambasafety sambasafety\",\"utilize microstrategy iri nielsen spectra gross supplier profitability oversee lmf roi roi roi alcohol beverage abc tabc\",\"analyst lseg python panda python panda enthusiasm sme lseg api vwap lseg lseg conform lseg\",\"sandston analyst examine typical ideal possess jensen integrity nimble sustainable passion innovative reliable empathy excel vba lambda mathematics tableau bi compensation saving sandston\",\"statistician I biostatistician biostatistician statistical additionally sas fda\",\"bi tableau bi quicksight sql principle strive analyst ctp ctp ctp ww nashville obsess ceo vps quicksight bi tableau hrbps fluency python\",\"ideal analyst cmb analyst cmb additionally analyst cmb analyst analyst cmb analyst importantly cmb analyst sr analyst chadwick bailey cmb expectations adhere cmb contribute cmb cmb typically successfully proof analyst cmb effectively cmb onboard cmb statistic psychology sociology cmb extremely proficient excel powerpoint outlook intermediate spss sas spss marketsight qualtric sql alteryx python pxowgmp60s\",\"sme prioritize crl liaison initiate crl crl possess visio reasonable sit repetitive supplemental fsa tuition reimbursement\",\"csu calibration sanction csu calibration csu sanction constant analyst identifie participate lob exemplifie possess strength accountable powerpoint excel jpmorgan chase morgan chase covid jpmorgan chase covid covid covid jpmorgan chase veteran\",\"greeting techintelli cpt opt h1b h4 ead l2 ead gc ead gc usc fortune verify techintelli qa engineer analyst engineer analyst python salesforce devop engineer scrum ui android oracle hcm ios placement referral I resume I consultant reside ead\",\"lifetime lifetime procure advancement procurement principal analyst specifically procurement procurement payable applicant specification shift outlet statistic mba outstanding superb distill excel sql alteryx tableau roi bi sql dbms python hourly pto eto sick fto parental healthcare dependent spending peak hampshire nevada utah vermont wyoming qualified requisition\",\"linguistic cognitive cefr c1 comfortable aws linguist ai inclusive aw conversation ethnicity amazecon principle mentorship annotate dive nlp nlu ml linguist engineer ai aws aws ml ai flexibility macos unix json willingness transparency regulation municipal applicant pursuant ordinance pursuant ordinance worker covid\",\"tableau hybrid tableau knoxville tn hybrid mining knoxville tableau orient attend diagnostic participate tableau tableau prep desire soap thrive tfs li rs2 dice cgi cgi cgi cgi qualified cgi cgi cgi cgi cgi cgi intel dashboard rept soap\",\"californian shield lgbtq medi cal adjustment adjustment analyst medi cal encounter actively compile participate actively medi cal excel sql honest courageous\",\"oncology ai hai rwe outcomes scientist rwe therapeutic diagnostic endpoint therapeutic scientist hcp applicant communicate independently ml practical python unix aws aws sysop kubernete desirable dash kubernete nlp cnn rnn lstm gnns agile scrum waterfall devops ci ml op cambridge gaithersburg waltham deliver I linkedin facebook instagram\",\"superstar kid aba superstar kid autism deficit adhd defiant developmental delay bcba certify analyst osceola seminole polk dutie remotely referral certification bcba bcaba\",\"wms wms analyst wm wms analyst sct responsibilitie wms facilitate crisp verify expertise demonstration\",\"analyst cgi cgi facilitate organize assess workflow don escalate communicate possess li jn2 cgi cgi cgi cgi qualified cgi cgi cgi cgi cgi cgi\",\"verisk excel li me2 verisk nasdaq vrsk ai verisk compact innovation verisk verisk certification forbe verisk racial verisk verisk unsolicite verisk verisk verisk verisk verisk\",\"consultant I homeless hmis analyst homeless hmis hmis homeless hud alternate aw telework harrisburg eligibility resume unofficial telecommunications relay trs commonwealth commonwealth commonwealth hiv reward wellness compensation perk reward eligibility\",\"inspire gather configure accountability pathologist coordinate investigate identifie assess represent communicate participate lis configure communicate participate ce oversee cap lieu lieu fundamental excel shift richland richland\",\"wifi charter scientist actively participate leverage observe establish achieve tableau tableau minimal minimal python sql willingness internship bda302\",\"hampshire liquor storr concord nh statistician I liquor statistician I prepare liquor administrator collect collect cfo administrator appendixes audits prepare cfo administrator liquor liquor certification statistician I excel liquor nh gov eoe tdd relay nh\",\"merger acquisition itss execution extensive prove telephony cloud azure oracle aws infrastructure sharepoint servicenow equivalent acuman\",\"analyst ba ba sql schemas salesforce crm salesforce cloud guidewire mis compensation ba pto ba agile waterfall crm crm mis sdlc sql sql uml\",\"advisory analyst analyst fortune advisory advisory accelerate advisory advisory analyst excel pe hedge vc azure devop jira sql\",\"firefox chrome wescom workday deliver signature\",\"bm analyst governance basel derivative commitment maturity repos transaction basel superior excel basel alteryx tableau jpmorgan chase morgan chase covid jpmorgan chase covid covid covid jpmorgan chase veteran\",\"utilize accurately billing payable receivable outstanding christen receivable clerical clerk invoicing aprind temporary dodge invoice\",\"consult bluecross covid participate contribute participate diploma certification proficient outlook excel powerpoint proficient proficient preference possessing worker worker flexhome vshp volunteer bcbst eeo bcbst furth bcbst eeo bcbst eeo placement acquisition bluecross covid tobacco tennessee quit\",\"engineer ade zeiss ade collaboration ade zeiss zeiss mprd zeiss psgp zeiss pmp psgp zeiss participate establish attend collect deliverable validate ssc carl zeiss microscopy zeiss innovation\",\"locate savannah ks harrisburg arkansas kentucky tennessee clearwave fiber analyst operational clearwave fiber kpi prepare contribute stem bi tableau qlik sql etl clearwave fiber lucrative referral perk tuition clearwave fiber linkedin advancement collaborative ownership courage resourcefulness simplicity clearwave fiber fiber optic midwest southeast hargray fiber clearwave clearwave fiber gtcr stephen pritzker clearwave fiber eoe\",\"erias venture scientist ts sci fs desire python streaming batch eria venture hourly roth immediate vest deposit reimbursement allowance productivity quarterly bonus anniversary morale celebrate erias venture referral remotely referral retirement tuition supplemental bonus\",\"point32health point32health harvard pilgrim workload alteryx tableau sql salesforce excel thp dutie evaluate tableau alteryx excel salesforce crm salesforce alteryx sql excel communicate bs mathematics statistic etl extract transform alteryx microstrategy excel sql exposure tableau bi seeking mathematical python vba increasingly hybrid confidential expose covid point32health point32health point32health covid point32health commitment inclusion point32health dei covid covid point32health\",\"cao plano legacy tempe dadm06 analyst justification sr cao governance cao classification retention destruction cao governance jpmc cao firmwide fdm oversee cao cdo governance ownership prepare cao cao ownership facilitate cao governance mentor jira confluence proficient excel capability collibra databook atlassian jira regulation qlikview tableau powerbi agile scrum confluence jira kanban lean sigma vba sql python jpmorgan chase morgan chase covid jpmorgan chase covid covid covid jpmorgan chase veteran\",\"wms wms analyst wm wms analyst sct responsibilitie wms facilitate crisp verify alex expertise demonstration\",\"workday workday analyst workday promise workday wv wv usage expertise demographic bi operational tactical workforce twp deliver twp acquisition capability wfpa bi bi wvit wfpa practitioner hris predictive exit workday proficient visio statistical workday bi tableau python excel workday workday prism prove prove applicant applicant\",\"analyst ytexntue89c amr amr amr dashboard amr dashboard amr dashboard amr dashboard amr dashboard amr tagetik tagetik tagetik adjust amr tagetik amr prepare animate amr yammer amr participate schneider reusable amr amr tableau dashboard schneider tableau tableau prep puerto rico covid concern affirmative boiler plate iot concern\",\"uct uct uct uct analyst fremont analyst I sop sop independently dutie qc qa qa certification reasonable criterion reasonable exposure overnight ultra ultra uct li bd1 uctcareer\",\"analyst medicaid medicare medicare modeler etl sql tableau analyst medicare medicaid sql tableau bi sas sas independence I I\",\"desire percentage fis fis fis fintech fis fis fis fraud fusion fis fis leverage employ sas python scala sql fluent adaptability fis fraud cyber competitive fis repayment fis eligibility fis fis fis eeoc fis eeo ada americans ada ada recruitment fis fis\",\"analyst seek analyst mde grants analyst agile waterfall sdlc facilitate gather waterfall azure devop sharepoint ideal desire desire tues possession possession desire exposure lifecycle desire\",\"rockville belgium rixensart scientist vaccine vaccine vaccine discovery excellence vx dd coe viral computational genomic vcg vx dd coe represent discovery advise discovery vaccine prepare phd vaccine foster discovery communicate discovery vaccine vaccine phd ng spoken ahead li inclusive toll affirmative covid covid healthcare healthcare transparency transparency\",\"analyst radnor analyst analyst healthstream analyst hris grow invest tuition reimbursement involve mlh accredit lm regardless licensure certification\",\"weird extract domo tableau compile contribute craft effectively comfortable excel visualization bi tableau domo analytics adword youtube comfortable python sql monetary adoption surrogacy fertility monetary wellness comfort tuition sick volunteer identity publicis groupe eeo\",\"eligibility postdoctoral snp phenome phewa genome ph gwas phewas fellow qualified proof scholar scholar specialist intern proof registrar pi ph fellow assignment rochester mayo recruiter kara schott eoe affirmative lgbtq reasonable\",\"qa jde inventory requisition jd edwards\",\"billing onsite creation banner cx hansen banner cx banner cx shift cognizant cognizant nasdaq ctsh headquartered cognizant fortune cognizant usjobscognizant applicant cognizant veteran careersna2\",\"duration sandia mathematics statistician statistical sandia publish statistic doe desire sandia inclusion sandia bayesian sandia extraordinary generous sandia clearance sandia doe applicant doe applicant sandia doe substance doe eeo lte sandia lte sandia\",\"contribute ida operational oe alexandria oed ida ida communicate dod dod possibly dod doctoral statistic eagerness willingness willingness dod ida ida forgiveness psfl alexandria potomac yard potomac yard metro potomac yard dash irs oed transcript citizenship ida ida\",\"nasdaq carg gurus disrupt scientist communicate instant imv ml statistic statistic guru ergs thoughtful covid li hybrid\",\"analyst clearance ts sci polygraph percentage analyst itsm incident analyst itsm engagement facilitate leverage servicenow tableau governance interpret acquire incident incident locate continual csi ts sci clearance polygraph itsm itil servicenow tableau servicenow excel spss sas desire itil certification civilian minority veteran\",\"accessibility temporary fluency shift sharepoint truist onboarding reward recognition contest sharepoint tableau sharepoint bcp planner continuity coordinate reasonable lend sharepoint proficient excel lend tableau microstrategy sas sql aptitude engagement comfortability truist workplace eeo transparency nondiscrimination provision verify\",\"epa epa nssc epa hydrology modeling analyst epa triangle epa epa epa epa cphea cphea phesd phesd hydrological hec hms hec ras creation examination examination investigation participating interact epa hec hms hec ras gis desire python unix epa triangle orau occasional orau epa epajobs epa permanent resident epa ord eligibility citizenship lpr citizen gpa discipline geoscience affirmation I I permanent resident epa ord epa ord orau eoe vet orau\",\"contra costa departments administrator hris peoplesoft neogov contra costa principal analyst organize tentative recruitment tentative tentative supervise competency interpret draw adaptability respond establish coach deliver ownership accountability innovative solve establish credibility facilitation stress agility seek facilitate establish organizational savvy integrity ethic formally appreciate possess operator possession desirable possession ipma certification possession shrm certification possession certification filing applicant tentatively tentatively deliver integrity ethic resolve conflict coaching facilitation innovative solve valuing organizational savvy regulation covid vaccine contra costa covid proof documentcenter mandatory vaccination pdfbidid conviction doj bureau investigation fbi contra costa disaster worker contra costa disaster worker disaster worker contra costa\",\"aba autism spectrum disorder scip iep abll vb mapp intervention bis iep pbs intervention implement adhere bccs procedural guideline respond initiate interdisciplinary attend idt cpse cse iep regulation coordinate certify analyst establish bcba cooperate adhere participate participate attend attend adhere ethical infection mantoux exhibit respond bcba psychology tc tc certification certify analyst bcba certify analyst bcba icf\",\"reston subcategory engineer shift clearance clearance engineer principal reston interact engineer translate engineer eoe covid covid fortune headquarter reston\",\"dfw headquarters dfw sv08 requisition intro communicate utilize sql utilize python utilize refresh excel vba python mis mba certification certification azure sql python bi tableau anaplan perk wellness requisition\",\"techpoint consult analyst techpoint sdlc analyst fundamental sdlc analyst elicitation defect uat agile ba storyboarde uml agile excel mapping eligibility undergrad w2 c2c shalini hybrid rockville\",\"analyst automation analyst kpis automation quantitative sql excel looker proactive I additionally perk healthcare retirement wellness nyse sq app spiral tidal tbd app bitcoin spiral crypto bitcoin tidal tbd bitcoin\",\"freelance c2c timezone cist partial hourly estimate duration web3 btrst engineer ai ml ml spark sagemaker airflow databrick kubernete aws python scala kafka streaming kinesis spark hadoop hive ci tensorflow pytorch familiar aws azure airflow sql python scala keras pytorch ec2 s3 proficient spark hadoop hive actively participate implement ml ml extend ml prove engineer kafka kinesis ml api exposure sql mongodb sql hiring qualify c2c c2c\",\"wichita malaysia wichita ks accountability eac estimate completion communicate reconcile initiate compile participate troubleshoot gather excel dod citizenship sap\",\"mart thrive initiate generate interpret interpret utilize mathematic statistic azure bi sql dax warehouse mart sql azure adf ssis ir adls azure sql ado azure devop agile excel pivot creativity competitive flex spending float voluntary wellness satisfaction kentucky oklahoma tennessee\",\"cambridge cambridge cambridge engagement crm analyst engagement engagement oversee igloo collaboration dei effectively facilitate saas canva miro coordinate saas lifecycle saas execute assume initiate prove proactive\",\"lmi lmi lmi topworkplace workplace lmi junior scientist honolulu analyst communicate contractor bachelors statistic math stem analyst ts sci python proficient agile git outstanding keen technique python sql capability li sh1\",\"evaluate configure voip guard periodically notify castit acceptable mcdba mcp mcsa mcas cisco voip backup exec tcp cisco\",\"analyst analyst uml responsibilitie hhub qa prioritization proactively adhere uml iseb certification recruiting recruit li sn1 li\",\"vp kunato kunato kunato kunato quant kunato quant kunato kunato quantitative kunato kunato intellectual willingness collaboration kunato rust python msc phd aspiration quantitative competitive automatic asap relocation meta mckinsey don grow\",\"analyst analyst analyst cloud prove coordinate tableau diagnose evaluate etl specification prove sap ecc etl alteryx tableau sql supplemental bonus hybrid norwalk\",\"consultant deadline midnight consultant duration duration assignment undp undp administrator erm undp bureau secretariat undp undp undp exo undp accountability undp undp dynamic systematic contributing undp appetite undp erm responsibilitie tor opg iwps psdd aml cft diligence ethics audit investigation assess deliverable propose tor propose secretariat secretariat secretariat tor propose erm undp erm tor tor secretariat tor appetite tor erm aml cft opg iwp psdd secu deliverable outputs inception inception tor secretariat tor tor erm tor competency tor demonstrated iso coso erm fluent offerer cv p11 tor tor undp undp consultant undp ic offeror undp reimbursable rla offeror undp applicant applicant tor undp institutional jessica murray consultant annexe annex undp ics annex ic template annex ic annex rla template undp procurement permanent resident\",\"analyst duration mechanicsville bsa bsa supervisor analyst initiative coordinator bsa empower delegate bsa supervisor appropriately I coach bsa supervisor bsa bsa supervisor bsa supervisor bsa bsa identifie effectively jad rfps sow gather elicit formulate regardsvenu gopalphone\",\"citizen clearance ts sci contracting antonio linthicum belvoir augusta devop\",\"combine analyst contribute collect unitedhealth spending saving reimbursement referral bonus voluntary ltc reliable covid covid unitedhealth internship analyst analyst abilitly unitedhealth covid covid unitedhealth covid covid telecommuter unitedhealth telecommuter unitedhealth affirmative unitedhealth uhg unitedhealth rpo\",\"uts deadline temporary shra uts analyst raleigh vacancy s018608 temporary hybrid dix raleigh propose estimate duration appointment organizational collect evaluate utilize competency adaptability competency\",\"sql excel mspb respond sql sas crystal contribute deliver boynton excel sql sas sql commitment contribute dress eeo mspb mspb\",\"alcor servicenow analyst itsm csm spm servicenow analyst servicenow servicenow itsm csm spm facilitate agile facilitate itsm csm spm participate referral servicenow\",\"knt engineer spc spc prolink qc calc spc prolink attend spc knt prepare spc assure spc manually qc calc spc spc spc knt spc assure spc knt qualificationsknowledge practical statistic statistic minitab newark python sql\",\"academy hsa arthur ashe hsa suny downstate suny ds brooklyn hsa suny downstate hsa academy hsa hsa hsa academy arthurasheinstitute academy coordinatorclassification saturdays suny ds pfizer moderna suny ds brooklyn academy hsa hsa clearinghouse hsa stem push hsa hsa hsa hsa academy hsa hsa skillsba bs mph excel filemaker qualtric monkey spss sas prove urm pto applicant hsa coordinator\",\"descriptionthe bi analyst gathering establish generating bi oversee excel powerbi obiee sql oracle\",\"cj logistic plaine engineer plaines analyst scientist continuous champion excel powerpoint sql bi tableau oracle powerbi skilled objective competitive pto grow acquisition cj logistics cj logistics llp cj logistics cj logistics affirmative additionally cj logistics verify\",\"analyst collect establish cloud passion excel possess citizenship aws cloud certification bash python powershell occasional li mi1 competency dlt contractor covid\",\"pursue bi mathematics engineer excel tableau primarylocation oakland ordway hoursperweek shift workday workinghoursstart workinghoursend affiliation nue nue contributor analytics lakeside mgr applicant\",\"microchip analyst planner guidance tableau tableau dashboard sql excel odbc tns publish troubleshoot tableau dashboard scp I collaborative tableau tableau interactor viewer convert excel tableau verbal teamwork microchip statistic mathematics analyst analyst prove tableau sql competency excel attribute sit walking veteran eeo eeo supplement transparency\",\"uw uw uw uw metric analyst metric ihme ihme burden injurie scenario effectiveness efficiency tracking ihme ihme ihme analyst demographic demographic burden injurie gbd ihme gbd gbd demographic gbd analyst analyst python stata additionally analyst analyst implement execute transform communicate participate equivalent adept ihme ihme ihme dei desire python stata uw uw authorization applicant disclosure commit covid vaccination governor inslee proclamation covid covid covid covid\",\"verify assurance bi tableau bi qlikview bobj analytics db2 android python herndon placement fortune placement assurance h1 sponsorship verify competitive tableau tableau extensive attribute hierarchy calculate parameter tableau tableau dashboard tableau tableau skilled rdbms sql oracle vertica analyst I willing visa visa expiry dob python sql\",\"analyst merchandising depot responsibilitie accountability sql sas enhancement scope locate typically certification sql sas tableau competency\",\"analyst frost responsibilitie lifecycle agile waterfall deposit impacs saving\",\"yorkers suny suny suny suny suny yorkers suny suny albany institutional institutional suny trustee trustee trustee institutional enrollment respond excel excel interpersonal intermediate intermediate commensurate nys applicant instruction pursuant governor relation institutional albany\",\"carvant syosset analyst carvant investigate sql saving hybrid solicitation recruiter syosset sql\",\"participate alignment integrate checklist integrate alignment sap watchlist accredit accredit pbs fluor erm requisition workforce\",\"alpha f2b f2b alpha alpha responsibilitie alpha participate contribute possess intermediate sql grow inclusion discover statestreet covid nbmbaa\",\"engineer scientist scala python typescript engineer scientist scala python typescript\",\"align hub css ctr analyst analyst ba journey defect defect uat jira cycle pdlc agile scrum interpret jira facilitate intense contribute contribute escalate aptitude agile sdlc stlc excel powerpoint jira proactive chase covid jpmorgan chase covid covid covid jpmorgan chase veteran\",\"announcement fairfax homelessness opeh fairfax homeless hmis fairfax hmis sharepoint hmis hmis fairfax fairfax illustrative notifie integrate participate attend fairfax covid proof vaccinate fairfax islander indo reasonable americans tty eeo tty merit fairfax livewell spending contributory retirement defer compensation commuter continuous forgiveness pslf\",\"sas sas tlgs sdtm adam sdtm sdtm sr statistical programmer biostatistician excel sas cdisc cdisc govern sop instruction sdtm adam govern statistic biostatistic bioinformatics mathematic sas sas programmer\",\"ai evaluate diploma actively bloomfield hybrid bloomfield\",\"pbg analyst tbm tbm bi ocio cot bi etl tbm bi independently tbm bi differentiate excel vlookup concatenation trim pivot etl tbm bi tbm tbm azure tbm tbm bi excel tbm bi sme tbm ocio ocfo powerbi bi congressional justification cpic tbm powerpoint excel excel powerpoint excel vlookup concatenation trim pivot etl bi excel tbm cpic py cy etl excel vlookup concatenation trim pivot sql macros tbm infrastructure itil itsm azure saas iaas paas bi costperform bi bi app etl whypbg pbg pbg portfolio pbg pbg retirement pbg prescription supplemental yearly bonus generous spot bonus inclusion pbg eeo pbg vaccine covid covid\",\"specialist statementthe specialist coordinator administer participate flexibility utilization franklin tn equivalency flsa specify certify analyst exempt clearance certification fingerprint clearance classified franklin tn\",\"specialist specialist gnmh collaboratively gnmh collaboratively bi ssrs gnmh gnmh sql sql vba powerbi sql ssrs desire passionate healthcare gnmh nashua reimbursement arrangement opt saving spending accident illness retirement generous earn extend sick bereavement tuition reimbursement supervision licensure qualify forgiveness nh repayment\",\"point32health point32health harvard pilgrim point32health analyst mcm analyst analyst dutie successfully point32health proactively implement qa deliver passion proficient excel commitment inclusion point32health dei covid covid point32health\",\"regulatory dora dora doi doi prescription affordability prescription affordability pdab additionally prescription affordability advisory pdaac advisory sfa analyst doi payer apcd wac asp orphan shortage civhc doi pdab pdab utilize prescription affordability interpreting analyst independently construct pdab pdab pdaac interpreting excel powerpoint tableau substitution appeal mqs substitution sas sql competency flexibility situational pdab doi excel doc slide covid vaccinate vaccinate covid pfizer moderna janssen supplemental neogov neogov incomplete comparative veteran preference veteran preference dd214 veteran preference revise statute adaaa dora adaaa coordinator rachael alkayali appeal regulation ccr appeal dispute\",\"kelseycare respond epic enrollment ge healthcare kelseycare verbal excel powerpoint outlook preference healthcare cms medicare tuition reimbursement reward recognition achieve kelsey seybold vevraa contractor tuition\",\"us6469 payroll percentage utilize ci competitive ci bs sql nosql ls excel covid precaution sanitizing affirmative applicants affirmative\",\"effectively prepare excel identifie hs diploma ge sql molina eoe\",\"analyst summarythis administer administer sharepoint excel arcgis autocad ormat\",\"warehouse locus locus leverage locus locus locus participate locus exceptional mba cpa cma netsuite salesforce outcome informationall eeo\",\"warehouse analyst nih nih impac nih\",\"toyo tire celebrate malaysia toyo tire analyst bi sharepoint toyo troubleshooting bi dbas bi bi bi expand sharepoint sharepoint bi sharepoint ba bs mathematic sharepoint bi tableau sql retirement sick toyo nitto nitto tire covid sql\",\"azure aw databricks4 tableau bi scientist scientist scientist apn powerbi python azure aws databricks exposure tableau bi certification bs certification seek triangle python sql\",\"scientist ut smb consult push actively mentor physics mathematics masters fluency python pyspark git jira aws ml gradient boost neural clustering neighbor nlp equally invite relentless inclusion nav phds compensation philosophy compensation competitive ownership unlimited hsa parental anywhere arrangement telehealth telemental pride geek meaningful perk reward naverick dna\",\"establish nyse smp segment segment unite scope inventory analyst ge as400 jd edwards wms proficient excel observe sox investigate inventory supervisor operational generate integrity transaction jd edwards locator jd edwards wms cycle supervisor ergonomic\",\"ivy penn penn penn forbes penn penn covid penn penn penn covid scientist analyst gtp wilson gtp continuation gtp biostatistic bioinformatic gtp jmp rna rna dna rna scientist scientist additionally pennsylvaniadata analyst perelman affirmative penn consideration spending penn tuition penn penn retirement penn penn supplemental roth tiaa vanguard penn genworth penn wellness penn penn penn penn penn annenberg penn relay franklin penn penn motors penn ownership penn adoption penn pennhr\",\"seta cyber assurance ia capability ia fisma rmf ia authorization vulnerability cyber cyber engineer cyber utilize import tableau ia excel sci favorably polygraph mathematic stem ia cissp casp dod iat iam skilled sagemaker python automation visio tableau infogram chartbloks python json desire tableau aws ia servicenow splunk ic dod cyber rmf relational rdms apache hadoop hadoop distribute elastic mapreduce emr sagemaker artificial\",\"fp analyst plano denali overtime fp vp fp analyst capture kpis kpis kpis competency mba excel intermediate powerpoint flexibility hyperion essbase netsuite mba hyperion essbase netsuite generous voluntary heath saving sick hyperion essbase netsuite kpis veteran disabilitie cfr\",\"statistician census ctdata hispanic connecticut statistician sas census formal generalize linear glmms sas multivariate adaptive regression spline connecticut ctdata hq hartford ctdata ctdata retirement\",\"analyst wsj barron marketwatch leverage execute accountabilitie oversee interpret propose oversee adobe tableau ga360 leverage facilitate engineer statistic sql python excel adobe ideally analyst newsworthy eeo disabled vet talentresourceteam reasonable covid req\",\"ai engineer cto ai tampa\",\"ag fortune carbon carbon competency curious bias willing math physics comfortable sql comfortable python li ro1 li\",\"pwc pwc pwc pwc pwc invite communicate I seek pwc uphold preference actuarial aerospace agricultural biological bioengineering mathematics physics architectural artificial robotic astrophysic biochemistry biomedical biomedical biotechnology physics circulation mechanic physics entrepreneurship mathematics forensic cybersecurity managerial mathematical mathematical mathematics mechanical petroleum app statistic preference cumulative gpa gpa communicate deliver contribute proactively excel powerpoint utilizing pwc pwc pwc lottery pwc pwc ordinance li\",\"analyst sourcing analyst commodity sourcing audit sourcing ariba oracle excel powerpoint harvard pmo continuity disaster optimize infrastructure concierge transformation migration cloud remediation staffing\",\"gome legacy gome healthcare gomed gome validate excel qa excel interpret referral supplemental bonus\",\"voting analyst caucusnon exempt temporary americans voting dataanalyst affiliation voting alc alc asianamerican islander alc voting worker immigrant reform civilright alc islander api census python census kindly voting analyst alc hiv\",\"analyst robotic rpa financlial robotic rpa gather specification visio oracle sql\",\"chesapeake engineer pe promulgate pe continuously prepare powerpoint prepare asset tracking administrator coordinate pe analyst engineer participate pe pe certification pe norfolk waterfront liaise payroll coordinate regulation jftr coordinate visa sofa rota naple gaeta promulgate pe deputy fleet concentration ge skilled navy validation brokering vsb mst navy pms eoss csoss nstm jfmm tdmis nsedr haystack onetouch nde dod capable lift affirmative veteran\",\"ref fortune scientist engineer walmart hive python sql diagnose qc git bitbucket explain proficient python comfortable hive sql cpg prove strongly ml eeo affirmative\",\"vaishali tekshapers I rpa nashville tn automation anywhere v11 a360 stack iq bot certify rpa ipa rpa automation anywhere v11 a360 stack iq bot abby flexi capture bot discovery bot ai ml chatbots rpa rpa automation anywhere a360 automate automation anywhere a360 automation anywhere certify rpa l2 bot aws devop ci sql sql api ipa rpa sql\",\"advisor sacramento hanson pat mcclain allworth allworth circle excellence barron ria analyst analyst interdepartmental vp tamarac merge portfolio tamarac portfolio tamarac orion wealthscape tableau bi analytics bi visio lucidchart retirement intern typical\",\"pierce oshkosh pierce manufacture pierce analyst evaluate infrastructure itil excel powerpoint sharepoint oshkosh oshkosh affirmative oshkosh oshkosh oshkosh arm regulation export regulation applicant\",\"analyst analyst analyst agile methodology tista healthcare certification healthcare saving saving tuition reimbursement evaluate coordinate facilitate prioritize crs cms xlc cr prove powerpoint excel visio analyst cms integrity clearance cms residency\",\"requisition nextera I representative nextera I I nextera I ideal I I ideally baltimore origination origination origination crm crm prepare coordinate investor relation grad ge equivalent exempt gexa lp relocation covid covid qualify alternatively\",\"analyst asset asset mgmt ham ham ham cot servicenow knowledgeable alm uat asset princeton itsm alm uat authorization servicenow\",\"greeting techintelli cpt opt h1b h4 ead l2 ead gc ead gc usc fortune verify techintelli qa engineer analyst engineer analyst python salesforce devop engineer scrum ui android oracle hcm ios placement referral I resume I consultant reside ead\",\"fs scai bi python sql snowsql bi tableau aws snowflake covid covid vaccination covid covid anticipate bringing anchor\",\"aeronautics nasa npp nov22 gsfc interdisc deadline decadal horizon astronomy astrophysic infrare telescope wfirst wfirst milky transit exoplanet tess tile tess galactic recognize tess wfirst nasa artificial migration statistic artificial goddard greenbelt interdisciplinary advisor barry patricia boyd alan smale designate permanent resident designate eligibility citizen lawful permanent resident lpr visitor applicant lpr ead I I eligibility doctoral\",\"amp amp pmo culver curious listening naturally jira zenhub wrike keynote excel anticipate slack contribute pmo excellence pmo empow scrum agile\",\"bs ai ml comprehend kendra lex transcribe sde ml loop phd inclusive aw conversation ethnicity amazecon principle mentorship affirmative minority veteran identity orientation inclusive aw conversation ethnicity amazecon principle mentorship\",\"westchester knick statistician inputter westchester knick arena bridgeport execute communicate nba ngss ids utilize validate ngss interact nba westchester knick nba nba covid msg madison corp msg knicks nba ranger nhl westchester knicks nbagl hartford wolf ahl logic knick nba msg msg greenburgh clg msg msg msg msg msg li\",\"acgi analyst analyst collect translate configure educate acgi acgi assure periodic acgi prove thorough css excel outlook powerpoint sql plsql javascript wiki orient continuous seek actively fullsteam eeoc ada fullsteam fullsteam fullsteam\",\"visible analyst fulfilment fulfilment analyst logistic ecl ecl analyst prepare prepare excel powerpoint hyperion essbase prove capable analyst controller excel salt ut excel\",\"analyst analyst analyst analyst analyst mdh medicaid baltimore medicaid transformation rotational mitr analyst medicaid assignment steer portfolio analyst medicaid analyst cpo agile analyst agile scrum armed desire analyst superior adaptable scrum agile applicant incorrect resume contractual retiree welfare instruction mdh recruitment preston baltimore mdh recruitment recruitment examination tty relay veteran\",\"analyst chemistry chemist I chemist retirement shift restriction adhere qms chromatography qms qms adherence pharmaceutical bs chemistry solve collaboration thoroughness aap eeo improper\",\"scientistlocation antonio txduration identifie sme integrate sme translate\",\"scientist aftermarket analytics aftermarket scientist tableau scientist accurately prepare participate typically breadth snowflake aw sql python predictive modeling visualization tableau peoria li hybrid tn eeo\",\"junior analyst analyst excel excel adobe vlookup sql excel adobe acrobat sql utilize mathematical prove excel bi analyst analyst\",\"op op op lookml looker sql looker generate sql pursue mathematics proficient sql looker tableau bi catered casual internete\",\"allocation execution specialist adept excel tableau sap sap proactively resolve seek educationbachelor tableau\",\"forbe ai scientist ai scientist involvement minimal viable translate deliver ai confidence motivation expertise math statistic engineer python sql conversant prove readiness expertise python sql jupyter notebooks panda spark specialization nlp nlu mlops ai additionally covid ai restlessly fortune cloud covid ai incentive\",\"exciting meaningful analyst pae analyst quantico huntsville responsibilitie interpret acquire interpret acquire locate statistic sql javascript etl excel spss sas doj eeo eeo supplement\",\"thrive forensic statistic sql python tableau powerbi proficient excel powerpoint willingness\",\"bloominbrandsjobs sr analyst bloomin sr analyst I tampa I I I proactively I sql bi bi eeoc\",\"workplace workplace tampa peo clearwater peo pillar excellence integrity prosperity affinity analyst analyst analyst consult identifie extensive scrum agile sprint compile attribute seek analyst uml qa agile scrum peo competitive voluntary supplemental accidental illness indemnity retirement spending dependent reimbursement saving pto ticket staffing winston crum clearwater pillar integrity affinity prosperity menus tampa trinity cafe homeless empowerment angel clearwater clinic kyms9vrqsr\",\"analyst leandro sql warehouse audits operational technological sop exist anthony elumeze supplemental bonus\",\"desire percentage fis fis fis fintech fis fis fis teammate compile bonus sql tableau python snowflake competitive fis repayment fis eligibility fis fis fis eeoc fis eeo ada americans ada ada recruitment fis fis\",\"cpg otc I analyst scientist hive sql python independently mathematics python pyspark cpg promotion unix methodology statistical modeling forecasting mining fusion cpg\",\"analyst duration foster capture escalate coordinate dvc continuously skilled participated familiar scrum kanban curious proficient powerpoint excel mural\",\"salesforce analyst salesforce crm crm unl lincoln eo mathematic tableau bi python matlab d3 crm exceptional flexibility willingness salesforce targetx sql salesforce targetx\",\"analyst shp svcs utiliztn mgmt shift analyst analyst shp mch shp accreditation sql sas python jaspersoft certification exclusion medicare medicaid affirmative\",\"guardian artificial scientist scientist discover validation deploy interact ph mathematics engineer mysql oracle hpc statistic cloud aws gcloud azure clearance nasa silicon nobel laureate draper prize silicon affirmative\",\"analyst exos analyst communicate effectively kpi prove looker tableau prove reflective curious covid fda covid applicant exos exos exos eeo eeo supplement\",\"behavioral aba aba aba bcba supervisor oversee bip technician observe asd aba attend possess aba certify analyst bcba competitive retirement ceu acorn advisory greg hanley balanced supportive baltimore\",\"bhg bhg bhg jr analyst sql python automate python sql python bi bs intermediate sql python qa sql python databrick panda bi databrick bhg bhg pma bhg bhg competitive pto ongoing bhg bhg bhg bhg li\",\"ai python ml aw ecs rds s3 cloudformation deploy infrastructure datadog sentry optimize tableau postgresql ml apache airflow aws ecs rds s3 cloudformation bonus mlops ci python sql postgresql arena baltimore pto eeo qualify\",\"dynamic analyst dynamic analyst dynamics crm engagement ce dynamic ribbon workbench dashboard dataverse facilitate preparation umls visio pos participate migration crm middleware mulesoft api odata api ssis dynamic crm responsibilitie whenever applicant\",\"salesforce analyst salesforce salesforce ba architect salesforce participate analyst salesforce prove\",\"qa engineer automation collector qa eng macbook qa engineer organizational responsibilitie qa eng collector ml tableau keeping preparation prepare interpret sw bs sw mba ml alg tableau python sql prove cupertino python sql\",\"sel sel principle principle simplify bs stem sel python matlab pullman sel sel applicant sel cv sel sel sel\",\"passionate cmo fp affair kpis kindheart siop fso cmo proactively excel sql snowflake tableau prove eeo covid\",\"analyst bcba bcba screener vbmapp abll afls socially savvy dtt iep collect supervise bcba lawrence supervise technician lawrence behavioral superintendent mtss rtii pbis observation corresponding behavioral collect behavioral superintendent supplemental bonus signing lawrence certification bcba\",\"b2b roi scientist telecommute communicate architect engineer consultant statistic sql python desirable b2b b2c aws tableau eoe dei\",\"landau ng specifically ng python perl bash tensorflow competency consistently collaborative communicative adaptable innovative adaptable nygc nygc rna nygc als alzheimer parkinson huntington locate manhattan nygc nygc nygc vevraa contractor flsa exempt\",\"discover wherever prospective involve oversee conflict familiar sql prove covid linkedin tetratechcareer twitter tetratechjob facebook tetratechcareer vevraa\",\"floral excel specialist delray excel specialist excel\",\"analyst healthcare wms2 fsd governor inslee proclamation analyst analytics fas fsd hca fas hca hca fas hca analyst hca hca establish pl sql sql organizing hca hca desire competency sql excel supplemental neogov hca hca hca medicaid pebb sebb meaningful hca hca tuition angelic matthew\",\"groundswell spending tuition logistic analyst erp logistic leverage logistic validate gs excel erp erp logistic procurement execution inventory gs groundswell groundswell groundswell groundswell affirmative\",\"analyst analyst identifie optimization compile excel python engage assisting collect coordinate personality teamwork competency cooperation teamwork engage strategize seek coordinate bs statistic behavioral python sharepoint govdelivery generous spending tuition covid eeo inquiry verify verify\",\"dayton spire r1 exempt udri engineer spire citizenship python enthusiastic python artificial reinforcement git subversion instruction applicant covid closing inform catholic marianist inform affirmative\",\"c5isr headquarter chantilly c5isr matlab python perl clearance competence matlab python perl\",\"analyst southeast sela ahec louisiana std hiv hepatitis shhp analyst orleans shhp sas superior analyst eoe retirement excel sas\",\"plano seek lob jpmc python tableau alteryx enthusiastic jpmorgan chase veteran jpmorgan chase morgan chase covid jpmorgan chase covid covid covid jpmorgan chase veteran\",\"sql python sas matlab marvelous mrs maisel ryan harlem bosch leverage ml tableau quicksight\",\"cleveland scientist skillset utilize dataset dive interact collect modeling iteratively foster assign mathematics excel vba python proficient sql postgresql sql soql proficient git bi tableau scipy caret aws codecommit s3 lambda eventbridge systemsmanager oracle obiee alteryx competency agility initiative continuous sit eoe eeo americans ada disclosure adaaaccommodation\",\"brunswick dutie assess gather collect requirment mba\",\"bi analyst alpharetta bi analyst responsibilitie sql compass nav implement critically prepare bi reasonable proficient extremely thorough\",\"thrive durham durham durham lgbtqia tier prepare sharepoint sharepoint analyst covid covid adobe acrobat ada excel powerquery powerbi powerpivot arcgis esri adobe cloud demographic\",\"sox analyst audit sox analyst coordinate highbond sod audit coordinate administer audit regularly reasonable excel sharepoint willing sap li nk1 additionally\",\"jr analyst facilitate designing analyst tresume tresume uscis baltimore\",\"dutie bureau statistic bjs principal deputy bjs bjs principal deputy bjs selective disclosure ses typically gs supervising applicant ecqs ecqs ecq inherent ecq ecq inherent ecq ecq inherent ecq ecq acuman ecq coalition mandatory mandatory mtqs mtqs mtq mtq mtq mandatory veteran incomplete americans eligibility evaluate applicant mandatory opm ecqs applicants ecqs mandatory mtqs eligibility resume narrative mandatory mtq narrative ses ecqs opm applicant cdp ecqs opm sf usajob usajob usajobs usajob catherine sinicrope catherine sinicrope2 catherine sinicrope catherine sinicrope2 bureau statistic applicant transparent eeo reasonable selective signature resume narrative mandatory mtq narrative ses ecqs opm applicant cdp ecqs opm sf ecqs citizen clarification applicant\",\"dhss dhss delaware dhss supervision merit analyst applicant posting medicare medicaid cms moderna pfizer moderna pfizer cms covid prevention covid applicants verify I seeker dhss narrative statejob delaware tdd delaware relay delaware\",\"radnor alternate arrangement relocation p1 requisition glance lincoln preparation analytics tableau generate identifie lincoln preparation lpp rise exceptional gpa tableau excel ui ux certification arrangement lincoln lincoln contribution lincoln lincoln lincoln lfg veteran lfg\",\"healthcare licensure certification billing certification certification\",\"duration scrum facilitate freelancer gateway artificial\",\"statistical programmer syneo statistical programmer syneos syneoshealthlife sas statistical programmer biostatistician sop wis ich anticipate prepare statistical programmer statistical programmer minimal undergraduate syneo syneos equivalent occasionally equality directive americans covid submission li tl1\",\"infrastructure quantitative researcher phd scientist ideal researcher scientist phd employ python sql communicate phd statistic sql python sas matlab numpy scipy panda scikit matplotlib pyplot facebook affirmative facebook\",\"analyst christi francis fy2021 christi christi christi christi tuition reimbursement retirement generous pto benchmark ge preference tableau excel christi christi christi eeo affirmative applicant discrimination eeo eeo eeo supplement verify verify verify\",\"generate uhccp sql collaboration uhc gather communicating evaluate datamine informatic bi tableau sas qlik excel powerpoint visio healthcare hedis medicaid medicaid covid covid unitedhealth unitedhealth covid covid unitedhealth covid covid hiv telecommuter unitedhealth telecommuter unitedhealth affirmative unitedhealth\",\"engineer whippany engineer infrastructure analyst sql nosql ml acquire fca exceptional sql python kaggle aws openshift docker kubernete apache airflow aws emr glue s3 lambda whippany whippany\",\"responsibilitie berlin dubai singapore jakarta seoul tokyo procurement nyc sql python sas familiar bi curious recruit corp li hybrid\",\"jetro holdings scientist whitestone expressway whitestone scientist junior analyst whitestone expressway whitestone corp\",\"sql datawarehouse python engineer analyst visa engineer analyst sql mastery sql sql oracle sql postgre warehousing snowflake redshift sql warehouse python nodejs etl elt mattelion fivetran databricks cloud spark kafka hive parquet\",\"americas ref permanent nomura nomura nomura aon nomura csg coordination bdc lifecycle clm lifecycle regulatory outreach manipulate nomura facilitation propose asset intellectual desire sql desire alteryx tableau bi nomura\",\"logic20 logician connected hub scientist logic20 logic20 adam cornille sql python nlp phd eeo compensation logic20 logic20 logic20 excellence integrity foster logic20 logic20 pto voluntary worry logic20 recognition logic20 referral bonuse\"],\"marker\":{\"color\":\"#CFD8DC\",\"opacity\":0.5,\"size\":5},\"mode\":\"markers+text\",\"name\":\"other\",\"showlegend\":false,\"x\":[5.388125896453857,6.491128921508789,9.778868675231934,6.78551721572876,6.951651096343994,8.093364715576172,4.128475189208984,7.26658821105957,7.733941555023193,7.665185451507568,6.58796501159668,5.818897247314453,4.901378631591797,5.284383296966553,9.367984771728516,6.6045966148376465,5.110821723937988,5.547295570373535,5.103201389312744,9.632031440734863,6.942219257354736,6.76954984664917,6.986944675445557,7.464803218841553,4.920662879943848,8.681343078613281,7.3512282371521,7.934599876403809,8.537887573242188,6.967931270599365,6.196297645568848,7.110333442687988,9.575029373168945,6.591126441955566,8.181994438171387,9.580081939697266,7.301997661590576,5.882153511047363,9.467876434326172,8.27346420288086,7.822440147399902,7.40828800201416,7.438492298126221,6.242258071899414,6.640002727508545,6.654693603515625,8.774409294128418,6.474535942077637,6.399441242218018,7.5633931159973145,7.043385028839111,6.77763032913208,7.138594150543213,8.23141098022461,6.793235778808594,7.561690330505371,7.220009803771973,7.9054436683654785,5.058701515197754,8.03747272491455,9.137711524963379,7.468618392944336,7.529829502105713,4.32736349105835,7.569290637969971,7.436264514923096,6.11431884765625,6.019081115722656,7.196847915649414,5.166482925415039,5.284703254699707,6.200267791748047,6.012770652770996,5.202514171600342,8.18563175201416,8.624414443969727,7.03176212310791,7.396862030029297,7.4252238273620605,6.834614276885986,7.691511631011963,8.052987098693848,6.701328277587891,5.954111099243164,8.736074447631836,5.311986446380615,4.696162223815918,6.850435256958008,6.729499340057373,5.56658935546875,7.773015975952148,8.37301254272461,4.8459672927856445,8.010440826416016,6.751553058624268,8.892352104187012,6.439726829528809,4.352090358734131,6.471714019775391,9.021342277526855,7.708696365356445,6.8213725090026855,8.37742805480957,8.327072143554688,6.935503005981445,9.821438789367676,6.094995498657227,7.073023319244385,7.786624431610107,5.90411376953125,7.660714149475098,4.595952987670898,7.723642826080322,5.221329689025879,4.018631458282471,7.964132785797119,6.343481540679932,6.812499523162842,7.041836261749268,7.552395343780518,8.778780937194824,9.429800987243652,7.386437892913818,8.137471199035645,7.175753116607666,5.2827863693237305,6.844488143920898,6.847064971923828,6.027126312255859,6.439260482788086,9.008740425109863,8.38940715789795,5.840388774871826,6.321049690246582,7.702902317047119,7.342835426330566,7.3010077476501465,5.788712978363037,5.9407501220703125,8.84245491027832,9.013272285461426,4.466121196746826,6.279118061065674,6.701991558074951,6.612213134765625,7.753551959991455,6.258316993713379,7.915510177612305,5.723140239715576,4.941588401794434,6.967482566833496,8.766005516052246,6.69389009475708,6.5315937995910645,7.530918598175049,6.28706693649292,8.355406761169434,6.619577407836914,7.685162544250488,7.630794048309326,6.224785804748535,8.42117691040039,5.4485321044921875,6.822478771209717,6.370717525482178,6.958576679229736,6.006402492523193,6.8027472496032715,8.433760643005371,8.598796844482422,5.622894763946533,7.477870941162109,5.775611877441406,6.477982997894287,6.695756435394287,5.4800004959106445,7.353080749511719,5.205960273742676,6.563943386077881,5.909574508666992,4.857512950897217,7.135928630828857,4.952282428741455,6.283994197845459,6.42575740814209,6.616458415985107,6.631686687469482,4.852627277374268,8.71428108215332,8.621394157409668,6.981128215789795,6.9888176918029785,5.96464729309082,9.412904739379883,6.083616733551025,8.988375663757324,6.829061508178711,6.427469253540039,5.186415195465088,7.222563743591309,8.23625659942627,5.3109941482543945,7.124396324157715,7.438562393188477,6.398603439331055,8.62129020690918,7.492427825927734,5.509221076965332,6.435798645019531,6.714239597320557,8.173745155334473,6.116415500640869,5.999045372009277,4.879627227783203,8.702092170715332,8.383321762084961,9.174426078796387,8.808867454528809,5.520642280578613,6.353210926055908,5.6611456871032715,7.2297186851501465,5.8772382736206055,5.985808849334717,7.237520694732666,6.856033802032471,6.669859886169434,7.484755039215088,5.66514778137207,7.401562690734863,7.341099262237549,7.809463977813721,6.283656597137451,7.635256290435791,5.034368991851807,6.422296047210693,6.155352592468262,6.700541973114014,7.355826377868652,4.9523420333862305,6.584000110626221,8.676273345947266,6.689693450927734,7.127465724945068,7.3773193359375,7.833647727966309,7.020999431610107,6.752720832824707,5.939426898956299,8.211726188659668,6.819824695587158,8.263957977294922,5.858651638031006,7.217179298400879,8.66444206237793,7.594450950622559,7.570004940032959,8.547940254211426,5.089511394500732,7.791593551635742,5.875892639160156,7.623095989227295,6.466617584228516,7.857244968414307,6.117866039276123,5.54637336730957,8.747319221496582,5.111789703369141,7.895669937133789,6.073019504547119,9.628010749816895,5.2140302658081055,7.585343360900879,7.231738567352295,5.443686485290527,6.606144428253174,8.038854598999023,7.709061622619629,5.405688285827637,7.582224369049072,7.5052056312561035,9.609249114990234,7.629867076873779,8.97243595123291,7.793507099151611,7.559398651123047,8.83651351928711,5.774101257324219,8.961417198181152,8.524625778198242,5.71048641204834,7.216741561889648,9.001461029052734,5.259400844573975,6.785486698150635,6.118743419647217,5.687265872955322,8.486398696899414,9.401782035827637,7.950177192687988,5.981986999511719,7.379091262817383,5.9820332527160645,6.104579448699951,7.851384162902832,7.486877918243408,7.228934288024902,4.85388708114624,5.942249298095703,8.791810989379883,6.429630279541016,8.087113380432129,8.324344635009766,7.560555934906006,7.432769775390625,8.366927146911621,6.528467655181885,7.692455291748047,5.662158966064453,7.297551155090332,5.899400234222412,7.612605094909668,7.891009330749512,6.886329650878906,8.092327117919922,7.606637954711914,7.368020534515381,7.921985149383545,4.886350154876709,5.834712982177734,6.700010299682617,9.57996654510498,5.681366443634033,9.219317436218262,8.085356712341309,7.247889995574951,9.3855562210083,5.681008815765381,5.880077838897705,5.923006057739258,6.233737945556641,7.661410331726074,6.037822246551514,4.822027206420898,5.680722236633301,7.388495922088623,6.207982540130615,5.796497821807861,7.998305320739746,5.926958084106445,5.927694320678711,7.33317756652832,7.234908580780029,6.29549503326416,6.256582260131836,7.691489219665527,8.654247283935547,5.258455276489258,5.969712734222412,6.562093257904053,8.433720588684082,5.487038612365723,5.774070739746094,5.124861240386963,4.651673793792725,7.560078144073486,7.03456449508667,7.8412604331970215,7.120335102081299,6.8955793380737305,5.349090576171875,7.518385410308838,6.810276031494141,6.9948906898498535,7.450218200683594,8.078015327453613,7.258661270141602,6.804980754852295,7.769790172576904,4.225247859954834,6.352551460266113,8.427369117736816,4.85018253326416,7.080367565155029,8.10079288482666,5.517545700073242,5.605613708496094,6.003338813781738,8.87552547454834,6.963967323303223,9.098405838012695,6.585083961486816,6.347691059112549,4.521573066711426,6.6258673667907715,6.260648250579834,6.108719825744629,5.694159030914307,7.494782447814941,6.786770343780518,9.153754234313965,8.837041854858398,5.696308135986328,5.8643927574157715,6.128564357757568,8.727293968200684,4.5334153175354,6.029425621032715,5.849376678466797,4.860819339752197,4.543598651885986,5.994205474853516,7.4492669105529785,8.687384605407715,8.907073974609375,7.688413143157959,8.656816482543945,5.7703046798706055,7.383639335632324,7.931090354919434,6.255136966705322,5.367594242095947,5.370898723602295,5.893875598907471,6.15190315246582,7.191341876983643,8.567771911621094,9.742673873901367,5.226531982421875,6.966928005218506,6.816036224365234,6.716355800628662,9.220345497131348,5.652865409851074,7.825070381164551,5.6656975746154785,6.773887634277344,6.881295204162598,6.129579544067383,7.011838436126709,5.820572853088379,7.307797908782959,8.345958709716797,6.021210193634033,8.7166748046875,7.6013312339782715,5.5334601402282715,7.063277721405029,6.443475246429443,5.123190879821777,7.882228374481201,8.451288223266602,8.525894165039062,6.484575271606445,8.240809440612793,7.578836917877197,7.28953742980957,7.686583042144775,7.653964042663574,8.279680252075195,5.1211771965026855,7.226452827453613,5.957754611968994,8.758880615234375,7.586037635803223,6.508594989776611,7.623786926269531,8.976366996765137,7.587760925292969,7.569759845733643,5.613165378570557,5.672255516052246,6.673299312591553,6.375599384307861,8.02464485168457,8.850578308105469,8.73647689819336,7.561086177825928,8.59278392791748,8.110321998596191,7.612608909606934,6.519412517547607,6.451726913452148,6.205031871795654,6.20595121383667,7.441110134124756,6.8919243812561035,8.421903610229492,5.6789469718933105,8.460925102233887,6.785574436187744,8.51427173614502,7.991726875305176,7.463413715362549,7.219958782196045,8.357081413269043,4.228442668914795,5.917261600494385,5.8447771072387695,6.017144203186035,7.330151557922363,7.402007579803467,6.897034168243408,5.156972408294678,4.865522861480713,8.41417407989502,8.597615242004395,8.782492637634277,8.081661224365234,7.773257732391357,7.3505988121032715],\"y\":[6.880918025970459,3.1784327030181885,4.991542816162109,2.502742052078247,4.315659999847412,6.711464881896973,7.596956253051758,2.6967666149139404,2.520310401916504,1.863411784172058,2.7977657318115234,5.875978946685791,7.2169342041015625,7.4996843338012695,5.505295753479004,7.842129707336426,6.1949076652526855,6.9503493309021,7.3622612953186035,4.7384724617004395,4.435521602630615,6.195999622344971,4.954787731170654,1.959251880645752,6.969022274017334,5.320796489715576,6.012588024139404,4.241619110107422,4.441857814788818,1.692854642868042,4.863606929779053,6.1403632164001465,5.099045276641846,4.7812395095825195,5.622106552124023,4.715097427368164,5.9540114402771,6.425045967102051,4.287302017211914,2.3252689838409424,5.142865180969238,2.7571797370910645,6.013930320739746,6.958837509155273,6.465110778808594,4.146999835968018,3.9787399768829346,3.8649065494537354,4.381465435028076,4.83198881149292,3.5766618251800537,4.502875804901123,4.6417012214660645,2.194957733154297,4.279534339904785,8.749931335449219,4.257972717285156,6.825255870819092,7.452822685241699,2.017904281616211,2.496215581893921,2.1912882328033447,3.334160566329956,7.6193528175354,8.755826950073242,3.956329584121704,5.446959972381592,3.3852391242980957,6.030348777770996,7.027548789978027,6.931309700012207,3.7517428398132324,3.5703279972076416,6.1335039138793945,6.611769676208496,2.9439635276794434,6.100398540496826,4.677666664123535,2.5177338123321533,3.2574961185455322,4.9854512214660645,4.540276050567627,4.016230583190918,3.0081217288970947,5.465656280517578,8.253296852111816,6.627930164337158,5.1565046310424805,7.254154682159424,6.866153717041016,4.89369010925293,4.7352800369262695,9.084688186645508,3.747738838195801,4.541046619415283,2.666288137435913,4.488196849822998,7.793610095977783,3.2028660774230957,1.9392900466918945,5.510127544403076,4.194665431976318,2.36854887008667,6.259319305419922,3.692500591278076,4.540200710296631,2.542806625366211,2.3528976440429688,3.8144567012786865,6.882044792175293,5.370168209075928,7.728737831115723,4.289193630218506,6.918869972229004,7.642532825469971,5.025595188140869,6.15081787109375,4.313101291656494,3.8811278343200684,2.4070680141448975,4.859198570251465,3.35595440864563,3.592743396759033,1.9651213884353638,4.686652660369873,6.544068336486816,4.018640041351318,6.825476169586182,6.822011947631836,2.165604591369629,1.9788798093795776,2.556260824203491,6.488071441650391,6.386636257171631,3.849675178527832,2.7595839500427246,2.964566707611084,5.261579513549805,4.105156421661377,2.579484462738037,3.7387919425964355,7.564584255218506,6.031599044799805,2.4445559978485107,2.8062963485717773,5.1197052001953125,3.3999831676483154,2.0377700328826904,6.276216506958008,6.724183559417725,4.631946086883545,4.608443260192871,4.090958595275879,6.342841625213623,2.268876314163208,3.72147274017334,5.754192352294922,2.666484832763672,4.252997398376465,2.0811655521392822,3.8790345191955566,5.802877426147461,6.093867778778076,3.2843048572540283,2.3632888793945312,2.574096918106079,2.8287901878356934,5.564083576202393,5.793634414672852,5.532313823699951,4.529996395111084,2.241424083709717,6.312424659729004,6.423380374908447,7.458276271820068,5.835500240325928,3.8625335693359375,7.3070173263549805,4.829914569854736,5.718888759613037,7.996541500091553,5.23145055770874,7.195501327514648,3.5958492755889893,2.8975234031677246,4.547747611999512,4.612527847290039,9.096773147583008,2.8681280612945557,3.400801658630371,2.5954177379608154,1.7231136560440063,7.676578521728516,3.3217105865478516,7.307188510894775,2.2520999908447266,4.931351184844971,2.2529215812683105,6.9207072257995605,2.55572772026062,5.1737751960754395,7.754629611968994,6.772841930389404,5.7005205154418945,2.9463908672332764,3.412477493286133,3.201537847518921,7.680417060852051,4.400789737701416,4.5794878005981445,2.179248094558716,3.3103222846984863,4.132694244384766,8.009986877441406,3.6603853702545166,2.4067251682281494,4.897958755493164,3.640885591506958,6.612494945526123,3.132931709289551,8.261155128479004,2.2752578258514404,3.1882808208465576,6.457035064697266,4.306990146636963,5.3183159828186035,4.546976566314697,4.961668014526367,5.31611442565918,5.144464492797852,2.834498405456543,4.493402481079102,5.037722587585449,7.0125651359558105,6.737077236175537,2.4451687335968018,5.886322021484375,5.787930011749268,4.559756278991699,7.187466144561768,4.758959770202637,2.85766339302063,3.1710026264190674,6.509709358215332,4.026812553405762,4.4480366706848145,2.5386857986450195,6.043187141418457,6.755991458892822,5.534272193908691,3.072331190109253,3.662393808364868,5.828547954559326,6.005071640014648,4.853309154510498,4.8028764724731445,8.737241744995117,2.5665857791900635,6.346342086791992,3.419100522994995,5.419835090637207,6.973396301269531,6.28624963760376,3.9082653522491455,7.04695463180542,6.814464092254639,5.305856227874756,7.385735511779785,3.7390129566192627,3.4049808979034424,4.738941192626953,6.882776260375977,8.775781631469727,6.30249547958374,7.991358280181885,4.56783390045166,5.27793025970459,6.0383782386779785,6.85831356048584,2.2182326316833496,6.843022346496582,5.112878322601318,6.990085601806641,2.643963098526001,3.759312152862549,8.736756324768066,1.8534663915634155,4.566514015197754,5.933034420013428,6.127769470214844,6.829978942871094,5.842804431915283,4.947682857513428,6.020434856414795,5.775208473205566,7.038143634796143,6.3510003089904785,3.6159451007843018,3.3348164558410645,5.013916969299316,7.136066913604736,3.1818692684173584,3.7571325302124023,3.3013916015625,3.411285161972046,5.1724066734313965,2.7515509128570557,9.095658302307129,2.7854061126708984,5.000748157501221,3.6997487545013428,3.547053098678589,6.079748153686523,2.509101390838623,4.468372821807861,5.75295352935791,4.896487712860107,4.1386284828186035,8.231321334838867,6.106046676635742,4.113274097442627,6.963814735412598,6.853833198547363,4.3852858543396,5.963940143585205,8.677112579345703,4.881438255310059,6.823608875274658,8.03090763092041,3.9135451316833496,3.8823437690734863,3.6977221965789795,5.795992374420166,3.191240072250366,6.687754154205322,2.6904966831207275,3.260544538497925,8.237814903259277,3.1786201000213623,6.353644847869873,6.654972076416016,3.7984471321105957,2.742863893508911,8.962599754333496,8.215821266174316,4.875522613525391,6.090457439422607,7.547704696655273,5.156352519989014,2.8034157752990723,5.725696563720703,2.408057928085327,5.43418025970459,2.4889440536499023,3.21528697013855,5.754002571105957,2.988652229309082,7.8811936378479,5.767588138580322,6.904953956604004,4.484306812286377,6.63784646987915,4.280513286590576,7.197738170623779,6.898250579833984,8.746606826782227,2.7219197750091553,5.569161891937256,4.776454925537109,4.447019100189209,7.679039001464844,2.7298924922943115,5.4220685958862305,3.6567349433898926,5.071902275085449,5.628006458282471,3.396155834197998,6.263026237487793,3.0266475677490234,7.614569664001465,5.0039143562316895,2.4111928939819336,9.091012001037598,2.873652935028076,6.702364921569824,6.8295698165893555,7.611202239990234,7.218644142150879,2.6546008586883545,4.731962203979492,3.1681344509124756,2.5652823448181152,5.956277370452881,7.315700054168701,5.7572526931762695,3.595834493637085,3.176412343978882,5.233928680419922,4.916907787322998,2.9529831409454346,5.563272476196289,4.37469482421875,8.201275825500488,3.969634532928467,7.048881530761719,1.9038034677505493,7.786970138549805,3.4098527431488037,6.3494720458984375,9.063633918762207,7.308347225189209,2.92299747467041,4.465987682342529,2.7987053394317627,2.266558885574341,3.831753730773926,3.341892957687378,4.547192573547363,5.896799564361572,4.526711940765381,4.544612884521484,7.75759744644165,7.414613723754883,6.512577056884766,6.883214950561523,2.677530288696289,2.5362679958343506,4.449138164520264,7.393276691436768,2.572556972503662,3.0012922286987305,3.2862792015075684,2.5839195251464844,6.288230895996094,5.551777362823486,7.5574049949646,3.369330406188965,5.851692199707031,3.67913818359375,3.050381898880005,6.73701810836792,6.050888538360596,4.7902092933654785,5.786006450653076,5.476576328277588,6.9590253829956055,7.69287109375,4.607021331787109,3.9512271881103516,6.168072700500488,4.184146881103516,2.4521167278289795,4.039645195007324,3.940856695175171,4.714139938354492,2.2118706703186035,5.459744453430176,3.31526255607605,2.142448663711548,3.385794162750244,6.357418537139893,2.20062255859375,5.744053840637207,4.438613414764404,2.21186900138855,4.52549934387207,5.427914619445801,3.7205069065093994,3.421950578689575,8.71666145324707,7.672178268432617,7.555055141448975,4.623076438903809,4.3575439453125,6.190544605255127,6.08481502532959,5.338250160217285,8.731226921081543,4.996671199798584,6.084743022918701,3.0505576133728027,3.827347755432129,6.1801886558532715,4.4283766746521,3.8976263999938965,3.760286569595337,7.438648700714111,4.889389991760254,8.245723724365234,5.801056385040283,4.512187957763672,3.010507106781006,2.1856534481048584,3.6411077976226807,2.5545814037323,2.3860485553741455,7.663750648498535,5.600649356842041,6.464296340942383,3.3860409259796143,2.1158735752105713,4.434422492980957,6.851858139038086,6.324787139892578,9.09150505065918,5.722997665405273,3.4022343158721924,3.627445936203003,5.417871475219727,3.6827123165130615,5.3062944412231445],\"type\":\"scattergl\"},{\"hoverinfo\":\"text\",\"hovertext\":[\"agile devsecop departments homeland treasury excellence reputation r2 d2 reputation reputation excellence excellence scientist sas python matlab sql hive pig spark experienced possess excel powerpoint dependent formulate interpret coordinate experiment coordinate engineer analyst integrator intel analyst ts sci dhs eod excel powerpoint tableau sql python sas comfort covid covid covid\",\"ml ops engineer fidelity labs catchlight catchlight catchlight ml ml op engineer ml expertise extensive python ml ml op ml aws sagemaker airflow kubernete terraform ml ci ml passion fidelity labs fidelity fidelity fidelity certification fidelity honor glassdoor fidelity covid fidelity dynamic fidelity fidelity absence\",\"institutes biomedical nibr nibr immuno oncology hematology ioh ioh ioh nibr interrogate ioh eeo ph python imagine commitment inclusion accessibility reasonable nibr immuno oncology hematology entity nibri shift\",\"consumption deliver ai ml pipeline ai mlops ideate healthcare validate ai ml nlp ml ai python keras tensorflow pytorch panda scikit jupyter recognition aws azure gcp aws sagemaker azure ml ml ml rapid acceleration outreach inclusive exacthire\",\"dubuque consultant mdm dg dq bi adhere communicate utilize dq dq dq mdm proactively secrecy bsa bsa secondary analyst analyst analyst analyst warehouse analyst prove superior sql rdbms prove\",\"innovation doi nonclinical nd scientist nd artificial ai ml ai inform qsar ml prepare ml pcd preclinical ml upskill nds ai ml ph javascript ml dnn generative ai sql postgresql rahway msd imagine applicant placement spd hrbp acquisition advisor puerto rico covid puerto rico resident transparency nondiscrimination representative carefully rahway sharp dohme rahway relocation visa sponsorship arrangement hybrid shift hazardous requisition r201193\",\"wells fargo wells fargo wells fargo analytics analyst analyst wells fargo analytics analyst fargo wells fargo te desire tableau powerbi exposure agile exposure ba bs math physics quantitative charlotte minneapolis moines phoenix wells fargo wells fargo wells fargo operational regulatory wells fargo\",\"tri ai ml scientist multimodal perception spatio representation adaptation scientist tri push ml ml tri toyota stanford berkeley mit mathematics physics chemistry ph robotic ml rl ml ai consistent cvpr iclr neurip icra iccv eccv pami ijcv proficient unix dl pytorch aw ml automate robotic scholar cv toyota venture gp\",\"spathe scientist tampa sof tampa fayetteville coronado spathe interpret coordinate experiment coordinate engineer nlp robotic automation rpa spark hadoop tableau bi shiny python numpy scipy panda ml databricks cloud pak cloudera snowflake communicate stem mathematics physics proficient python proficient agile git atleast ts sci tampa macdill afb hq ussocom retirement ptt01dts ptt02dt\",\"dmi wells fargo wells fargo ead atsc capability teamspace atsc provision teamspace wft sql teamspace decommission teamspace playbook playbook dmi wft wells fargo sql desire cloud gcp excel powerpoint bs ba wells fargo operational regulatory wells fargo\",\"procore vp ai ai procore procore saas groundbreaker svp engineer carpinteria procore ai ai ai ai enhance align ai organizational mis passionate procore procore procore glassdoor procore perk procore openness optimism ownership\",\"clinchoice clinchoice cro clinchoice philippines principal statistical programmer analyst statistical sas annotate crf fda cdisc qc sdtm sdtm qc adam adam reviewer reviewer adrg fda cdisc resolve ich li mp1 clinchoice commit\",\"amd amd ai engineer ai simd amd amd ai ai amd familiar ddr hbm ph li jt1 requisition jose amd amd\",\"doctorate ra watershe richland biological temporary biological directorate ebsd atmospheric climate biological molecular ebsd pnnl pnnl watershed ecosystem pnnl phd phd willingness fluency python pflotran fate wrf hydro clm elm hazardous designate designate tdp pnnl pnnl integrity creativity collaboration courage pnnl pnnl pnnl portland psc commitment excellence inclusion affirmative workplace pnnl workplace substance wsap mandatory battelle covid applicants cdc covid covid\",\"ierus ierus ierus ierus cyber electromagnetic ierus ierus artificial sw ml ai sw hw sw ph citizen clearance mastery python matlab powershell ai ml sequential reinforcement lstm transformer tcp udp vms ai agile desire layer aws python json boot docker jira git junit rdbms elasticsearch solr nosql hadoop emr ui javascript angular react dod iat certification huntsville alierus affirmative ierus verify\",\"johns hopkins physics tactical asymmetric scientist scientist primarily effectively apl mathematic covid apl covid thrive eligibility possess doctorate mathematic python apl johns hopkins physics apl apl apl baltimore apl affirmative apl\",\"orleans pelican pelican orleans orleans pelicans benson analyst ticket bloomberg moody analytics census bureau nielsen yougov etl prove exceptional microeconomics sql tableau prove mathematics excel tableau sql python statistical typical nfl nba pelican pelican hiring orleans orleans pelicans americans\",\"idt idt idt danaher analyst bu bu initiative analyst bu interact kpi bowler solve prioritize bu initiative integrate dna licensure certification bi prove independence licensure certification powerbi shift differential compensation generous accrual volunteer integrate dna idt danaher danaher\",\"apogee dod dod dod swot baas rfps pws bd dod civilian apogee apogee bd bd pwin assess heilmei catechism clearance ts sci mathematics physics ph mathematics physics darpa iarpa nro afrl d0d matlab pmp shipley apogee hra pos pto veteran disabilitiesthe cfr\",\"scientist mlop infrastructure entrepreneurial excellence scientist contractual permanent jose initially ci mlop ai ci mlop ai ml devop ml docker kubernete mlops kubeflow mlflow datarobot dvc mlops mlflow datarobot ci dae declaration eoe minority veteran disabled orientation identity\",\"cag24 hub riverwood parkway scientist ai ml principal scientist broad ai ml formulate ci mentor junior scientist delegate junior scientist junior scientist junior scientist proof scientist ml ai python aws sagemaker aw ai aw sql competent demonstrable ai principal scientist coe carrier affirmative applicant applicant covid carrier\",\"printerlogic analyst ut utah utah sponsorship salesforce tableau domo kpi crm salesforce etl sql salesforce domo tableau rapidly pto hdhp ppo hsa extreme ownership jocko willink leif babin seeker radical candor kim builder arbinger storyteller storybrand clarify donald miller printerlogic ecm maxxvault saas deloitte\",\"voee vedp analyst pathway voee voee commonwealth vedp compile voee tableau voee voee burning emsi linkedin qualtric respond excel powerpoint emsi burn linkedin tableau python sql stata voee passion vedp vedp applicant vedp vedp tdd instruction applicant\",\"requisition consultant minneapolis imagine minneapolis consultant consultant experienced consultant experienced consultant experienced consultant warehousing etl ssis informatica sql dml ddl bi businessobject hyperion cognos microstrategy tableau qlikview ssr sql mysql oracle teradata meta governance proficient excel visio powerpoint python javascript li li hybrid li onsite montana veteran hrsolution ordinance applicant initiative montana mn minneapolis\",\"engineer ml matlab matlab python matlab ai aws lithium dcir simulink stateflow I integrity silicon matlab python ml ai ai engineer simulation engineer engineer scientist engineer modeler ml engineer engineer\",\"equivalent analyst analyst sql hive drool api analyst scrum sme cdp cdep facilitate raise mentor analyst agile jira sql hiveql hadoop hdfs hive teradata qa uat desire wells fargo unix bteq python hue dremio drool cloud broad sql sql sme api generating generating intermediate leve fortune stack allegis\",\"vi vi ai vi restful api vi ml ai imagenet cloud ml kubernete kubeflow tpu gpu dataflow scientist engineer vi scientist engineer vi cnn nlp python python scipy numpy matplotlib dask pil opencv pytorch tensorflow cloud kubernete similarly solera holdings subsidiary solera discriminate applicant orientation identity marital genetic prohibit harassment applicant\",\"ai heartflow heartflow vc ipo heartflow saas scientist engineer cloud python aws tooling ml python pytorch aw redwood portland li li ib1 ci participate python ci devop pytorch tensorflow heartflow ffrct silicon heartflow ffrct heartflow heartflow submission sar cov cdc\",\"requisition analyst specialist intermediate excel ge preference cern idx anodyne excel hsc albuquerque nm fcm exempt hourly unm erb temporary fte retirement nmerb fte nmerb nmerb guideline clarify consideration instruction unmjob unmjobs interviewee finalist covid unm veteran preference veteran preference refer\",\"nasdaq ctsh headquarter teaneck nasdaq forbes fortune aia artificial ai artificial ai ai ai ai aia optimize sql evaluate validate analyst engineer programmer examine desire erwin veteran veteran veterans shift nasdaq ctsh headquartered fortune usjobs applicant veteran careersna2\",\"semiconductor semiconductor ssi lsi soc ssi silicon forbes req ai engineer ai ai android ai optimize ai integrate ai android coordinate ai prepare tensorflow pytorch android app python matlab git excellence additionally resourceful achiever avid learner devote thoughtful collaborator ai phd covid covid li ak1 semiconductor ssi lsi headquartered jose ssi dram nand ssds dram ole ssi ssi semiconductor semiconductor\",\"scientist wilmington cardiac cardiovascular innovation phd artificial ai ml biomedical informatic bric carissa baker mph cardiovascular innovation ehr ehr scientist cardiac ai ml delaware artificial ai ml participate pedsnet n3c ai ml cardiac ncc cardiovascular innovation publish participate ncc ccri bric sas competence sql python masters\",\"engineer excellence dana wrangle sme analyst visualization citizen scientist ux engage artificial mastery collaborative seek dynamic continuous engineer bs math statistic innovation iot tableau bi sql python scala apache hadoop spark hive sql sap wh passion prove hiv immigration qualify cincinnati albany andover auburn maine utah browns summit dover delaware greensboro inwood lima mehoopany phoenix pineville louisiana sacramento req r000053826\",\"covid fellow artificial ai dm eec ai dm micromaster ai dm micromaster ph python bigquery latex eecs cv cv cv\",\"grammarly ukraine poland portugal grammarly kyiv vancouver berlin krakow grammarly grammarly ai engineer ml linguist computational linguist scientist grammarly ml engineer personalization grammarly effectively embody eager nlp grammarly eager grammarly grammarly grammarly grammarly verify grammarly maine nevada kennett township township pittsburgh shaler township utah grammarly grammarly covid covid grammarly qualify covid li hybrid\",\"scientist vie assignment vie assignment vie assignment vie norway liechtenstein iceland monaco vie assignment vie vie accelerator shanghai ecomm optimize roi enhance ai accelerator shanghai scientist nlp ux ui statistic secondly python git docker terraform ci deploying cloud ml ai plateform vertex ai mlops mlflow dvc\",\"hybrid reinsurance springfield springfield reinsurance reinsurance cfo reinsurance reinsurance reinsurance bs proficient excel continuous ideal tai reinsurance tai sql db alteryx tableau sap reinsurance reinsurance hispanic latinx lgbtq veteran fortune admired globe forbe fortune minority orientation identity veteran veteran li lc1 li hybrid minority orientation identity veteran veteran\",\"nyse dxc dxc stack dxc dxc stack dxc bpaas bpo facilitate participate vantage cyberlife interpersonal dxc dxc dxc covid guam puerto rico affirmative dxc verify dxc wage polygraph posting posting dxc\",\"lis analyst complexity exposure flsa exempt farmer lis analyst I lis lis lis additionally lis analyst I lis lis lis lis identifie lis cpt icd lis competency expertise interpersonal measurement independently successfully deliver participate consistently certification technologist lis analyst I orchard emr ehr hl7 technologist workflow microbiology surgical pathology histology organizational eeo referral relocation tuition\",\"I takeda I takeda I I takeda takeda scientist sr scientist artificial innovation ai novel technologie takeda ai extract ai ai collaboration phd rna expertise aws unix excellence python python familiar tensorflow pytorch scikit sql nosql interpret takeda healthcare stability retirement contribution wellness generous outreach tuition takeda takeda certify takeda bright takeda hybrid applicant permit eeo takeda vietnam cambridge worker worker\",\"fargo doosan bold innovative doosan innovation ddia hone erp mes dealer fargo nd engage oracle sap erp participate sophomore jr sr gpa ddia excel powerpoint interpersonal troubleshooting doosan innovation ddia bobcat bobcat ddia doosan doosan doosan innovation\",\"analyst vik vik vik vik prepare vik prepare flex arrangement hybrid hybrid mba jd phd proficient outlook excel powerpoint visio sharepoint mba jd prove tableau bi excel powerpoint sharepoint lean sigma certification aptitude covid covid vary eeo qualify eeoc\",\"onsite mandatory jupyter notebooks tensorflow keras pytorch numpy panda scikit expertise python sql ml tensorflow pytorch cnn oop ds sql oracle agile intermediate onsite conroe mlop mlflow kubeflow aws sagemaker azure mlop azure python tensorflow\",\"cbiz nyse cbz cbiz bright bright wellness certification workplace marks paneth cbiz mhm mayer hoffman mccann cbiz mhm paneth cbiz paneth mhm preparation preparation calculation sas sas sas sas excel sas sas sas proc sql macros macro excel outlook\",\"cf cf analyst cf sap salesforce pi shiny ghg carbon dcs deliver advise infrastructure vendor pi indicator kpi yokogawa centum dcs hexagon alarm forescout dcs instrumentation engineer slas additionally arrangement cf cf cf cf affirmative veteran eeo transparency ofccp fmla polygraph cf\",\"varo fdic varo varo varo varo deliver sql tableau bi python sql python roi varo varo fdic salt charlotte innovative forbes fintech varo ownership curious varo facebook instagram linkedin twitter soundcloud varo varo beware varo varo ccpa applicant\",\"analyst analyst qc analyst analyst chelsea excellence powder inhaler dpi gea niro sd1 sd4 sd7 cgmp dpi operate hplc uplc gc uv ftir kf statistically participate investigation participate sop chromatography empower openlab qc oot ooss hplcs uplcs mdi dpi andersen cascade impactor emit dose lim integrity deliver acuman foster collaboration teamwork champion engage inspire coach competitive pto collaborative ample disabilityaccommodation representative pharma resume seeker\",\"nlp artificial nlp scientist nlp multimodal nlp multimodal ph nlp familiar tensorflow pytorch keras caffe torch proficient python nlp nlp\",\"engineer re2 robotic sarcos robotic sarco sarcos sarco engineer robotic perception sarco robotic robotic robotic ai ml sarcos sarcos competency innately persuasive insatiable phd robotic mathematic python insatiable minimal sarcos peopleat sarco empower teamwe innovatewith positively worlda principle sarcos I I proof visa sarcos minority veteran disabled orientation identity\",\"covid lockheed covid lockheed covid seek agile agile sw agile locale owego syracuse tier binghamton ithaca cornell niagara nyc adirondack catskill finger bs mathematics physics python docker desire unmanned aircraft lockheed affirmative lockheed lockheed lockheed internationally\",\"analyst indicator kpi analyst indicator kpi cognos sql functionality rdbms desire analyst erp statistical spc rpg ile ibmi cognos metadata cognos sdk cognos extraction transformation etl routine cubes rolap olap python json javascript bootstrap css materialize mqt compensation analyst pto\",\"ipa ipa slas ipa excel powerpoint cipm cfa owing mill excel powerpoint certification cipm cfa\",\"aep ak ia ks I nd nh nm nv ri sd ut vt wy territory aep aep waterfall agile analyst aep independently prove mentor cio cfo portfolio proactively arcs dept portfolio dept pid pid cit mvp env pid possesse possese possesse indaep li relocation ge sedentary arcs pid agile scrum visio archer grc aep cito servicenow portfolio pid workday cit mvp env pid utility designation\",\"phd python pytorch tensorflow jax mxnet ci api ml entrepreneurial ml ml aw engineer ml ai automatic recognition asr nlu ml cv inclusive aw conversation ethnicity amazecon mentorship ml engineer ml ml dl ml dl interact ml dl aw phd practical aws sagemaker emr s3 dynamodb ec2 nlp cv gnn comfortable\",\"playstation playstation playstation playstation playstation playstation vr playstation playstation playstation playstation playstation analyst mateo collab analyst forecast proactively dept roi prepare hc opex capex kpi liaison cp adhoc excel powerpoint eagerness mba sap workday adaptive anaplan li br1 playstation\",\"foxtrot aviation foxtrot canton foxtrot procure permagard troubleshoot foxtrot establish procure coordination booking optimize foxtrot foxtrot creation bookkeeping generate jotform sops sop generate troubleshoot ids pulse quickbook divvy quickbook divvy foxtrot coordinate specialist analyst foxtrot administrator quickbook powerpoint excel willingness compensation exempt foxtrot don reward foxtrot aviation\",\"wsdot wsdot wsdot wsdot wsdot specialist analyst specialist implement vba python gis sql python spatial ph esri qgis carto css javascript django excel vba sql adobe indesign adobe illustrator tableau bi ui ux transit specification gtfs olympia governor covid wsdot exemption wsdot verify wsdot tuition permanent wsdot wsdot resume wsdot vietnam recruiter wsdot verify recruiter jordan analyst\",\"duration sandia sandia fellowship sandia postdoctoral fellowship sandia sandia postdoctoral fellow sandia fellow sandia sandia consistent cv fellowship ph ph fellow sandia doe citizenship desire ideally proven matlab python julia sandia albuquerque livermore sandia sandia extraordinary generous sandia clearance sandia doe applicant doe applicant sandia doe substance doe eeo sandia phd sandia\",\"scientist responsibilitie seek engineer ts sci scope polygraph ai ml engineer cot engineer agile cleared22 expertise ts sci scope polygraph node python aws git github json apis agile scrum sdlc expertise maser ic sci consult covid ai restlessly fortune cloud covid ai citizenship\",\"principal ai engineer principal ai engineer ai ai ai scientist engineer ai principal ai engineer accountability scientist engineer cyber adapt smp gpu champion bsc msc phd aws kubernete python demonstrable infrastructure agile gxp devop competitive\",\"artificial ai artificial ai ml ai ml ai ml ai ml communicate ai ml ai ml contribute ai ml ai ml ai ml ai ml validation qualified accessibility eeo eeo supplement eeo transparency puerto rico covid\",\"transformation scientist macquarie communicating interpret curious comfortable broad sql python prove exceptional transformation macquarie macquarie covid macquarie covid macquarie inclusion macquarie macquarie macquarie macquarie macquarie macquarie cog permanent recruiter ryan flore\",\"arlington arlington li tnc tnc youtube glassdoor tnc recognize tnc achieve bi analyst conservancy bi analyst sme bi analyst bi analyst tnc sop bi analyst bi analyst bi analyst bi analyst conservancy kpi sas ssrs bi azure ll sql bi bi tableau quicksight looker excel powerquery desire tnc tnc tab recruiting translator tnc tnc covid\",\"pnc pnc pnc specialist sr agile fiserv tsy python hadoop tableau sas lob certification agile lean sigma consult communicate pnc knowledgeable assess pnc competency consult effectiveness measurement capture solve commensurate pnc depend saving pnc pnc pnc recruit eeo pnc resident refer pnc\",\"broadly graph neural explainable ai pytorch tensorflow huggingface poc represent moody acl emnlp naacl hlt aaai kdd cikm sigir ecir ph cs ml math statistic engineer quant python mlop predictive ai ml predictive ai ml predictive ai moody analytics ml ai catalyst adverse coronapulse quiqspread esg covid moody moody moody ordinance eeo eeo transparency nondiscrimination nyse mco moody I moody moody\",\"ai ai ai engineer ai forecasting ai ai ai nlp ai ml ai ai ai ai ml ai ai ml nlp\",\"elevator pitch evolv analyst prepare utilize excel salesforce python sql tableau investor relation fp treasury analyst investor relation waltham evolv evolv evolv unlimited evolv hiv evolv evolv covid\",\"imagine siri artificial siri siri ai ml annotation siri annotation analyst siri ai ml annotation siri annotation analyst siri\",\"fortune pharmacy edi edifecs ai engineer duration artificial healthcare edi sql edifec healthcare I satwinder sit singh recruiter amerit amerit fortune amerit amerit amerit consult applicant edifec sql edi ai artificial\",\"architect engineer consultant consultant engineer saas saas ai ai architect engineer css javascript cv saas adobe oracle cloud consultancy soap javascript css json apis sitecore salesforce liferay hubspot linguistic conversational ai ai supplemental bonus javascript saas\",\"oncore oncore oncore ucsf temporary tep ucsf departments ucsf ideally oncore ucsf ucsf uc nobel pride ucsf pride pride ucsf ucsf affirmative tep payroll rsch anl temporary bargaining teamster clerical allied cx temporary percentage appointment telecommute shift shift shift\",\"posting cst closing geospatial scientist lsuam ored sncsrt transformational cyber olson inherit louisiana emerge lsu ai dod ic transformational cyber ttcrc stephenson sncsrt dod lsu sncsrt dod lsu dod ic aerospace summarize sw hw engage lsu establish sncsrt mechanical ph mechanical ts sci lsu fasop ps ps instruction resume cv ps lsu fasop closing specify lsu lsu lsu lsu lsu roadmap hcm lsu\",\"artificial engineer sugar artificial engineer formation hfe sugar responsibilitie artificial ai engineer ai hfe ai reservoir ai implement ai analyzing ai ai evaluate mathematics python ai planner pddl automate ml typescript python golang docker kubernete supervisor ai reservoir discipline measurement measurement wcm wcm ai wcm robotic qualified vevraa contractor veteran\",\"scientist integrate ibp kellogg kna ibp kna kna tony taste ll kellogg forecast kellogg collaboration kellogg rgm ibp ibp enhance recipe sas viya excel powerpoint exceptional kellogg recruitment locate kellogg kellogg frost flake cheez eggo tart crunchy nut pringle morningstar rx noodle kvalue betterday fortune admired diversityinc newsweek workplace inclusion dna ethic kellogg emotional li inclusion ssa homeland dhs I kellogg recruitment\",\"analyst analyst gccs participate elicit critically proactively gui execution communicate consistently successfully mba jd phd mba jd phd excel powerpoint visio covid covid vary eeo qualify eeoc\",\"ai erp mdm intelligent signature atdc sap accenture sap principal engineer principal engineer api innovation accountability empathy bias apis fud actively agile principal engineer utilize criterion python sql airflow thorough git gitlab agile jira confluence ai ml docker aws s3 hadoop snowflake kubernete kafka redshift nlp principal teamwork prove flexibility pto atdc commitment inclusion\",\"foxtrot aviation foxtrot canton foxtrot procure permagard troubleshoot foxtrot establish procure coordination booking optimize foxtrot foxtrot creation bookkeeping generate jotform sops sop generate troubleshoot ids pulse quickbook divvy quickbook divvy foxtrot coordinate specialist analyst foxtrot administrator quickbook powerpoint excel willingness compensation exempt foxtrot don reward foxtrot aviation\",\"ai b2b logistic laas ai drayage silicon clara customs clearance importer broker transporter ai ai ml engineer implement ml python keras pytorch scikit ai ml python ai ml nlp pytorch tensorflow panda python spacy scikit matplotlib numpy ml ml opencv\",\"pnc quantitative modeling analyst sr pnc lending pnc delaware surround independently refine prepare pnc knowledgeable assess pnc competency quantitative consult gathering predictive quantitative technique regulatory certification commensurate pnc depend saving pnc pnc pnc recruit eeo pnc resident refer pnc\",\"closing downtown livability seeker forbe sr scada specialist analyst scada sr scada specialist analyst supervisory acquisition scada scada hmi sql scada interviews kpis participate I scada scada scada scada dcs plc rtu sfc scripting python modbus profibus dnp3 serial ethernet opc cad visio excel\",\"exelon atlantic ace baltimore bge commonwealth edison delmarva dpl peco peco potomac pepco exelon sr analyst peco bge utilize exelon sr analyst ciac accountability attend lrps peco bge participate sr analyst participate sr analyst sarbane oxley audits sr analyst scope formal specialized excel powerpoint wpt asset cis eps proficient\",\"ownership esop ats analyst hlt specialist analyst localization engineer terminologist workflow specialist analyst ai ml responsibilties ml nlp organize ts sci python intellectual proactive journeyman json tmx tbx covid proof vaccination ats covid vaccination affirmative vsckp6eqmv\",\"tceq analyst headquarters hqaus circle mathematical overtime exempt tceq tceq tceq perk tceq hybrid tceq permit tceq analyst analyst prepare epa interact statistical sas transcript capps tceq ada hrss occupational specialty mos veterans reservist guardsmen occupational specialty\",\"homeland dhs ocio cyber scrm dhs hq dhs ocio journeyman analyst dhs scrm dda dda dhs dhs dhs eod homeland soc ts sci scrm cyber fisma ndaa nist sp dod fundamental\",\"wells fargo wells fargo wells fargo analytics analyst analyst wells fargo analytics analyst fargo wells fargo te desire tableau powerbi exposure agile exposure ba bs math physics quantitative charlotte minneapolis moines phoenix wells fargo wells fargo wells fargo operational regulatory wells fargo\",\"linkedin twitter instagram ml ml ml ml experiment endeavor phd msc mathematics physics ml nlp python bonus phd ml width ml ml aw perk maternity parental pto commuter contribution wellness lunch dinner snack beverage pursuant ordinance pursuant ordinance connecticut applicant worker covid tw7625 li remotefriendly\",\"mpd dchr scientist mpd tactical jstacc reb reb scientist mpd scientist nage proactively mpd expertise mpd expertise python stata sas expertise expertise expertise apis sql licensure certification cs cs expertise python sql gis supervisory disclosure applicant\",\"scientist vaccine tomlynn richmond envision scientist summarize possesse sop sop sop qc qa qa communicate sop gmp glp qa li jml83 crglab scientist scientist ich gmp glps excel covid integrity innovation intensity involvement gd covid vaccination colleague cras rsm cra rsm fsp\",\"scientist irving colinas hybrid onsite ics korn ferry scientist irving colinas kyc atl btl bayesian sql python bsa aml ofac prove bsa aml frb occ fatf fincen ofac patriot bsa aml ofac hotscan actimize sam wlf searchspace rdc bridger ace pelican tch ofac epn fico debit threatmetrix infinity infinity ic temp perm permanent placement ics\",\"scientist ai ai ai ai ai ai scientist ai ml dutie actively contribute ml git comfortable pytorch tensorflow keras python practical ml phd practical ai endless ai ai ai ai\",\"analyst analyst computational applicant aguirre houstis mgh cardiovascular cvrc corrigan minehan mgh mit harvard corrigan minehan mgh mit harvard qualify expectation python julia python modeling mindset eeo charlestown mgh mgh charlestown managerial mgh shift recruit mgh cardiology\",\"imagine siri artificial siri siri ai ml annotation analyst fluency siri grow excel siri intelligent ai successfully ai ml annotation annotation analyst siri siri\",\"jjr jjr I jjr visualization analyst dayton hybrid classification exempt inquiry naci expectation jjr handbook actively jjr deliver collect prepare suicide prevention bi bi deploy generate vha bachelors healthcare sql bi jjr bi sas compensation hsa complimentary std complimentary aflac pto pto jjr veteran luther jr juneteenth thanksgive columbus jjr eeo jjr\",\"ideal timezone makati extend vas philippine tier unlimited sigma ghosting agile organize prepare communicating ba kanban kanban agile oracle erp cloud fieldglass excel vba macros simulation pivot pivot pivot bi sharepoint visio agile agile devop hmo don hmo hmo pto hmo celebrate ribbon gym sarabia optical bean tea leaf grab\",\"gaithersburg cambridge warsaw gothenburg ai everyday cdi proficient ai python nlp graph ml proficient prove demonstrated accountability ai liaise dm extend dm dm dmlt possess dm contribute desirable ai gxp principle gaithersburg cambridge warsaw poland gothenburg swe deliver I linkedin facebook instagram\",\"tfs lexus tfs tfs analyst analyst lifetime ltv uncover sql python alteryx tableau agile scrum assess organically capability alteryx tableau intellectual mathematics mba cma cpa clv ltv scala python sap s4 hana redshift athena bigquery agile waterfall flextime saving referral relocation belong partnering diversityinc roundtable applicant talentlinkadmin\",\"scientist socom stewardship socom artificial scientist scientist scientist sql python interpret coordinate experiment coordinate engineer nlp robotic automation rpa spark hadoop tableau bi shiny python numpy scipy panda ml databricks cloud pak cloudera snowflake communicate contingent moderate loud reasonable occasional applicant polygraph affirmative affirmative stem ts sci outstanding eo applicant ts sci proficient python proficient agile git spending eligibility\",\"scientist w2 veteran ts sci scope poly immediate aws mandatory python aw ec2 lambda s3 iam github desire aws aws cloud cdk ansible terraform cdk elasticseach lucene aws opensearch sql sql aws cloud azure certification aws devop engineer architect sysop administrator reasonable tmg guard reservists secdef hirevets tmg\",\"statistical analyst qsda conroe vison conroe statistical analyst qsda qsda qms excel sharepoint qms qms qsda predict qsda assurance qaqc qaqc qsda implement continually gathering inputdevelop evaluate qaqc incorporate incorporate prepare prepare continuous expand stem postgraduate ideally competency statistic excel jmp rs1 spss sas quantitative mathematic sql javascript visualization generate excel powerpoint curious outstanding accuracy familiar organized judgement remotely conroe\",\"ida federally dod ida std ida analyst std ida ai ai ml ai ml ai ml ai ml ai ml std ph mathematics mathematics artificial neural computation dod python stata mathematica matlab citizenship sucessful citizenship ida ida\",\"scientist caltech occasional exempt overtime overtime caltech caltech employ jpl publicize jpl esc jpl esc oversee nisar implement ce2s2 principal investigator jpl directorate scientist ce2s2 geography pioneer webgl resume\",\"steward madison duration hybrid ext fte sql etl excel powerpoint integrate analyst beside gather companion equine roi anova propose sql postgre redshift etl alteryx excel excel sql etl bi tableau bi tableau sql powerpoint\",\"llnl astronomy scientist physics physics astronomy astrophysic bayesian effectively hpc gpu llnl effectively mentor doe phd physics astronomy extensive desire expertise expertise eeo indefinite glassdoor collaborative clearance doe doe contractor llnl llnl eeo transparency nondiscrimination provision reasonable llnl ccpa llnl\",\"aquatic fishery postdoctoral scholar teleconnecte aquatic fishery safs aquatic fishery safs safs tele bering tele alaskan andr punt cody szuwalski fishery simulation bering postdoctoral uaw relation ph quantitative ecology statistic desirable bering instruction interfolio kenyon foxworthy commitment uw blueprint additionally fcg fcch24 demographic applicant covid vaccine governor inslee proclamation uw covid uw\",\"tai artificial tai phd doc statistic mathematics stem mathematics urbana champaign python matlab python numpy panda scikit tensorflow keras pytorch tai tai turkish aerospace tai atkin oak champaign temporary internship covid wear covid champaign python hybrid champaign\",\"scientist scientist furthermore nlp healthcare terminology icd icd snome python trait orient datascience comfortable wfh python icd icd snome\",\"analyst dpa prevention dpas dlp csm iso ism ism ism dutie analyst dpa prevention analyst prevention instruction analyst analyst analyst prevention analyst rigorous passion consultative dlp siem itil iso cfe li jl3 resident usd bonus disclosure\",\"inventory analyst execute reconcile audits teradata sql excel execute sql excel prepares powerpoint bachelors mathematic logistic apics cpfm cpm powerbi excel sql powerpoint outlook wesco wesco affirmative wesco li es1 wesco nyse wcc fortune anixter wesco utility broadband wesco wesco wesco intelligent cloud broadband\",\"cyber engineer cyber designate authorize representative dao conmon validator import tableau ia excel sci favorably polygraph mathematic stem ia cissp casp dod iat iam rmf automation visio tableau infogram chartbloks python json desire aws ia servicenow splunk ic dod cyber rmf relational rdms apache hadoop hadoop distribute elastic mapreduce emr sagemaker artificial\",\"analyst smg acn sql pl sql crm dynamic salesforce healthcare providence providence promise montana providence physician pe providence collectively pe providence montana swedish puget kadlec providence providence providence facey providence covenant covenant hiv requsition swedish shift fifth providence\",\"xcp computational physics lanl ai ml lanl oecd atomic ai ml ai ml python fortran lanl ai ml gpa phd desire clearance doe eligibility doe alamos nm covid vaccine covid applicant denise neudecker amy lovell abigail hunter locate lanl lanl ppo deductible onsite extensive directive triad nnsa nnsa supplemental directive doe clearance applicant p701 instruction activate lanl alamos vacancy tip lanl\",\"hc analyst darkstar hc analyst hc coordinate odni ic python tableau dni hc hrm ic chcos narsil deia python spss tableau sci ci poly bs ba covid cdc covid darkstar eeo flyer l6q0ypcvp7\",\"cno optavise analyst analyst additionally analyst sme uat identifie analyst communicate adl sdl facilitate coordinate exhibit qualified ba bs sql oracle cno covid cno cno birmingham carmel orlando milwaukee wfh cno inclusion integrity excellence teamwork carmel birmingham orlando milwaukee cno cno cnoinc\",null],\"marker\":{\"opacity\":0.5,\"size\":5},\"mode\":\"markers+text\",\"name\":\"0_python_foxtrot_sql\",\"text\":[\"\",\"\",\"\",\"\",\"\",\"\",\"\",\"\",\"\",\"\",\"\",\"\",\"\",\"\",\"\",\"\",\"\",\"\",\"\",\"\",\"\",\"\",\"\",\"\",\"\",\"\",\"\",\"\",\"\",\"\",\"\",\"\",\"\",\"\",\"\",\"\",\"\",\"\",\"\",\"\",\"\",\"\",\"\",\"\",\"\",\"\",\"\",\"\",\"\",\"\",\"\",\"\",\"\",\"\",\"\",\"\",\"\",\"\",\"\",\"\",\"\",\"\",\"\",\"\",\"\",\"\",\"\",\"\",\"\",\"\",\"\",\"\",\"\",\"\",\"\",\"\",\"\",\"\",\"\",\"\",\"\",\"\",\"\",\"\",\"\",\"\",\"\",\"\",\"\",\"\",\"\",\"\",\"\",\"\",\"\",\"\",\"\",\"\",\"\",\"\",\"\",\"\",\"\",\"\",\"\",\"\",\"\",\"\",\"\",\"\",\"\",\"\",\"\",\"0_python_foxtrot_sql\"],\"textfont\":{\"size\":12},\"x\":[5.960844993591309,6.563670635223389,5.8086724281311035,6.950187683105469,6.6171135902404785,6.318326473236084,6.379980564117432,6.781616687774658,6.822820663452148,6.376564979553223,7.236447811126709,6.689255237579346,7.057545185089111,5.980793476104736,6.201900959014893,7.006833553314209,6.016587734222412,7.032235622406006,6.507674217224121,7.011711597442627,7.4031782150268555,6.6233720779418945,6.236876964569092,5.726288795471191,7.022161483764648,6.406414985656738,6.9770941734313965,6.622694969177246,5.615936756134033,7.0707106590271,7.145701885223389,6.371319770812988,6.6713643074035645,6.679001808166504,5.920839309692383,7.197906494140625,5.355086326599121,6.580255508422852,5.638306140899658,6.824011325836182,6.606532573699951,6.9312944412231445,7.02193021774292,6.201546669006348,6.737524032592773,6.221837043762207,6.097146987915039,7.23475980758667,6.708198547363281,6.702134609222412,6.200453758239746,6.917502403259277,6.297764778137207,6.759414196014404,7.020851135253906,6.645810604095459,5.940483093261719,5.897278785705566,7.121827602386475,7.289576530456543,7.091187000274658,6.785151958465576,6.390094757080078,6.113607883453369,6.565563678741455,7.161158084869385,6.514655113220215,7.348829746246338,7.333075046539307,6.08495569229126,6.382047653198242,5.843222618103027,7.250446319580078,6.334471225738525,6.775371074676514,7.122027397155762,6.704361438751221,6.839077472686768,6.0748186111450195,6.283488750457764,6.039836406707764,7.344882488250732,7.329634666442871,6.435351848602295,6.351767063140869,6.620545387268066,6.178745269775391,6.4802937507629395,6.39888334274292,7.268674850463867,6.147899150848389,7.374751091003418,6.252462863922119,6.812839031219482,6.358470439910889,6.10534143447876,6.722417831420898,6.651880741119385,6.04252290725708,7.070339679718018,6.300628185272217,5.802319526672363,6.331591606140137,6.268484115600586,6.912376880645752,6.056910991668701,5.992193222045898,5.938232421875,6.069607734680176,5.681776523590088,6.339449405670166,6.673196315765381,6.489645957946777,6.5469441413879395],\"y\":[6.413570880889893,7.6613311767578125,7.21653938293457,7.508277416229248,6.905289649963379,7.639166831970215,6.390753746032715,7.568388938903809,6.3732171058654785,6.590957164764404,6.633376121520996,7.200232982635498,7.516617774963379,7.698611259460449,7.486856460571289,7.411109924316406,6.131504058837891,6.550183296203613,7.308506488800049,7.315500259399414,6.957854270935059,6.385205268859863,7.377420425415039,6.212752342224121,7.479831218719482,7.027732849121094,7.352531909942627,7.623337745666504,5.946674346923828,6.601250648498535,6.700114727020264,6.867177963256836,6.453155040740967,7.4957709312438965,6.334942817687988,6.7997517585754395,6.168936729431152,7.652044296264648,6.221318244934082,6.403382301330566,6.807445049285889,6.636496067047119,7.300428867340088,7.046446323394775,7.112893581390381,7.250239372253418,6.790013313293457,7.541537761688232,6.37779426574707,6.504274368286133,6.864044189453125,6.693631649017334,7.387738227844238,7.649428367614746,6.235024452209473,6.425961494445801,7.404207229614258,5.91971492767334,6.65364408493042,6.749025821685791,7.509164333343506,6.464562892913818,6.836062908172607,7.228316783905029,7.398433685302734,7.486581325531006,7.226095676422119,7.293262481689453,7.176573753356934,7.064777851104736,6.755863666534424,7.520887851715088,6.936563014984131,6.792859077453613,6.686938285827637,6.515800952911377,6.4524383544921875,7.584766864776611,7.147116184234619,7.171133041381836,6.778836727142334,5.9973320960998535,6.040205478668213,7.352923393249512,6.398850917816162,7.624896049499512,7.020367622375488,7.139760494232178,7.055314064025879,7.269040107727051,6.1936469078063965,7.231907844543457,7.576825141906738,6.294351577758789,6.514981269836426,6.633486270904541,6.398433685302734,6.949093818664551,6.844950199127197,7.5178608894348145,6.873391628265381,6.462809085845947,6.843222618103027,6.140406608581543,6.386908531188965,7.2452216148376465,6.82842493057251,6.601996898651123,7.227551460266113,6.144427299499512,7.687408924102783,7.480835914611816,6.918601989746094,6.919058799743652],\"type\":\"scattergl\"},{\"hoverinfo\":\"text\",\"hovertext\":[\"fortune scientist scientist identifie translate actively math python ai ml pytorch huggingface pyspark statistic linear algebra singular decomposition eigenvector stochastic bayesian statistic casualty\",\"engineer designing ml communicate extend ml raleigh durham bs keras pytorch python javascript lisp scheme relational approachable outstanding\",\"scipio ai sparse offline unsupervise gym dod ai scipio transition incorporate python ml pytorch tensorflow\",\"analyst analyst examine independently eda sql utilize cloud ml bigqueryml vertexai automl demo sql powerbi tableau python jupyter labs notebook statistical implement github prove formal mathematic statistic analytics bigquery cloud searchtm b2c b2b headquarter adage inspire happen don jerk kpi competitive generous\",\"graph siri spotlight python scala pytorch tensorflow gpu apache spark broad prove unix passion graph siri phd veteran\",\"responsibilitie berlin dubai mumbai singapore jakarta seoul tokyo nlp ml intelligent graph participate ai participate spu construct nlp python proficient tensorflow pytorch aware familiar dnn lstm cnn lda word2vec elmo gpt bert hadoop spark hive flink\",\"python python panda numpy pyspark aw s3 rds ec2 lambda sqs sns redshift fannie mae oracle postgres\",\"engineer biotech ai computational chemistry discovery mentor ai ml ml phd etl dl aw algorithms librarie algorithms algorithms python numpy tensorflow keras aws cloud doesn ai ordinance veteran\",\"gainwell principal scientist gainwell principal scientist gwt medicaid comfort explainable artificial ops ci optimization bi powerbi tableau sas sql sql repeat mixed statistical estimation overfit discovery mpp massively parallel semi unstructured nlp cloud gainwell gainwell gainwell gainwell\",\"phd python hlm anova irt structural equation spss excel impeccable pv innovation scientist scientist pv independently interact interpret phd statistic behavioral redshift hadoop\",\"analyst pdm pdm portfolio ai artificial ai intelligent automation devop scientist engineer nlp proficient python pyspark proficient experienced hadoop spark sql\",\"physics mathematics gpa reinforcement scripting python matlab parallel ultra graphical ui automate probability regression raw\",\"fintech engineer skillset engineer scientist python postgresql apis git anywhere\",\"pharma omics contribute omic publish ph bioinformatics biostatistic mathematics physics dna seq rna seq python relocation li pl1 covid\",\"ai artificial analyst ai ai stem math analyst engineer sql excel powerpoint python covid covid vary eeo qualify eeoc\",\"engineer ceo mlps cnns python numpy pytorch tensorflow familiar opencv owl perk competitive unlimited pto\",\"personalization motivation ml leverage ml ml optimize deploy ml mathematics python aws mathematic statistic newsroom tomorrow\",\"mathematic mathematician\",\"nasdaq pypl engineer engineer keras tensorflow pytorch passionate familiar python familiar sql bigquery willing bs phd eeo covid depend covid\",\"covid techwithpurpose participant geographic rotation dsldp computational mathematics gpa python sql desire prove applicants eeo affirmative accessibility seeker\",\"ai innovative ai linkedin hypergrowth facebook nvidia alibaba dna transform mathematic statistic sql mathematic etl python tableau qlik bi app\",\"engineer innovative banovetz engineer engineer coordinate ml researcher etl utilize expertise phd python unix ml pytorch tensorflow mlflow pyspark aw cv relocation responsibilitie export export temporary resident amnesty agricultural worker twitter carefully\",\"remotely analyst powerbi scope powerbi der mgmt der der mgmt tracking skillset sql python powerbi automate comfortable sql\",\"responsibilitie berlin dubai mumbai singapore jakarta seoul tokyo nlp ml intelligent graph participate ai participate spu construct nlp python proficient tensorflow pytorch aware familiar dnn lstm cnn lda word2vec elmo gpt bert hadoop spark hive flink\",\"xometry nasdaq xmtr xometry fortune analyst xometry xometry looker communicate xometry sql looker segment tealium commitment xometry xometry verify I\",\"sci buckley aurora qualified nlp expertise python pytorch cluster regression citizenship dod ts sci ba bs ai ic sigint geoint tasking exploitation dissemination reasonable\",\"mathematician clearance ts sci polylocation annapolis junction mdskill ph mathematic mathematics physics solving disabled veteran soldier competitive pto eoe\",\"analyst alpharetta analyst alpharetta duration linkedin passport bi sql python statistical tableau analytics clevertap regardskarthikeyan recruiter sql python statistical tableau analytics clevertap\",\"engineer compiler engineer neural accelerator participate hw npu neural gpu dsp passion isa ir additionally resourceful achiever avid learner devote thoughtful collaborator llvm python\",\"sap contribute statistical molecular statistic proficient python sas ich gcp hipaa\",\"recruit scratch recruiting scratch ai facebook pinterest spotify plaid cheriton tim draper draper spectrum horizon venture ggv duke nlp engineer junior python nlp tensorflow pytorch ph mapreduce spark saving\",\"metro mosaic telecommute mosaic qualified phd practical python willingness citizen permanent resident\",\"aspire scientist scientist scientist phd mathematics statistic biostatistics physics chemistry computational neurology sql hadoop python perl excel matlab ampl sas ml passion\",\"scientist evaluate iterate summarize fluency python python databrick spark sql snowflake aw azure applicant\",\"nasdaq pypl I analyst timonium synchrony telecommute predictive python sql eeo covid depend covid\",\"scientist fulltime permanent construct automl ml experiment supervise possess expertise python pyspark scala hadoop spark sparkml passionate mlop modelop docker kubernete aw python python\",\"teamwork scientist grad coreos scientist scientist scientist grad looker tableau sql python li gz1\",\"rna opera rna korro cambridge rewrite dynamically kindness integrity korro scientist rna contribute participation partnering ds phd bioinformatics computational biology computational chemistry statistic python unix korro\",\"grid covid grid grid gdp grid graduates grid orientation gdp orientation capstone grid quantitative analyst statistical probabilistic visualization employ contribute statistic grid applicant tn stem opt awesome python grid grid grid\",\"ml ml leverage implement saas undergraduate bls bea python mysql snowflake panda scikit tensorflow launch vcs morgan stanley canaan ia transamerica moody realpage startups hq belgrade serbia\",\"scientist mn applie ai ai longevity expertise python python numpy panda pytorch scikit scipy tensorflow curious longevity referral supplemental bonus\",\"engineer creatively grow phd robotic tensorflow pytorch python ml imitation prediction reinforcement lstm rnn cnn vae gan covid covid\",\"analyst I analyst caesar prepare cie synthesize communicate mathematic intellectual contribute mathematics sql vba sas python tableau bi\",\"okr tableau sql python synthesize analyse tableau powerbi sql python panda numpy jupyter notebook etl curiosity creativity willingness enjoyment eagerness\",\"scientist reston herndon mclean ts sci poly typical enhance propose python sql hive pig scala neighbor naive baye svm math multivariable calculus linear algebra multivariable calculus linear algebra wrangle visualization tableau\",\"scientist algorithm scientist python scientist phd biometric basf biometric triangle intuitively phd statistic mathematics statistical genetic python unix sql mastery descriptive inferential statistic prove outstanding python unix sql\",\"cloud engineer ai ml cloud conceptualize solve gather sql hive hadoop proficient python curiosity phd statistic math econometric\",\"python jupyter notebook cyber ncp sigint python matlab arena sas ts sci monte carlo transform extract possession clearance applicant booz allen booz allen hortonworks docker tableau splunk bowl nvidia dli analytics pursue\",\"scientistlocation onsite integrate api linear python linear graph\",\"infrastructure ai ml ml siri infrastructure infrastructure kubernete kubernete familiar aw ec2 s3 rds iam fluency python passion spark flink kafka cassandra siri pb spark kafka presto flink hadoop aw slas phd engineer veteran\",\"lewis sigler integrative genomic specialist kara dolinski biogrid curation scientist curation scientist curation scientist covid19 biogrid ph ph\",\"gracenote gracenote engineer python py torch tensor aws python pytorch cs bonus spark elasticsearch sql aw nielsen affirmative emeryville secondary li tn1 li\",\"xometry nasdaq xmtr xometry fortune analyst xometry xometry looker communicate xometry sql looker segment tealium commitment xometry xometry verify I\",\"scientist leidos scientist scientist aerospace python scientist math analytics gpa python math pytorch tensorflow sas jmp citizenship\",\"focuskpi junior scientist analyst scientist implement explain etls python sql extensive tableau willingness focuskpi hiring focuskpi focuskpi focuskpi silicon\",\"ml architect duration ai cloud gcp proficient python j2ee sql bpmn cmis restapis json kubernete prove ml ai ecm bpm togaf zachman python sql\",\"bi analyst sql python sql automate python generate communicate powerbi sql intermediate python exposure unix powerbi adaptable americans webpo9qrgh applicant ada\",\"sku si op si op statistic mathematics python tableau bi communicate oversee sku statistical\",\"engineer perception lidar python ml ph ml covid covid\",\"audience translate contribute communicate econometric math exposure numpy scipy pytorch bayesian aw aptitude\",\"quant researcher assess engineer quant physics mathematic python spark\",\"scientist ai ml aiml ml aiml familiar tensorflow pytorch lifecycle fundamental automate separation concern deployment python sql expertise\",\"intensive tuft tufts t10 tuft lastly medford intensive scientist scientist participate partake phd bioinformatics computational biology biostatistic math python geo tcga ensemble\",\"irving maker maker engineer ui engineer engineer enhance investigate certification algorithm linear algebra python mongodb mysql elastic sorl lucene algolia expertise aws cloud azure applicant\",\"ai ai powerpoint silicon partnering ai ux ai ph retrieval fluency python pytorch tensorflow keras passion msvan1234\",\"scientist clearance ts sci polylocation annapolis junction mdskill mathematic mathematics statistic python scientist disabled veteran soldier competitive pto eoe\",\"ll tensorflow keras coding python mathematic nasdaq dsp adelphic linear dsp founder tim vanderhook ey entrepreneur viant investing pto li kp1\",\"scientist ng statistical manipulate respond adhere ph mathematic familiar proficient python mongo sql commitment covid competency commitment exposure dab dab\",\"autonomy thordrive autonomous statistic looker dataset loader tensorflow pytorch python sql dna kitti caltech berkeley bigquery azure aw hadoop spark python competitive hybrid workplace snack drink\",\"worksite jose ai procurement engineer jose h1 mathematics statistic bayesian masters phd curricular practical cpt cognitive algorithms python\",\"toyon tensorflow pytorch citizenship exceptional toyon pm21 pi189691187\",\"analytics adobe temporary duration temp immediate adobe analytics analytics analytics seek b2b kpis analytics datorama bigquery conceptualize datorama\",\"simulation atlantic engineer discover mining seamlessly quantify automate generate accelerate bs python passion av tensorflow covid covid\",\"op familiarize evaluate breed ph statistic mathematic ai fluent python\",\"ai scientist dutie scientist dealer scientist I scientist analytics typically phd phd aerospace mechanical agricultural informatic mathematic mba undergrad predictive statistic anova practical clustering logistic regression svm neural numpy scipy aw azure cloud peoria champaign visa eeo\",\"phd scientist engineer fabric hc innovation cincinnati scientist moreover fabric tide downy unstopable dawn febreze hc ph stem python matlab graph neural tensorflow continuous immigration sponsorship qualified bernard req r000063520\",\"solaria solaria javascript react node typescript python familiar solaria labs informatic mathematic solaria fortune\",null],\"marker\":{\"opacity\":0.5,\"size\":5},\"mode\":\"markers+text\",\"name\":\"1_python_pytorch_xometry\",\"text\":[\"\",\"\",\"\",\"\",\"\",\"\",\"\",\"\",\"\",\"\",\"\",\"\",\"\",\"\",\"\",\"\",\"\",\"\",\"\",\"\",\"\",\"\",\"\",\"\",\"\",\"\",\"\",\"\",\"\",\"\",\"\",\"\",\"\",\"\",\"\",\"\",\"\",\"\",\"\",\"\",\"\",\"\",\"\",\"\",\"\",\"\",\"\",\"\",\"\",\"\",\"\",\"\",\"\",\"\",\"\",\"\",\"\",\"\",\"\",\"\",\"\",\"\",\"\",\"\",\"\",\"\",\"\",\"\",\"\",\"\",\"\",\"\",\"\",\"\",\"\",\"\",\"\",\"1_python_pytorch_xometry\"],\"textfont\":{\"size\":12},\"x\":[8.886567115783691,9.306629180908203,9.27051830291748,8.030131340026855,9.390992164611816,8.365468978881836,8.454015731811523,9.274152755737305,8.150699615478516,8.705623626708984,9.106863021850586,9.394227981567383,9.265484809875488,9.178377151489258,9.256223678588867,9.178808212280273,8.983848571777344,9.338702201843262,9.232065200805664,9.239018440246582,9.122395515441895,8.49973201751709,8.642562866210938,8.393848419189453,8.577592849731445,9.107161521911621,9.171161651611328,8.241928100585938,9.151789665222168,9.205373764038086,8.882577896118164,9.139009475708008,8.941750526428223,8.909435272216797,9.232516288757324,9.002192497253418,8.896178245544434,8.474989891052246,8.21358871459961,8.379457473754883,9.06224536895752,9.14050579071045,9.214845657348633,9.563373565673828,8.239795684814453,8.711112022399902,9.223379135131836,8.297347068786621,9.555270195007324,8.300395965576172,8.41122817993164,8.518308639526367,8.526273727416992,9.056595802307129,8.200438499450684,8.361601829528809,9.150627136230469,9.224296569824219,9.566915512084961,9.295658111572266,9.339085578918457,9.289518356323242,8.564504623413086,9.131534576416016,9.277620315551758,9.133852005004883,9.271377563476562,9.219548225402832,8.897697448730469,8.999940872192383,9.204344749450684,8.155128479003906,9.406097412109375,9.307868003845215,8.576096534729004,8.764250755310059,9.176202774047852,8.92894172668457],\"y\":[3.9922244548797607,4.677885055541992,4.574684143066406,4.6145124435424805,4.37579870223999,6.208840847015381,5.811328887939453,4.456593036651611,4.353184223175049,4.312324523925781,4.195074558258057,3.8288698196411133,4.023087024688721,4.463551998138428,4.361905097961426,4.893246173858643,4.218353271484375,3.6829473972320557,4.615428447723389,3.834710121154785,4.12574577331543,5.166280269622803,5.444830417633057,6.224084854125977,4.102460861206055,4.76354455947876,4.149368762969971,4.677738666534424,4.076171398162842,4.239753723144531,4.684659957885742,4.184010982513428,4.176497459411621,4.54381799697876,4.474428653717041,4.6913676261901855,4.4670867919921875,4.39951753616333,4.462615489959717,5.788795471191406,4.724355220794678,4.986993312835693,3.9513132572174072,4.758221626281738,4.715672969818115,4.320688247680664,3.9675092697143555,5.904569625854492,3.7387030124664307,6.159173488616943,4.281430721282959,5.4626359939575195,4.176700115203857,4.171867847442627,4.447978973388672,6.189760684967041,4.623778343200684,4.062086582183838,5.057148456573486,3.9073307514190674,3.799734115600586,4.582951545715332,4.2721848487854,3.6746950149536133,4.588380813598633,4.122080326080322,4.523429870605469,3.962973117828369,4.619395732879639,4.0632429122924805,4.594038963317871,4.586165428161621,3.789973735809326,3.891796112060547,4.060478210449219,4.692427158355713,4.089653015136719,4.5176472663879395],\"type\":\"scattergl\"},{\"hoverinfo\":\"text\",\"hovertext\":[\"verita analyst bpr specifically sdlc agile methodology sharepoint erp bi certification assurance lean sigma certify belt pmp capm compensation affirmative ordinance recruit recruitingaccommodation reward rx sick parental adoption retirement supplemental saving dependent spending tuition reimbursement certification referral outreach childcare\",\"indeed dhhr recruitment dhhr mis kanawha conceptualize analyst jad substitution substitution parental retirement\",\"momentum fortune analyst analyst ba ba elicit jad analyst agile exemplify corp\",\"analyst airme fertility progyny retirement colleague eligibility analyst nashville tn meditech continually participate qa uat operational assume excellence honor hca attain leverage hca communicate achieve execution hca itg itg ethical ethisphere frist sr founder analyst unlock\",\"kalman stafford kalman bca ea evaluate navy corps communicate citizenship clearance excel powerpoint clearance\",\"analyst analyst logan analyst responsibilitie analyst svp distill utilize foster sme coordinate gantt facilitate prove sql domo tableau bi practical spss sas proficient generous competitive flex spending fsas eap partial\",\"analyst altran responsibilitie whenever applicant seek cg dgem esoar dgem industrialization automation prepare gather participate fantastic exceptional proactive excel programmer analyst paso bsv\",\"analyst supervision supervision supervision actively chickasaw utilize facilitate translate translate actively qa facilitate uat certification occasionally infogenesis pos micros pos radiant pos pos certification\",\"innovation establish translate shopper communicate continuously sql modeling forecasting mlop databrick spark workplace conagra li cl1 li hybrid wealth conagra birds marie callender banquet slim reddi vlasic angie boomchickapop duke gardein frontera\",\"covid dis disabled veteran metropolitan dis integrate optimization dis analyst dis dis analyst bringing okr pmo gpra modernization applicant preference veteran reasonable\",\"analystlocation hybrid duration asset agile scrum sql oracleproficiency jira confluence andes sql hybrid andes\",\"telco hospitality beer miami denver charlottesville dublin hamburg munich sydney melbourne singapore shanghai cet participate quantify statistic resolve accountability ownership collaboration harnessing innovation broad passion passion unlimited ap dei verify li hybrid\",\"analyst edi bsa bas formulate analyst architect bsa operate liaise architect tester identifie analyst competent excel visio powerpoint babok edi vector connexion nacha bai\",\"veterans evaluate advocate tracking pat indicator kpis contractor kpis opa bi opa opa veteran vssc bi\",\"I I I sonika bisht fraud analyst supervisor fraud bureaus regulatory actively compile observe prepare wbr mbrs excel sql reasonable\",\"ardmore ahd ahd pigeon poodle pheasant thucassi analyst collect verify extensive excel erp sage x3 exceptional certification\",\"receivable analys receivable mrc strategize receivable resolve assure adhere undergraduate excel bi mrc conflict reasonable qualified li ls1\",\"analyst fep bluecard fargo nd bcbsnd flsa exempt prepare coordinate integrity prepare prepare intermediate accuracy intermediate verbal collaboration cpa certification licensure cpa accountancy equivalent sit constant constant constant exception minority veteran orientation identity cst veteran disabilitie cfr\",\"keith rabois miami scientist shopify ll invent contribute shape\",\"grinnell mutual workplace grinnell mutual grinnell alabama montana nebraska oklahoma wyoming grinnell mutual gpa undergraduate powerpoint excel bi excel bi commitment\",\"analyst kronos dimensions bi agile agile methodology novice proficient novice novice novice\",\"analyst airme fertility progyny retirement colleague eligibility analyst unlock sr analyst bi sr analyst workplace sql python bi itg itg ethical ethisphere frist sr founder aanlyst qualified\",\"greeting hanker pleasure I analyst nashville tn duration formulate prepare cba construct facilitate superior possess modeling tennessee ba bs anikesh sagar kennedy blvd tampa nashville tn gis\",\"icu enhance ai accelerate entrepreneurial teamwork ai integrate matlab spss sas passion desire python eeg citizenship clearance ph dod clearance verify eoe minority veteran disable\",\"greeting hanker pleasure I governance analyst conshohocken hybrid duration jobdescriptionwill dg governance establish implement facilitate informatica axon fortune anikesh sagar kennedy blvd tampa conshohocken\",\"ai ml responsibilite analyst ba bi participate evaluate sme consult roi ba oit oit criterion citizen dhs uscis eod clearance mandatory agile scrum kanban proficient jira proficient desire dhs uscis eod clearance investigation reasonable\",\"responsibilitie analyst quin beverage crm quin analyst analyst analyst kpi quin kpis champion establish generate advise quin assume continually reasonable reasonable\",\"analyst counseling generate counseling shac implement ehr ehr consult evaluate progressively validate shac assess confirm albuquerque nm sql\",\"analyst riaasc analyst arsenal sustainment responsibilitie analyst analyst represent contribute assignment architect adequate covid contractor covid bs ba intermediate excel outlook powerpoint clearance citizenship li kc1\",\"sugar bronze sugar bronzed courtney claghorn uv scientist hide organize evaluate audit kpi establish domo sql etl founder unlimited pto\",\"analyst compensation objective analyst acquire analyst expertise ap symposium competency ba bs mysql reasonable reasonable flsa classification usual ceo\",\"actuarial hybrid northbrook chandler communicate compensation fortune reward twitter facebook instagram linkedin enrol hea guard ordinance initiative ordinance eeo fmla fmla\",\"analyst worldlink holding analyst nexsure undertake gather identifie assurance omission analyst efficient mysql excel epic ams nexsure doe eeo disable vet analyst hybrid\",\"hybrid sql qlik bi leverage qlik powerbi milwaukee citizen holder warehouse bi hybrid milwaukee\",\"scientist cs I gather convert kpis contribute bi dyanmic python cx gainsight qualtric dynamic genuine milan munich dresden flex\",\"analyst analyst dean instruction analyst kpis trend kpi assign prepare prepare involvement participate atd ssc statistical excel spss sas tableau qlik sql oracle matlab python accuracy adept verbal prove clarksdale friar mississippi coahoma border\",\"acuity analyst acuity sprint responsibilitie engineer scrum increment roadmap possess demonstratable gherkin agile criterion dod certify clearance citizen enforcement sensitive acuity acuity smartceo cb li hs1\",\"oversee specialist consult hca bi interact regularly hca bi verifie investigate devise americans\",\"spotlight assurance qa analyst spotlight oz spotlight oz spotlight analyst relation spotlight kc execute identifie investigate participate scrum communicate agile qa desire jira github spotlight crossroad spotlight q4 spotlight\",\"flex puerto rico analyst analyst facilitate clarifie advocate respond identifie roi effectively communicate prepare participates analyst intermediate excel miro visio flex\",\"rakesh analyst asap analyst raleigh mandatory onsite analyst agile sdlc analyst decompose represent regard rakesh raleigh\",\"op brew beer premise zendesk premise premise karma geographic ingredient excel perk eap0 mbta beer rehabilitation vietnam veteran readjustment I americans\",\"analyst analyst lazarus whisler dissect solve weka exceptional mastery excel panda granify tesla facebook spacex airbnb pinter palantir alibaba yelp startup daa\",\"analyst omaha nebraska optimization innovation robotic lean sigma responsibilitie bhe berkshire hathaway pipeline bhe pipeline proficient excel powerpoint omaha\",\"bonus bonus conversion analyst cas cas coordinate initiate coordinate qa coordinate contribute extreme excel prove outstanding sagitta sql prove locate occasional frequent frequent\",\"aspire autism spectrum disorder aba aba certify analyst responsibilitie instructional lesson regularly communicate participate participate certification analyst certification bcba analyst laba excel ace ceu parental referral\",\"analyst analyst qa analyst ba ba analyst translate architect sme prepare fundemental baseline jad visio\",\"analyst minneapolis mn analyst analyst assyst nlyte poweriq communicate mis completion completion mis excel bi lift hennepin hipaa invitation marita nguyen reward meaningful competitive generous commitment sick saving\",\"analyst determinant analyst determinant transform participate participate participate excel sas fluent veteran disabilitie cfr\",\"jr31644 analyst analyst boise idaho dei likewise ea describe bi sql ssis etl sap hana bi tableau dataop solve analyst agile waterfall procurement cycle closely configure capability mba specialization exposure methodology dram nand crucial prohibit\",\"analyst altran responsibilitie whenever applicant seek cg dgem esoar dgem industrialization automation prepare gather participate fantastic exceptional proactive excel programmer analyst paso bsv\",\"integrity commitment caring medal specialist respond draw organize coordinator assemble sap omt generate bake prepare preparation sap excel ethic scholarship eligibility referral bonus tuition reimbursement gym reimbursement exam incentive covid vaccination incentive tuition formula sap\",\"statistician cdl cdl initiative statistical fluency leverage establish manipulate gis humor collaboration honor commitment measurable attainable timely departmental cdl1000 disagree commit assume intent pto snack supplemental aflac competitive compensation recruitment\",\"exciting meaningful analyst scientist python python elasticsearch sql apache nifi github jira tensorflow pytorch kibana bokeh leaflet folium tableau demonstarte ts sci eeo eeo supplement\",\"analyst powerbi ssas objective leverage participate contribute ssa powerbi sustain bi saas python\",\"ufg workplace moines forbes trustworthy additionally ufg ufg statistical analyst bureaus worker compensation actively participate skilled excel\",\"oa af wolf gpac analyst asap analyst completeness specification organize edi performa franco gpac grow\",null],\"marker\":{\"opacity\":0.5,\"size\":5},\"mode\":\"markers+text\",\"name\":\"2_agile_dis_responsibilitie\",\"text\":[\"\",\"\",\"\",\"\",\"\",\"\",\"\",\"\",\"\",\"\",\"\",\"\",\"\",\"\",\"\",\"\",\"\",\"\",\"\",\"\",\"\",\"\",\"\",\"\",\"\",\"\",\"\",\"\",\"\",\"\",\"\",\"\",\"\",\"\",\"\",\"\",\"\",\"\",\"\",\"\",\"\",\"\",\"\",\"\",\"\",\"\",\"\",\"\",\"\",\"\",\"\",\"\",\"\",\"\",\"\",\"\",\"\",\"2_agile_dis_responsibilitie\"],\"textfont\":{\"size\":12},\"x\":[5.925775051116943,8.166291236877441,8.110669136047363,7.615299701690674,8.003822326660156,7.663861274719238,7.164637565612793,7.8231072425842285,8.014718055725098,7.651567459106445,8.071887969970703,8.358864784240723,8.02426528930664,8.011491775512695,7.900644779205322,8.344414710998535,7.075229167938232,6.012357711791992,8.592079162597656,8.26414680480957,7.218626499176025,7.393159866333008,8.213436126708984,7.975192546844482,8.20361042022705,8.016755104064941,7.05267333984375,7.871391296386719,6.991386413574219,8.572070121765137,7.277766704559326,7.9449639320373535,7.319369792938232,8.03892707824707,8.617178916931152,7.8084869384765625,6.850119590759277,7.760653018951416,7.921816349029541,6.752036094665527,7.340677738189697,8.38925838470459,8.327211380004883,8.32411003112793,7.778120040893555,6.308313369750977,8.050153732299805,7.776317596435547,7.135090351104736,7.893515110015869,7.200181007385254,5.866015911102295,6.0335798263549805,8.539650917053223,7.924061298370361,7.010923862457275,7.331668853759766,7.6460280418396],\"y\":[3.2310924530029297,3.058703660964966,2.8725743293762207,2.7177908420562744,3.240635633468628,3.210076332092285,3.3168320655822754,3.1078543663024902,3.5913400650024414,3.1547722816467285,3.607452869415283,3.22938871383667,2.8972694873809814,3.166348934173584,2.892807722091675,3.632925510406494,3.295295238494873,3.509303092956543,3.0536890029907227,3.187042236328125,3.2578957080841064,2.9637835025787354,3.051182746887207,3.2532198429107666,3.0714030265808105,3.234070301055908,3.051725387573242,3.00996994972229,2.9313902854919434,3.0965797901153564,3.40636944770813,3.467681407928467,2.909968376159668,3.72505259513855,3.176420211791992,3.0518226623535156,3.607473373413086,2.9721155166625977,2.988365650177002,3.7431092262268066,2.9235990047454834,3.0451459884643555,3.1529572010040283,3.200976610183716,3.0467934608459473,3.192727565765381,2.7423229217529297,2.767634153366089,3.289167881011963,2.9720683097839355,3.2681901454925537,3.0964138507843018,3.271013021469116,3.401730537414551,3.0747292041778564,3.2472498416900635,3.2377517223358154,3.173214912414551],\"type\":\"scattergl\"},{\"hoverinfo\":\"text\",\"hovertext\":[\"analyst headquarters nv commitment I I I I I I I I I analyst analyst kpis governance lifecycle excel crystal bi troubleshooting ticket participate establishe continuously resume eoe workplace\",\"analyst ba acosta integrity orient teamwork innovation collect evaluate diagnose communicate coordinate effectively participate designing coordinating analyst methodology pmm powerpoint excel outlook visio\",\"analyst trend ideal analyst prepare prepare proficient expertise\",\"workforce analyst walt disney imagine workforce analyst empower effectively translate evaluate bi cognos tableau workday snowflake\",\"analyst pamlico yachtworks analyst generate actively oversee effectively collect coo bachelors superior excel powerpoint organize expectation grow prompt communicate investigate cooperation\",\"analyst consult organize evaluate progressively statistic organizational interpersonal consistent prescription spending saving sick recognition vet disable introduce\",\"trans lease analyst hsa fsa sick trans lease locate denver puerto rico excel mvr exposure exposure compensation bonus eligibility shift closing\",\"proficient analyst oversee trend trend administrator utilize tableau analyst ssr tableau assign adhere logixgarden reasonable diploma excel excel outlook\",\"miller llp billing analyst billing analyst liaise proactively resolve wip diploma lede continuous integral covid\",\"abbott summarize experienced technician technician experienced technician collect assurance\",\"relyon analyst avp gather deliver reconcile evaluate excel tableau superior superior patience authentic bright\",\"analyst salt analyst principal analyst sql cogno ideal possess preference cis\",\"indeed indeed compensation compensation analyst modify verify participate flsa eeo compensation effectively evaluate customarily compensation analyst healthcare competency mentality urgency initiative flexibility outstanding hipaa phi impeccable hris prove intermediate vlook prove payroll prescription colleague referral bonus veteran supplemental compensation analyst\",\"farmington hills subrogation analyst representative analyst representative excel sql proficient excel outlook cogent farmington hills\",\"willson customs brokerage logistic analyst analyst willson engage sop excel powerbi adobe acrobat nitro possess brokerage grow adapt celebrating appreciate willson supplementary willson\",\"analyst analyst principal inventory construct prepare validate interpret actively analyst prerequisite excel powerpoint sql erp\",\"analyst analyst organizational encompass proactively represent analyst ticket engineer competitive pto analyst destiny ziarkowski applicant applicant initiative ban ordinance\",\"kpis typically desire desire referral\",\"threat cyber analyst milwaukee cyber analyst identity preparation fraud ideal fluency comfortability prove permanent residency citizenship curious perk competitive pto stocked supplemental bonus\",\"analyst castle ba liquidity capture capture proof influence ideate altimetrik accelerator parental referral relocation retirement tuition supplemental bonus signing tip\",\"ll dig gig analyst ll estimate rephase fp forecasting tracking excel teamenterprise teamenterprise\",\"gbt analyst analyst analyst applying sql passionate analyst sql h6 shift referral bonus\",\"employ linkedin aerospace engineer assess leverage coordinate applicant\",\"outlook excel deliver competency collaboration organizational thoroughness solve\",\"analyst analyst kpis leverage deliverable leverage usability interaction competitive generous generous pto incentive parental parental hybrid portland\",\"fortune compensation dcp depend analyst reliability ariel caterpillar waukesha cooper operates utilize collect analyzes maximo frequent mechanic analyst analyst mechanic windrock noise regularly periodically occasionally occasionally occasional goldsmith posting snapshot goldsmith skilled\",\"sr analyst juliet tn oversee credential awareness excel bi characteristic capable logistic tomorrow ceva ceva hide referral retirement tuition supplemental bonus bi\",\"analyst participate liaison proof typically specialized certification excel\",\"analyst analyst additionally analyst analyst architect steward analyst analyst analyst analyst pi analyst wip kanban gather fulfill typically specialized certification relational nosql interpret summarize\",\"generate atwater prepare communicate evaluate propose ehr gvhc payroll excel environmentthe experiencerequired analyst educationrequire\",\"analyst integrate dealer prepare prepare coordinate intermediate excel powerpoint salesforce crm crm commitment exceptional sql\",\"analyst analyst expectation analyst kpi explain excel lucy lnava meador supplemental bonus\",\"assume reasonable verbalize communicate collect participate powerpoint adapt complie excel mathematics\",\"cfos accuracy honesty efficiency transparency integrity omega workplace analyst analyst calculation analyst coordinate analyst analyst ppp leverage retention desire audit intuit expertise excel irvine\",\"prod analyst lending lending desire ideal automate h5 shift referral bonus\",\"apet analyst probation closing referral probation additionally forgiveness pslf applicants excel powerpoint outlook exempt accrue retirement retirement retirement asr eoe ada reasonable\",\"analyst acquire validate interpret analyst equivalent excel\",\"tier analyst analyst hybrid jacksonville compensation bonus pto\",\"cincinnati analyst ideal generate respond represent ap advisor contribute excel attribute grow\",\"analyst storr fiscal analyst analyst organize aggregate uconn kfs webfocus huskybuy corect appointment\",\"payable clerk analyst willing flex jacksonville reconcile verify respond verify regularly newstar landdev organize prove prove proficient excel powerpoint reasonable reasonable worker retirement jacksonville\",\"analyst detroit pivot export generate contribute supervise portability accountability hipaa statistic equivalent supplemental veteran detroit residency\",\"analyst bi excel vba analyst analyst bachelors sql sql factset bloomberg relocation\",\"quantitative researcher utilize quantitative researcher crabel\",\"analyst analystreport operationslocation analyst moreover analyst analyst summarythe analyst outline routinely facilitate quantitative qualitative consolidate elt routinely aptitude exceptional exceptional excel powerpoint confidence extremely extremely requirementsworke lift pushing pull consideration\",\"clearance analyst assess generating troubleshooting evaluate analyst\",\"analyst prioritize analyst pto\",\"analyst crosse analyst analyst gather sql excel sql retirement supplemental bonus\",\"analyst variance prove excel tuition supplemental bonus\",\"analyst banker analyst analyst influence sql actively influence statistic mathematics bi sql thrive adept prove alteryx sap perk veteran\",\"infrastructure northcoast exceptional summa formal competency proficient competency\",\"knight knight knight calculate generating prepare organizational retirement\",\"summarythe hris analyst carefully analyst foresight entrepreneurial continuously qualificationsrequire hris workday prove prove possesse excel venture alcohol referral retirement tuition supplemental bonus\",\"covid populus additionally lending analyst lending lend populus lending escalate lending populus lending lending prepare prepare lend competency interpersonal orient curious interaction devop assurance reasonable reasonable eeo tuition hybrid\",\"analyst I analyst I analyst I analyst analyst analyst\",\"junior analyst assurance kpis utilize powerpoint acquire ideal excel powerpoint comfortable pivot lookup uphold\",null],\"marker\":{\"opacity\":0.5,\"size\":5},\"mode\":\"markers+text\",\"name\":\"3_analyst_excel_referral\",\"text\":[\"\",\"\",\"\",\"\",\"\",\"\",\"\",\"\",\"\",\"\",\"\",\"\",\"\",\"\",\"\",\"\",\"\",\"\",\"\",\"\",\"\",\"\",\"\",\"\",\"\",\"\",\"\",\"\",\"\",\"\",\"\",\"\",\"\",\"\",\"\",\"\",\"\",\"\",\"\",\"\",\"\",\"\",\"\",\"\",\"\",\"\",\"\",\"\",\"\",\"\",\"\",\"\",\"\",\"\",\"\",\"\",\"3_analyst_excel_referral\"],\"textfont\":{\"size\":12},\"x\":[7.351521968841553,7.161628246307373,7.619325637817383,6.752735137939453,7.171658992767334,6.849961757659912,6.381497859954834,7.506992816925049,7.107132434844971,7.3700103759765625,7.6192803382873535,7.890126705169678,6.3938212394714355,7.367287635803223,6.981662750244141,7.459321022033691,7.128619194030762,7.880983829498291,6.697153568267822,6.488400936126709,7.320528984069824,7.791421413421631,7.55441951751709,7.2291460037231445,7.200389385223389,6.970633029937744,6.325862407684326,7.5847554206848145,7.349264621734619,6.511111259460449,7.284073829650879,7.9151692390441895,7.5530900955200195,7.265622615814209,7.2035932540893555,6.329787254333496,7.67134952545166,7.423722267150879,7.988890647888184,7.405202388763428,6.925684928894043,6.774575710296631,7.964854717254639,7.651614665985107,7.2817230224609375,7.5553202629089355,7.867429733276367,7.79087495803833,7.6337504386901855,7.727245330810547,7.3493876457214355,7.451014518737793,6.516531467437744,6.534087181091309,7.589782238006592,7.5849995613098145,7.272429466247559],\"y\":[2.069932222366333,1.8625904321670532,1.3912997245788574,2.353334903717041,1.7444006204605103,1.90826416015625,2.3562188148498535,1.9892075061798096,2.3485634326934814,1.5573354959487915,1.7501375675201416,1.6443755626678467,2.2978527545928955,1.8962491750717163,2.0783586502075195,1.5989819765090942,1.6335387229919434,1.6585899591445923,1.9909228086471558,2.1130869388580322,2.059541940689087,1.6067198514938354,1.5879324674606323,1.8251910209655762,1.9469265937805176,2.0671234130859375,2.3418500423431396,1.4469904899597168,1.6048451662063599,2.401702404022217,1.833805799484253,1.809875249862671,1.7119476795196533,1.81697678565979,2.0808286666870117,2.3389997482299805,1.508272409439087,1.6354857683181763,1.7865158319473267,2.1633927822113037,1.873327374458313,2.049712896347046,1.872101902961731,1.4596166610717773,1.7547072172164917,1.4422334432601929,1.5545965433120728,1.6814948320388794,1.5262199640274048,1.89873206615448,1.897233486175537,1.8353595733642578,2.204206943511963,2.2026169300079346,1.4347959756851196,2.000155448913574,1.8661657571792603],\"type\":\"scattergl\"},{\"hoverinfo\":\"text\",\"hovertext\":[\"mine instructional specialist instruction specialist mine outreach mdap mine mine mine brightspace piazza github gradescope mdap instruction specialist mine mine mine python unix sql jupyter notebooks markdown lesson purdue purdue flsa exempt overtime retirement eligibility contribution purdue eoe parental referral retirement tuition\",\"discover nell hodgson woodruff vicki hertzberg principal investigator postdoc prepare principal investigator appointment phd python vicki hertzberg emory inclusive covid rehabilitation vietnam era veteran readjustment inquiries inclusion dowman tdd accessibility tdd\",\"competitive retirement sick toyo tire malaysia analyst cypress analyst cc4 analyst inventory implement participate kpi reasonable excel outlook sap capable erp sap tire mathematical reasoning reasonable prolong reasonable toyo nitto nitto tire covid remotely temporarily covid covid nitto tire covid costa mesa excel\",\"qtc passionate inspire competitive tuition generous mep interact compile mentor respond competency proficient excel powerpoint analyst qtc inquiry naci qtc vevraa analyst qtc diploma ge execute terminology literacy verbal orient capable dedicate devoted motivation inspire starter inspire completion inspire inspire veteran disabilitie cfr\",\"loyalty activation americas crm utilize translate mx sql sas dax crm crm bi roi collaboration loyalty succeed statistic mba crm exceptional proficient technologically excel powerpoint bi sql tableau cognos proficient outlook exempt eeoc compensation pharmacy wellness parental commuter dependent fsa voluntary eeo\",\"massey virginians vcu massey downtown richmond vcu massey iit coordinator analyst iit participate iit iit coordinating execute engage iit hiring massey ich cgp proven motivated competence capture excel powerpoint hiring capture commensurate massey uf restrict fte exemption exempt massey masseyhr\",\"gis analyst qgis ftth fiber fiber fiber gis analyst proficient kmz proficient geographical qgis fiber familiar gis proficient excel pivot powerpoint outlook kmz referral rochester\",\"analyst svp analyst excel establish compile rm analyst analyst indicator kpi analyst principle competency orient interpersonal proficient excel outlook powerpoint solve bonus healthcare bonus tableau robust excel proficient reasonable overtime excel tableau\",\"workpartner integrate analyst workpartner integrate analyst workpartner analyst regularly explain equivalent excel oracle sql interpret licensure certification clearance veteran\",\"idaho bi analyst warehouse bi bi bi analyst bi bi bi bi oversee metadata repository bi warehouse etl adhere certification mis mathematics mgmt warehousing extensive sql sql ssis ssrs sql adept extensive extensive possess excel extensive etl compensation std tuition forbe idaho recruitment resume\",\"typefull descriptionwhere analyst consultant foundational professionally deliver experienced lifecycle sdlc powerpoint sigma lean excel sql bi lucidchart powerpoint excel procurement ariba coupa ivalua oracle procure p2p gartner procurement optimization yoy shelby westview competitive\",\"disruption flexwork flex cortex xpanse xpanse fortune analyst xpanse thoroughly statistic math conceptual exceptional collaborative excel actuarial stata tableau sql commitment flexwork flex eeo disclosure depend covid vaccination vaccine covid\",\"initiate logistic plaza blvd st610 nashville tn circle oversee initiate represent mathematics statistic biostatistic mathematics relational sas sql typical subsidized nine wellness tuition verify transparency nondiscrimination provision bluecross blueshield additionally affirmative\",\"analyst livestock vp calgary ab cad vytelle bovine vitro fertilization utilize foster attribute excel mysql interpret livestock agriculture vba python engage inspire endurance pacesetter pioneer infinitely contagious integrity teamwork establish orientation anticipate positively assess\",\"analyst baptist jacksonville analyst cycle baptist jacksonville magnet shift analyst coordinate analyst baptist jacksonville baptist covid statusfull shift detailsvarious requiredassociate preferredbachelor certification healthcare\",\"hermann hermann specialized bi analyst specialized bi analyst specialized bi analyst certification certify excel pivot vba macros powerpoint visio sql visualization tableau sisense qlik powerbi statistical python sas spss exceptional prove personalize principal accountability ongoing hermann maturity hermann governance continuous summarize continually mhhs healthcare hermann\",\"analyst excel responsibilitie pivot excel generate excel fulfill utilize crm sherpa erp dca fm audit mapping illustrator eci mapping excel inputte packet tagging attend crm tco ongoing extremely copier competitive depend intertech brookfield vietnam alcohol smoke referral retirement\",\"analyst accentcare accentcare analyst accentcare analyst accentcare analyst analyst enhance participate complie hipaa accentcare analyst undergraduate mba gaap excel powerpoint tableau bi bi qlik oracle healthcare gaap excel powerpoint\",\"oklahoma junior analyst sql powerbi cognos exposure hybrid supplemental bonus oklahoma cognos bi hybrid oklahoma\",\"logistic analyst logistic analyst bachelors logistic excel powerpoint excel prove outcomes deliverable utilize logistic sla coordinate kpi extract anticipate ltl parcel investigate payable vendor logistic liaison asns logistic closing coordinate logistic sop logistic sop dkny karl lagerfeld marc wilsons bass\",\"fmd analyst fmd participate respond fmd troubleshoot supplemental exceptional tririga nuvolo proficient excel powerpoint outlook computerized cmms covid proof vaccinate islander indo reasonable americans tty eeo tty\",\"gainwell analyst gainwell gainwell excel dba pivot preference seek gather sql medicaid adjudication agile methodology visio excel alm vba macro arkansas paso puerto rico collaborative gainwell gainwell gainwell gainwell\",\"scientist columbus communicate proactively participate occasionally phd statistic mathematics applicant expertise sql postgresql nosql python tensorflow pytorch matlab extraordinary prioritize tuition succeed nurture covid vaccine biden workforce covid workplace guidance contractor subcontractor covid americans rehabilitation vii\",\"gratitude engage empathy compassion intellectually curious nadg tribe transform imagine nadg math statistic excel brace competitive constant bond relatable responsibilitie analyst nadg specifically nadg jacob vp vp proactively assess\",\"ul thousand dna ul satisfy exciting absolutely ul transformation analyst enablement powerbi aggregate transform assess equivalent mathematic statistic proficient excel bi sql python catalytic ul covid covid ul ul ul ul grow ul reward ul ul additionally healthcare reimbursement saving ul depend ul curious ul\",\"elmer analyst analyst antonio analyst analyst ideal respectful solver elmer antonio hvac hvac haven batter shelter antonio meal wheel discovery analyst analyst hvac willing bilingual analyst analyst\",\"denver don rockie rockie perk alterra resorts eap hsas fsa generous onsite don crm generate leverage kpi personas journey loyalty leverage satisfaction promoter crm partnering communicate alterra wp inspect bi tableau adobe analytics sql proactively synthesize tableau bi communicate prove demonstrated tableau bi adobe analytics sql crm modeling mba passionate wage reasonable auditory indoor hazardous noise minimal assign I\",\"cpg proficient excel bi tableau sql knowledgeable cpg grocery proficient attendance bi deliver organic excel powerpoint spoon\",\"globally dcop dcop contribute participate participate dcop analyst analyst kpis kpis initiate analyst continuity participate proficient proficient kpis grc ids accomplish excel powerpoint sharepoint itsm servicenow supplemental bonus\",\"metric analyst analyst metric analyst metric analyst interpret locate metric analyst metric adolescent strength establish resolve liaison exceptional passion proficient excel metric lancaster baltimore lancaster baltimore metric competitive wellness advancement pride metric metric csg certify mindfulness happiness integrity goodwill grit hipaa metric metric csg workforce\",\"analyst paylocity hris payroll anaheim cu socalbeside valueswe cu socal exceptional diploma hris paylocity outlook excel hris prove prepare supervise irs regularly hris hris cu socal cu socal\",\"analyst op analyst op participate proactively remitra diploma ge premier covid premier excel capability sql tableau li ad1 li premier premier premier participation premier tuition premier charlotte healthiest healthiest ethical ethisphere klas healthcare perk premier colleague teammate qualified premier premier premier recruit\",\"kpi indicator kpi npi kpi bi oracle competency ideally excel bi salesforce oracle tuition excel\",\"acquire evaluate adapt consistently spmc anticipate demonstrates participate exhibit successfully spmc facilitate teamwork actively foster treat redirect sp participate organizational summit analyst math statistic biostatistic certification epic epic thorough proficient seldom occasional frequent constant lifting lifting lifting push pull sitting standing walking bend stoop exposure bbp crouch spm innovation\",\"analyst identifie etl etl interact prepare sql tableau superior excel sql powerpoint python simplification participate effectively organize communicate establish mis mathematics statistic certification raymond raymond decide deliver grow contribute raymond petersburg petersburg shift\",\"nisa nisa responsibilitie analyst analyst nisa responsibilitie analyst sql governance bond derivative nisa nisa nisa\",\"denver don rockie rockie perk alterra resorts eap hsas fsa generous onsite don crm generate leverage kpi personas journey loyalty leverage satisfaction promoter crm partnering communicate alterra wp inspect bi tableau adobe analytics sql proactively synthesize tableau bi communicate prove demonstrated tableau bi adobe analytics sql crm modeling mba passionate wage reasonable auditory indoor hazardous noise minimal assign I\",\"formulate merchandise formulate merchandise establish uo scope fol merchandise phd mathematic statistic capable orlando orlando recruitment orlando orlando orlando tm eoe\",\"rapidrating analyst mandarin mandarin saas enhance rapidrating pto proficient fluent mandarin rapidrating rapidrating pto rapidrating\",\"junior healthcare analyst junior healthcare analyst indianapolis engage coordinate statistic mathematics excel powerpoint exposure sas parental pto adoption indianapolis indianapolis mathematics veteran disabilitie cfr\",\"td convenient convenient northeast atlantic metro carolinas td wealth td cherry convenient dominion dominion td lob scope tier tier contribute undergraduate accreditation inclusiveness td workplace uswaptdo eoe minority veteran disabilitie orientation identity amcb compensation td td reward laurel laurel nationwide laurel\",null],\"marker\":{\"opacity\":0.5,\"size\":5},\"mode\":\"markers+text\",\"name\":\"4_excel_powerpoint_logistic\",\"text\":[\"\",\"\",\"\",\"\",\"\",\"\",\"\",\"\",\"\",\"\",\"\",\"\",\"\",\"\",\"\",\"\",\"\",\"\",\"\",\"\",\"\",\"\",\"\",\"\",\"\",\"\",\"\",\"\",\"\",\"\",\"\",\"\",\"\",\"\",\"\",\"\",\"\",\"\",\"\",\"\",\"\",\"4_excel_powerpoint_logistic\"],\"textfont\":{\"size\":12},\"x\":[5.782856464385986,5.897371768951416,5.954286575317383,5.776704788208008,5.825417995452881,6.243576526641846,6.89363431930542,6.314120769500732,6.2008161544799805,5.7522053718566895,6.625302791595459,7.283457279205322,7.277665138244629,7.265894889831543,7.316451072692871,6.396093845367432,6.802785396575928,6.451927661895752,7.253113746643066,6.429121017456055,7.0618414878845215,6.807373046875,7.221202850341797,7.2793169021606445,7.1365065574646,6.318154335021973,5.763391971588135,6.613527774810791,6.662585735321045,5.815292835235596,5.848567962646484,6.021843433380127,6.647815704345703,5.763287544250488,7.38754415512085,6.125331878662109,5.748177528381348,7.117669105529785,6.956428527832031,7.300765037536621,6.6469645500183105,6.536253452301025],\"y\":[5.245952606201172,4.318982124328613,4.542919158935547,5.140424728393555,5.020101547241211,4.949377536773682,4.195992946624756,4.006412506103516,3.8839893341064453,4.772578716278076,4.100446701049805,4.125123977661133,4.200052261352539,3.9486429691314697,4.220338344573975,3.948078155517578,3.9597949981689453,4.1728620529174805,4.231901168823242,4.189291477203369,3.887765407562256,4.0124406814575195,4.219092845916748,3.6836555004119873,4.070521831512451,4.1280951499938965,4.827593803405762,4.205129146575928,4.265820503234863,4.55123233795166,5.17885160446167,4.0861639976501465,4.187368392944336,4.7311224937438965,4.010382175445557,4.2546796798706055,4.849612712860107,3.8491780757904053,3.975188970565796,4.175220489501953,4.146575927734375,4.304121017456055],\"type\":\"scattergl\"},{\"hoverinfo\":\"text\",\"hovertext\":[\"equivalent engineer sf engineer effectively libsvm theano bs phd mathematics mathematic nlp allegis\",\"analyst kpi compile compile eqr ferc eia bess evaluate dia coordinate labs pia pia integrate pia sql\",\"engineer advise phd python sql git jira cli stem azure aws gcp docker apis dutie proof covid vaccination reasonable discrimination\",\"ai sql proactively sql aide sql certification ciip cnmt rt javascript typescript python aws cloud\",\"abc miami brooklyn analyst postgre metabase ml generate metabase gui sql acquire proactively mysql rdbms competitive ml ai bi tableau aws perk abc pto\",\"c2c weigh sdr sdrs scientist cto vp etl supervise unsupervised bagging boost python ml aws cloud ml ai amazing supplemental retirement participation competitive\",\"analyst irving tampa pl sql jd analyst basel translate frd minor mdd facilitate excel offshore onsite ba tampa pl sql willingness\",\"kpi ssc kpi li tm1 principal responsibilitie organize bi architect procure kpis simplification excel powerpoint sql desire desire sql oracle vb\",\"analyst deadline certification mcsa sql dba transcript proof resume ccr ix gina carreon trusd trusd\",\"equally headquarter richardson plano antonio enhance organize sql azure devise pci dss automate pos remoteconsole shell scripting vb vmware hyper powershell sql profiler sql\",\"import scrub prepare sql etl sql sql math transact sql python powerbi excel competency passionate veteran disabilitie cfr\",\"analyst collect utilize bi sql sql communicate prepare evolve communicate accountable orient excel sql plsql unix oracle vb uniface\",\"kri kpi oversee operational oversee kri kpi kri kpi orm operational additionally kris kpis prove li kh1 li\",\"analyst transit mts mts excel mts possess mathematics minority veteran disable\",\"analytics cp ultimately junior analyst cp sql python apis gds tableau bi exposure python bigquery aws azure resourceful enthusiasm ba bs exposure prove bi cultivate connelly\",\"solve swing nfs s3 optimize mysql oracle api jax rs desire lun englewood citizen\",\"governance grc implement onpointcu governance grc awareness ffiec ncua acet ccpa cgeit crisc cisa cgeit cisa\",\"c2c citizen w2 analyst duration hybrid utilize eer passport passport peoplesoft impromptu sql ordinance referral sql\",\"responsibilitiesbusiness specification qa uml sdlc crypto nft analyst\",\"excel vba bl sql wordpress reno nv sql analyst\",\"fortune fortune admired unsure sme qbr coordinate sme qbr coordinate covid export regulation ear fraudulent\",\"interpret acquire locate sql javascript etl excel spss sas adept bs mathematics statistic relocation\",\"analyst fulltime exempt supervisor engage interpret engage aggregate hie uniform ud hedis meaningful pcmh hrsa participate coordinate lpca hrsa pca emr ehr tableau bi familiar uds creativity awareness fqhcs\",\"contribute effectively sql tableau prove sql ssrs excel extremely tableau alteryx aggressive inclusive extensive wellness generous nyse ldi li ss pm17\",\"aamft alexandria sql analyst transact sql analyst oracle dbas applicant transact sql trigger sql bi sql imis interpersonal\",\"vp quest oracle vp I jd edwards cloud orchestration jde e1 analyst billing obviously homebuilder vp vp\",\"sling sle sling sle analyst sle advise sql desire sql python compensation veteran dish consistent dish englewood\",\"warwick warwick warwick scientist responsibiltie nlp ml discover draw sql nosql graph msft azure python julia javascript sql api etl quantitative\",\"interpret acquire locate sql javascript etl excel spss sas adept bs mathematics statistic relocation\",\"healthcare analyst emr sql excel organize pull distill utilize convert communicate responsibilitie bs healthcare cycle emr transact sql sql\",\"sme scientist bethesda clearance sci descripitoin scientist sme dss dss servicenow jira itsm additionally dss scrum dss sme ato involve lsi cep scientist bluemont affirmative bluemont bluemont bluemont verify verify\",\"ai engineer engineer ai publish cv nlp phd\",\"governance grc implement governance grc continuously effectively champion awareness crisc cgeit cisa cissp cis pci nist ccpa cloud\",\"locate nw implement implement extract audit institutional evaluate odbc excel python sql javascript odbc mrp erp wms curiosity creativity\",\"axos excellence sql sql ssis sql troubleshoot sql participate analyst mathematics obsession orient excuse ethic innovation dedication immersion sql ssis consideration axos ax nyse ax reasonable\",\"dunedin analyst analyst pto ce perk ama establish ama analyst analyst sql excel visio tfs sql ssm sql ssrs tableau bi\",\"washingtonbusinessjournal significance significance analyst audit remediation fiar universe transaction uot python sql acl sas interim clearance dod clearance cpa cisa cia cgfm cdfm li mh1\",\"translate construct generate animate contribute detect polish prove apis render bs informatica sql\",\"capex climate sql ssis leverage excel sql beneficial sql sharepoint bi stack sql\",null],\"marker\":{\"opacity\":0.5,\"size\":5},\"mode\":\"markers+text\",\"name\":\"5_sql_dss_kpi\",\"text\":[\"\",\"\",\"\",\"\",\"\",\"\",\"\",\"\",\"\",\"\",\"\",\"\",\"\",\"\",\"\",\"\",\"\",\"\",\"\",\"\",\"\",\"\",\"\",\"\",\"\",\"\",\"\",\"\",\"\",\"\",\"\",\"\",\"\",\"\",\"\",\"\",\"\",\"\",\"\",\"5_sql_dss_kpi\"],\"textfont\":{\"size\":12},\"x\":[9.444289207458496,8.966728210449219,8.863199234008789,9.36770248413086,9.00340461730957,8.74131965637207,8.81745719909668,9.058453559875488,8.982416152954102,9.164375305175781,9.146267890930176,9.201333999633789,8.71564769744873,8.923141479492188,8.849653244018555,9.31694507598877,8.401350021362305,9.064831733703613,9.38667106628418,9.335439682006836,8.509461402893066,9.497557640075684,8.273714065551758,8.7279052734375,9.138218879699707,8.931282997131348,8.537454605102539,9.302534103393555,9.500229835510254,9.137660026550293,8.471199035644531,9.450606346130371,8.4280424118042,9.27259635925293,9.120028495788574,8.530762672424316,8.222053527832031,9.483519554138184,9.171686172485352,8.986080169677734],\"y\":[5.425318241119385,5.309295654296875,5.076221466064453,5.5201005935668945,5.429935932159424,5.174328327178955,5.656675815582275,5.535837173461914,5.073694705963135,5.586986541748047,5.740540027618408,5.680293083190918,5.695100784301758,4.971753120422363,5.065871715545654,5.4907989501953125,5.4214043617248535,5.148676872253418,5.428208827972412,5.52605676651001,5.068591117858887,5.486567974090576,5.241434574127197,5.15444803237915,5.736374378204346,5.235920429229736,5.5848612785339355,5.499816417694092,5.457581043243408,5.712936878204346,5.30118989944458,5.364396095275879,5.344359397888184,5.56337308883667,5.740419864654541,5.1830973625183105,5.290477275848389,5.48403263092041,5.71382474899292,5.41335391998291],\"type\":\"scattergl\"},{\"hoverinfo\":\"text\",\"hovertext\":[\"denver dedo denver denver dedo workforce denver dccp dsbo dedo dedo dedo denver dedo analyst dedo dedo zengine zapi salesforce powerbi arcgis dedo dedo analyst dedo salesforce zengine powerbi arcgis dedo dedo citywide dedo dedo dedo dedo advise dedo ideal powerbi arcgis salesforce zengine zapier apis expertise statistic actuarial equivalency resume cv resume ca3307 denver\",\"ml rl engineer rl ml dl rl reinforce deeplink ml rl ml rl uniswap sora deeplink ethereum neural ethereum evm deeplink ai ml ml evm defi uniswap dex ethereum uniswap uniswap uniswap ethereum uniswap uniswap ethereum trader lps uniswap deeplink uniswap htr uts l3 uniswap deeplink drl deeplink uniswap sora competitive commitment python sql\",\"ai ai neo matrix kung fu morpheus arena arena ml modeling telemetry algorithmic ai artificial prove intuition ml scientist ci recruit scratch recruiting scratch sequoia lightspeed venture tiger a16z accel dfj recruit scratch recruiting scratch sequoia lightspeed venture tiger a16z accel dfj\",\"fragiadakis colab cytof rna ucsf fragiadakis colab colab postbac colabs colab ucsf colabs parnassus colabs colab colabs colabs biological imaging bidc ds biology d2b cytometry genomic colab ucsf coproject coproject colab coproject python interpersonal github ucsf ucsf uc nobel pride ucsf pride pride ucsf ucsf affirmative payroll bioinformatics progr bargaining bargaining percentage parnassus sf shift shift\",\"shield louisiana covid residency louisiana scope bcbsla billing bet facet jiva certification accountability validate facet jiva analyzes bcbsla utilization appeal bcbsla jiva adhere phi jiva utilization appeal accountability accountabilitie reasonable li jh1 bcbsla workday explorer encounter chrome firefox safari workday louisianians shield louisiana pursuant violent enforcement additionally shield louisiana workplace\",\"analyst birmingham analyst birmingham scs budgeting scs scs coordinate prepare gaap consolidate scs gather participate establish cpa cfa mba utility oracle cloud erp oacs oracle powerplan excel utility proficient ferc gaap conceptual poet anticipate exceptional excel powerpoint scs thorough li auditing metro operate alabama metro birmingham birmingham headquarters ivan allen jr blvd nw ivan allen jr blvd nw colonnade parkway colonnade parkway birmingham req scs2010796\",\"locate colusa considerd hourly annuallydepartment closing distinguish characteristic grow colusa grow analyst supervision supervision supervision exhibit administer collect participate representative competency principle pertinent principle statistical principle collect interpret engender employ evaluate operate utilize communicate equivalent noise hazard reasonable sit lift supplemental countythe sacramento sacramento colusa colusa antebellum supervisor supervisors colusa colusa portions butte sink wildlife refuge colusa wildlife refuge delevan wildlife refuge mendocino sacramento wildlife refuge recreational sacramento communityestablished colusa sacramento interstate tahoe sacramento bragg mendocino colusa colusa americans disabilities colusa streetcolusa\",\"empower ai ai empower ai headquartered reston empower ai civilian empower ai empower empower ai viqtory I responsibilitie scrum agile scrum extreme kanban agile scrum scrum lean agile scrum scrum highlight arrange continuously organize assess identifie scrum agile agile implement communicate agile agile lean kanban scrum citizenship scrum sdlc agile agile powerpoint excel jira innovative sit ambulate ambulate empower ai empower ai empower ai vevraa contractor\",\"ai ml responsibilite devop aws devop implement aws nist assess devop python ruby perl possess aw azure docker kubernete github dependency terraform ansible docker multipass http tls automate ci pipeline jenkins spinnaker ci ci pac deploy iacs participate architect enhance infrastructure deliver agile participate participate devop agile employ agile agile devsecop actively evaluate participate contribute agile scrum kanban proficient citizen dhs uscis eod clearance eod mandatory python perl cloud aw azure iacs terraform docker deploying k8s cli ci agile scrum kanban jira proficient desire dhs uscis eod clearance investigation aws certification reasonable\",\"locate colusa considerd hourly annuallydepartment closing distinguish characteristic grow colusa grow analyst supervision supervision supervision exhibit administer collect participate representative competency principle pertinent principle statistical principle collect interpret engender employ evaluate operate utilize communicate equivalent noise hazard reasonable sit lift supplemental countythe sacramento sacramento colusa colusa antebellum supervisor supervisors colusa colusa portions butte sink wildlife refuge colusa wildlife refuge delevan wildlife refuge mendocino sacramento wildlife refuge recreational sacramento communityestablished colusa sacramento interstate tahoe sacramento bragg mendocino colusa colusa americans disabilities colusa streetcolusa\",\"hawaiian airlines hawaiian analyst lob analyst translate interpret acquire locate participate hawaiian airline prove sdlc feasibility proficient possesse hawaiian airlines dot cfr marijuana cocaine opioids pcp phencyclidine amphetamine hawaiian airline proficient sql airline hawaiian airline hawaiian cond nast traveler hawaiian hawai leisure hawai forbes hawaiian hawai hawaiian hawaiian hawai honolulu samoa tahiti cabin cabin hawaiianmile hawai hawaiian pono hawaiian holdings nasdaq ha hawaiianairline hawaiian twitter hawaiianair facebook hawaiian airlines instagram hawaiian linkedin hawaiian airline veteran disabilitie cfr\",\"som analytics som ucr cfao cmio ucr som som moreover powerbi lastly powerbi sars cov covid vaccination vaccination exception exemption objection deferral certification certification epic clarity certification powerbi proficient bi proficient excel powerpoint bi prove prove inland uc riverside inland ucr uc riverside uc riverside uc riverside ucr innovation alliance uc riverside insider ucr entomology ranking ucr nobel laureate academy affirmative\",\"analyst analyst instruction cobb douglas cdph exceptional sick flexibility hybrid reimbursement payroll deductible pension worksite wellness hs cobb douglas cdph excel cobb douglas specialist programmatic hs redcap hs coordinate ghpc hs analyst analyst excel annually annually cobb douglas marietta cobb douglas cdph cobb douglas cdph cdph applicant fingerprinting previousemployment immunization licensure ada cdph linkage competency tuition covid\",\"analyst specialist sw flsa exempt div botetourt eeo telework hybrid sensitive innovation vccs nestled ridge appalachian vccs vccs blacksburg roanoke daleville appalachian trail historic roanoke daleville pavilion analyst ssc interpreting advise contribute assignment governor ksa ksa bi dbms sql intermediate excel bi salesforce sharepoint peoplesoft supervise posting posting cls recruitment vacancy instruction applicant commonwealth commonwealth hiring cod certify rehabilitation counselor rehabilitative dar veteran veteran dar hybrid additionally commonwealth eeo eeo vccs ada vccs eoe affirmative americans ada adaaa vccs verify vccs verify I\",\"bny mellon bny mellon bny mellon bny mellon bny mellon mellon nyse bk twitter bnymellon asset bny mellon quantitative interpret primarily bny mellon affirmative minority veteran bny mellon affirmative minority veteran\",\"ba bs commitment excel repository analyst librarie curation dcn repository drum librarie conservancy udc conservancy institutional locate minneapolis librarie twin mississippi minneapolis responsibilitie appraise approve investigate repository curation triage curation identifie datacite dois recruitment coordinate repository meets udc repositories archivist repositories archivist administrator participate rds drum curator dspace dspace migration resume ul448 covid vaccination twin umtc twin umtc locate minneapolis\",\"ukg rh nous ml elle gcp cloud ce ia ia responsabilit cr concevoir etl elt assembler identifi construire gcp construire travailler ml op op cr travailler prendre encadrer contribuer exigence comp baccalaur connaissance sql langage sql nous exp bigquery redshift snowflake exp solide connaissance exp exp gcp dataflow bigquery composer exp sql nosql mongodb sql exp airflow kubeflow exp kafka pubsub exp python scala exp apache beam spark exp dataflow dataproc emr profil ukg ukg ultimate krono nos nous ukg employeur ultimate kronos tous accommodement ukg si ukgcareer\",\"pagoda pagoda web3 startup pagoda web3 pagoda unlimited pto yearly reimbursement setup reimbursement yearly retreat lisbon wellness spill pagoda web3 startup pagoda web3 pagoda scientist cli respond cultivate fluency sql fluency bi tableau looker fluency python databrick bigquery depend recruiter pagoda ideal pagoda innovate practical favor integrity reputation\",\"responsibilitie matlab sas spsss stata graphpad igor eeglab fieldtrip toolbox brainstorm afni spm python possess matlab sas spsss stata graphpad igor eeglab fieldtrip toolbox brainstorm afni spm python veteran disabilitie cfr\",\"us6469 payroll percentage asset asset sam asset ham cmdb servicenow reconcile cmdb cmdb asset cmdb cmdb enact cmdb servicenow csdm communicate cmdb asset cmdb mandatory cs asset cmdb servicenow itil competency covid precaution sanitizing affirmative applicants affirmative\",\"analyst crumbl analyst analyst gather communicate locate encourage crumbl sql tableau excel dbt python exposure lindon ut prolong perk pto doordash dashpass cookie crumbl logan utah jason mcgowan sawyer hemsley crumbl crumbl ultimately crumbl crumbl eeo crumbl logan utah crumbl logan utah jason mcgowan sawyer hemsley crumbl\",\"artificial cybersecurity cads artificial cybersecurity supervise establish contribute merrimack cultivate merrimack cad cad bs bs cads additionally ph commitment possess additionally merrimack engineer stem innovation subsequent catholic augustinian resume curriculum vitae vaccination merrimack covid vaccination covid catholic augustinian catholic augustinian merrimack catholic augustinian catholic augustinian catholic augustinian merrimack winston girard andover andover merrimack m1 carnegie classification institution merrimack merrimack merrimack ncaa I\",\"cognizant nasdaq ctsh headquartered teaneck cognizant nasdaq forbes fortune aia artificial ai artificial ai ai ai ai cognizant aia optimize sql evaluate validate analyst engineer programmer examine desire erwin cognizant cognizant cognizant cognizant veteran cognizant veterans veterans cognizant shift cognizant cognizant nasdaq ctsh headquartered cognizant fortune cognizant usjobscognizant applicant cognizant veteran careersna2\",\"morgan lewis bockius llp analyst intake proactively compose proofread typical flexibility qualified li hybrid covid morgan lewis bockius llp covid proof morgan lewis bockius llp pursuant ordinance applicants pursuant ccpa bockius llp morgan lewis bockius llp karen leboo\",\"microbiology smh supervisor supervision supervisor lis typical interpret sql excel pivot macros lis sharepoint ur procure jaeggar marketplace visually kpis qa covid tat discrepancy viral hiv hep hep cmv supervisor ur workday p2p payable purchasing microbiology microbiology excel pivot macros sql excel lis pivot macros ur workday procure jaeggar marketplace mckesson allscript pmm mmis urmc cognos analytics oracle onbase sharepoint discover heal affirmative eoe minority veteran disable\",\"recruiter collectorresearch covid underserve communitiesprincipal investigator holly hagan vincent guilamo ramosresearch labs hiv cduhr latino adolescent measurement nih covid covid covid recruiter collector desiree holly hagan hiv cduhr recruiter collector bronx recruiter collector manger recruiter collector pis cduhr nih hiv hcv guilamo ramos latino adolescent latino latino adhere irb engage recruit mott haven nycha radx attend manger pis bronx latino bilingual excel powerpoint resume cv nyu interfolio interfolio\",null],\"marker\":{\"opacity\":0.5,\"size\":5},\"mode\":\"markers+text\",\"name\":\"6_cognizant_uniswap_sacramento\",\"text\":[\"\",\"\",\"\",\"\",\"\",\"\",\"\",\"\",\"\",\"\",\"\",\"\",\"\",\"\",\"\",\"\",\"\",\"\",\"\",\"\",\"\",\"\",\"\",\"\",\"\",\"\",\"6_cognizant_uniswap_sacramento\"],\"textfont\":{\"size\":12},\"x\":[4.741876125335693,5.228720664978027,5.129611492156982,4.844958305358887,4.888089179992676,5.098785877227783,4.685643196105957,4.764346122741699,4.708935737609863,4.673984050750732,4.77679967880249,4.847923278808594,4.91441011428833,4.589591026306152,5.007795810699463,4.731758117675781,4.91585111618042,5.140916347503662,5.233755111694336,5.0563507080078125,4.894193172454834,4.904412746429443,4.958596229553223,4.886086463928223,4.803717136383057,4.808374404907227,4.893672466278076],\"y\":[7.617964744567871,7.792597770690918,7.6339111328125,7.675088405609131,7.488658905029297,7.618478775024414,7.6297149658203125,7.610374927520752,7.692113876342773,7.622503280639648,7.602131366729736,7.523146152496338,7.552382946014404,7.403824806213379,7.593559741973877,7.645997047424316,7.790678024291992,7.291359901428223,7.69074010848999,7.42836856842041,7.725624084472656,7.678711891174316,7.735101699829102,7.622682094573975,7.661044120788574,7.6638665199279785,7.615023612976074],\"type\":\"scattergl\"},{\"hoverinfo\":\"text\",\"hovertext\":[\"analyst aml\",\"\",\"incorporate administer solve sql\",\"evaluate architect communicate ml\",\"analyst communicate constantly assurance prove sql\",\"supervise\",\"mathematic internship referral relocation sql willingness\",\"hadoop\",\"evaluate facilitate\",\"streamline coordinate organize\",\"transformation excel cpe\",\"climate\",\"gather influence coordinate convert communicate ashburn excel\",\"multitasker\",\"asr analytics gcom\",\"terminal kpis scientist ai\",\"analyst secondary madison\",null],\"marker\":{\"opacity\":0.5,\"size\":5},\"mode\":\"markers+text\",\"name\":\"7_communicate_multitasker_streamline\",\"text\":[\"\",\"\",\"\",\"\",\"\",\"\",\"\",\"\",\"\",\"\",\"\",\"\",\"\",\"\",\"\",\"\",\"\",\"7_communicate_multitasker_streamline\"],\"textfont\":{\"size\":12},\"x\":[9.38571834564209,9.396166801452637,9.27925968170166,9.32867431640625,7.935628414154053,9.364435195922852,9.155560493469238,9.36890983581543,9.368032455444336,9.242589950561523,9.287873268127441,9.376460075378418,8.960545539855957,9.2614164352417,9.165590286254883,9.291443824768066,9.330361366271973,9.205803871154785],\"y\":[1.6684074401855469,1.6498051881790161,1.7802393436431885,1.7251707315444946,1.6104894876480103,1.676558017730713,1.965026617050171,1.6504331827163696,1.670559048652649,1.742104172706604,1.8123233318328857,1.6630960702896118,1.8360341787338257,1.8231643438339233,1.9288301467895508,1.8333566188812256,1.6927201747894287,1.7487246990203857],\"type\":\"scattergl\"},{\"hoverinfo\":\"text\",\"hovertext\":[\"csueu probationary admission specialist sf reasonable applicant sf revise inquiry ix coordinator discrimination harassment retaliation administrator smoke vapor smoking vaping neglect csu conflict conflict credential appointment anticipate admission specialist credential cgsc gcoe dean coordinator admission specialist gcoe bac integrate admission specialist credential credential gcoe pathology additionally admission specialist itep integrate sf admission specialist gcoe dean gcoe departments sf admission csu chancellor credentiale admission admission incumbent credential cgsc gcoe ctc csu incumbent gcoe ctc csu incumbent dean collect ctc csu calstate webadmit onbase cs credential subpanel cs bolt gcoe coordinate sf admission participate admission analyst credential analyst aoc credential credential analyst credential analyst dean participate cgsc supervise assign competency bias adhere skype eligibility applicant citizenship compensation bridging transition sf pension healthcare sick waiver csu covid csueu sf h1 visa csu csu csu csu daylight\",\"supplemental questionnaire b7utmyohf7ozxcck9 dt wiring governance dt itsm continuous ccsf itsm saas servicenow dt servicenow dt servicenow dt additionally coit oca covid ccc eoc paas itsm dt itsm dt servicenow itsm itil servicenow servicenow dt itsm itsm dt itsm dt itsm itsm servicenow itil servicenow oca servicenow oca waiver administrator adm ics hrd servicenow enhancement servicenow enhancement servicenow procurement enhancement servicenow servicenow dt itsm itsm itsm itsm itsm itsm itsm ccsf coordinate departments itsm itsm prepare prepare itsm incumbent ness telecommute incumbent appointment permanent exempt charter certification substitution desirable itil certification servicenow administrator certification csa possession mis clearance investigation applicant falsify compensation supplemental questionnaire carol wong hiring conviction disaster worker ada veteran preference eeo covid covid applicant hiv\",\"formulation analyst dau budgeting execution ppbe dau objective memorandum pom pbr estimate submission bes pb regulation fmrs dau acquisition workforce dawda dau prepare omb osd dau establish dau dau osd initiative dai efd ngrm eas snap advana prepare reconcile dau osd comptroller pom pbr bes pb dbs execute osd op op op pb ngrm manpower snap audit acquisition workforce memorandum pdm rmds pom pb pdms rmds dawda execute dau omb congressional dau citizenship selective regulatory guidance dod placement sipr pentagon dod certification instruction dod certification opm specialized nh gs omb congressional ppbe qrf applicant qrf qualified proficient ppbe dai rmd unpaid volunteer refer corps americorps volunteer qualify competitive competitive dau verify homeland citizenship immigration dau dau deposit acqdemo expand probationary supervisor acquisition acquisition interagency transition ictap ictap sf employ annuitant reemploye annuitant applicant dod annuitant spouse preference msp spouse preference spouse ppp certification checklist spouse preference spouse ppp certification checklist eligibility evaluate veteran applicant eligibility questionnaire applicant questionnaire resume gs civilian linkedin transcript veteran veoa vra disabled veteran vow dd dd disabled veteran armed sf veteran vetpreference civilian dau sf notification promotion consideration sf sf sf promotion sf veteran vow appointment dd discharge dd armed discharge terminal signature vow dd usajob resume questionnaire usajob upload dfas alternate acquisition belvoir belvoir dau dau dfas usajob usajob usajob usajob transparent eeo reasonable selective signature questionnaire applicant questionnaire resume gs civilian linkedin transcript veteran veoa vra disabled veteran vow dd dd disabled veteran armed sf veteran vetpreference civilian dau sf notification promotion consideration sf sf sf promotion sf veteran vow appointment dd discharge dd armed discharge terminal signature vow dd citizen clarification\",\"mathematical statistician advise prepare citizen verify selective cst mst selectee stem doe appointment combination specialized specialized gs gs reviewing ph ph gs gs gs gs gs gs gs gs lifecycle gs gs gs lifecycle gs corp americorps volunteer opm gs opm gs ctap ictap doe applicant telework doe doe cfr interagency transition ictap opm ictap ctap ictap supervisor supervisory verify verify verify veteran fedshirevet selective selective eeo eeo reasonable reasonable veteran veteran selective eligibility evaluate dha mathematics gs veteran preference appointment cfr conscientiousness mathematical reasoning competence questionnaire viewquestionnaire eligibility resume transcript unofficial veteran preference dd sf usajob opm chcoc vow transition interagency transition certification separation reduction separation propose removal sf rif opm transition recruitment incentive authorize cfr relocation incentive authorize doe doe permanent usajobs usajob usajob usajob usajob resume builder usajob usajob dha oak ridge tn usajob usajob usajobs notification transparent eeo reasonable selective signature resume transcript unofficial veteran preference dd sf usajob opm chcoc vow transition interagency transition certification separation reduction separation propose removal sf rif opm transition recruitment incentive authorize cfr relocation incentive authorize doe doe permanent ctap ictap rpl citizen clarification citizen\",\"worker innovative cowin cdot coloradan cdot coloradans cdot cdot cdot forgiveness li cdot dtd asset pamb cdot cdot analyst analyst asset aim asset rb amp asset tamp fhwa cdot cdot asset aim asset oversight participate cdot aims gis sap emt tamp cdot cdot tamp cdot emt tamp fhwa hq asset aim aim cdot occasional cdot cdot substitution appeal substitution doctorate resume transcript transcript transcript nace cdot modeling analyst polished aim fluency excel powerpoint sap sharepoint supplemental applicant checklist cdot announce vacancy supplemental questionnaire nace dd214 resume notification hiring revise statute sme disciplinary demotion reinstatement screening cubic cubic cdot cubic infocubic cubic inverness englewood cdot appeal sherman denver regulation ccr appeal dispute inclusion discrimination discrimination cada adaaa cdot ada amendment adaaa angelita sim angelita sim sap pcr\",\"analyst translate interact communicate organize uat uat evaluate typical certification murfreesboro murfreesboro bi payroll cycle cycle luther independence veterans thanksgiving thanksgiving eve murfreesboro enrollment eligibility spending voluntary legally dependent wellness enrollment deduction payroll flex spending fsas shield tn bcbst ppo hra delta tennessee vsp spending fsa dependent spending dcfsa fsa dependent fsa cafeteria cigna ss accidental dismemberment accidental dismemberment voluntary voluntary retirement eligibility retirement retirement retirement mandatory irs vest retirement retirement firefighter retirement wellness reward go365 go365 go365 eap eap lifeservice eap saving pinnacle ascend cornerstone longevity murfreesboro mayor longevity mayor longevity longevity longevity shift luther independence veteran thanksgiving thanksgiving eve accrue shift accrual shift earn shift earn sick sick sick sick sick firefighter sick sick accrue sick frequency paydays frequency fleet sit murfreesboro sit bi certify bi shift battalion sit bi shift battalion bi shift battalion bi succeed attitude reflect excellence murfreesboro\",\"willing relocate commutable oversee ao acos prepare accumulate accumulate mine collect ao acos participate veteran recruitment relocation incentive telework telework disclosure citizen selective participation veterans hcp participation coronavirus covid veterans hcp gs gs ll transcript competencie solve clerical applicant corp americorps volunteer equivalency earn consideration cfr appointment selective placement coordinator interagency transition ictap transition ctap veteran ictap ctap opm transition covid coronavirus vaccination covid announcement alternate eligibility evaluate describe assumption regard veterans affair citizen qualify qualified veteran preference preference gs veteran transition vet veterans veterans eligibility resume sf veterans preference ictap ctap dd resume separation rif sf sf notification transcript veteran preference veteran tp cp cps sole survivor preference ssp dd214 additionally veteran sf veteran preference veteran preference feds vet veteran seeker veteran preference viewquestionnaire usajobs vha recruitment vhanationalrecruitmentcenter comanche meade sd refer usajob participation veterans hcp hcp wear hcp hcp vha hcp vha clcs cbocs vet hcp hpt hpt hcp vha veterans transparent eeo reasonable selective signature resume sf veterans preference ictap ctap dd resume separation rif sf sf notification transcript veteran preference veteran tp cp cps sole survivor preference ssp dd214 additionally veteran sf veteran preference veteran preference feds vet veteran seeker veteran preference citizen\",\"mathematical statistician bpa evaluate citizen verify selective suitable hcm continuity portland spokane combination specialized gs specialized corp americorps volunteer ineligible doe telework selective selective eeo reasonable veteran telework selective bpa leadershipbehavior bpa eligibility evaluate dha mathematical statistician dha veteran preference dha ictap ctap appointment dha cfr mathematical reasoning modeling simulation reasoning questionnaire viewquestionnaire eligibility resume transcript unofficial transition interagency transition certification separation reduction separation propose removal sf rif opm transition usajobs usajob usajob usajob usajob resume builder usajob usajob howard bonneville portland usajob usajob usajobs notification usajob transparent eeo reasonable selective signature resume transcript unofficial transition interagency transition certification separation reduction separation propose removal sf rif opm transition citizen clarification\",\"commute administrator gs telework relocation appointment permanent competitive promotion supervisory moderate credentiale announcement hrc0280520 ctap ictap rpl competitive corp americorps vista citizen veteran clarification citizen ctap ictap veoa merit independently evaluate prepare independently citizenship selective deposit delegate examine merit promotion designate tdp specialized gs gs combination gs gs secretariat ph combination gs gs gs corp americorps volunteer ctap ictap opm specialist specialist mythbuster recruitment mythbuster eeo veteran veteran telework selective eligibility evaluate delegate examine citizen bronze specialist preference veteran merit promotion qualified regulation interpersonal solve competence eligibility resume merit promotion sf notification conditional veteran veterans veteran dd2 sf corps ctap ictap rif sf rif applicationofstds occupational questionnaire occupational questionnaire viewquestionnaire usajob usajob usajobs x2 administrator nw usajob transparent eeo reasonable selective signature resume merit promotion sf notification conditional veteran veterans veteran dd2 sf corps ctap ictap rif sf rif applicationofstds occupational questionnaire occupational questionnaire viewquestionnaire usajob usajob usajobs x2 administrator nw\",\"participate gasb gasb participate gasb supreme appellate gasb gasb gasb prepare judicial civic bart sacramento discovery sacramento hybrid pilot classification specification fiscal analyst checklist jc analyst jo classification fiscal analyst sacramento permanent judicial californian judicial fiscal analyst ledger procurement bap fiscal analyst appeal supreme habeas corpus judicial principle gaap gasb fiscal analyst gasb gaap fiscal analyst gaap gasb instruction filing qr usps postmark filing sroa surplus sroa surplus sroa surplus applicant classification specification examination std judicial attn sandra grace gate judicial sandra grace gate applicant examination std classification specification resume supplemental supplemental applicant eeo desirable juris fiscal analyst judicial fiscal analyst superior desirable cpa gaap gasb gaap gasb interpret utilize excel covid covid proof additionally unite judicial reasonable telecommunication deaf sick calper retirement flexelect pretax calhr calper cassandra ramirez cassandra ramirez reasonable reasonable eeo eeo sandra grace sandra grace relay tty tty telecommunications deaf tty supplemental judicial supplemental fiscal analyst jo describe describe describe gaap gasb\",\"dutie vacancie scientist doe omb legislative computational citizen verify selective doe infrastructure iija specialized gs gs specialized participate superior achievement combination specialized gs gs specialize transcript combination transcript specialized gs gs specialized ph transcript combination transcript specialized gs gs specialized gs specialized gs gs specialized designing python sas gs specialized gs gs specialized designing python sas gs specialized gs gs specialized evaluating gs corp americorps volunteer opm gs opm ctap ictap mathematic combination transcript doe workplace flexibility doe telework doe doe cfr interagency transition ictap opm ictap ctap ictap supervisor supervisory verify verify verify veteran fedshirevet selective selective relocation recruitment incentive eeo eeo reasonable reasonable veteran veteran selective eligibility evaluate dha gs veteran preference appointment cfr reasoning stamina questionnaire viewquestionnaire eligibility resume transcript unofficial veteran preference dd sf usajob opm chcoc vow transition interagency transition certification separation reduction separation propose removal sf rif opm transition usajobs usajob announcement doe applicant applicant doe bil applicant usajob usajob usajob resume builder usajob usajob infrastructure iija cfr dha oak ridge tn usajob usajob usajobs notification recruitment incentive authorize cfr transparent eeo reasonable selective signature resume transcript unofficial veteran preference dd sf usajob opm chcoc vow transition interagency transition certification separation reduction separation propose removal sf rif opm transition citizen clarification citizen\",\"commuting bureau gs telework relocation appointment permanent competitive promotion supervisory sensitive cs announcement hrc0282579 ctap ictap rpl competitive corp americorps vista citizen veteran clarification citizen ctap ictap veoa merit afghanistan represent clarifie citizenship selective deposit delegate examine merit promotion designate tdp specialized gs gs corp americorps volunteer ctap ictap opm specialist specialist mythbuster recruitment mythbuster eeo veteran veteran telework selective eligibility evaluate delegate examine citizen bronze specialist preference veteran merit promotion qualified evaluate awareness decisiveness eligibility resume merit promotion sf notification conditional veteran veterans veteran dd2 sf corps ctap ictap rif sf rif applicationofstds occupational questionnaire occupational questionnaire viewquestionnaire usajob usajob usajobs x2 bureau nw usajob transparent eeo reasonable selective signature resume merit promotion sf notification conditional veteran veterans veteran dd2 sf corps ctap ictap rif sf rif applicationofstds occupational questionnaire occupational questionnaire viewquestionnaire usajob usajob usajobs x2 bureau nw\",\"dutie staa innovation scientist gao gao ml nlp rpa python sql scripts integrate ide rstudio sagemaker rapidminer sas domino kibana kubernete informatica neo4j gpu infrastructure iaas paas saas gao innovation citizen selective completion completion gs specialized substantial python sql scripts integrate ide rstudio sagemaker rapidminer sas domino kibana kubernete informatica neo4j agile corp americorps volunteer engineer mathematical statistician accreditation abet combination engineer intern ei engineer eit engineer pe guam puerto rico absent ei eit engineer fundamental engineer fe guam puerto rico fe licensure howtogetlicense specify ordinarily mathematical statistic combination gao declaration gao reasonableaccommodation gao gao legislative gao eligibility evaluate qualified veteran preference ksa auditing gagas principle gaap gagas gaap ml nlp ai etl infrastructure iaas paas saas viewquestionnaire eligibility resume usajob yy yy sf notification sf transcript certification proof usajob usajob usajobs ebonye watson accountability nw gao transparent eeo reasonable selective signature resume usajob yy yy sf notification sf transcript certification proof citizen clarification\",\"scientist evaluate citizenship nrc covid coronavirus vaccination nrc covid gg gg gg sql python numpy panda scikit matplotlib javascript python shiny tableau sharepoint powerbi ph ph gg gg gg sql python numpy panda scikit matplotlib javascript python shiny tableau sharepoint powerbi gg gg gg sql python numpy panda scikit matplotlib javascript python shiny tableau sharepoint powerbi python sql describe describe mathematic combination mathematic combination rockville telework collective bargaining nrc selective placement coordinator deaf nrc opm nrc veterans selectee declaration nrc nrc nrc nrc nrc spending thrift saving eligibility evaluate nrc spending thrift saving eligibility nrc appraisal tenure sf notification veteran preference dd sf veteran preference transcript usajob usajob upload usajob nrc usajob resume builder resume builder resume resume usajob resume usajob usajobs resume builder nrc usajobs resume usajob resume builder verify usajob nrc specialist applicant specialist breadth abbreviate darlene negrin tdd darlene negrin regulatory attn darlene negrin twfn usajobs transparent eeo reasonable selective signature nrc appraisal tenure sf notification veteran preference dd sf veteran preference transcript usajob usajob upload competitive excepted ctap ictap rpl americans americans alaskan guard corps americorps vista citizen veteran clarification nrc\",\"appointment collective bargaining csueu classification analyst specialist exempt classification anticipate recruitment closing affair csu presidential directive avpap provost affair avpap utilization oversee series25 peoplesoft peoplesoft ll peoplesoft participate csu registrar establish ppmo utilize peoplesoft apdb participate peoplesoft mp peopletool peoplesoft peoplesoft independently metric participate apdb chancellor peoplesoft fad apd analyst apdb deadline peoplesoft routinely avp prepare peoplesoft curriculum csu curriculum peoplesoft enrollment ge ge curriculog csu curriculog curriculum ge curriculum ucc ucc curriculog ge curriculog prepare ge ge ge curriculog ge curriculog ge ge deans deans ge acalog ge csu coordinate registrar curriculum specialist acalog chancellor acalog acalog csu peoplesoft enrollment curriculum peoplesoft respond peoplesoft peoplesoft cal poly pomona participate peoplesoft mp peopletool peoplesoft enrollment curriculog acalog proficient excel thorough peoplesoft thorough covid vaccination csu covid covid csu csu csu csu csu cal poly pomona cal poly pomona I cal poly pomona I acceptable conflict conflict conflict neglect canra mandate reporter neglect csu smoke cal poly pomona clery jeanne clery disclosure heoa cal poly pomona reasonable applicant ada coordinator adacoordinator eeo cal poly pomona affirmative ofccp\",null],\"marker\":{\"opacity\":0.5,\"size\":5},\"mode\":\"markers+text\",\"name\":\"8_usajob_gs_ictap\",\"text\":[\"\",\"\",\"\",\"\",\"\",\"\",\"\",\"\",\"\",\"\",\"\",\"\",\"\",\"\",\"\",\"8_usajob_gs_ictap\"],\"textfont\":{\"size\":12},\"x\":[3.75630259513855,3.995131015777588,3.85791277885437,3.701765537261963,3.8344743251800537,3.975881814956665,3.7008941173553467,3.730914354324341,3.7058935165405273,3.8345932960510254,3.6921467781066895,3.6914286613464355,3.7147207260131836,3.6937928199768066,3.7025346755981445,3.772559404373169],\"y\":[7.7681050300598145,7.644296646118164,7.704993724822998,7.807892799377441,7.730649948120117,7.699803352355957,7.807671546936035,7.793210506439209,7.806246280670166,7.725834369659424,7.81483793258667,7.822452068328857,7.802195072174072,7.823692321777344,7.808149814605713,7.770668029785156],\"type\":\"scattergl\"},{\"hoverinfo\":\"text\",\"hovertext\":[\"bs matlab python radar linc\",\"wilmington hq r1623 analyst participate cartonization merging participate sql python rstudio ai ai\",\"bsc ba stem technological sql python tableau matlab internship sql\",\"myhrsc1\",\"c2c relocation h1b sponsorship stem opt gc relocation branchburg branchburg python sql\",\"vcs scientist sql python facetime\",\"trexquant alpha bash python sql competitive\",\"intermediate jacksonville bs ba\",\"characteristic mspb\",\"rna rna seq utilize validate rna seq python internship beachwood\",\"analyst duration w2 fp influence math sql python tableau bi prove\",\"independently gcp sop\",\"ai communicate estimate sql python hadoop spark inclusion li js5 li exclude nm\",\"bsc ba stem technological sql python tableau matlab relocation sql\",null],\"marker\":{\"opacity\":0.5,\"size\":5},\"mode\":\"markers+text\",\"name\":\"9_sql_matlab_bsc\",\"text\":[\"\",\"\",\"\",\"\",\"\",\"\",\"\",\"\",\"\",\"\",\"\",\"\",\"\",\"\",\"9_sql_matlab_bsc\"],\"textfont\":{\"size\":12},\"x\":[9.914520263671875,9.75617790222168,9.887993812561035,10.087448120117188,9.935615539550781,9.89945125579834,9.914603233337402,9.877296447753906,10.099713325500488,9.360427856445312,9.836952209472656,10.06936264038086,9.789782524108887,9.863409996032715,9.878053665161133],\"y\":[4.929511547088623,4.441427707672119,5.004184246063232,4.6308746337890625,4.902722358703613,4.491875171661377,4.814160346984863,4.968915939331055,4.607959747314453,4.926053524017334,4.433008670806885,4.617089748382568,4.470818996429443,4.9780473709106445,4.72976016998291],\"type\":\"scattergl\"},{\"hoverinfo\":\"text\",\"hovertext\":[\"refugee neurodivergent blind ethnic minority previously incarcerate nielseniq ref nielseniq fortune scientist engineer walmart hive python sql diagnose qc git bitbucket explain proficient python comfortable hive sql cpg prove strongly ml eeo nielseniq nielseniq nielseniq nielseniq affirmative\",\"scientist scientist valo scientist valo opal opal ai obsession comfortable builder innovative earn emotional quotient eq comfortable bias phd computational chemistry computational biology bioinformatics mastery python hpc api sql json rdf owl rmarkdown jupyter notebook agile kanban atlassian valo valo valo opal computational valo flagship pioneering valo lexington\",\"loc colket colket translational req shift chop ehr wang genomics suitable modifie pi formulate prepare cert lic proficient chop chop chop covid chop chop additionally covid chop covid chop chop eeo vevraa contractor\",\"sanofi vie norway liechtenstein iceland vie sanofi sanofi statistician vie contribute statistical regulatory pharmacovigilance dsur smts statistical bio cdp phd fluency excel powerpoint sas python autonomous adaptability sanofi\",\"clearance ts sci ci polygraph covid vaccination reconnaissance nro acquire launch operate scientist apogee intel python tableau strongly desire sql dod ic stk apogee intel apogeeplex pda wicke float accidental dismemberment saving dependent spending apogee engineer apogee disabled vet eeo\",\"scientist scientist ceo scientist snowflake aws tableau gitlab ml utilize python sql examine occasionally mathematics sql python bonus aw lambda snowflake salesforce netsuite li li js1 bridger bridger passionate bethebridge affirmative applicant veteran\",\"phoenix ref ideally sperle brave honest scientist participate resolve sql python deliver contribute incumbent supervisory sql excel sas python sql sas sas miner jupyter notebook mathematical hadoop spark presto pig hive lgbtq ethic regulation advocate hiring spending saving wellness competitive substantial\",\"statistical programmer I busph busm statistical programmer I coordinate teleform statistical sas python edc redcap casic teleform cot sas python covid vaccination booster covid back2bu vevraa contractor\",\"utilize utilize interpret execute effectively interact prepare walgreen boot alliance walgreen boots alliance nasdaq wba wba wba wba compact wba fortune admire wba walgreen sql python spark willing walgreen\",\"fre hutchinson uw northwest fred hutch hiv covid fred hutch fred hutch fre hutch satisfaction analyst triage relation continually scca prove effectively excel efficiently empathetic scca covid scca exception fred hutch\",\"ventus ves ve formal engineer scientist mathematician darpa arlington specifically formal devsecop formal formal coordinate contribute darpa arlington ts clearance sci formal devsecop mathematic\",\"ai ai rcnn pois neural rcnn artificial ai tugvolt craft pois solve mathematic ai python tensorflow pytorch keras fluency powershell motivate willingness fluent desire artificial nvidia jetson scikit scipy matlab unmanned rail unmanned typical relocation vaccination covid\",\"dna analyst saas adobe omniture sitecatalyst saas kpis saas segment tableau powerpoint excel adobe sitecatalyst excel passion saas saas optimizely tableau crm linkedin li indeed\",null],\"marker\":{\"opacity\":0.5,\"size\":5},\"mode\":\"markers+text\",\"name\":\"10_nielseniq_walgreen_python\",\"text\":[\"\",\"\",\"\",\"\",\"\",\"\",\"\",\"\",\"\",\"\",\"\",\"\",\"\",\"10_nielseniq_walgreen_python\"],\"textfont\":{\"size\":12},\"x\":[7.33018159866333,7.325671195983887,7.0739665031433105,7.534719467163086,7.441661834716797,7.648993492126465,7.042289733886719,7.4374566078186035,6.999239921569824,7.642495632171631,7.503304481506348,7.466371536254883,6.933164596557617,7.336885452270508],\"y\":[5.626844882965088,5.460086822509766,5.321561336517334,5.349749565124512,5.723820209503174,5.979710578918457,5.414168357849121,5.494699478149414,6.277785778045654,6.087825775146484,5.602639675140381,5.773584842681885,5.2893757820129395,5.646296501159668],\"type\":\"scattergl\"},{\"hoverinfo\":\"text\",\"hovertext\":[\"shift analyst hca nyse hca enroll espp cms analyst cia informatic ehr excellence cia cpoe ebcd cia meaningful informatic participate clinician cpoe ebcd actively adhere hca participate ehr compile audits cpoe pdoc ehr ehr assess optimization informatic excellence ehr ongoing ehr establishe informatic certification nurse informatic certification healthcare informatic meditech hipaa regulation cms establish excel powerpoint proficient acquisition\",\"recruitment teach specialist analyst curiosity discovery integrity collaboration perseverance rutger teach specialist epidemiology outcome rutger principal investigator pi precision prevention prostate pre2 cap teach specialist rt pi institutional cap excel prepare pi sas compile shift arrangement flsa exempt hpae payroll designation peoplesoft rutger rutger covid immunization covid prospective covid covid fda advisory immunization acip prevention cdc eligibility covid seniority appointment pension eligibility abp sas certification excel powerpoint concentration utilize lift moderate instruction applicant rutger biomedical rbhs downtown brunswick screening infection tb tuberculosis surveillance\",\"analyst sr sr citizen icf citizen identifie participation oversee participation participation qa qc unclaimed ofac ofac unclaimed summarize qa qc expense citizen expense champions ethic autonomous demonstrated powerbi powerbi certification cpa cia cfe casualty previously rpa diploma ge cpa cia cfe occasional operate activate prepare inspect detect ascend descend atop traverse expose frequent stationary traverse communicate detect converse discern convey detect perceive recognize observe inspect estimate assess citizen retirement saving pto eap tuition reimbursement retirement generous wellness tuition jacksonville relocation casual citizen proud li tm1 tallahassee tallahassee distribute workforce circle tallahassee cpic bu\",\"analyst cyber remotejob analyst cybersecurity infrastructure analyst diploma cybersecurity analyst consistently visa citizen holder gc ead h4 ead permanent resident permit holder don translate brd elaborate ideation translate brd scheduling validate visio excel paint adobe validate validate documenting documenting excel kpi kpi validate convert uat organize uat uat escalate uat execute uat benefitscompetitive hourly depend aanseacore transformation staffing aanseacore flexi staffing temp staffing aanseacore aanseacore aanseacore aanseacore cybersecurity\",\"nyc covid scientitist bureau equitable behs wellness checw hygiene dohmh ehs analyst outcome covid analyst beh dohmh covid initiate medicaid salient miner statewide cooperative sparcs vital statistic ovs chs acs liaise dohmh translate coordinate beh dohmh supervise qual assignment I assignment scientist I probationary appointment doctoral medicaid sas sql stata gis tableau passport permanent resident proof resume forgiveness forgiveness pslf dohmh forgiveness appointment nyc residency nassau suffolk putnam westchester rockland\",\"institutional analyst institutional effectiveness institutional analyst institutional analyst irda irda institutional ir irda responsibilitie institutional analyst collect etl od warehouse ir cognos ir pl sql cogno organize ir banner sap clearinghouse iped institutional analyst retirement accrue saving wellness initiative wellness parental tuition purdue northw pnw pnw pnw dunes institutional analyst institutional analyst equivalent competency institutional analyst sql pl sql cognos ods warehouse erp banner tableau cookbook spss sas possess flsa exempt\",\"analyst familial pancreas tumor registry sr analyst coordinator sr analyst pi responsibilitie merge dna supervise assisting contribute generate sas stata pi mandatory epidemiology biostatistic statistic psychology jhu jhu equivalency formula applicant phd biostatistcal epidemiology sas stata supervisory sr analyst pi analyst classify sr analyst acrp exempt exempt hybrid immunology gi acquisition tty relay johns hopkins covid exception covid jhu som jhu rubella rubeola measles mumps varicella hepatitis tdap tetanus mmr varicella occupational posting eeo\",\"analyst institutional effectiveness iepr peoplesoft climate analyst iepr analyst analyst analyst analyst institutional effectiveness clc bluecross blueshield delta superior sql sqr organize desire excel sql bilingual meticulous posting closing instruction grayslake institutional effectiveness excel eeo identifie initiate troubleshoot sql interpret sqr expertly iepr proactively iepr administer implement iepr iepr iepr clearinghouse iepr identifie iepr identifie implement participate attend iepr iepr\",\"sta01373po22 classification analyst analyst aiken aiken usc aiken aik csd advertised vacancy equivalent fte uofsc upstate lowcountry carolinians aiken upstate beaufort palmetto salkehatchie lancaster sumter fte indicate uofsc peba uofsc applicant eligibility equivalent fte retirement sick analyst sys analyst usc aiken chancellor cio usc aiken eoe classify unclassified oracle sql erp exceptional attribute sensitive sensitive alcohol sensitive sensitive hazardous posting vacancy desire instruction applicant quicklink eeo\",\"collaborative nyec nyec triple aim nyec statewide shin nyec interoperability meaningful nyec nyec healthcare healthcare analyst nyec albany manhattan nyec healthcare analyst undergraduate stem tableau bi sas sql mysql structured sql meaningful medicare medicaid icd cda excel salesforce outstanding nyec nyec nyec eoe minority vet disabled\",\"analyst usar integrate prevention initiative participate consult summarize extract appointment citizen corp americorps mathematic combination specialized gs certification selective citizenship deposit reemploye annuitant cp interagency transition ictap ictap ictap ictap opm transition civilian permanent irs civilian expense deduction alternate permanent regulation eligibility evaluate veteran spouse eligibility applicant checklist hrs appraisal transcript usajob usajob viewquestionnaire usajob upload applicant usajob applicant usarmy apg chra mbx applicanthelp mil apf w47aaa mccoy transparent eeo reasonable selective signature applicant checklist hrs appraisal transcript citizen\",null],\"marker\":{\"opacity\":0.5,\"size\":5},\"mode\":\"markers+text\",\"name\":\"11_iepr_nyec_aanseacore\",\"text\":[\"\",\"\",\"\",\"\",\"\",\"\",\"\",\"\",\"\",\"\",\"\",\"11_iepr_nyec_aanseacore\"],\"textfont\":{\"size\":12},\"x\":[4.82584285736084,4.7385430335998535,4.704956531524658,4.8569440841674805,4.979225158691406,4.933372497558594,5.10872745513916,4.800002098083496,4.787810325622559,4.999866485595703,4.649478435516357,4.853161334991455],\"y\":[6.888286113739014,6.855480194091797,6.778010845184326,6.740644454956055,6.668278217315674,6.889326572418213,7.036101818084717,7.029280662536621,6.878385543823242,7.006371974945068,6.986068248748779,6.886930465698242],\"type\":\"scattergl\"},{\"hoverinfo\":\"text\",\"hovertext\":[\"advisor sacramento hanson pat mcclain allworth allworth circle excellence barron ria analyst merger acquisition ls prepare intent streamline excel powerpoint retirement intern typical\",\"workplace workplace fortune passionate thrive organize customerone execute organize excel powerpoint cary orthopaedic surgical neurotechnology spine workplace workplace fortune\",\"communicate effectively typically mentor routinely proficient verbiage criterion deadline domicile relocation memphis tn relocation fedex ai fedex fedex fedex fortune admired forbe linkedin influential hrd equality workplace insiderpro computerworld affirmative veteran\",\"airgas rotational arc participant analyst airgas fp audit investor relation highlight interaction airgas challenging exposure proficient comfort willingness airgas airgas liquide airgas airgas liquide airgas eoe vet\",\"fintech ignite inclusion summit charlotte hispanic latino lgbt historically hispanic institution colleges fintech participate audit automation quantitative applicant fintech maker deadline\",\"medicare medicare telesale analyst collect prepare transform hippa storytelle tableau desire excel sql datorama salesforce einstein communicator prove proficient\",\"analyst chesterbrook onsite hybrid gather coordinate communicate uat verbal powerpoint visio hybrid pto unmatched gym gym reimbursement referral bonuse casual dress wentworth wentworth wentworth\",\"airgas rotational arc participant analyst airgas asset logistic highlight interaction airgas challenging exposure proficient comfort willingness airgas airgas liquide airgas airgas liquide airgas eoe vet\",\"detailsjob locationaz telecommute tempe crisis dosolari crisis maricopa inspire solari additionally solari warm illness smi dcs doingimprove excel sql tableau asa strategically actively solari inclusion taskforce professionalism consistently compassion ownership compensation exceptional proficient requirementseducation ge diploma behavioral billing billing certificationexperience ehr cycle generous\",\"sm knight loansphere knight loansphere proactively excel blackknight loansphere perk pto engagement saving saving rx incentive advancement newrez newrez volunteer vto newrez grants newrez veteran\",null],\"marker\":{\"opacity\":0.5,\"size\":5},\"mode\":\"markers+text\",\"name\":\"12_airgas_liquide_fedex\",\"text\":[\"\",\"\",\"\",\"\",\"\",\"\",\"\",\"\",\"\",\"\",\"12_airgas_liquide_fedex\"],\"textfont\":{\"size\":12},\"x\":[6.673420429229736,6.396992206573486,6.539303779602051,6.259297847747803,6.539083957672119,6.4016289710998535,6.509720325469971,6.226080417633057,6.340967178344727,6.633742809295654,6.452023983001709],\"y\":[2.754457473754883,2.903259754180908,3.0413999557495117,3.1864521503448486,3.1500542163848877,3.0519859790802,2.9183080196380615,3.1958935260772705,3.179511070251465,3.2376110553741455,3.0618932247161865],\"type\":\"scattergl\"}],                        {\"template\":{\"data\":{\"barpolar\":[{\"marker\":{\"line\":{\"color\":\"white\",\"width\":0.5},\"pattern\":{\"fillmode\":\"overlay\",\"size\":10,\"solidity\":0.2}},\"type\":\"barpolar\"}],\"bar\":[{\"error_x\":{\"color\":\"rgb(36,36,36)\"},\"error_y\":{\"color\":\"rgb(36,36,36)\"},\"marker\":{\"line\":{\"color\":\"white\",\"width\":0.5},\"pattern\":{\"fillmode\":\"overlay\",\"size\":10,\"solidity\":0.2}},\"type\":\"bar\"}],\"carpet\":[{\"aaxis\":{\"endlinecolor\":\"rgb(36,36,36)\",\"gridcolor\":\"white\",\"linecolor\":\"white\",\"minorgridcolor\":\"white\",\"startlinecolor\":\"rgb(36,36,36)\"},\"baxis\":{\"endlinecolor\":\"rgb(36,36,36)\",\"gridcolor\":\"white\",\"linecolor\":\"white\",\"minorgridcolor\":\"white\",\"startlinecolor\":\"rgb(36,36,36)\"},\"type\":\"carpet\"}],\"choropleth\":[{\"colorbar\":{\"outlinewidth\":1,\"tickcolor\":\"rgb(36,36,36)\",\"ticks\":\"outside\"},\"type\":\"choropleth\"}],\"contourcarpet\":[{\"colorbar\":{\"outlinewidth\":1,\"tickcolor\":\"rgb(36,36,36)\",\"ticks\":\"outside\"},\"type\":\"contourcarpet\"}],\"contour\":[{\"colorbar\":{\"outlinewidth\":1,\"tickcolor\":\"rgb(36,36,36)\",\"ticks\":\"outside\"},\"colorscale\":[[0.0,\"#440154\"],[0.1111111111111111,\"#482878\"],[0.2222222222222222,\"#3e4989\"],[0.3333333333333333,\"#31688e\"],[0.4444444444444444,\"#26828e\"],[0.5555555555555556,\"#1f9e89\"],[0.6666666666666666,\"#35b779\"],[0.7777777777777778,\"#6ece58\"],[0.8888888888888888,\"#b5de2b\"],[1.0,\"#fde725\"]],\"type\":\"contour\"}],\"heatmapgl\":[{\"colorbar\":{\"outlinewidth\":1,\"tickcolor\":\"rgb(36,36,36)\",\"ticks\":\"outside\"},\"colorscale\":[[0.0,\"#440154\"],[0.1111111111111111,\"#482878\"],[0.2222222222222222,\"#3e4989\"],[0.3333333333333333,\"#31688e\"],[0.4444444444444444,\"#26828e\"],[0.5555555555555556,\"#1f9e89\"],[0.6666666666666666,\"#35b779\"],[0.7777777777777778,\"#6ece58\"],[0.8888888888888888,\"#b5de2b\"],[1.0,\"#fde725\"]],\"type\":\"heatmapgl\"}],\"heatmap\":[{\"colorbar\":{\"outlinewidth\":1,\"tickcolor\":\"rgb(36,36,36)\",\"ticks\":\"outside\"},\"colorscale\":[[0.0,\"#440154\"],[0.1111111111111111,\"#482878\"],[0.2222222222222222,\"#3e4989\"],[0.3333333333333333,\"#31688e\"],[0.4444444444444444,\"#26828e\"],[0.5555555555555556,\"#1f9e89\"],[0.6666666666666666,\"#35b779\"],[0.7777777777777778,\"#6ece58\"],[0.8888888888888888,\"#b5de2b\"],[1.0,\"#fde725\"]],\"type\":\"heatmap\"}],\"histogram2dcontour\":[{\"colorbar\":{\"outlinewidth\":1,\"tickcolor\":\"rgb(36,36,36)\",\"ticks\":\"outside\"},\"colorscale\":[[0.0,\"#440154\"],[0.1111111111111111,\"#482878\"],[0.2222222222222222,\"#3e4989\"],[0.3333333333333333,\"#31688e\"],[0.4444444444444444,\"#26828e\"],[0.5555555555555556,\"#1f9e89\"],[0.6666666666666666,\"#35b779\"],[0.7777777777777778,\"#6ece58\"],[0.8888888888888888,\"#b5de2b\"],[1.0,\"#fde725\"]],\"type\":\"histogram2dcontour\"}],\"histogram2d\":[{\"colorbar\":{\"outlinewidth\":1,\"tickcolor\":\"rgb(36,36,36)\",\"ticks\":\"outside\"},\"colorscale\":[[0.0,\"#440154\"],[0.1111111111111111,\"#482878\"],[0.2222222222222222,\"#3e4989\"],[0.3333333333333333,\"#31688e\"],[0.4444444444444444,\"#26828e\"],[0.5555555555555556,\"#1f9e89\"],[0.6666666666666666,\"#35b779\"],[0.7777777777777778,\"#6ece58\"],[0.8888888888888888,\"#b5de2b\"],[1.0,\"#fde725\"]],\"type\":\"histogram2d\"}],\"histogram\":[{\"marker\":{\"line\":{\"color\":\"white\",\"width\":0.6}},\"type\":\"histogram\"}],\"mesh3d\":[{\"colorbar\":{\"outlinewidth\":1,\"tickcolor\":\"rgb(36,36,36)\",\"ticks\":\"outside\"},\"type\":\"mesh3d\"}],\"parcoords\":[{\"line\":{\"colorbar\":{\"outlinewidth\":1,\"tickcolor\":\"rgb(36,36,36)\",\"ticks\":\"outside\"}},\"type\":\"parcoords\"}],\"pie\":[{\"automargin\":true,\"type\":\"pie\"}],\"scatter3d\":[{\"line\":{\"colorbar\":{\"outlinewidth\":1,\"tickcolor\":\"rgb(36,36,36)\",\"ticks\":\"outside\"}},\"marker\":{\"colorbar\":{\"outlinewidth\":1,\"tickcolor\":\"rgb(36,36,36)\",\"ticks\":\"outside\"}},\"type\":\"scatter3d\"}],\"scattercarpet\":[{\"marker\":{\"colorbar\":{\"outlinewidth\":1,\"tickcolor\":\"rgb(36,36,36)\",\"ticks\":\"outside\"}},\"type\":\"scattercarpet\"}],\"scattergeo\":[{\"marker\":{\"colorbar\":{\"outlinewidth\":1,\"tickcolor\":\"rgb(36,36,36)\",\"ticks\":\"outside\"}},\"type\":\"scattergeo\"}],\"scattergl\":[{\"marker\":{\"colorbar\":{\"outlinewidth\":1,\"tickcolor\":\"rgb(36,36,36)\",\"ticks\":\"outside\"}},\"type\":\"scattergl\"}],\"scattermapbox\":[{\"marker\":{\"colorbar\":{\"outlinewidth\":1,\"tickcolor\":\"rgb(36,36,36)\",\"ticks\":\"outside\"}},\"type\":\"scattermapbox\"}],\"scatterpolargl\":[{\"marker\":{\"colorbar\":{\"outlinewidth\":1,\"tickcolor\":\"rgb(36,36,36)\",\"ticks\":\"outside\"}},\"type\":\"scatterpolargl\"}],\"scatterpolar\":[{\"marker\":{\"colorbar\":{\"outlinewidth\":1,\"tickcolor\":\"rgb(36,36,36)\",\"ticks\":\"outside\"}},\"type\":\"scatterpolar\"}],\"scatter\":[{\"marker\":{\"colorbar\":{\"outlinewidth\":1,\"tickcolor\":\"rgb(36,36,36)\",\"ticks\":\"outside\"}},\"type\":\"scatter\"}],\"scatterternary\":[{\"marker\":{\"colorbar\":{\"outlinewidth\":1,\"tickcolor\":\"rgb(36,36,36)\",\"ticks\":\"outside\"}},\"type\":\"scatterternary\"}],\"surface\":[{\"colorbar\":{\"outlinewidth\":1,\"tickcolor\":\"rgb(36,36,36)\",\"ticks\":\"outside\"},\"colorscale\":[[0.0,\"#440154\"],[0.1111111111111111,\"#482878\"],[0.2222222222222222,\"#3e4989\"],[0.3333333333333333,\"#31688e\"],[0.4444444444444444,\"#26828e\"],[0.5555555555555556,\"#1f9e89\"],[0.6666666666666666,\"#35b779\"],[0.7777777777777778,\"#6ece58\"],[0.8888888888888888,\"#b5de2b\"],[1.0,\"#fde725\"]],\"type\":\"surface\"}],\"table\":[{\"cells\":{\"fill\":{\"color\":\"rgb(237,237,237)\"},\"line\":{\"color\":\"white\"}},\"header\":{\"fill\":{\"color\":\"rgb(217,217,217)\"},\"line\":{\"color\":\"white\"}},\"type\":\"table\"}]},\"layout\":{\"annotationdefaults\":{\"arrowhead\":0,\"arrowwidth\":1},\"autotypenumbers\":\"strict\",\"coloraxis\":{\"colorbar\":{\"outlinewidth\":1,\"tickcolor\":\"rgb(36,36,36)\",\"ticks\":\"outside\"}},\"colorscale\":{\"diverging\":[[0.0,\"rgb(103,0,31)\"],[0.1,\"rgb(178,24,43)\"],[0.2,\"rgb(214,96,77)\"],[0.3,\"rgb(244,165,130)\"],[0.4,\"rgb(253,219,199)\"],[0.5,\"rgb(247,247,247)\"],[0.6,\"rgb(209,229,240)\"],[0.7,\"rgb(146,197,222)\"],[0.8,\"rgb(67,147,195)\"],[0.9,\"rgb(33,102,172)\"],[1.0,\"rgb(5,48,97)\"]],\"sequential\":[[0.0,\"#440154\"],[0.1111111111111111,\"#482878\"],[0.2222222222222222,\"#3e4989\"],[0.3333333333333333,\"#31688e\"],[0.4444444444444444,\"#26828e\"],[0.5555555555555556,\"#1f9e89\"],[0.6666666666666666,\"#35b779\"],[0.7777777777777778,\"#6ece58\"],[0.8888888888888888,\"#b5de2b\"],[1.0,\"#fde725\"]],\"sequentialminus\":[[0.0,\"#440154\"],[0.1111111111111111,\"#482878\"],[0.2222222222222222,\"#3e4989\"],[0.3333333333333333,\"#31688e\"],[0.4444444444444444,\"#26828e\"],[0.5555555555555556,\"#1f9e89\"],[0.6666666666666666,\"#35b779\"],[0.7777777777777778,\"#6ece58\"],[0.8888888888888888,\"#b5de2b\"],[1.0,\"#fde725\"]]},\"colorway\":[\"#1F77B4\",\"#FF7F0E\",\"#2CA02C\",\"#D62728\",\"#9467BD\",\"#8C564B\",\"#E377C2\",\"#7F7F7F\",\"#BCBD22\",\"#17BECF\"],\"font\":{\"color\":\"rgb(36,36,36)\"},\"geo\":{\"bgcolor\":\"white\",\"lakecolor\":\"white\",\"landcolor\":\"white\",\"showlakes\":true,\"showland\":true,\"subunitcolor\":\"white\"},\"hoverlabel\":{\"align\":\"left\"},\"hovermode\":\"closest\",\"mapbox\":{\"style\":\"light\"},\"paper_bgcolor\":\"white\",\"plot_bgcolor\":\"white\",\"polar\":{\"angularaxis\":{\"gridcolor\":\"rgb(232,232,232)\",\"linecolor\":\"rgb(36,36,36)\",\"showgrid\":false,\"showline\":true,\"ticks\":\"outside\"},\"bgcolor\":\"white\",\"radialaxis\":{\"gridcolor\":\"rgb(232,232,232)\",\"linecolor\":\"rgb(36,36,36)\",\"showgrid\":false,\"showline\":true,\"ticks\":\"outside\"}},\"scene\":{\"xaxis\":{\"backgroundcolor\":\"white\",\"gridcolor\":\"rgb(232,232,232)\",\"gridwidth\":2,\"linecolor\":\"rgb(36,36,36)\",\"showbackground\":true,\"showgrid\":false,\"showline\":true,\"ticks\":\"outside\",\"zeroline\":false,\"zerolinecolor\":\"rgb(36,36,36)\"},\"yaxis\":{\"backgroundcolor\":\"white\",\"gridcolor\":\"rgb(232,232,232)\",\"gridwidth\":2,\"linecolor\":\"rgb(36,36,36)\",\"showbackground\":true,\"showgrid\":false,\"showline\":true,\"ticks\":\"outside\",\"zeroline\":false,\"zerolinecolor\":\"rgb(36,36,36)\"},\"zaxis\":{\"backgroundcolor\":\"white\",\"gridcolor\":\"rgb(232,232,232)\",\"gridwidth\":2,\"linecolor\":\"rgb(36,36,36)\",\"showbackground\":true,\"showgrid\":false,\"showline\":true,\"ticks\":\"outside\",\"zeroline\":false,\"zerolinecolor\":\"rgb(36,36,36)\"}},\"shapedefaults\":{\"fillcolor\":\"black\",\"line\":{\"width\":0},\"opacity\":0.3},\"ternary\":{\"aaxis\":{\"gridcolor\":\"rgb(232,232,232)\",\"linecolor\":\"rgb(36,36,36)\",\"showgrid\":false,\"showline\":true,\"ticks\":\"outside\"},\"baxis\":{\"gridcolor\":\"rgb(232,232,232)\",\"linecolor\":\"rgb(36,36,36)\",\"showgrid\":false,\"showline\":true,\"ticks\":\"outside\"},\"bgcolor\":\"white\",\"caxis\":{\"gridcolor\":\"rgb(232,232,232)\",\"linecolor\":\"rgb(36,36,36)\",\"showgrid\":false,\"showline\":true,\"ticks\":\"outside\"}},\"title\":{\"x\":0.05},\"xaxis\":{\"automargin\":true,\"gridcolor\":\"rgb(232,232,232)\",\"linecolor\":\"rgb(36,36,36)\",\"showgrid\":false,\"showline\":true,\"ticks\":\"outside\",\"title\":{\"standoff\":15},\"zeroline\":false,\"zerolinecolor\":\"rgb(36,36,36)\"},\"yaxis\":{\"automargin\":true,\"gridcolor\":\"rgb(232,232,232)\",\"linecolor\":\"rgb(36,36,36)\",\"showgrid\":false,\"showline\":true,\"ticks\":\"outside\",\"title\":{\"standoff\":15},\"zeroline\":false,\"zerolinecolor\":\"rgb(36,36,36)\"}}},\"shapes\":[{\"line\":{\"color\":\"#CFD8DC\",\"width\":2},\"type\":\"line\",\"x0\":7.376192343235016,\"x1\":7.376192343235016,\"y0\":1.182604765892029,\"y1\":10.461289119720458},{\"line\":{\"color\":\"#9E9E9E\",\"width\":2},\"type\":\"line\",\"x0\":3.1377143621444703,\"x1\":11.614670324325562,\"y0\":5.821946942806243,\"y1\":5.821946942806243}],\"annotations\":[{\"showarrow\":false,\"text\":\"D1\",\"x\":3.1377143621444703,\"y\":5.821946942806243,\"yshift\":10},{\"showarrow\":false,\"text\":\"D2\",\"x\":7.376192343235016,\"xshift\":10,\"y\":10.461289119720458}],\"title\":{\"font\":{\"size\":22,\"color\":\"Black\"},\"text\":\"<b>Documents and Topics\",\"x\":0.5,\"xanchor\":\"center\",\"yanchor\":\"top\"},\"width\":1200,\"height\":750,\"xaxis\":{\"visible\":false},\"yaxis\":{\"visible\":false}},                        {\"responsive\": true}                    ).then(function(){\n",
              "                            \n",
              "var gd = document.getElementById('feedd06e-8664-4765-8ce4-416791420f3a');\n",
              "var x = new MutationObserver(function (mutations, observer) {{\n",
              "        var display = window.getComputedStyle(gd).display;\n",
              "        if (!display || display === 'none') {{\n",
              "            console.log([gd, 'removed!']);\n",
              "            Plotly.purge(gd);\n",
              "            observer.disconnect();\n",
              "        }}\n",
              "}});\n",
              "\n",
              "// Listen for the removal of the full notebook cells\n",
              "var notebookContainer = gd.closest('#notebook-container');\n",
              "if (notebookContainer) {{\n",
              "    x.observe(notebookContainer, {childList: true});\n",
              "}}\n",
              "\n",
              "// Listen for the clearing of the current output cell\n",
              "var outputEl = gd.closest('.output');\n",
              "if (outputEl) {{\n",
              "    x.observe(outputEl, {childList: true});\n",
              "}}\n",
              "\n",
              "                        })                };                            </script>        </div>\n",
              "</body>\n",
              "</html>"
            ]
          },
          "metadata": {}
        }
      ],
      "source": [
        "topic_model.visualize_documents(cleaned_words[0:1000])"
      ]
    },
    {
      "cell_type": "markdown",
      "metadata": {
        "id": "ngXuc8FVGtF5"
      },
      "source": [
        "Stop words clearly need to be removed since they do not provide much value for isolating the different documents."
      ]
    },
    {
      "cell_type": "markdown",
      "metadata": {
        "id": "AzenAuDTt5KO"
      },
      "source": [
        "### Second Model and Visualization Walkthrough"
      ]
    },
    {
      "cell_type": "markdown",
      "metadata": {
        "id": "-OcdxXfVuAsX"
      },
      "source": [
        "I need to reduce the dimensionality of the data so the distance metrics with DBSCAN will be effective. "
      ]
    },
    {
      "cell_type": "code",
      "execution_count": null,
      "metadata": {
        "colab": {
          "base_uri": "https://localhost:8080/",
          "height": 49,
          "referenced_widgets": [
            "88c7e3719c164b1ba07f4f4b2c120930",
            "77b5f04fc72642f4937475e18b178b8f",
            "a79654c0eed447b0a8046256a93e330e",
            "39508068a68e49559e4e90dd65db6d0a",
            "62f74c0558a6431ab72c73adfaf956ef",
            "8f884bb6d6694aa9a9cf86e0e5c79051",
            "3068dcb93f9b436dabb839fdc5d38e48",
            "ffe7e11c0798412a801bc82496210a7e",
            "14fc0f3eb2ea4f2084ad61d8fc9af1fc",
            "3985ae79680c46c39be86f3fd42dac57",
            "23308c553c5348f98c254b249f3ea9d3"
          ]
        },
        "id": "uW7QBzzAodPF",
        "outputId": "5b1c9cb4-3b83-4929-ddf2-65ae7ef10587"
      },
      "outputs": [
        {
          "output_type": "display_data",
          "data": {
            "text/plain": [
              "Batches:   0%|          | 0/32 [00:00<?, ?it/s]"
            ],
            "application/vnd.jupyter.widget-view+json": {
              "version_major": 2,
              "version_minor": 0,
              "model_id": "88c7e3719c164b1ba07f4f4b2c120930"
            }
          },
          "metadata": {}
        }
      ],
      "source": [
        "\n",
        "from umap import UMAP\n",
        "posts = cleaned_words[0:1000]\n",
        "sentence_model = SentenceTransformer('distilbert-base-nli-mean-tokens')\n",
        "embeddings = sentence_model.encode(posts, show_progress_bar=True)\n",
        "\n"
      ]
    },
    {
      "cell_type": "code",
      "execution_count": null,
      "metadata": {
        "id": "WRUS9t2IuJiA"
      },
      "outputs": [],
      "source": [
        "umap_embeddings = UMAP(n_neighbors=15, \n",
        "                            n_components=2, #needs to be 2 for graph to work \n",
        "                            metric='cosine').fit_transform(embeddings)"
      ]
    },
    {
      "cell_type": "markdown",
      "metadata": {
        "id": "oq_U0A6bwARN"
      },
      "source": [
        "https://hdbscan.readthedocs.io/en/latest/how_hdbscan_works.html\n",
        "HDBSCAN is less sensitive to noise than DBSCAN so we will using this clustering algorithm instead. Above is the documentation which i found helpful. "
      ]
    },
    {
      "cell_type": "markdown",
      "metadata": {
        "id": "YbGXEdz-1Na_"
      },
      "source": [
        "I used 'leaf' for clustering selection method instead of 'eom' to allow for more clusters. I then fined tuned other paramaters such as min_cluster size to help increase cluster density. Also HDBSCAN allows for values to be outlier and as a result not all postings need to be assigned to a cluster (as can be seen in the graph below). "
      ]
    },
    {
      "cell_type": "code",
      "execution_count": null,
      "metadata": {
        "id": "m3q7JlgQst8Z"
      },
      "outputs": [],
      "source": [
        "from hdbscan import HDBSCAN\n",
        "cluster = HDBSCAN(min_cluster_size=40, \n",
        "                          metric='euclidean',                      \n",
        "                          cluster_selection_method='leaf').fit(umap_embeddings)"
      ]
    },
    {
      "cell_type": "code",
      "execution_count": null,
      "metadata": {
        "colab": {
          "base_uri": "https://localhost:8080/",
          "height": 612
        },
        "id": "553DfnZdvtcF",
        "outputId": "aeb9de1b-1e8c-4d6f-82cf-894a871d5593"
      },
      "outputs": [
        {
          "output_type": "display_data",
          "data": {
            "text/plain": [
              "<Figure size 720x720 with 1 Axes>"
            ],
            "image/png": "[encoded data removed]"
          },
          "metadata": {
            "needs_background": "light"
          }
        }
      ],
      "source": [
        "import seaborn as sns\n",
        "color_palette = sns.color_palette('Paired', 100) #add more colors to prevent index error in next steps \n",
        "cluster_colors = [color_palette[x] if x >= 0 else (0.5, 0.5, 0.5) for x in cluster.labels_]\n",
        "cluster_member_colors = [sns.desaturate(x, p) for x, p in\n",
        "                         zip(cluster_colors, cluster.probabilities_)]\n",
        "plt.scatter(*umap_embeddings.T, s=50, linewidth=0, c=cluster_member_colors, alpha=0.75)\n",
        "plt.title(\"Hierarchical Density Based Clustering\")\n",
        "plt.show()"
      ]
    },
    {
      "cell_type": "code",
      "execution_count": null,
      "metadata": {
        "id": "aInZXxCo_qZZ"
      },
      "outputs": [],
      "source": [
        "vectorizer = TfidfVectorizer(stop_words = 'english')\n",
        "embeddings = sentence_model.encode(posts, show_progress_bar=False)\n",
        "bert1 = BERTopic(hdbscan_model = cluster, language = \"english\", vectorizer_model = vectorizer)"
      ]
    },
    {
      "cell_type": "code",
      "execution_count": null,
      "metadata": {
        "id": "XESdpSVEBhDs"
      },
      "outputs": [],
      "source": [
        "topics, probs = bert1.fit_transform(posts,embeddings)"
      ]
    },
    {
      "cell_type": "code",
      "execution_count": null,
      "metadata": {
        "colab": {
          "base_uri": "https://localhost:8080/",
          "height": 206
        },
        "id": "gG1MLm2xD1Mw",
        "outputId": "75eea89b-8f71-483c-8300-48002b27622e"
      },
      "outputs": [
        {
          "output_type": "execute_result",
          "data": {
            "text/plain": [
              "   Topic  Count                         Name\n",
              "0     -1    595  -1_analyst_sql_excel_python\n",
              "1      0    158  0_analyst_gs_veteran_usajob\n",
              "2      1     69          1_python_fis_sql_ml\n",
              "3      2     67     2_analyst_excel_cmb_aota\n",
              "4      3     56     3_sql_analyst_xometry_bi"
            ],
            "text/html": [
              "\n",
              "  <div id=\"df-61277974-0f83-44c9-99aa-67024350193e\">\n",
              "    <div class=\"colab-df-container\">\n",
              "      <div>\n",
              "<style scoped>\n",
              "    .dataframe tbody tr th:only-of-type {\n",
              "        vertical-align: middle;\n",
              "    }\n",
              "\n",
              "    .dataframe tbody tr th {\n",
              "        vertical-align: top;\n",
              "    }\n",
              "\n",
              "    .dataframe thead th {\n",
              "        text-align: right;\n",
              "    }\n",
              "</style>\n",
              "<table border=\"1\" class=\"dataframe\">\n",
              "  <thead>\n",
              "    <tr style=\"text-align: right;\">\n",
              "      <th></th>\n",
              "      <th>Topic</th>\n",
              "      <th>Count</th>\n",
              "      <th>Name</th>\n",
              "    </tr>\n",
              "  </thead>\n",
              "  <tbody>\n",
              "    <tr>\n",
              "      <th>0</th>\n",
              "      <td>-1</td>\n",
              "      <td>595</td>\n",
              "      <td>-1_analyst_sql_excel_python</td>\n",
              "    </tr>\n",
              "    <tr>\n",
              "      <th>1</th>\n",
              "      <td>0</td>\n",
              "      <td>158</td>\n",
              "      <td>0_analyst_gs_veteran_usajob</td>\n",
              "    </tr>\n",
              "    <tr>\n",
              "      <th>2</th>\n",
              "      <td>1</td>\n",
              "      <td>69</td>\n",
              "      <td>1_python_fis_sql_ml</td>\n",
              "    </tr>\n",
              "    <tr>\n",
              "      <th>3</th>\n",
              "      <td>2</td>\n",
              "      <td>67</td>\n",
              "      <td>2_analyst_excel_cmb_aota</td>\n",
              "    </tr>\n",
              "    <tr>\n",
              "      <th>4</th>\n",
              "      <td>3</td>\n",
              "      <td>56</td>\n",
              "      <td>3_sql_analyst_xometry_bi</td>\n",
              "    </tr>\n",
              "  </tbody>\n",
              "</table>\n",
              "</div>\n",
              "      <button class=\"colab-df-convert\" onclick=\"convertToInteractive('df-61277974-0f83-44c9-99aa-67024350193e')\"\n",
              "              title=\"Convert this dataframe to an interactive table.\"\n",
              "              style=\"display:none;\">\n",
              "        \n",
              "  <svg xmlns=\"http://www.w3.org/2000/svg\" height=\"24px\"viewBox=\"0 0 24 24\"\n",
              "       width=\"24px\">\n",
              "    <path d=\"M0 0h24v24H0V0z\" fill=\"none\"/>\n",
              "    <path d=\"M18.56 5.44l.94 2.06.94-2.06 2.06-.94-2.06-.94-.94-2.06-.94 2.06-2.06.94zm-11 1L8.5 8.5l.94-2.06 2.06-.94-2.06-.94L8.5 2.5l-.94 2.06-2.06.94zm10 10l.94 2.06.94-2.06 2.06-.94-2.06-.94-.94-2.06-.94 2.06-2.06.94z\"/><path d=\"M17.41 7.96l-1.37-1.37c-.4-.4-.92-.59-1.43-.59-.52 0-1.04.2-1.43.59L10.3 9.45l-7.72 7.72c-.78.78-.78 2.05 0 2.83L4 21.41c.39.39.9.59 1.41.59.51 0 1.02-.2 1.41-.59l7.78-7.78 2.81-2.81c.8-.78.8-2.07 0-2.86zM5.41 20L4 18.59l7.72-7.72 1.47 1.35L5.41 20z\"/>\n",
              "  </svg>\n",
              "      </button>\n",
              "      \n",
              "  <style>\n",
              "    .colab-df-container {\n",
              "      display:flex;\n",
              "      flex-wrap:wrap;\n",
              "      gap: 12px;\n",
              "    }\n",
              "\n",
              "    .colab-df-convert {\n",
              "      background-color: #E8F0FE;\n",
              "      border: none;\n",
              "      border-radius: 50%;\n",
              "      cursor: pointer;\n",
              "      display: none;\n",
              "      fill: #1967D2;\n",
              "      height: 32px;\n",
              "      padding: 0 0 0 0;\n",
              "      width: 32px;\n",
              "    }\n",
              "\n",
              "    .colab-df-convert:hover {\n",
              "      background-color: #E2EBFA;\n",
              "      box-shadow: 0px 1px 2px rgba(60, 64, 67, 0.3), 0px 1px 3px 1px rgba(60, 64, 67, 0.15);\n",
              "      fill: #174EA6;\n",
              "    }\n",
              "\n",
              "    [theme=dark] .colab-df-convert {\n",
              "      background-color: #3B4455;\n",
              "      fill: #D2E3FC;\n",
              "    }\n",
              "\n",
              "    [theme=dark] .colab-df-convert:hover {\n",
              "      background-color: #434B5C;\n",
              "      box-shadow: 0px 1px 3px 1px rgba(0, 0, 0, 0.15);\n",
              "      filter: drop-shadow(0px 1px 2px rgba(0, 0, 0, 0.3));\n",
              "      fill: #FFFFFF;\n",
              "    }\n",
              "  </style>\n",
              "\n",
              "      <script>\n",
              "        const buttonEl =\n",
              "          document.querySelector('#df-61277974-0f83-44c9-99aa-67024350193e button.colab-df-convert');\n",
              "        buttonEl.style.display =\n",
              "          google.colab.kernel.accessAllowed ? 'block' : 'none';\n",
              "\n",
              "        async function convertToInteractive(key) {\n",
              "          const element = document.querySelector('#df-61277974-0f83-44c9-99aa-67024350193e');\n",
              "          const dataTable =\n",
              "            await google.colab.kernel.invokeFunction('convertToInteractive',\n",
              "                                                     [key], {});\n",
              "          if (!dataTable) return;\n",
              "\n",
              "          const docLinkHtml = 'Like what you see? Visit the ' +\n",
              "            '<a target=\"_blank\" href=https://colab.research.google.com/notebooks/data_table.ipynb>data table notebook</a>'\n",
              "            + ' to learn more about interactive tables.';\n",
              "          element.innerHTML = '';\n",
              "          dataTable['output_type'] = 'display_data';\n",
              "          await google.colab.output.renderOutput(dataTable, element);\n",
              "          const docLink = document.createElement('div');\n",
              "          docLink.innerHTML = docLinkHtml;\n",
              "          element.appendChild(docLink);\n",
              "        }\n",
              "      </script>\n",
              "    </div>\n",
              "  </div>\n",
              "  "
            ]
          },
          "metadata": {},
          "execution_count": 332
        }
      ],
      "source": [
        "bert1.get_topic_info().head(5)"
      ]
    },
    {
      "cell_type": "code",
      "execution_count": null,
      "metadata": {
        "colab": {
          "base_uri": "https://localhost:8080/",
          "height": 817
        },
        "id": "pcga-1xmEFBK",
        "outputId": "d754fe43-b1e5-44d4-dcc3-5d57aa685ef3"
      },
      "outputs": [
        {
          "output_type": "display_data",
          "data": {
            "text/html": [
              "<html>\n",
              "<head><meta charset=\"utf-8\" /></head>\n",
              "<body>\n",
              "    <div>            <script src=\"https://cdnjs.cloudflare.com/ajax/libs/mathjax/2.7.5/MathJax.js?config=TeX-AMS-MML_SVG\"></script><script type=\"text/javascript\">if (window.MathJax) {MathJax.Hub.Config({SVG: {font: \"STIX-Web\"}});}</script>                <script type=\"text/javascript\">window.PlotlyConfig = {MathJaxConfig: 'local'};</script>\n",
              "        <script src=\"https://cdn.plot.ly/plotly-2.8.3.min.js\"></script>                <div id=\"17c2051b-9066-4847-8ae7-f54438869ea6\" class=\"plotly-graph-div\" style=\"height:800px; width:800px;\"></div>            <script type=\"text/javascript\">                                    window.PLOTLYENV=window.PLOTLYENV || {};                                    if (document.getElementById(\"17c2051b-9066-4847-8ae7-f54438869ea6\")) {                    Plotly.newPlot(                        \"17c2051b-9066-4847-8ae7-f54438869ea6\",                        [{\"coloraxis\":\"coloraxis\",\"name\":\"0\",\"x\":[\"0_analyst_gs_veteran\",\"1_python_fis_sql\",\"2_analyst_excel_cmb\",\"3_sql_analyst_xometry\",\"4_scientist_hawaiian_ai\"],\"y\":[\"0_analyst_gs_veteran\",\"1_python_fis_sql\",\"2_analyst_excel_cmb\",\"3_sql_analyst_xometry\",\"4_scientist_hawaiian_ai\"],\"z\":[[1.000000000000003,0.3714701852033334,0.4167233622189904,0.3708052871266519,0.3835172898256139],[0.3714701852033334,0.9999999999999899,0.17525607900059234,0.25077443408149047,0.2233270136197509],[0.4167233622189904,0.17525607900059234,1.0000000000000002,0.14764440267335435,0.23013590199197578],[0.3708052871266519,0.25077443408149047,0.14764440267335435,0.999999999999999,0.32488616300141976],[0.3835172898256139,0.2233270136197509,0.23013590199197578,0.32488616300141976,0.9999999999999983]],\"type\":\"heatmap\",\"xaxis\":\"x\",\"yaxis\":\"y\",\"hovertemplate\":\"x: %{x}<br>y: %{y}<br>Similarity Score: %{z}<extra></extra>\"}],                        {\"template\":{\"data\":{\"bar\":[{\"error_x\":{\"color\":\"#2a3f5f\"},\"error_y\":{\"color\":\"#2a3f5f\"},\"marker\":{\"line\":{\"color\":\"#E5ECF6\",\"width\":0.5},\"pattern\":{\"fillmode\":\"overlay\",\"size\":10,\"solidity\":0.2}},\"type\":\"bar\"}],\"barpolar\":[{\"marker\":{\"line\":{\"color\":\"#E5ECF6\",\"width\":0.5},\"pattern\":{\"fillmode\":\"overlay\",\"size\":10,\"solidity\":0.2}},\"type\":\"barpolar\"}],\"carpet\":[{\"aaxis\":{\"endlinecolor\":\"#2a3f5f\",\"gridcolor\":\"white\",\"linecolor\":\"white\",\"minorgridcolor\":\"white\",\"startlinecolor\":\"#2a3f5f\"},\"baxis\":{\"endlinecolor\":\"#2a3f5f\",\"gridcolor\":\"white\",\"linecolor\":\"white\",\"minorgridcolor\":\"white\",\"startlinecolor\":\"#2a3f5f\"},\"type\":\"carpet\"}],\"choropleth\":[{\"colorbar\":{\"outlinewidth\":0,\"ticks\":\"\"},\"type\":\"choropleth\"}],\"contour\":[{\"colorbar\":{\"outlinewidth\":0,\"ticks\":\"\"},\"colorscale\":[[0.0,\"#0d0887\"],[0.1111111111111111,\"#46039f\"],[0.2222222222222222,\"#7201a8\"],[0.3333333333333333,\"#9c179e\"],[0.4444444444444444,\"#bd3786\"],[0.5555555555555556,\"#d8576b\"],[0.6666666666666666,\"#ed7953\"],[0.7777777777777778,\"#fb9f3a\"],[0.8888888888888888,\"#fdca26\"],[1.0,\"#f0f921\"]],\"type\":\"contour\"}],\"contourcarpet\":[{\"colorbar\":{\"outlinewidth\":0,\"ticks\":\"\"},\"type\":\"contourcarpet\"}],\"heatmap\":[{\"colorbar\":{\"outlinewidth\":0,\"ticks\":\"\"},\"colorscale\":[[0.0,\"#0d0887\"],[0.1111111111111111,\"#46039f\"],[0.2222222222222222,\"#7201a8\"],[0.3333333333333333,\"#9c179e\"],[0.4444444444444444,\"#bd3786\"],[0.5555555555555556,\"#d8576b\"],[0.6666666666666666,\"#ed7953\"],[0.7777777777777778,\"#fb9f3a\"],[0.8888888888888888,\"#fdca26\"],[1.0,\"#f0f921\"]],\"type\":\"heatmap\"}],\"heatmapgl\":[{\"colorbar\":{\"outlinewidth\":0,\"ticks\":\"\"},\"colorscale\":[[0.0,\"#0d0887\"],[0.1111111111111111,\"#46039f\"],[0.2222222222222222,\"#7201a8\"],[0.3333333333333333,\"#9c179e\"],[0.4444444444444444,\"#bd3786\"],[0.5555555555555556,\"#d8576b\"],[0.6666666666666666,\"#ed7953\"],[0.7777777777777778,\"#fb9f3a\"],[0.8888888888888888,\"#fdca26\"],[1.0,\"#f0f921\"]],\"type\":\"heatmapgl\"}],\"histogram\":[{\"marker\":{\"pattern\":{\"fillmode\":\"overlay\",\"size\":10,\"solidity\":0.2}},\"type\":\"histogram\"}],\"histogram2d\":[{\"colorbar\":{\"outlinewidth\":0,\"ticks\":\"\"},\"colorscale\":[[0.0,\"#0d0887\"],[0.1111111111111111,\"#46039f\"],[0.2222222222222222,\"#7201a8\"],[0.3333333333333333,\"#9c179e\"],[0.4444444444444444,\"#bd3786\"],[0.5555555555555556,\"#d8576b\"],[0.6666666666666666,\"#ed7953\"],[0.7777777777777778,\"#fb9f3a\"],[0.8888888888888888,\"#fdca26\"],[1.0,\"#f0f921\"]],\"type\":\"histogram2d\"}],\"histogram2dcontour\":[{\"colorbar\":{\"outlinewidth\":0,\"ticks\":\"\"},\"colorscale\":[[0.0,\"#0d0887\"],[0.1111111111111111,\"#46039f\"],[0.2222222222222222,\"#7201a8\"],[0.3333333333333333,\"#9c179e\"],[0.4444444444444444,\"#bd3786\"],[0.5555555555555556,\"#d8576b\"],[0.6666666666666666,\"#ed7953\"],[0.7777777777777778,\"#fb9f3a\"],[0.8888888888888888,\"#fdca26\"],[1.0,\"#f0f921\"]],\"type\":\"histogram2dcontour\"}],\"mesh3d\":[{\"colorbar\":{\"outlinewidth\":0,\"ticks\":\"\"},\"type\":\"mesh3d\"}],\"parcoords\":[{\"line\":{\"colorbar\":{\"outlinewidth\":0,\"ticks\":\"\"}},\"type\":\"parcoords\"}],\"pie\":[{\"automargin\":true,\"type\":\"pie\"}],\"scatter\":[{\"marker\":{\"colorbar\":{\"outlinewidth\":0,\"ticks\":\"\"}},\"type\":\"scatter\"}],\"scatter3d\":[{\"line\":{\"colorbar\":{\"outlinewidth\":0,\"ticks\":\"\"}},\"marker\":{\"colorbar\":{\"outlinewidth\":0,\"ticks\":\"\"}},\"type\":\"scatter3d\"}],\"scattercarpet\":[{\"marker\":{\"colorbar\":{\"outlinewidth\":0,\"ticks\":\"\"}},\"type\":\"scattercarpet\"}],\"scattergeo\":[{\"marker\":{\"colorbar\":{\"outlinewidth\":0,\"ticks\":\"\"}},\"type\":\"scattergeo\"}],\"scattergl\":[{\"marker\":{\"colorbar\":{\"outlinewidth\":0,\"ticks\":\"\"}},\"type\":\"scattergl\"}],\"scattermapbox\":[{\"marker\":{\"colorbar\":{\"outlinewidth\":0,\"ticks\":\"\"}},\"type\":\"scattermapbox\"}],\"scatterpolar\":[{\"marker\":{\"colorbar\":{\"outlinewidth\":0,\"ticks\":\"\"}},\"type\":\"scatterpolar\"}],\"scatterpolargl\":[{\"marker\":{\"colorbar\":{\"outlinewidth\":0,\"ticks\":\"\"}},\"type\":\"scatterpolargl\"}],\"scatterternary\":[{\"marker\":{\"colorbar\":{\"outlinewidth\":0,\"ticks\":\"\"}},\"type\":\"scatterternary\"}],\"surface\":[{\"colorbar\":{\"outlinewidth\":0,\"ticks\":\"\"},\"colorscale\":[[0.0,\"#0d0887\"],[0.1111111111111111,\"#46039f\"],[0.2222222222222222,\"#7201a8\"],[0.3333333333333333,\"#9c179e\"],[0.4444444444444444,\"#bd3786\"],[0.5555555555555556,\"#d8576b\"],[0.6666666666666666,\"#ed7953\"],[0.7777777777777778,\"#fb9f3a\"],[0.8888888888888888,\"#fdca26\"],[1.0,\"#f0f921\"]],\"type\":\"surface\"}],\"table\":[{\"cells\":{\"fill\":{\"color\":\"#EBF0F8\"},\"line\":{\"color\":\"white\"}},\"header\":{\"fill\":{\"color\":\"#C8D4E3\"},\"line\":{\"color\":\"white\"}},\"type\":\"table\"}]},\"layout\":{\"annotationdefaults\":{\"arrowcolor\":\"#2a3f5f\",\"arrowhead\":0,\"arrowwidth\":1},\"autotypenumbers\":\"strict\",\"coloraxis\":{\"colorbar\":{\"outlinewidth\":0,\"ticks\":\"\"}},\"colorscale\":{\"diverging\":[[0,\"#8e0152\"],[0.1,\"#c51b7d\"],[0.2,\"#de77ae\"],[0.3,\"#f1b6da\"],[0.4,\"#fde0ef\"],[0.5,\"#f7f7f7\"],[0.6,\"#e6f5d0\"],[0.7,\"#b8e186\"],[0.8,\"#7fbc41\"],[0.9,\"#4d9221\"],[1,\"#276419\"]],\"sequential\":[[0.0,\"#0d0887\"],[0.1111111111111111,\"#46039f\"],[0.2222222222222222,\"#7201a8\"],[0.3333333333333333,\"#9c179e\"],[0.4444444444444444,\"#bd3786\"],[0.5555555555555556,\"#d8576b\"],[0.6666666666666666,\"#ed7953\"],[0.7777777777777778,\"#fb9f3a\"],[0.8888888888888888,\"#fdca26\"],[1.0,\"#f0f921\"]],\"sequentialminus\":[[0.0,\"#0d0887\"],[0.1111111111111111,\"#46039f\"],[0.2222222222222222,\"#7201a8\"],[0.3333333333333333,\"#9c179e\"],[0.4444444444444444,\"#bd3786\"],[0.5555555555555556,\"#d8576b\"],[0.6666666666666666,\"#ed7953\"],[0.7777777777777778,\"#fb9f3a\"],[0.8888888888888888,\"#fdca26\"],[1.0,\"#f0f921\"]]},\"colorway\":[\"#636efa\",\"#EF553B\",\"#00cc96\",\"#ab63fa\",\"#FFA15A\",\"#19d3f3\",\"#FF6692\",\"#B6E880\",\"#FF97FF\",\"#FECB52\"],\"font\":{\"color\":\"#2a3f5f\"},\"geo\":{\"bgcolor\":\"white\",\"lakecolor\":\"white\",\"landcolor\":\"#E5ECF6\",\"showlakes\":true,\"showland\":true,\"subunitcolor\":\"white\"},\"hoverlabel\":{\"align\":\"left\"},\"hovermode\":\"closest\",\"mapbox\":{\"style\":\"light\"},\"paper_bgcolor\":\"white\",\"plot_bgcolor\":\"#E5ECF6\",\"polar\":{\"angularaxis\":{\"gridcolor\":\"white\",\"linecolor\":\"white\",\"ticks\":\"\"},\"bgcolor\":\"#E5ECF6\",\"radialaxis\":{\"gridcolor\":\"white\",\"linecolor\":\"white\",\"ticks\":\"\"}},\"scene\":{\"xaxis\":{\"backgroundcolor\":\"#E5ECF6\",\"gridcolor\":\"white\",\"gridwidth\":2,\"linecolor\":\"white\",\"showbackground\":true,\"ticks\":\"\",\"zerolinecolor\":\"white\"},\"yaxis\":{\"backgroundcolor\":\"#E5ECF6\",\"gridcolor\":\"white\",\"gridwidth\":2,\"linecolor\":\"white\",\"showbackground\":true,\"ticks\":\"\",\"zerolinecolor\":\"white\"},\"zaxis\":{\"backgroundcolor\":\"#E5ECF6\",\"gridcolor\":\"white\",\"gridwidth\":2,\"linecolor\":\"white\",\"showbackground\":true,\"ticks\":\"\",\"zerolinecolor\":\"white\"}},\"shapedefaults\":{\"line\":{\"color\":\"#2a3f5f\"}},\"ternary\":{\"aaxis\":{\"gridcolor\":\"white\",\"linecolor\":\"white\",\"ticks\":\"\"},\"baxis\":{\"gridcolor\":\"white\",\"linecolor\":\"white\",\"ticks\":\"\"},\"bgcolor\":\"#E5ECF6\",\"caxis\":{\"gridcolor\":\"white\",\"linecolor\":\"white\",\"ticks\":\"\"}},\"title\":{\"x\":0.05},\"xaxis\":{\"automargin\":true,\"gridcolor\":\"white\",\"linecolor\":\"white\",\"ticks\":\"\",\"title\":{\"standoff\":15},\"zerolinecolor\":\"white\",\"zerolinewidth\":2},\"yaxis\":{\"automargin\":true,\"gridcolor\":\"white\",\"linecolor\":\"white\",\"ticks\":\"\",\"title\":{\"standoff\":15},\"zerolinecolor\":\"white\",\"zerolinewidth\":2}}},\"xaxis\":{\"anchor\":\"y\",\"domain\":[0.0,1.0],\"scaleanchor\":\"y\",\"constrain\":\"domain\"},\"yaxis\":{\"anchor\":\"x\",\"domain\":[0.0,1.0],\"autorange\":\"reversed\",\"constrain\":\"domain\"},\"coloraxis\":{\"colorbar\":{\"title\":{\"text\":\"Similarity Score\"}},\"colorscale\":[[0.0,\"rgb(247,252,240)\"],[0.125,\"rgb(224,243,219)\"],[0.25,\"rgb(204,235,197)\"],[0.375,\"rgb(168,221,181)\"],[0.5,\"rgb(123,204,196)\"],[0.625,\"rgb(78,179,211)\"],[0.75,\"rgb(43,140,190)\"],[0.875,\"rgb(8,104,172)\"],[1.0,\"rgb(8,64,129)\"]]},\"margin\":{\"t\":60},\"title\":{\"font\":{\"size\":22,\"color\":\"Black\"},\"text\":\"<b>Similarity Matrix\",\"y\":0.95,\"x\":0.55,\"xanchor\":\"center\",\"yanchor\":\"top\"},\"hoverlabel\":{\"font\":{\"size\":16,\"family\":\"Rockwell\"},\"bgcolor\":\"white\"},\"width\":800,\"height\":800,\"showlegend\":true,\"legend\":{\"title\":{\"text\":\"Trend\"}}},                        {\"responsive\": true}                    ).then(function(){\n",
              "                            \n",
              "var gd = document.getElementById('17c2051b-9066-4847-8ae7-f54438869ea6');\n",
              "var x = new MutationObserver(function (mutations, observer) {{\n",
              "        var display = window.getComputedStyle(gd).display;\n",
              "        if (!display || display === 'none') {{\n",
              "            console.log([gd, 'removed!']);\n",
              "            Plotly.purge(gd);\n",
              "            observer.disconnect();\n",
              "        }}\n",
              "}});\n",
              "\n",
              "// Listen for the removal of the full notebook cells\n",
              "var notebookContainer = gd.closest('#notebook-container');\n",
              "if (notebookContainer) {{\n",
              "    x.observe(notebookContainer, {childList: true});\n",
              "}}\n",
              "\n",
              "// Listen for the clearing of the current output cell\n",
              "var outputEl = gd.closest('.output');\n",
              "if (outputEl) {{\n",
              "    x.observe(outputEl, {childList: true});\n",
              "}}\n",
              "\n",
              "                        })                };                            </script>        </div>\n",
              "</body>\n",
              "</html>"
            ]
          },
          "metadata": {}
        }
      ],
      "source": [
        "bert1.visualize_heatmap()"
      ]
    },
    {
      "cell_type": "markdown",
      "metadata": {
        "id": "eY_KRf9MEW-y"
      },
      "source": [
        "The similarity matrix shows the most commonality between topic 0 and 2. This is likely due to the fact they both appear to be generic analyst roles. "
      ]
    },
    {
      "cell_type": "code",
      "execution_count": null,
      "metadata": {
        "colab": {
          "base_uri": "https://localhost:8080/",
          "height": 517
        },
        "id": "DWjQ5xyKElTS",
        "outputId": "f3f2fb8b-bf93-42ee-8563-b6874e0b3d6b"
      },
      "outputs": [
        {
          "output_type": "display_data",
          "data": {
            "text/html": [
              "<html>\n",
              "<head><meta charset=\"utf-8\" /></head>\n",
              "<body>\n",
              "    <div>            <script src=\"https://cdnjs.cloudflare.com/ajax/libs/mathjax/2.7.5/MathJax.js?config=TeX-AMS-MML_SVG\"></script><script type=\"text/javascript\">if (window.MathJax) {MathJax.Hub.Config({SVG: {font: \"STIX-Web\"}});}</script>                <script type=\"text/javascript\">window.PlotlyConfig = {MathJaxConfig: 'local'};</script>\n",
              "        <script src=\"https://cdn.plot.ly/plotly-2.8.3.min.js\"></script>                <div id=\"49c76a82-e9ab-42af-97c1-c88c8258db3a\" class=\"plotly-graph-div\" style=\"height:500px; width:1000px;\"></div>            <script type=\"text/javascript\">                                    window.PLOTLYENV=window.PLOTLYENV || {};                                    if (document.getElementById(\"49c76a82-e9ab-42af-97c1-c88c8258db3a\")) {                    Plotly.newPlot(                        \"49c76a82-e9ab-42af-97c1-c88c8258db3a\",                        [{\"marker\":{\"color\":\"#D55E00\"},\"orientation\":\"h\",\"x\":[0.026219048671576185,0.02939972679812082,0.03164951903818674,0.035714737788476315,0.04567200905192568],\"y\":[\"sf  \",\"usajob  \",\"veteran  \",\"gs  \",\"analyst  \"],\"type\":\"bar\",\"xaxis\":\"x\",\"yaxis\":\"y\"},{\"marker\":{\"color\":\"#0072B2\"},\"orientation\":\"h\",\"x\":[0.045393659276184606,0.05471215542005076,0.059717640047573746,0.07497502037737745,0.10155644378513227],\"y\":[\"tableau  \",\"sql  \",\"ai  \",\"ml  \",\"python  \"],\"type\":\"bar\",\"xaxis\":\"x2\",\"yaxis\":\"y2\"},{\"marker\":{\"color\":\"#CC79A7\"},\"orientation\":\"h\",\"x\":[0.04255796270684049,0.048544583394816314,0.0649182222921112,0.07072597505765799,0.11730871469714794],\"y\":[\"proficient  \",\"aota  \",\"cmb  \",\"excel  \",\"analyst  \"],\"type\":\"bar\",\"xaxis\":\"x3\",\"yaxis\":\"y3\"},{\"marker\":{\"color\":\"#E69F00\"},\"orientation\":\"h\",\"x\":[0.06666626667773594,0.07921593916597172,0.08282529753083623,0.11446701078804275,0.14277748739042517],\"y\":[\"excel  \",\"xometry  \",\"bi  \",\"analyst  \",\"sql  \"],\"type\":\"bar\",\"xaxis\":\"x4\",\"yaxis\":\"y4\"},{\"marker\":{\"color\":\"#56B4E9\"},\"orientation\":\"h\",\"x\":[0.04353215377724552,0.0469612117016194,0.04736112779923805,0.04965925384542502,0.08817715733691264],\"y\":[\"python  \",\"ai  \",\"ef  \",\"hawaiian  \",\"scientist  \"],\"type\":\"bar\",\"xaxis\":\"x5\",\"yaxis\":\"y5\"}],                        {\"template\":{\"data\":{\"barpolar\":[{\"marker\":{\"line\":{\"color\":\"white\",\"width\":0.5},\"pattern\":{\"fillmode\":\"overlay\",\"size\":10,\"solidity\":0.2}},\"type\":\"barpolar\"}],\"bar\":[{\"error_x\":{\"color\":\"#2a3f5f\"},\"error_y\":{\"color\":\"#2a3f5f\"},\"marker\":{\"line\":{\"color\":\"white\",\"width\":0.5},\"pattern\":{\"fillmode\":\"overlay\",\"size\":10,\"solidity\":0.2}},\"type\":\"bar\"}],\"carpet\":[{\"aaxis\":{\"endlinecolor\":\"#2a3f5f\",\"gridcolor\":\"#C8D4E3\",\"linecolor\":\"#C8D4E3\",\"minorgridcolor\":\"#C8D4E3\",\"startlinecolor\":\"#2a3f5f\"},\"baxis\":{\"endlinecolor\":\"#2a3f5f\",\"gridcolor\":\"#C8D4E3\",\"linecolor\":\"#C8D4E3\",\"minorgridcolor\":\"#C8D4E3\",\"startlinecolor\":\"#2a3f5f\"},\"type\":\"carpet\"}],\"choropleth\":[{\"colorbar\":{\"outlinewidth\":0,\"ticks\":\"\"},\"type\":\"choropleth\"}],\"contourcarpet\":[{\"colorbar\":{\"outlinewidth\":0,\"ticks\":\"\"},\"type\":\"contourcarpet\"}],\"contour\":[{\"colorbar\":{\"outlinewidth\":0,\"ticks\":\"\"},\"colorscale\":[[0.0,\"#0d0887\"],[0.1111111111111111,\"#46039f\"],[0.2222222222222222,\"#7201a8\"],[0.3333333333333333,\"#9c179e\"],[0.4444444444444444,\"#bd3786\"],[0.5555555555555556,\"#d8576b\"],[0.6666666666666666,\"#ed7953\"],[0.7777777777777778,\"#fb9f3a\"],[0.8888888888888888,\"#fdca26\"],[1.0,\"#f0f921\"]],\"type\":\"contour\"}],\"heatmapgl\":[{\"colorbar\":{\"outlinewidth\":0,\"ticks\":\"\"},\"colorscale\":[[0.0,\"#0d0887\"],[0.1111111111111111,\"#46039f\"],[0.2222222222222222,\"#7201a8\"],[0.3333333333333333,\"#9c179e\"],[0.4444444444444444,\"#bd3786\"],[0.5555555555555556,\"#d8576b\"],[0.6666666666666666,\"#ed7953\"],[0.7777777777777778,\"#fb9f3a\"],[0.8888888888888888,\"#fdca26\"],[1.0,\"#f0f921\"]],\"type\":\"heatmapgl\"}],\"heatmap\":[{\"colorbar\":{\"outlinewidth\":0,\"ticks\":\"\"},\"colorscale\":[[0.0,\"#0d0887\"],[0.1111111111111111,\"#46039f\"],[0.2222222222222222,\"#7201a8\"],[0.3333333333333333,\"#9c179e\"],[0.4444444444444444,\"#bd3786\"],[0.5555555555555556,\"#d8576b\"],[0.6666666666666666,\"#ed7953\"],[0.7777777777777778,\"#fb9f3a\"],[0.8888888888888888,\"#fdca26\"],[1.0,\"#f0f921\"]],\"type\":\"heatmap\"}],\"histogram2dcontour\":[{\"colorbar\":{\"outlinewidth\":0,\"ticks\":\"\"},\"colorscale\":[[0.0,\"#0d0887\"],[0.1111111111111111,\"#46039f\"],[0.2222222222222222,\"#7201a8\"],[0.3333333333333333,\"#9c179e\"],[0.4444444444444444,\"#bd3786\"],[0.5555555555555556,\"#d8576b\"],[0.6666666666666666,\"#ed7953\"],[0.7777777777777778,\"#fb9f3a\"],[0.8888888888888888,\"#fdca26\"],[1.0,\"#f0f921\"]],\"type\":\"histogram2dcontour\"}],\"histogram2d\":[{\"colorbar\":{\"outlinewidth\":0,\"ticks\":\"\"},\"colorscale\":[[0.0,\"#0d0887\"],[0.1111111111111111,\"#46039f\"],[0.2222222222222222,\"#7201a8\"],[0.3333333333333333,\"#9c179e\"],[0.4444444444444444,\"#bd3786\"],[0.5555555555555556,\"#d8576b\"],[0.6666666666666666,\"#ed7953\"],[0.7777777777777778,\"#fb9f3a\"],[0.8888888888888888,\"#fdca26\"],[1.0,\"#f0f921\"]],\"type\":\"histogram2d\"}],\"histogram\":[{\"marker\":{\"pattern\":{\"fillmode\":\"overlay\",\"size\":10,\"solidity\":0.2}},\"type\":\"histogram\"}],\"mesh3d\":[{\"colorbar\":{\"outlinewidth\":0,\"ticks\":\"\"},\"type\":\"mesh3d\"}],\"parcoords\":[{\"line\":{\"colorbar\":{\"outlinewidth\":0,\"ticks\":\"\"}},\"type\":\"parcoords\"}],\"pie\":[{\"automargin\":true,\"type\":\"pie\"}],\"scatter3d\":[{\"line\":{\"colorbar\":{\"outlinewidth\":0,\"ticks\":\"\"}},\"marker\":{\"colorbar\":{\"outlinewidth\":0,\"ticks\":\"\"}},\"type\":\"scatter3d\"}],\"scattercarpet\":[{\"marker\":{\"colorbar\":{\"outlinewidth\":0,\"ticks\":\"\"}},\"type\":\"scattercarpet\"}],\"scattergeo\":[{\"marker\":{\"colorbar\":{\"outlinewidth\":0,\"ticks\":\"\"}},\"type\":\"scattergeo\"}],\"scattergl\":[{\"marker\":{\"colorbar\":{\"outlinewidth\":0,\"ticks\":\"\"}},\"type\":\"scattergl\"}],\"scattermapbox\":[{\"marker\":{\"colorbar\":{\"outlinewidth\":0,\"ticks\":\"\"}},\"type\":\"scattermapbox\"}],\"scatterpolargl\":[{\"marker\":{\"colorbar\":{\"outlinewidth\":0,\"ticks\":\"\"}},\"type\":\"scatterpolargl\"}],\"scatterpolar\":[{\"marker\":{\"colorbar\":{\"outlinewidth\":0,\"ticks\":\"\"}},\"type\":\"scatterpolar\"}],\"scatter\":[{\"marker\":{\"colorbar\":{\"outlinewidth\":0,\"ticks\":\"\"}},\"type\":\"scatter\"}],\"scatterternary\":[{\"marker\":{\"colorbar\":{\"outlinewidth\":0,\"ticks\":\"\"}},\"type\":\"scatterternary\"}],\"surface\":[{\"colorbar\":{\"outlinewidth\":0,\"ticks\":\"\"},\"colorscale\":[[0.0,\"#0d0887\"],[0.1111111111111111,\"#46039f\"],[0.2222222222222222,\"#7201a8\"],[0.3333333333333333,\"#9c179e\"],[0.4444444444444444,\"#bd3786\"],[0.5555555555555556,\"#d8576b\"],[0.6666666666666666,\"#ed7953\"],[0.7777777777777778,\"#fb9f3a\"],[0.8888888888888888,\"#fdca26\"],[1.0,\"#f0f921\"]],\"type\":\"surface\"}],\"table\":[{\"cells\":{\"fill\":{\"color\":\"#EBF0F8\"},\"line\":{\"color\":\"white\"}},\"header\":{\"fill\":{\"color\":\"#C8D4E3\"},\"line\":{\"color\":\"white\"}},\"type\":\"table\"}]},\"layout\":{\"annotationdefaults\":{\"arrowcolor\":\"#2a3f5f\",\"arrowhead\":0,\"arrowwidth\":1},\"autotypenumbers\":\"strict\",\"coloraxis\":{\"colorbar\":{\"outlinewidth\":0,\"ticks\":\"\"}},\"colorscale\":{\"diverging\":[[0,\"#8e0152\"],[0.1,\"#c51b7d\"],[0.2,\"#de77ae\"],[0.3,\"#f1b6da\"],[0.4,\"#fde0ef\"],[0.5,\"#f7f7f7\"],[0.6,\"#e6f5d0\"],[0.7,\"#b8e186\"],[0.8,\"#7fbc41\"],[0.9,\"#4d9221\"],[1,\"#276419\"]],\"sequential\":[[0.0,\"#0d0887\"],[0.1111111111111111,\"#46039f\"],[0.2222222222222222,\"#7201a8\"],[0.3333333333333333,\"#9c179e\"],[0.4444444444444444,\"#bd3786\"],[0.5555555555555556,\"#d8576b\"],[0.6666666666666666,\"#ed7953\"],[0.7777777777777778,\"#fb9f3a\"],[0.8888888888888888,\"#fdca26\"],[1.0,\"#f0f921\"]],\"sequentialminus\":[[0.0,\"#0d0887\"],[0.1111111111111111,\"#46039f\"],[0.2222222222222222,\"#7201a8\"],[0.3333333333333333,\"#9c179e\"],[0.4444444444444444,\"#bd3786\"],[0.5555555555555556,\"#d8576b\"],[0.6666666666666666,\"#ed7953\"],[0.7777777777777778,\"#fb9f3a\"],[0.8888888888888888,\"#fdca26\"],[1.0,\"#f0f921\"]]},\"colorway\":[\"#636efa\",\"#EF553B\",\"#00cc96\",\"#ab63fa\",\"#FFA15A\",\"#19d3f3\",\"#FF6692\",\"#B6E880\",\"#FF97FF\",\"#FECB52\"],\"font\":{\"color\":\"#2a3f5f\"},\"geo\":{\"bgcolor\":\"white\",\"lakecolor\":\"white\",\"landcolor\":\"white\",\"showlakes\":true,\"showland\":true,\"subunitcolor\":\"#C8D4E3\"},\"hoverlabel\":{\"align\":\"left\"},\"hovermode\":\"closest\",\"mapbox\":{\"style\":\"light\"},\"paper_bgcolor\":\"white\",\"plot_bgcolor\":\"white\",\"polar\":{\"angularaxis\":{\"gridcolor\":\"#EBF0F8\",\"linecolor\":\"#EBF0F8\",\"ticks\":\"\"},\"bgcolor\":\"white\",\"radialaxis\":{\"gridcolor\":\"#EBF0F8\",\"linecolor\":\"#EBF0F8\",\"ticks\":\"\"}},\"scene\":{\"xaxis\":{\"backgroundcolor\":\"white\",\"gridcolor\":\"#DFE8F3\",\"gridwidth\":2,\"linecolor\":\"#EBF0F8\",\"showbackground\":true,\"ticks\":\"\",\"zerolinecolor\":\"#EBF0F8\"},\"yaxis\":{\"backgroundcolor\":\"white\",\"gridcolor\":\"#DFE8F3\",\"gridwidth\":2,\"linecolor\":\"#EBF0F8\",\"showbackground\":true,\"ticks\":\"\",\"zerolinecolor\":\"#EBF0F8\"},\"zaxis\":{\"backgroundcolor\":\"white\",\"gridcolor\":\"#DFE8F3\",\"gridwidth\":2,\"linecolor\":\"#EBF0F8\",\"showbackground\":true,\"ticks\":\"\",\"zerolinecolor\":\"#EBF0F8\"}},\"shapedefaults\":{\"line\":{\"color\":\"#2a3f5f\"}},\"ternary\":{\"aaxis\":{\"gridcolor\":\"#DFE8F3\",\"linecolor\":\"#A2B1C6\",\"ticks\":\"\"},\"baxis\":{\"gridcolor\":\"#DFE8F3\",\"linecolor\":\"#A2B1C6\",\"ticks\":\"\"},\"bgcolor\":\"white\",\"caxis\":{\"gridcolor\":\"#DFE8F3\",\"linecolor\":\"#A2B1C6\",\"ticks\":\"\"}},\"title\":{\"x\":0.05},\"xaxis\":{\"automargin\":true,\"gridcolor\":\"#EBF0F8\",\"linecolor\":\"#EBF0F8\",\"ticks\":\"\",\"title\":{\"standoff\":15},\"zerolinecolor\":\"#EBF0F8\",\"zerolinewidth\":2},\"yaxis\":{\"automargin\":true,\"gridcolor\":\"#EBF0F8\",\"linecolor\":\"#EBF0F8\",\"ticks\":\"\",\"title\":{\"standoff\":15},\"zerolinecolor\":\"#EBF0F8\",\"zerolinewidth\":2}}},\"xaxis\":{\"anchor\":\"y\",\"domain\":[0.0,0.175],\"showgrid\":true},\"yaxis\":{\"anchor\":\"x\",\"domain\":[0.6000000000000001,1.0],\"showgrid\":true},\"xaxis2\":{\"anchor\":\"y2\",\"domain\":[0.275,0.45],\"showgrid\":true},\"yaxis2\":{\"anchor\":\"x2\",\"domain\":[0.6000000000000001,1.0],\"showgrid\":true},\"xaxis3\":{\"anchor\":\"y3\",\"domain\":[0.55,0.7250000000000001],\"showgrid\":true},\"yaxis3\":{\"anchor\":\"x3\",\"domain\":[0.6000000000000001,1.0],\"showgrid\":true},\"xaxis4\":{\"anchor\":\"y4\",\"domain\":[0.825,1.0],\"showgrid\":true},\"yaxis4\":{\"anchor\":\"x4\",\"domain\":[0.6000000000000001,1.0],\"showgrid\":true},\"xaxis5\":{\"anchor\":\"y5\",\"domain\":[0.0,0.175],\"showgrid\":true},\"yaxis5\":{\"anchor\":\"x5\",\"domain\":[0.0,0.4],\"showgrid\":true},\"xaxis6\":{\"anchor\":\"y6\",\"domain\":[0.275,0.45],\"showgrid\":true},\"yaxis6\":{\"anchor\":\"x6\",\"domain\":[0.0,0.4],\"showgrid\":true},\"xaxis7\":{\"anchor\":\"y7\",\"domain\":[0.55,0.7250000000000001],\"showgrid\":true},\"yaxis7\":{\"anchor\":\"x7\",\"domain\":[0.0,0.4],\"showgrid\":true},\"xaxis8\":{\"anchor\":\"y8\",\"domain\":[0.825,1.0],\"showgrid\":true},\"yaxis8\":{\"anchor\":\"x8\",\"domain\":[0.0,0.4],\"showgrid\":true},\"annotations\":[{\"font\":{\"size\":16},\"showarrow\":false,\"text\":\"Topic 0\",\"x\":0.0875,\"xanchor\":\"center\",\"xref\":\"paper\",\"y\":1.0,\"yanchor\":\"bottom\",\"yref\":\"paper\"},{\"font\":{\"size\":16},\"showarrow\":false,\"text\":\"Topic 1\",\"x\":0.36250000000000004,\"xanchor\":\"center\",\"xref\":\"paper\",\"y\":1.0,\"yanchor\":\"bottom\",\"yref\":\"paper\"},{\"font\":{\"size\":16},\"showarrow\":false,\"text\":\"Topic 2\",\"x\":0.6375000000000001,\"xanchor\":\"center\",\"xref\":\"paper\",\"y\":1.0,\"yanchor\":\"bottom\",\"yref\":\"paper\"},{\"font\":{\"size\":16},\"showarrow\":false,\"text\":\"Topic 3\",\"x\":0.9125,\"xanchor\":\"center\",\"xref\":\"paper\",\"y\":1.0,\"yanchor\":\"bottom\",\"yref\":\"paper\"},{\"font\":{\"size\":16},\"showarrow\":false,\"text\":\"Topic 4\",\"x\":0.0875,\"xanchor\":\"center\",\"xref\":\"paper\",\"y\":0.4,\"yanchor\":\"bottom\",\"yref\":\"paper\"}],\"title\":{\"font\":{\"size\":22,\"color\":\"Black\"},\"text\":\"<b>Topic Word Scores\",\"x\":0.5,\"xanchor\":\"center\",\"yanchor\":\"top\"},\"hoverlabel\":{\"font\":{\"size\":16,\"family\":\"Rockwell\"},\"bgcolor\":\"white\"},\"showlegend\":false,\"width\":1000,\"height\":500},                        {\"responsive\": true}                    ).then(function(){\n",
              "                            \n",
              "var gd = document.getElementById('49c76a82-e9ab-42af-97c1-c88c8258db3a');\n",
              "var x = new MutationObserver(function (mutations, observer) {{\n",
              "        var display = window.getComputedStyle(gd).display;\n",
              "        if (!display || display === 'none') {{\n",
              "            console.log([gd, 'removed!']);\n",
              "            Plotly.purge(gd);\n",
              "            observer.disconnect();\n",
              "        }}\n",
              "}});\n",
              "\n",
              "// Listen for the removal of the full notebook cells\n",
              "var notebookContainer = gd.closest('#notebook-container');\n",
              "if (notebookContainer) {{\n",
              "    x.observe(notebookContainer, {childList: true});\n",
              "}}\n",
              "\n",
              "// Listen for the clearing of the current output cell\n",
              "var outputEl = gd.closest('.output');\n",
              "if (outputEl) {{\n",
              "    x.observe(outputEl, {childList: true});\n",
              "}}\n",
              "\n",
              "                        })                };                            </script>        </div>\n",
              "</body>\n",
              "</html>"
            ]
          },
          "metadata": {}
        }
      ],
      "source": [
        "bert1.visualize_barchart()"
      ]
    },
    {
      "cell_type": "markdown",
      "metadata": {
        "id": "9oLSx9YDF-pl"
      },
      "source": [
        "Topic 0 seems to be a general analyst role.\n",
        "\n",
        "Topic 1 appears to be what most people would refer to as a data scientist.\n",
        "\n",
        "Topic 2 appeares to be a dats analyst role. \n",
        "\n",
        "Topic 3 appears to be a Bunisness Intelligence Role. \n",
        "\n",
        "Topic 4 appears to an AI research role.\n"
      ]
    },
    {
      "cell_type": "markdown",
      "metadata": {
        "id": "vmGRISTgqYDD"
      },
      "source": [
        "Here is a great link that helped with understanding UMAP:\n",
        "https://umap-learn.readthedocs.io/en/latest/parameters.html\n"
      ]
    },
    {
      "cell_type": "markdown",
      "source": [
        "# Supervised Learning With Labeld Data"
      ],
      "metadata": {
        "id": "qRBJTCUJfI3l"
      }
    },
    {
      "cell_type": "code",
      "source": [
        "df_train"
      ],
      "metadata": {
        "colab": {
          "base_uri": "https://localhost:8080/",
          "height": 424
        },
        "id": "GBYmJ8FLfHtu",
        "outputId": "a47fc940-38d9-4823-dcd9-0819dbb8e3f1"
      },
      "execution_count": null,
      "outputs": [
        {
          "output_type": "execute_result",
          "data": {
            "text/plain": [
              "                   id                   company  \\\n",
              "46   1765fcb38f2aa674        Allworth Financial   \n",
              "31   0f523e00cd9a18df                     Apple   \n",
              "113  3066458351ac4b67  Securian Financial Group   \n",
              "334  7a59b2b6a1d4e67c  ENGIE North America Inc.   \n",
              "274  6707f1d50b3be666                    Solera   \n",
              "..                ...                       ...   \n",
              "106  2db14cca6900c346                  KlearNow   \n",
              "270  65cf3622c825988f             Turing Talent   \n",
              "348  80f448ce7d5d691c        HR Unlimited, Inc.   \n",
              "435  a6aa66279b9266f4            Kani Solutions   \n",
              "102  2cadc448b8b0f286                      UMSL   \n",
              "\n",
              "                                           description              location  \\\n",
              "46   \\n \\n  Allworth Financial (www.allworthfinanci...  Cincinnati, OH 45249   \n",
              "31   \\n \\n  \\n   \\n    Summary \\n    \\n     \\n     ...            Austin, TX   \n",
              "113  \\n \\n  Securian Financial Groups internal posi...  Saint Paul, MN 55101   \n",
              "334  \\n\\n \\n  ENGIE Power & Gas LLC provides Gas an...           Detroit, MI   \n",
              "274  \\n \\n  Job Title/Location\\n \\n \\n \\n   Who We ...                Remote   \n",
              "..                                                 ...                   ...   \n",
              "106  \\n \\n  Be a part of a rapidly growing, \\n  ser...            California   \n",
              "270  About Turing Talent\\nThe Turing Talent Program...    New York, NY 10016   \n",
              "348  HR Unlimited Inc. is a premier consulting firm...   Santa Ana, CA 92705   \n",
              "435  Job Description: -\\nDesign and Develop\\nRespon...                Remote   \n",
              "102  Hiring Department \\n\\n Research & Eco Comm Dev...         St. Louis, MO   \n",
              "\n",
              "                                          positionName  Manual_Label  \n",
              "46                             Operations Data Analyst           4.0  \n",
              "31   Technical Program Manager - Data Science and A...           9.0  \n",
              "113                            Data Science Consultant           2.0  \n",
              "334                                  IT Data Analyst I           4.0  \n",
              "274            Data Scientist / Deep Learning Engineer           2.0  \n",
              "..                                                 ...           ...  \n",
              "106                                     AI/ML Engineer           1.0  \n",
              "270  VP Machine Learning at Kunato (with Turing Tal...           9.0  \n",
              "348                                    HR Data Analyst           4.0  \n",
              "435                                     Data Scientist           2.0  \n",
              "102                FELLOW, POST DOCTORAL, STATISTICIAN           8.0  \n",
              "\n",
              "[374 rows x 6 columns]"
            ],
            "text/html": [
              "\n",
              "  <div id=\"df-361fbd46-a5a2-4541-b708-bc9ea95c53ae\">\n",
              "    <div class=\"colab-df-container\">\n",
              "      <div>\n",
              "<style scoped>\n",
              "    .dataframe tbody tr th:only-of-type {\n",
              "        vertical-align: middle;\n",
              "    }\n",
              "\n",
              "    .dataframe tbody tr th {\n",
              "        vertical-align: top;\n",
              "    }\n",
              "\n",
              "    .dataframe thead th {\n",
              "        text-align: right;\n",
              "    }\n",
              "</style>\n",
              "<table border=\"1\" class=\"dataframe\">\n",
              "  <thead>\n",
              "    <tr style=\"text-align: right;\">\n",
              "      <th></th>\n",
              "      <th>id</th>\n",
              "      <th>company</th>\n",
              "      <th>description</th>\n",
              "      <th>location</th>\n",
              "      <th>positionName</th>\n",
              "      <th>Manual_Label</th>\n",
              "    </tr>\n",
              "  </thead>\n",
              "  <tbody>\n",
              "    <tr>\n",
              "      <th>46</th>\n",
              "      <td>1765fcb38f2aa674</td>\n",
              "      <td>Allworth Financial</td>\n",
              "      <td>\\n \\n  Allworth Financial (www.allworthfinanci...</td>\n",
              "      <td>Cincinnati, OH 45249</td>\n",
              "      <td>Operations Data Analyst</td>\n",
              "      <td>4.0</td>\n",
              "    </tr>\n",
              "    <tr>\n",
              "      <th>31</th>\n",
              "      <td>0f523e00cd9a18df</td>\n",
              "      <td>Apple</td>\n",
              "      <td>\\n \\n  \\n   \\n    Summary \\n    \\n     \\n     ...</td>\n",
              "      <td>Austin, TX</td>\n",
              "      <td>Technical Program Manager - Data Science and A...</td>\n",
              "      <td>9.0</td>\n",
              "    </tr>\n",
              "    <tr>\n",
              "      <th>113</th>\n",
              "      <td>3066458351ac4b67</td>\n",
              "      <td>Securian Financial Group</td>\n",
              "      <td>\\n \\n  Securian Financial Groups internal posi...</td>\n",
              "      <td>Saint Paul, MN 55101</td>\n",
              "      <td>Data Science Consultant</td>\n",
              "      <td>2.0</td>\n",
              "    </tr>\n",
              "    <tr>\n",
              "      <th>334</th>\n",
              "      <td>7a59b2b6a1d4e67c</td>\n",
              "      <td>ENGIE North America Inc.</td>\n",
              "      <td>\\n\\n \\n  ENGIE Power &amp; Gas LLC provides Gas an...</td>\n",
              "      <td>Detroit, MI</td>\n",
              "      <td>IT Data Analyst I</td>\n",
              "      <td>4.0</td>\n",
              "    </tr>\n",
              "    <tr>\n",
              "      <th>274</th>\n",
              "      <td>6707f1d50b3be666</td>\n",
              "      <td>Solera</td>\n",
              "      <td>\\n \\n  Job Title/Location\\n \\n \\n \\n   Who We ...</td>\n",
              "      <td>Remote</td>\n",
              "      <td>Data Scientist / Deep Learning Engineer</td>\n",
              "      <td>2.0</td>\n",
              "    </tr>\n",
              "    <tr>\n",
              "      <th>...</th>\n",
              "      <td>...</td>\n",
              "      <td>...</td>\n",
              "      <td>...</td>\n",
              "      <td>...</td>\n",
              "      <td>...</td>\n",
              "      <td>...</td>\n",
              "    </tr>\n",
              "    <tr>\n",
              "      <th>106</th>\n",
              "      <td>2db14cca6900c346</td>\n",
              "      <td>KlearNow</td>\n",
              "      <td>\\n \\n  Be a part of a rapidly growing, \\n  ser...</td>\n",
              "      <td>California</td>\n",
              "      <td>AI/ML Engineer</td>\n",
              "      <td>1.0</td>\n",
              "    </tr>\n",
              "    <tr>\n",
              "      <th>270</th>\n",
              "      <td>65cf3622c825988f</td>\n",
              "      <td>Turing Talent</td>\n",
              "      <td>About Turing Talent\\nThe Turing Talent Program...</td>\n",
              "      <td>New York, NY 10016</td>\n",
              "      <td>VP Machine Learning at Kunato (with Turing Tal...</td>\n",
              "      <td>9.0</td>\n",
              "    </tr>\n",
              "    <tr>\n",
              "      <th>348</th>\n",
              "      <td>80f448ce7d5d691c</td>\n",
              "      <td>HR Unlimited, Inc.</td>\n",
              "      <td>HR Unlimited Inc. is a premier consulting firm...</td>\n",
              "      <td>Santa Ana, CA 92705</td>\n",
              "      <td>HR Data Analyst</td>\n",
              "      <td>4.0</td>\n",
              "    </tr>\n",
              "    <tr>\n",
              "      <th>435</th>\n",
              "      <td>a6aa66279b9266f4</td>\n",
              "      <td>Kani Solutions</td>\n",
              "      <td>Job Description: -\\nDesign and Develop\\nRespon...</td>\n",
              "      <td>Remote</td>\n",
              "      <td>Data Scientist</td>\n",
              "      <td>2.0</td>\n",
              "    </tr>\n",
              "    <tr>\n",
              "      <th>102</th>\n",
              "      <td>2cadc448b8b0f286</td>\n",
              "      <td>UMSL</td>\n",
              "      <td>Hiring Department \\n\\n Research &amp; Eco Comm Dev...</td>\n",
              "      <td>St. Louis, MO</td>\n",
              "      <td>FELLOW, POST DOCTORAL, STATISTICIAN</td>\n",
              "      <td>8.0</td>\n",
              "    </tr>\n",
              "  </tbody>\n",
              "</table>\n",
              "<p>374 rows × 6 columns</p>\n",
              "</div>\n",
              "      <button class=\"colab-df-convert\" onclick=\"convertToInteractive('df-361fbd46-a5a2-4541-b708-bc9ea95c53ae')\"\n",
              "              title=\"Convert this dataframe to an interactive table.\"\n",
              "              style=\"display:none;\">\n",
              "        \n",
              "  <svg xmlns=\"http://www.w3.org/2000/svg\" height=\"24px\"viewBox=\"0 0 24 24\"\n",
              "       width=\"24px\">\n",
              "    <path d=\"M0 0h24v24H0V0z\" fill=\"none\"/>\n",
              "    <path d=\"M18.56 5.44l.94 2.06.94-2.06 2.06-.94-2.06-.94-.94-2.06-.94 2.06-2.06.94zm-11 1L8.5 8.5l.94-2.06 2.06-.94-2.06-.94L8.5 2.5l-.94 2.06-2.06.94zm10 10l.94 2.06.94-2.06 2.06-.94-2.06-.94-.94-2.06-.94 2.06-2.06.94z\"/><path d=\"M17.41 7.96l-1.37-1.37c-.4-.4-.92-.59-1.43-.59-.52 0-1.04.2-1.43.59L10.3 9.45l-7.72 7.72c-.78.78-.78 2.05 0 2.83L4 21.41c.39.39.9.59 1.41.59.51 0 1.02-.2 1.41-.59l7.78-7.78 2.81-2.81c.8-.78.8-2.07 0-2.86zM5.41 20L4 18.59l7.72-7.72 1.47 1.35L5.41 20z\"/>\n",
              "  </svg>\n",
              "      </button>\n",
              "      \n",
              "  <style>\n",
              "    .colab-df-container {\n",
              "      display:flex;\n",
              "      flex-wrap:wrap;\n",
              "      gap: 12px;\n",
              "    }\n",
              "\n",
              "    .colab-df-convert {\n",
              "      background-color: #E8F0FE;\n",
              "      border: none;\n",
              "      border-radius: 50%;\n",
              "      cursor: pointer;\n",
              "      display: none;\n",
              "      fill: #1967D2;\n",
              "      height: 32px;\n",
              "      padding: 0 0 0 0;\n",
              "      width: 32px;\n",
              "    }\n",
              "\n",
              "    .colab-df-convert:hover {\n",
              "      background-color: #E2EBFA;\n",
              "      box-shadow: 0px 1px 2px rgba(60, 64, 67, 0.3), 0px 1px 3px 1px rgba(60, 64, 67, 0.15);\n",
              "      fill: #174EA6;\n",
              "    }\n",
              "\n",
              "    [theme=dark] .colab-df-convert {\n",
              "      background-color: #3B4455;\n",
              "      fill: #D2E3FC;\n",
              "    }\n",
              "\n",
              "    [theme=dark] .colab-df-convert:hover {\n",
              "      background-color: #434B5C;\n",
              "      box-shadow: 0px 1px 3px 1px rgba(0, 0, 0, 0.15);\n",
              "      filter: drop-shadow(0px 1px 2px rgba(0, 0, 0, 0.3));\n",
              "      fill: #FFFFFF;\n",
              "    }\n",
              "  </style>\n",
              "\n",
              "      <script>\n",
              "        const buttonEl =\n",
              "          document.querySelector('#df-361fbd46-a5a2-4541-b708-bc9ea95c53ae button.colab-df-convert');\n",
              "        buttonEl.style.display =\n",
              "          google.colab.kernel.accessAllowed ? 'block' : 'none';\n",
              "\n",
              "        async function convertToInteractive(key) {\n",
              "          const element = document.querySelector('#df-361fbd46-a5a2-4541-b708-bc9ea95c53ae');\n",
              "          const dataTable =\n",
              "            await google.colab.kernel.invokeFunction('convertToInteractive',\n",
              "                                                     [key], {});\n",
              "          if (!dataTable) return;\n",
              "\n",
              "          const docLinkHtml = 'Like what you see? Visit the ' +\n",
              "            '<a target=\"_blank\" href=https://colab.research.google.com/notebooks/data_table.ipynb>data table notebook</a>'\n",
              "            + ' to learn more about interactive tables.';\n",
              "          element.innerHTML = '';\n",
              "          dataTable['output_type'] = 'display_data';\n",
              "          await google.colab.output.renderOutput(dataTable, element);\n",
              "          const docLink = document.createElement('div');\n",
              "          docLink.innerHTML = docLinkHtml;\n",
              "          element.appendChild(docLink);\n",
              "        }\n",
              "      </script>\n",
              "    </div>\n",
              "  </div>\n",
              "  "
            ]
          },
          "metadata": {},
          "execution_count": 112
        }
      ]
    },
    {
      "cell_type": "markdown",
      "metadata": {
        "id": "0Ww-gxQmRoPD"
      },
      "source": [
        "# Conclusion"
      ]
    },
    {
      "cell_type": "markdown",
      "metadata": {
        "id": "RhGNbSjBBg8h"
      },
      "source": [
        "I was extremely naive with my initial scope of the project. Trying to create method to accurately classify new job postings was insane. I probably spent 50+ hours before giving up on this. After giving up, I tried to just classify on labels I created myself. I once again spent hours longer tring to do this. I tried reducing the scope again to gain a good sihloutte score for topic modeling. Unfortunately, I did not have the knowledge within NLP to do the data preprocessing. Even are receiving assistance, I realized clustering documents of the size I was working with was unrealistic. I tried using HuggingFace to help with implementation with new project ideas such as using zero-shot classification. However, the run time was way to slow.\n",
        "\n",
        "Prior to all of this taking place, I got a 14-day free trial to datbricks to try learning a new tool and gain exposure to data engineering. I however failed with this as well by pricing out of the AWS free tier.\n",
        "\n",
        "Clustering was unsuccessful as well after many hours and I resorted to just a table of similarity metrics with 10 randomly selected documents.\n",
        "\n",
        "There were many more failures throughout the duration of the project but I learned a very important lesson to be okay with imperfection. In the near future I will have a more detailed discussions,preprocessing, and modeling."
      ]
    },
    {
      "cell_type": "markdown",
      "metadata": {
        "id": "kB6DQNkUIEyw"
      },
      "source": [
        "I was very happy to atleast be able to graph some  noticebale differences between some of the documents with HDBSCAN. I was unfamiliar with this technique before the assignment. I was also surprised how easy the concepts of transformers, encoders, and other new concepts were to pick up. I hope to expand on this knowledge in the near future. "
      ]
    },
    {
      "cell_type": "markdown",
      "source": [
        "## Redfining Scope:\n",
        "The original goal was to create production ready code from webscraping Data to having a web app that user could find a list of relevant roles based on their interests. The scope of the project was redefined due to the following limitations.\n",
        "\n",
        "#### Limitiation 1 :\n",
        "    \n",
        "Inability to gain access to an API or access to webscrape. Websites that jost job postings such as Indeed and LinkedIn have made it difficult to extract information from their website. Also, most APIs are geared towards companies wanting to post job roles and not for potential applicants wanting to gain access to the job postings.\n",
        "    \n",
        "#### Solution 1 :\n",
        "    \n",
        "Used a third party tool that performed the webscraping and webcrwaling. As a result of doing this, you will have to find a way to extract information for your own database. This project only works given you have the database as a CSV file already. \n",
        "\n",
        "#### Limitiation 2:\n",
        "\n",
        "Formulating a supervised learning approach. I had attempted to create an ontology that would allow me to assign labels to specific job roles (target variable).         However, there was clear personal bias with this approach. On top of this the only way to train the model would have been to inidividually label whether a posting     belonged to the right title, a tedious task when working with thousands of different postings.  \n",
        "    \n",
        "#### Solution 2:\n",
        "    \n",
        "I decided to find \"similiar\" job postings to the ones I had interest in instead. \n",
        "\n",
        "#### Limitiation 3:\n",
        "\n",
        "I only had a 14 day subscription to databricks and placed out of the AWS free tier within a week.\n",
        "\n",
        "#### Solution 3:\n",
        "Keeping data engineering and ML engineering aspects of the project to a minimum. \n"
      ],
      "metadata": {
        "id": "PtnZTkWVgoxE"
      }
    }
  ],
  "metadata": {
    "accelerator": "GPU",
    "colab": {
      "provenance": [],
      "machine_shape": "hm"
    },
    "gpuClass": "premium",
    "kernelspec": {
      "display_name": "Python 3",
      "name": "python3"
    },
    "language_info": {
      "name": "python"
    },
    "widgets": {
      "application/vnd.jupyter.widget-state+json": {
        "88c7e3719c164b1ba07f4f4b2c120930": {
          "model_module": "@jupyter-widgets/controls",
          "model_name": "HBoxModel",
          "model_module_version": "1.5.0",
          "state": {
            "_dom_classes": [],
            "_model_module": "@jupyter-widgets/controls",
            "_model_module_version": "1.5.0",
            "_model_name": "HBoxModel",
            "_view_count": null,
            "_view_module": "@jupyter-widgets/controls",
            "_view_module_version": "1.5.0",
            "_view_name": "HBoxView",
            "box_style": "",
            "children": [
              "IPY_MODEL_77b5f04fc72642f4937475e18b178b8f",
              "IPY_MODEL_a79654c0eed447b0a8046256a93e330e",
              "IPY_MODEL_39508068a68e49559e4e90dd65db6d0a"
            ],
            "layout": "IPY_MODEL_62f74c0558a6431ab72c73adfaf956ef"
          }
        },
        "77b5f04fc72642f4937475e18b178b8f": {
          "model_module": "@jupyter-widgets/controls",
          "model_name": "HTMLModel",
          "model_module_version": "1.5.0",
          "state": {
            "_dom_classes": [],
            "_model_module": "@jupyter-widgets/controls",
            "_model_module_version": "1.5.0",
            "_model_name": "HTMLModel",
            "_view_count": null,
            "_view_module": "@jupyter-widgets/controls",
            "_view_module_version": "1.5.0",
            "_view_name": "HTMLView",
            "description": "",
            "description_tooltip": null,
            "layout": "IPY_MODEL_8f884bb6d6694aa9a9cf86e0e5c79051",
            "placeholder": "​",
            "style": "IPY_MODEL_3068dcb93f9b436dabb839fdc5d38e48",
            "value": "Batches: 100%"
          }
        },
        "a79654c0eed447b0a8046256a93e330e": {
          "model_module": "@jupyter-widgets/controls",
          "model_name": "FloatProgressModel",
          "model_module_version": "1.5.0",
          "state": {
            "_dom_classes": [],
            "_model_module": "@jupyter-widgets/controls",
            "_model_module_version": "1.5.0",
            "_model_name": "FloatProgressModel",
            "_view_count": null,
            "_view_module": "@jupyter-widgets/controls",
            "_view_module_version": "1.5.0",
            "_view_name": "ProgressView",
            "bar_style": "success",
            "description": "",
            "description_tooltip": null,
            "layout": "IPY_MODEL_ffe7e11c0798412a801bc82496210a7e",
            "max": 32,
            "min": 0,
            "orientation": "horizontal",
            "style": "IPY_MODEL_14fc0f3eb2ea4f2084ad61d8fc9af1fc",
            "value": 32
          }
        },
        "39508068a68e49559e4e90dd65db6d0a": {
          "model_module": "@jupyter-widgets/controls",
          "model_name": "HTMLModel",
          "model_module_version": "1.5.0",
          "state": {
            "_dom_classes": [],
            "_model_module": "@jupyter-widgets/controls",
            "_model_module_version": "1.5.0",
            "_model_name": "HTMLModel",
            "_view_count": null,
            "_view_module": "@jupyter-widgets/controls",
            "_view_module_version": "1.5.0",
            "_view_name": "HTMLView",
            "description": "",
            "description_tooltip": null,
            "layout": "IPY_MODEL_3985ae79680c46c39be86f3fd42dac57",
            "placeholder": "​",
            "style": "IPY_MODEL_23308c553c5348f98c254b249f3ea9d3",
            "value": " 32/32 [00:00&lt;00:00, 47.52it/s]"
          }
        },
        "62f74c0558a6431ab72c73adfaf956ef": {
          "model_module": "@jupyter-widgets/base",
          "model_name": "LayoutModel",
          "model_module_version": "1.2.0",
          "state": {
            "_model_module": "@jupyter-widgets/base",
            "_model_module_version": "1.2.0",
            "_model_name": "LayoutModel",
            "_view_count": null,
            "_view_module": "@jupyter-widgets/base",
            "_view_module_version": "1.2.0",
            "_view_name": "LayoutView",
            "align_content": null,
            "align_items": null,
            "align_self": null,
            "border": null,
            "bottom": null,
            "display": null,
            "flex": null,
            "flex_flow": null,
            "grid_area": null,
            "grid_auto_columns": null,
            "grid_auto_flow": null,
            "grid_auto_rows": null,
            "grid_column": null,
            "grid_gap": null,
            "grid_row": null,
            "grid_template_areas": null,
            "grid_template_columns": null,
            "grid_template_rows": null,
            "height": null,
            "justify_content": null,
            "justify_items": null,
            "left": null,
            "margin": null,
            "max_height": null,
            "max_width": null,
            "min_height": null,
            "min_width": null,
            "object_fit": null,
            "object_position": null,
            "order": null,
            "overflow": null,
            "overflow_x": null,
            "overflow_y": null,
            "padding": null,
            "right": null,
            "top": null,
            "visibility": null,
            "width": null
          }
        },
        "8f884bb6d6694aa9a9cf86e0e5c79051": {
          "model_module": "@jupyter-widgets/base",
          "model_name": "LayoutModel",
          "model_module_version": "1.2.0",
          "state": {
            "_model_module": "@jupyter-widgets/base",
            "_model_module_version": "1.2.0",
            "_model_name": "LayoutModel",
            "_view_count": null,
            "_view_module": "@jupyter-widgets/base",
            "_view_module_version": "1.2.0",
            "_view_name": "LayoutView",
            "align_content": null,
            "align_items": null,
            "align_self": null,
            "border": null,
            "bottom": null,
            "display": null,
            "flex": null,
            "flex_flow": null,
            "grid_area": null,
            "grid_auto_columns": null,
            "grid_auto_flow": null,
            "grid_auto_rows": null,
            "grid_column": null,
            "grid_gap": null,
            "grid_row": null,
            "grid_template_areas": null,
            "grid_template_columns": null,
            "grid_template_rows": null,
            "height": null,
            "justify_content": null,
            "justify_items": null,
            "left": null,
            "margin": null,
            "max_height": null,
            "max_width": null,
            "min_height": null,
            "min_width": null,
            "object_fit": null,
            "object_position": null,
            "order": null,
            "overflow": null,
            "overflow_x": null,
            "overflow_y": null,
            "padding": null,
            "right": null,
            "top": null,
            "visibility": null,
            "width": null
          }
        },
        "3068dcb93f9b436dabb839fdc5d38e48": {
          "model_module": "@jupyter-widgets/controls",
          "model_name": "DescriptionStyleModel",
          "model_module_version": "1.5.0",
          "state": {
            "_model_module": "@jupyter-widgets/controls",
            "_model_module_version": "1.5.0",
            "_model_name": "DescriptionStyleModel",
            "_view_count": null,
            "_view_module": "@jupyter-widgets/base",
            "_view_module_version": "1.2.0",
            "_view_name": "StyleView",
            "description_width": ""
          }
        },
        "ffe7e11c0798412a801bc82496210a7e": {
          "model_module": "@jupyter-widgets/base",
          "model_name": "LayoutModel",
          "model_module_version": "1.2.0",
          "state": {
            "_model_module": "@jupyter-widgets/base",
            "_model_module_version": "1.2.0",
            "_model_name": "LayoutModel",
            "_view_count": null,
            "_view_module": "@jupyter-widgets/base",
            "_view_module_version": "1.2.0",
            "_view_name": "LayoutView",
            "align_content": null,
            "align_items": null,
            "align_self": null,
            "border": null,
            "bottom": null,
            "display": null,
            "flex": null,
            "flex_flow": null,
            "grid_area": null,
            "grid_auto_columns": null,
            "grid_auto_flow": null,
            "grid_auto_rows": null,
            "grid_column": null,
            "grid_gap": null,
            "grid_row": null,
            "grid_template_areas": null,
            "grid_template_columns": null,
            "grid_template_rows": null,
            "height": null,
            "justify_content": null,
            "justify_items": null,
            "left": null,
            "margin": null,
            "max_height": null,
            "max_width": null,
            "min_height": null,
            "min_width": null,
            "object_fit": null,
            "object_position": null,
            "order": null,
            "overflow": null,
            "overflow_x": null,
            "overflow_y": null,
            "padding": null,
            "right": null,
            "top": null,
            "visibility": null,
            "width": null
          }
        },
        "14fc0f3eb2ea4f2084ad61d8fc9af1fc": {
          "model_module": "@jupyter-widgets/controls",
          "model_name": "ProgressStyleModel",
          "model_module_version": "1.5.0",
          "state": {
            "_model_module": "@jupyter-widgets/controls",
            "_model_module_version": "1.5.0",
            "_model_name": "ProgressStyleModel",
            "_view_count": null,
            "_view_module": "@jupyter-widgets/base",
            "_view_module_version": "1.2.0",
            "_view_name": "StyleView",
            "bar_color": null,
            "description_width": ""
          }
        },
        "3985ae79680c46c39be86f3fd42dac57": {
          "model_module": "@jupyter-widgets/base",
          "model_name": "LayoutModel",
          "model_module_version": "1.2.0",
          "state": {
            "_model_module": "@jupyter-widgets/base",
            "_model_module_version": "1.2.0",
            "_model_name": "LayoutModel",
            "_view_count": null,
            "_view_module": "@jupyter-widgets/base",
            "_view_module_version": "1.2.0",
            "_view_name": "LayoutView",
            "align_content": null,
            "align_items": null,
            "align_self": null,
            "border": null,
            "bottom": null,
            "display": null,
            "flex": null,
            "flex_flow": null,
            "grid_area": null,
            "grid_auto_columns": null,
            "grid_auto_flow": null,
            "grid_auto_rows": null,
            "grid_column": null,
            "grid_gap": null,
            "grid_row": null,
            "grid_template_areas": null,
            "grid_template_columns": null,
            "grid_template_rows": null,
            "height": null,
            "justify_content": null,
            "justify_items": null,
            "left": null,
            "margin": null,
            "max_height": null,
            "max_width": null,
            "min_height": null,
            "min_width": null,
            "object_fit": null,
            "object_position": null,
            "order": null,
            "overflow": null,
            "overflow_x": null,
            "overflow_y": null,
            "padding": null,
            "right": null,
            "top": null,
            "visibility": null,
            "width": null
          }
        },
        "23308c553c5348f98c254b249f3ea9d3": {
          "model_module": "@jupyter-widgets/controls",
          "model_name": "DescriptionStyleModel",
          "model_module_version": "1.5.0",
          "state": {
            "_model_module": "@jupyter-widgets/controls",
            "_model_module_version": "1.5.0",
            "_model_name": "DescriptionStyleModel",
            "_view_count": null,
            "_view_module": "@jupyter-widgets/base",
            "_view_module_version": "1.2.0",
            "_view_name": "StyleView",
            "description_width": ""
          }
        }
      }
    }
  },
  "nbformat": 4,
  "nbformat_minor": 0
}